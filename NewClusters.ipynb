{
 "cells": [
  {
   "cell_type": "code",
   "execution_count": null,
   "metadata": {},
   "outputs": [],
   "source": []
  },
  {
   "cell_type": "code",
   "execution_count": null,
   "metadata": {},
   "outputs": [],
   "source": [
    "matplotlib.rcParams['font.sans-serif'] = \"Arial\"\n",
    "sns.set(style=\"whitegrid\", font_scale=1, color_codes=True, palette=\"colorblind\", rc={\"grid.linestyle\": \"dotted\", \"axes.linewidth\": 0.6})"
   ]
  },
  {
   "cell_type": "code",
   "execution_count": null,
   "metadata": {},
   "outputs": [],
   "source": [
    "# Import siganling data\n",
    "X = preprocessing(AXLm_ErlAF154=True, Vfilter=True, FCfilter=True, log2T=True, mc_row=True)\n",
    "d = X.select_dtypes(include=['float64']).T\n",
    "i = X.select_dtypes(include=['object'])"
   ]
  },
  {
   "cell_type": "code",
   "execution_count": null,
   "metadata": {},
   "outputs": [],
   "source": [
    "# Fit DDMC\n",
    "ddmc = MassSpecClustering(i, n_components=5, SeqWeight=2, distance_method=\"PAM250\", random_state=2).fit(d)\n",
    "centers = ddmc.transform()"
   ]
  },
  {
   "cell_type": "code",
   "execution_count": null,
   "metadata": {},
   "outputs": [],
   "source": [
    "# Import phenotypes\n",
    "cv = import_phenotype_data(phenotype=\"Cell Viability\")\n",
    "red = import_phenotype_data(phenotype=\"Cell Death\")\n",
    "sw = import_phenotype_data(phenotype=\"Migration\")\n",
    "c = import_phenotype_data(phenotype=\"Island\")\n",
    "y = formatPhenotypesForModeling(cv, red, sw, c)\n",
    "y = y[y[\"Treatment\"] == \"A/E\"].drop(\"Treatment\", axis=1).set_index(\"Lines\")"
   ]
  },
  {
   "cell_type": "code",
   "execution_count": null,
   "metadata": {},
   "outputs": [],
   "source": [
    "# Centers\n",
    "_, ax = plt.subplots(1, 4, figsize=(20, 5))\n",
    "plotCenters_together(ddmc, X, ax[0])\n",
    "\n",
    "# Scores & Loadings\n",
    "lines = [\"WT\", \"KO\", \"KD\", \"KI\", \"Y634F\", \"Y643F\", \"Y698F\", \"Y726F\", \"Y750F \", \"Y821F\"]\n",
    "plsr = PLSRegression(n_components=4)\n",
    "plotScoresLoadings(ax[1:3], plsr.fit(centers, y), centers, y, ddmc.n_components, lines, pcX=1, pcY=2)\n",
    "\n",
    "# Plot upstream kinases heatmap\n",
    "plotDistanceToUpstreamKinase(ddmc, [1, 2, 3, 4, 5], ax[-1], num_hits=4, PsP_background=False)"
   ]
  },
  {
   "cell_type": "code",
   "execution_count": null,
   "metadata": {},
   "outputs": [],
   "source": [
    "for ii in range(5):\n",
    "    cl_idx = [i for i in range(len(labels)) if labels[i] == ii + 1]\n",
    "    print(np.mean(ddmc.scores_[cl_idx, ii]))"
   ]
  },
  {
   "cell_type": "code",
   "execution_count": null,
   "metadata": {},
   "outputs": [],
   "source": [
    "import numpy as np\n",
    "pd.DataFrame(ddmc.scores_).mean()"
   ]
  },
  {
   "cell_type": "code",
   "execution_count": null,
   "metadata": {},
   "outputs": [],
   "source": [
    "# Predictions\n",
    "Xs, models = ComputeCenters(X, d, i, ddmc, 5)\n",
    "Xs.append(centers)\n",
    "models.append(\"DDMC mix\")\n",
    "\n",
    "_, ax = plt.subplots(1, 1)\n",
    "plotStripActualVsPred(ax, [3, 4, 2, 3, 4], Xs, y, models)"
   ]
  },
  {
   "cell_type": "code",
   "execution_count": null,
   "metadata": {},
   "outputs": [],
   "source": [
    "# Scores & Loadings\n",
    "lines = [\"WT\", \"KO\", \"KD\", \"KI\", \"Y634F\", \"Y643F\", \"Y698F\", \"Y726F\", \"Y750F \", \"Y821F\"]\n",
    "plsr = PLSRegression(n_components=4)\n",
    "\n",
    "_, ax = plt.subplots(1, 2, figsize=(10, 5))\n",
    "plotScoresLoadings(ax, plsr.fit(centers, y), centers, y, ddmc.n_components, lines, pcX=1, pcY=2)"
   ]
  },
  {
   "cell_type": "code",
   "execution_count": null,
   "metadata": {},
   "outputs": [],
   "source": [
    "# Plot upstream kinases heatmap\n",
    "_, ax = plt.subplots(1, 1)\n",
    "plotDistanceToUpstreamKinase(ddmc, [1, 2, 3, 4, 5], ax, num_hits=10)"
   ]
  },
  {
   "cell_type": "code",
   "execution_count": null,
   "metadata": {},
   "outputs": [],
   "source": []
  },
  {
   "cell_type": "code",
   "execution_count": null,
   "metadata": {},
   "outputs": [],
   "source": []
  }
 ],
 "metadata": {
  "language_info": {
   "name": "python"
  },
  "orig_nbformat": 4
 },
 "nbformat": 4,
 "nbformat_minor": 2
}
