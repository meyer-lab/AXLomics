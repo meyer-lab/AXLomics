{
 "cells": [
  {
   "cell_type": "markdown",
   "metadata": {},
   "source": [
    "# FIGURE 2"
   ]
  },
  {
   "cell_type": "code",
   "execution_count": 1,
   "metadata": {},
   "outputs": [],
   "source": [
    "import numpy as np\n",
    "import pandas as pd\n",
    "import math\n",
    "from sklearn.cross_decomposition import PLSRegression\n",
    "from sklearn.pipeline import Pipeline\n",
    "from sklearn.model_selection import GridSearchCV\n",
    "from msresist.parameter_tuning import kmeansPLSR_tuning\n",
    "from msresist.figures.figure2 import plotR2YQ2Y, plotKmeansPLSR_GridSearch, plotMeasuredVsPredicted, plotScoresLoadings, plotclusteraverages\n",
    "from msresist.plsr import Q2Y_across_components, R2Y_across_components\n",
    "from msresist.clustering import MyOwnKMEANS\n",
    "from msresist.sequence_analysis import preprocess_seqs\n",
    "import matplotlib.pyplot as plt\n",
    "import matplotlib.colors as colors\n",
    "import matplotlib.cm as cm\n",
    "from msresist.pre_processing import preprocessing, MergeDfbyMean\n",
    "from msresist.FileExporter import create_download_link\n",
    "import warnings\n",
    "warnings.simplefilter(\"ignore\")"
   ]
  },
  {
   "cell_type": "markdown",
   "metadata": {},
   "source": [
    "### Importing and Pre-processing Data"
   ]
  },
  {
   "cell_type": "markdown",
   "metadata": {},
   "source": [
    "### Phosphorylation measurements:"
   ]
  },
  {
   "cell_type": "code",
   "execution_count": 2,
   "metadata": {},
   "outputs": [],
   "source": [
    "# pd.set_option('display.max_colwidth', 1000)\n",
    "# pd.set_option('display.max_rows', 1000)\n",
    "\n",
    "ABC = preprocessing(motifs=True, Vfilter=True, FCfilter=True, log2T=True)\n",
    "ABC = preprocess_seqs(ABC, \"Y\").sort_values(by=\"Protein\")\n",
    "\n",
    "\n",
    "header = ABC.columns\n",
    "treatments = ABC.columns[6:]\n",
    "\n",
    "data = ABC.iloc[:, 6:].T"
   ]
  },
  {
   "cell_type": "code",
   "execution_count": 3,
   "metadata": {},
   "outputs": [],
   "source": [
    "# ABC"
   ]
  },
  {
   "cell_type": "markdown",
   "metadata": {},
   "source": [
    "### Phenotypes"
   ]
  },
  {
   "cell_type": "markdown",
   "metadata": {},
   "source": [
    "#### Cell Viability:"
   ]
  },
  {
   "cell_type": "code",
   "execution_count": 4,
   "metadata": {},
   "outputs": [],
   "source": [
    "Y_cv1 = pd.read_csv('./msresist/data/Phenotypic_data/CV_raw3.csv').iloc[:30, :11]\n",
    "Y_cv2 = pd.read_csv('./msresist/data/Phenotypic_data/CV_raw4.csv').iloc[:29, :11]\n",
    "\n",
    "for ii in range(1, Y_cv2.columns.size):\n",
    "    Y_cv1.iloc[:, ii] /= Y_cv1.iloc[0, ii]\n",
    "    Y_cv2.iloc[:, ii] /= Y_cv2.iloc[0, ii]\n",
    "\n",
    "Y_cv = MergeDfbyMean(pd.concat([Y_cv1, Y_cv2], axis=0), Y_cv1.columns, \"Elapsed\")\n",
    "Y_cv = Y_cv.reset_index()[Y_cv1.columns]\n",
    "Y_cv = Y_cv[Y_cv[\"Elapsed\"] == 72].iloc[0, 1:]"
   ]
  },
  {
   "cell_type": "markdown",
   "metadata": {},
   "source": [
    "## 1. Cross-validation"
   ]
  },
  {
   "cell_type": "markdown",
   "metadata": {},
   "source": [
    "### 1.1 Strategy 1: R2Y/Q2Y after k-means clustering (k=5)"
   ]
  },
  {
   "cell_type": "markdown",
   "metadata": {},
   "source": [
    "Cross-validation fitting averages of k-means clusters into the PLSR model. Number of clusters must be set in advance:"
   ]
  },
  {
   "cell_type": "code",
   "execution_count": 5,
   "metadata": {},
   "outputs": [],
   "source": [
    "ncl = 2"
   ]
  },
  {
   "cell_type": "code",
   "execution_count": 6,
   "metadata": {},
   "outputs": [],
   "source": [
    "kmeans = MyOwnKMEANS(ncl).fit(data, Y_cv)\n",
    "centers = kmeans.transform(data)"
   ]
  },
  {
   "cell_type": "code",
   "execution_count": 7,
   "metadata": {},
   "outputs": [
    {
     "data": {
      "image/png": "[encoded data removed]",
      "text/plain": [
       "<Figure size 504x432 with 1 Axes>"
      ]
     },
     "metadata": {
      "needs_background": "light"
     },
     "output_type": "display_data"
    }
   ],
   "source": [
    "fig, ax = plt.subplots(1, 1, figsize=(7,6))\n",
    "plotR2YQ2Y(ax, ncl, centers, Y_cv)"
   ]
  },
  {
   "cell_type": "markdown",
   "metadata": {},
   "source": [
    "### 1.2 Strategy 2: Gridsearch"
   ]
  },
  {
   "cell_type": "markdown",
   "metadata": {},
   "source": [
    "Cross-validation fitting averages of k-means clusters into the PLSR model. Simulatenous tuning of number of clusters and number of components using GridSearch:"
   ]
  },
  {
   "cell_type": "code",
   "execution_count": 8,
   "metadata": {},
   "outputs": [],
   "source": [
    "# fig, ax = plt.subplots(1, 1)\n",
    "# plotKmeansPLSR_GridSearch(ax, data, Y_cv)"
   ]
  },
  {
   "cell_type": "code",
   "execution_count": 9,
   "metadata": {},
   "outputs": [],
   "source": [
    "# CVresults_max, CVresults_min, best_params = kmeansPLSR_tuning(data, Y_cv)"
   ]
  },
  {
   "cell_type": "code",
   "execution_count": 10,
   "metadata": {},
   "outputs": [],
   "source": [
    "# CVresults_min.sort_values(by=\"Ranking\").iloc[:20, :]"
   ]
  },
  {
   "cell_type": "markdown",
   "metadata": {},
   "source": [
    "## 2. Model Predicted vs Actual for best Hyperparameter Set"
   ]
  },
  {
   "cell_type": "code",
   "execution_count": 11,
   "metadata": {},
   "outputs": [],
   "source": [
    "ncl, ncomp = 2, 2"
   ]
  },
  {
   "cell_type": "markdown",
   "metadata": {},
   "source": [
    "### 2.1 With CV Strategy 1:"
   ]
  },
  {
   "cell_type": "code",
   "execution_count": 12,
   "metadata": {},
   "outputs": [
    {
     "data": {
      "image/png": "[encoded data removed]",
      "text/plain": [
       "<Figure size 432x360 with 1 Axes>"
      ]
     },
     "metadata": {
      "needs_background": "light"
     },
     "output_type": "display_data"
    }
   ],
   "source": [
    "fig, ax = plt.subplots(1,1,figsize=(6,5))\n",
    "\n",
    "plotMeasuredVsPredicted(ax, PLSRegression(ncomp), centers, Y_cv)\n",
    "plt.title(\"Correlation Measured vs Predicted - Fixed Clustered Data\");"
   ]
  },
  {
   "cell_type": "markdown",
   "metadata": {},
   "source": [
    "### 2.2 With CV Strategy 2:"
   ]
  },
  {
   "cell_type": "code",
   "execution_count": 13,
   "metadata": {},
   "outputs": [],
   "source": [
    "estimators = [('kmeans', MyOwnKMEANS(ncl)), ('plsr', PLSRegression(ncomp))]\n",
    "kmeans_plsr = Pipeline(estimators)"
   ]
  },
  {
   "cell_type": "code",
   "execution_count": 14,
   "metadata": {},
   "outputs": [],
   "source": [
    "X_scores, Y_scores = kmeans_plsr.fit_transform(data, Y_cv)\n",
    "PC1_scores, PC2_scores = X_scores[:, 0], X_scores[:, 1]\n",
    "PC1_xload, PC2_xload = kmeans_plsr.named_steps.plsr.x_loadings_[:, 0], kmeans_plsr.named_steps.plsr.x_loadings_[:, 1]\n",
    "PC1_yload, PC2_yload = kmeans_plsr.named_steps.plsr.y_loadings_[:, 0], kmeans_plsr.named_steps.plsr.y_loadings_[:, 1]"
   ]
  },
  {
   "cell_type": "code",
   "execution_count": 15,
   "metadata": {},
   "outputs": [
    {
     "data": {
      "image/png": "[encoded data removed]",
      "text/plain": [
       "<Figure size 432x360 with 1 Axes>"
      ]
     },
     "metadata": {
      "needs_background": "light"
     },
     "output_type": "display_data"
    }
   ],
   "source": [
    "fig, ax = plt.subplots(1,1,figsize=(6,5))\n",
    "plotMeasuredVsPredicted(ax, kmeans_plsr, data, Y_cv)"
   ]
  },
  {
   "cell_type": "markdown",
   "metadata": {},
   "source": [
    "## 3. PLSR scores and loadings "
   ]
  },
  {
   "cell_type": "code",
   "execution_count": 16,
   "metadata": {},
   "outputs": [
    {
     "data": {
      "image/png": "[encoded data removed]",
      "text/plain": [
       "<Figure size 864x432 with 2 Axes>"
      ]
     },
     "metadata": {
      "needs_background": "light"
     },
     "output_type": "display_data"
    }
   ],
   "source": [
    "fig, axs = plt.subplots(1, 2,figsize=(12,6))\n",
    "\n",
    "colors_ = cm.rainbow(np.linspace(0, 1, ncl))\n",
    "\n",
    "\n",
    "axs[0].scatter(PC1_scores,PC2_scores)\n",
    "for j, txt in enumerate(treatments):\n",
    "    axs[0].annotate(txt, (PC1_scores[j], PC2_scores[j]))\n",
    "axs[0].set_title('PLSR Model Scores')\n",
    "axs[0].set_xlabel('Principal Component 1')\n",
    "axs[0].set_ylabel('Principal Componet 2')\n",
    "axs[0].axhline(y=0, color='0.25', linestyle='--')\n",
    "axs[0].axvline(x=0, color='0.25', linestyle='--')\n",
    "spacer = 0.5\n",
    "axs[0].set_xlim([(-1*max(PC1_scores))-spacer, max(PC1_scores)+spacer])\n",
    "axs[0].set_ylim([(-1*max(PC2_scores))-spacer, max(PC2_scores)+spacer])\n",
    "\n",
    "numbered=[]\n",
    "list(map(lambda v: numbered.append(str(v+1)), range(ncl)))\n",
    "\n",
    "for i, txt in enumerate(numbered):\n",
    "    axs[1].annotate(txt, (PC1_xload[i], PC2_xload[i]))\n",
    "axs[1].annotate(\"Cell Viability\", (PC1_yload+0.05, PC2_yload-0.05))\n",
    "axs[1].scatter(PC1_xload, PC2_xload, c=np.arange(ncl), cmap=colors.ListedColormap(colors_))\n",
    "axs[1].scatter(PC1_yload, PC2_yload, color='#000000', marker='D', label='Cell Viability')\n",
    "axs[1].set_title('PLSR Model Loadings (Averaged Clusters)')\n",
    "axs[1].set_xlabel('Principal Component 1')\n",
    "axs[1].set_ylabel('Principal Component 2')\n",
    "axs[1].axhline(y=0, color='0.25', linestyle='--')\n",
    "axs[1].axvline(x=0, color='0.25', linestyle='--')\n",
    "axs[1].set_xlim([(-1*max(list(PC1_xload)+list(PC1_yload)))-spacer, max(list(PC1_xload)+list(PC1_yload))+spacer])\n",
    "axs[1].set_ylim([(-1*max(list(PC2_xload)+list(PC2_yload)))-spacer, max(list(PC2_xload)+list(PC2_yload))+spacer]);"
   ]
  },
  {
   "cell_type": "code",
   "execution_count": 17,
   "metadata": {},
   "outputs": [
    {
     "data": {
      "text/html": [
       "<div>\n",
       "<style scoped>\n",
       "    .dataframe tbody tr th:only-of-type {\n",
       "        vertical-align: middle;\n",
       "    }\n",
       "\n",
       "    .dataframe tbody tr th {\n",
       "        vertical-align: top;\n",
       "    }\n",
       "\n",
       "    .dataframe thead th {\n",
       "        text-align: right;\n",
       "    }\n",
       "</style>\n",
       "<table border=\"1\" class=\"dataframe\">\n",
       "  <thead>\n",
       "    <tr style=\"text-align: right;\">\n",
       "      <th></th>\n",
       "      <th>Cluster_1</th>\n",
       "      <th>seqs_Cluster_1</th>\n",
       "      <th>UniprotAcc_Cluster_1</th>\n",
       "      <th>pos_Cluster_1</th>\n",
       "      <th>r2/Std_Cluster_1</th>\n",
       "      <th>BioReps_Cluster_1</th>\n",
       "      <th>Cluster_2</th>\n",
       "      <th>seqs_Cluster_2</th>\n",
       "      <th>UniprotAcc_Cluster_2</th>\n",
       "      <th>pos_Cluster_2</th>\n",
       "      <th>r2/Std_Cluster_2</th>\n",
       "      <th>BioReps_Cluster_2</th>\n",
       "    </tr>\n",
       "  </thead>\n",
       "  <tbody>\n",
       "    <tr>\n",
       "      <th>0</th>\n",
       "      <td>1-phosphatidylinositol 4,5-bisphosphate phosph...</td>\n",
       "      <td>RNPGFyVEANP</td>\n",
       "      <td>P19174</td>\n",
       "      <td>Y783-p</td>\n",
       "      <td>NA</td>\n",
       "      <td>1</td>\n",
       "      <td>14-3-3 protein zeta/delta</td>\n",
       "      <td>LLSVAyKNVVG</td>\n",
       "      <td>P63104</td>\n",
       "      <td>Y48-p</td>\n",
       "      <td>NA</td>\n",
       "      <td>1</td>\n",
       "    </tr>\n",
       "    <tr>\n",
       "      <th>1</th>\n",
       "      <td>14-3-3 protein epsilon</td>\n",
       "      <td>GDYHRyLAEFA</td>\n",
       "      <td>P62258</td>\n",
       "      <td>Y131-p</td>\n",
       "      <td>NA</td>\n",
       "      <td>1</td>\n",
       "      <td>ARF GTPase-activating protein GIT1</td>\n",
       "      <td>DDQHDyDSVAS</td>\n",
       "      <td>Q9Y2X7</td>\n",
       "      <td>Y383-p</td>\n",
       "      <td>NA</td>\n",
       "      <td>1</td>\n",
       "    </tr>\n",
       "    <tr>\n",
       "      <th>2</th>\n",
       "      <td>60S ribosomal protein L22-like 1</td>\n",
       "      <td>TYELRyFQISQ</td>\n",
       "      <td>Q6P5R6</td>\n",
       "      <td>Y108-p</td>\n",
       "      <td>NA</td>\n",
       "      <td>1</td>\n",
       "      <td>Actin filament-associated protein 1-like 2</td>\n",
       "      <td>DEEYIyMNKVT</td>\n",
       "      <td>Q8N4X5</td>\n",
       "      <td>Y56-p</td>\n",
       "      <td>NA</td>\n",
       "      <td>1</td>\n",
       "    </tr>\n",
       "    <tr>\n",
       "      <th>3</th>\n",
       "      <td>ADP-ribosylation factor-like protein 11</td>\n",
       "      <td>KtTLLyKLKGH</td>\n",
       "      <td>Q969Q4</td>\n",
       "      <td>Y30-p</td>\n",
       "      <td>0.94</td>\n",
       "      <td>2</td>\n",
       "      <td>Actin, cytoplasmic 1</td>\n",
       "      <td>LTERGySFTTT</td>\n",
       "      <td>P60709</td>\n",
       "      <td>Y198-p</td>\n",
       "      <td>0.29</td>\n",
       "      <td>3</td>\n",
       "    </tr>\n",
       "    <tr>\n",
       "      <th>4</th>\n",
       "      <td>ADP/ATP translocase 2</td>\n",
       "      <td>ANVIRyFPTQA</td>\n",
       "      <td>P05141</td>\n",
       "      <td>Y81-p</td>\n",
       "      <td>NA</td>\n",
       "      <td>1</td>\n",
       "      <td>Activated CDC42 kinase 1</td>\n",
       "      <td>VSSTHyYLLPE</td>\n",
       "      <td>Q07912</td>\n",
       "      <td>Y859-p</td>\n",
       "      <td>NA</td>\n",
       "      <td>1</td>\n",
       "    </tr>\n",
       "    <tr>\n",
       "      <th>...</th>\n",
       "      <td>...</td>\n",
       "      <td>...</td>\n",
       "      <td>...</td>\n",
       "      <td>...</td>\n",
       "      <td>...</td>\n",
       "      <td>...</td>\n",
       "      <td>...</td>\n",
       "      <td>...</td>\n",
       "      <td>...</td>\n",
       "      <td>...</td>\n",
       "      <td>...</td>\n",
       "      <td>...</td>\n",
       "    </tr>\n",
       "    <tr>\n",
       "      <th>201</th>\n",
       "      <td>Tyrosine-protein kinase receptor UFO</td>\n",
       "      <td>ENSEIyDYLRQ</td>\n",
       "      <td>P30530</td>\n",
       "      <td>Y759-p</td>\n",
       "      <td>NA</td>\n",
       "      <td>1</td>\n",
       "      <td>NaN</td>\n",
       "      <td>NaN</td>\n",
       "      <td>NaN</td>\n",
       "      <td>NaN</td>\n",
       "      <td>NaN</td>\n",
       "      <td>NaN</td>\n",
       "    </tr>\n",
       "    <tr>\n",
       "      <th>202</th>\n",
       "      <td>Tyrosine-protein phosphatase non-receptor type 11</td>\n",
       "      <td>QNTGDyYDLYG</td>\n",
       "      <td>Q06124</td>\n",
       "      <td>Y62-p</td>\n",
       "      <td>0.4</td>\n",
       "      <td>3</td>\n",
       "      <td>NaN</td>\n",
       "      <td>NaN</td>\n",
       "      <td>NaN</td>\n",
       "      <td>NaN</td>\n",
       "      <td>NaN</td>\n",
       "      <td>NaN</td>\n",
       "    </tr>\n",
       "    <tr>\n",
       "      <th>203</th>\n",
       "      <td>Vasodilator-stimulated phosphoprotein</td>\n",
       "      <td>SRVQIyHNPTA</td>\n",
       "      <td>P50552</td>\n",
       "      <td>Y39-p</td>\n",
       "      <td>0.72</td>\n",
       "      <td>2</td>\n",
       "      <td>NaN</td>\n",
       "      <td>NaN</td>\n",
       "      <td>NaN</td>\n",
       "      <td>NaN</td>\n",
       "      <td>NaN</td>\n",
       "      <td>NaN</td>\n",
       "    </tr>\n",
       "    <tr>\n",
       "      <th>204</th>\n",
       "      <td>Vigilin</td>\n",
       "      <td>INRMDyVEINI</td>\n",
       "      <td>Q00341</td>\n",
       "      <td>Y437-p</td>\n",
       "      <td>NA</td>\n",
       "      <td>1</td>\n",
       "      <td>NaN</td>\n",
       "      <td>NaN</td>\n",
       "      <td>NaN</td>\n",
       "      <td>NaN</td>\n",
       "      <td>NaN</td>\n",
       "      <td>NaN</td>\n",
       "    </tr>\n",
       "    <tr>\n",
       "      <th>205</th>\n",
       "      <td>Zinc finger protein 185</td>\n",
       "      <td>PVSARySNVSS</td>\n",
       "      <td>O15231</td>\n",
       "      <td>Y597-p</td>\n",
       "      <td>NA</td>\n",
       "      <td>1</td>\n",
       "      <td>NaN</td>\n",
       "      <td>NaN</td>\n",
       "      <td>NaN</td>\n",
       "      <td>NaN</td>\n",
       "      <td>NaN</td>\n",
       "      <td>NaN</td>\n",
       "    </tr>\n",
       "  </tbody>\n",
       "</table>\n",
       "<p>206 rows × 12 columns</p>\n",
       "</div>"
      ],
      "text/plain": [
       "                                             Cluster_1 seqs_Cluster_1  \\\n",
       "0    1-phosphatidylinositol 4,5-bisphosphate phosph...    RNPGFyVEANP   \n",
       "1                               14-3-3 protein epsilon    GDYHRyLAEFA   \n",
       "2                     60S ribosomal protein L22-like 1    TYELRyFQISQ   \n",
       "3              ADP-ribosylation factor-like protein 11    KtTLLyKLKGH   \n",
       "4                                ADP/ATP translocase 2    ANVIRyFPTQA   \n",
       "..                                                 ...            ...   \n",
       "201               Tyrosine-protein kinase receptor UFO    ENSEIyDYLRQ   \n",
       "202  Tyrosine-protein phosphatase non-receptor type 11    QNTGDyYDLYG   \n",
       "203              Vasodilator-stimulated phosphoprotein    SRVQIyHNPTA   \n",
       "204                                            Vigilin    INRMDyVEINI   \n",
       "205                            Zinc finger protein 185    PVSARySNVSS   \n",
       "\n",
       "    UniprotAcc_Cluster_1 pos_Cluster_1 r2/Std_Cluster_1 BioReps_Cluster_1  \\\n",
       "0                 P19174        Y783-p               NA                 1   \n",
       "1                 P62258        Y131-p               NA                 1   \n",
       "2                 Q6P5R6        Y108-p               NA                 1   \n",
       "3                 Q969Q4         Y30-p             0.94                 2   \n",
       "4                 P05141         Y81-p               NA                 1   \n",
       "..                   ...           ...              ...               ...   \n",
       "201               P30530        Y759-p               NA                 1   \n",
       "202               Q06124         Y62-p              0.4                 3   \n",
       "203               P50552         Y39-p             0.72                 2   \n",
       "204               Q00341        Y437-p               NA                 1   \n",
       "205               O15231        Y597-p               NA                 1   \n",
       "\n",
       "                                      Cluster_2 seqs_Cluster_2  \\\n",
       "0                     14-3-3 protein zeta/delta    LLSVAyKNVVG   \n",
       "1            ARF GTPase-activating protein GIT1    DDQHDyDSVAS   \n",
       "2    Actin filament-associated protein 1-like 2    DEEYIyMNKVT   \n",
       "3                          Actin, cytoplasmic 1    LTERGySFTTT   \n",
       "4                      Activated CDC42 kinase 1    VSSTHyYLLPE   \n",
       "..                                          ...            ...   \n",
       "201                                         NaN            NaN   \n",
       "202                                         NaN            NaN   \n",
       "203                                         NaN            NaN   \n",
       "204                                         NaN            NaN   \n",
       "205                                         NaN            NaN   \n",
       "\n",
       "    UniprotAcc_Cluster_2 pos_Cluster_2 r2/Std_Cluster_2 BioReps_Cluster_2  \n",
       "0                 P63104         Y48-p               NA                 1  \n",
       "1                 Q9Y2X7        Y383-p               NA                 1  \n",
       "2                 Q8N4X5         Y56-p               NA                 1  \n",
       "3                 P60709        Y198-p             0.29                 3  \n",
       "4                 Q07912        Y859-p               NA                 1  \n",
       "..                   ...           ...              ...               ...  \n",
       "201                  NaN           NaN              NaN               NaN  \n",
       "202                  NaN           NaN              NaN               NaN  \n",
       "203                  NaN           NaN              NaN               NaN  \n",
       "204                  NaN           NaN              NaN               NaN  \n",
       "205                  NaN           NaN              NaN               NaN  \n",
       "\n",
       "[206 rows x 12 columns]"
      ]
     },
     "execution_count": 17,
     "metadata": {},
     "output_type": "execute_result"
    }
   ],
   "source": [
    "clustermembers = kmeans_plsr.named_steps.kmeans.clustermembers(ABC.T)\n",
    "clustermembers"
   ]
  },
  {
   "cell_type": "markdown",
   "metadata": {},
   "source": [
    "#### Cluster Averages across Conditions"
   ]
  },
  {
   "cell_type": "code",
   "execution_count": 18,
   "metadata": {},
   "outputs": [
    {
     "data": {
      "image/png": "[encoded data removed]",
      "text/plain": [
       "<Figure size 504x360 with 1 Axes>"
      ]
     },
     "metadata": {
      "needs_background": "light"
     },
     "output_type": "display_data"
    }
   ],
   "source": [
    "fig = plt.figure(figsize=(7,5))\n",
    "\n",
    "centers = kmeans_plsr.named_steps.kmeans.transform(data).T\n",
    "\n",
    "for i in range(centers.shape[0]):\n",
    "    plt.plot(centers.iloc[i,:], label = \"cluster \"+str(i+1), color = colors_[i])\n",
    "    \n",
    "plt.legend()\n",
    "plt.xticks(np.arange(centers.shape[1]), (treatments), rotation=70);"
   ]
  }
 ],
 "metadata": {
  "kernelspec": {
   "display_name": "Python 3",
   "language": "python",
   "name": "python3"
  },
  "language_info": {
   "codemirror_mode": {
    "name": "ipython",
    "version": 3
   },
   "file_extension": ".py",
   "mimetype": "text/x-python",
   "name": "python",
   "nbconvert_exporter": "python",
   "pygments_lexer": "ipython3",
   "version": "3.7.5rc1"
  }
 },
 "nbformat": 4,
 "nbformat_minor": 4
}
