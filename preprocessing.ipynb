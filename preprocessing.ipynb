{
 "cells": [
  {
   "cell_type": "code",
   "execution_count": 44,
   "metadata": {},
   "outputs": [],
   "source": [
    "import scipy as sp\n",
    "from scipy import stats\n",
    "import numpy as np \n",
    "import pandas as pd\n",
    "from FileExporter import create_download_link\n",
    "import matplotlib.pyplot as plt\n",
    "import matplotlib.colors as colors\n",
    "import matplotlib.cm as cm\n",
    "from msresist.mining_bioreplicates import MergeDfbyMean, AvsBacrossCond, AvsBvsCacrossCond\n",
    "from msresist.plsr import ClusterAverages, GridSearch_CV, MeasuredVsPredicted_LOOCVplot, Q2Y_across_components, R2Y_across_components\n",
    "from msresist.comp_estimator import ComHyperPar, MyOwnKMEANS\n",
    "from sklearn.cross_decomposition import PLSRegression\n",
    "from sklearn.pipeline import Pipeline\n",
    "from sklearn.preprocessing import scale"
   ]
  },
  {
   "cell_type": "markdown",
   "metadata": {},
   "source": [
    "Select one of the two normalization methods and comment out the one not used  "
   ]
  },
  {
   "cell_type": "markdown",
   "metadata": {},
   "source": [
    "### Normalization 1: Mean Center"
   ]
  },
  {
   "cell_type": "markdown",
   "metadata": {},
   "source": [
    "1st center to mean, then take the log for k-means. This requires transforming to absolute values first since log(x) if x<0 = Math E"
   ]
  },
  {
   "cell_type": "code",
   "execution_count": 45,
   "metadata": {},
   "outputs": [],
   "source": [
    "# A = pd.read_csv('./msresist/data/Raw/20180817_JG_AM_TMT10plex_R1_psms_raw.csv', header=0)\n",
    "# B = pd.read_csv('./msresist/data/Raw/20190214_JG_AM_PC9_AXL_TMT10_AC28_R2_PSMs_raw.csv', header=0)\n",
    "# C = pd.read_csv('./msresist/data/Raw/CombinedBR3_TR1&2_raw.csv', header=0)"
   ]
  },
  {
   "cell_type": "code",
   "execution_count": 46,
   "metadata": {},
   "outputs": [],
   "source": [
    "# #Mean centered data\n",
    "# A_d = pd.DataFrame(scale(A.iloc[:,2:], with_std=False, axis = 1))\n",
    "# B_d = pd.DataFrame(scale(B.iloc[:,2:], with_std=False, axis = 1))\n",
    "# C_d = pd.DataFrame(scale(C.iloc[:,2:], with_std=False, axis = 1))\n",
    "\n",
    "# #Peptide Sequences\n",
    "# Aseqs, Bseqs, Cseqs = A.iloc[:, 0], B.iloc[:, 0], C.iloc[:, 0]\n",
    "\n",
    "# #Protein Names \n",
    "# Anames, Bnames, Cnames = [], [], []\n",
    "# x = list(map(lambda  v : Anames.append(v.split(\"OS\")[0]), A.iloc[:,1]))\n",
    "# y = list(map(lambda  v : Bnames.append(v.split(\"OS\")[0]), B.iloc[:,1]))\n",
    "# z = list(map(lambda  v : Cnames.append(v.split(\"OS\")[0]), C.iloc[:,1]))\n",
    "\n",
    "# Aframes = [Aseqs, pd.DataFrame(Anames), A_d]\n",
    "# Bframes = [Bseqs, pd.DataFrame(Bnames), B_d]\n",
    "# Cframes = [Cseqs, pd.DataFrame(Cnames), C_d]\n",
    "\n",
    "# A = pd.concat(Aframes, axis = 1)\n",
    "# B = pd.concat(Bframes, axis = 1)\n",
    "# C = pd.concat(Cframes, axis = 1)"
   ]
  },
  {
   "cell_type": "code",
   "execution_count": 47,
   "metadata": {},
   "outputs": [],
   "source": [
    "# create_download_link(A, \"A_MeanCentered\")"
   ]
  },
  {
   "cell_type": "markdown",
   "metadata": {},
   "source": [
    "### Normalization 2: Fold-Change"
   ]
  },
  {
   "cell_type": "code",
   "execution_count": 48,
   "metadata": {},
   "outputs": [],
   "source": [
    "#Biological Replicates, note that C contains TR1 and TR2 already (ask Jacq how she merged them)\n",
    "A = pd.read_csv('./msresist/data/Fold-Change/20180817_JG_AM_TMT10plex_R1_psms.csv', header=0)\n",
    "B = pd.read_csv('./msresist/data/Fold-Change/20190214_JG_AM_PC9_AXL_TMT10_AC28_R2_PSMs.csv', header=0)\n",
    "C = pd.read_csv('./msresist/data/Fold-Change/CombinedBR3_TR1&2.csv', header=0)\n",
    "\n",
    "# Header\n",
    "header = A.columns\n",
    "\n",
    "#Data\n",
    "a, b, c = A.iloc[:, 2:12], B.iloc[:, 2:12], C.iloc[:, 2:12]\n",
    "t = list(a.columns)\n",
    "\n",
    "#Peptide Sequences\n",
    "Aseqs, Bseqs, Cseqs = A.iloc[:, 0], B.iloc[:, 0], C.iloc[:, 0]\n",
    "\n",
    "#Protein Names \n",
    "Anames, Bnames, Cnames = [], [], []\n",
    "x = list(map(lambda  v : Anames.append(v.split(\"OS\")[0]), A.iloc[:,1]))\n",
    "y = list(map(lambda  v : Bnames.append(v.split(\"OS\")[0]), B.iloc[:,1]))\n",
    "z = list(map(lambda  v : Cnames.append(v.split(\"OS\")[0]), C.iloc[:,1]))\n",
    "\n",
    "A['Master Protein Descriptions'] = Anames\n",
    "B['Master Protein Descriptions'] = Bnames\n",
    "C['Master Protein Descriptions'] = Cnames\n",
    "\n",
    "#Cell Viability\n",
    "Y = np.array(pd.read_csv('./msresist/data/Phenotypic_data/ydata.csv', header=0))\n",
    "Y_cv = Y[:,2]\n",
    "Y_cv = Y_cv[:10]"
   ]
  },
  {
   "cell_type": "code",
   "execution_count": 49,
   "metadata": {},
   "outputs": [
    {
     "data": {
      "text/plain": [
       "(816, 12)"
      ]
     },
     "execution_count": 49,
     "metadata": {},
     "output_type": "execute_result"
    }
   ],
   "source": [
    "C.shape"
   ]
  },
  {
   "cell_type": "markdown",
   "metadata": {},
   "source": [
    "## Filter based on variability"
   ]
  },
  {
   "cell_type": "markdown",
   "metadata": {},
   "source": [
    "- Get a dataframe with all duplicates and a dataframe with all triplicates. Leave out any peptide that only shows up once. \n",
    "- Use two separate pivot_table functions: \n",
    "    1. Get range of duplicated peptides for each condition. Ideally, however, we would find a way to compute Pearson's correlation across all conditions between both duplicated peptides. \n",
    "    2. Get stdev for trips. \n",
    "    - This will generate a new col with this information.\n",
    "- Set threshold for each, then compute final merged ABC where all recurrent peptides are averaged"
   ]
  },
  {
   "cell_type": "markdown",
   "metadata": {},
   "source": [
    "Concatenate all biological replicates. "
   ]
  },
  {
   "cell_type": "code",
   "execution_count": 50,
   "metadata": {},
   "outputs": [
    {
     "name": "stdout",
     "output_type": "stream",
     "text": [
      "shape of concatenated matrix: (1496, 12)\n"
     ]
    }
   ],
   "source": [
    "frames = [A,B, C]\n",
    "ABC = pd.concat(frames)\n",
    "ABC_seqs = []\n",
    "for seq in list(ABC.iloc[:,0]):\n",
    "    if seq[0] == \"y\" and \"y\" not in seq[1:]:\n",
    "        ABC_seqs.append(seq.split(\"-\")[0])\n",
    "    else:\n",
    "        ABC_seqs.append(seq[1:].split(\"-\")[0])\n",
    "ABC['peptide-phosphosite'] = ABC_seqs\n",
    "print(\"shape of concatenated matrix:\", ABC.shape)"
   ]
  },
  {
   "cell_type": "code",
   "execution_count": 51,
   "metadata": {},
   "outputs": [],
   "source": [
    "# ABC[ABC[\"Master Protein Descriptions\"].str.contains(\"Epidermal\")]"
   ]
  },
  {
   "cell_type": "markdown",
   "metadata": {},
   "source": [
    "Build dataframe inidicating the number of recurrencies of each peptide: 1,2 or 3. From this dataframe we manually created two csv files () containing all duplicates. Finally, generate counter to see number of non-recurrent peptides, duplicates and triplicates:"
   ]
  },
  {
   "cell_type": "code",
   "execution_count": 52,
   "metadata": {},
   "outputs": [
    {
     "name": "stdout",
     "output_type": "stream",
     "text": [
      "total number of recurrences: {1: 620, 2: 246, 3: 128}\n"
     ]
    }
   ],
   "source": [
    "dups = pd.pivot_table(ABC, index=['Master Protein Descriptions', 'peptide-phosphosite'], aggfunc = \"size\").sort_values()\n",
    "dups_counter = {i:list(dups).count(i) for i in list(dups)}\n",
    "print(\"total number of recurrences:\", dups_counter)\n",
    "dups = pd.DataFrame(dups)\n",
    "#create_download_link(dups, \"ABC_RecurrentPeptides\")"
   ]
  },
  {
   "cell_type": "markdown",
   "metadata": {},
   "source": [
    "Import duplicates and triplicates (cols = Prot, Seq, Recurrencies):"
   ]
  },
  {
   "cell_type": "code",
   "execution_count": 53,
   "metadata": {},
   "outputs": [],
   "source": [
    "duplicated_ = pd.read_csv('./msresist/data/Fold-Change/ABC_Duplicates.csv', header=0)\n",
    "triplicated_ = pd.read_csv('./msresist/data/Fold-Change/ABC_Triplicates.csv', header=0)"
   ]
  },
  {
   "cell_type": "markdown",
   "metadata": {},
   "source": [
    "Find all duplicates in the concatenated dataframe ABC."
   ]
  },
  {
   "cell_type": "markdown",
   "metadata": {},
   "source": [
    "Found out ADP-ribosylation factor-like protein 11 appears twice but the same two entries (exact values across conditions) appeared with the protein name (blank). Check by:"
   ]
  },
  {
   "cell_type": "code",
   "execution_count": 54,
   "metadata": {},
   "outputs": [
    {
     "data": {
      "text/html": [
       "<div>\n",
       "<style scoped>\n",
       "    .dataframe tbody tr th:only-of-type {\n",
       "        vertical-align: middle;\n",
       "    }\n",
       "\n",
       "    .dataframe tbody tr th {\n",
       "        vertical-align: top;\n",
       "    }\n",
       "\n",
       "    .dataframe thead th {\n",
       "        text-align: right;\n",
       "    }\n",
       "</style>\n",
       "<table border=\"1\" class=\"dataframe\">\n",
       "  <thead>\n",
       "    <tr style=\"text-align: right;\">\n",
       "      <th></th>\n",
       "      <th>peptide-phosphosite</th>\n",
       "      <th>Master Protein Descriptions</th>\n",
       "      <th>PC9</th>\n",
       "      <th>Erl</th>\n",
       "      <th>R428</th>\n",
       "      <th>Erl/R428</th>\n",
       "      <th>Erl+HGF</th>\n",
       "      <th>Erl+FGF</th>\n",
       "      <th>Erl+IGF</th>\n",
       "      <th>KO Erl</th>\n",
       "      <th>KO R428</th>\n",
       "      <th>KO Erl/R428</th>\n",
       "    </tr>\n",
       "  </thead>\n",
       "  <tbody>\n",
       "    <tr>\n",
       "      <th>294</th>\n",
       "      <td>TLLyk</td>\n",
       "      <td>ADP-ribosylation factor-like protein 11</td>\n",
       "      <td>1</td>\n",
       "      <td>0.809582</td>\n",
       "      <td>0.868028</td>\n",
       "      <td>0.476933</td>\n",
       "      <td>0.877167</td>\n",
       "      <td>0.651235</td>\n",
       "      <td>0.710535</td>\n",
       "      <td>0.689647</td>\n",
       "      <td>0.736848</td>\n",
       "      <td>0.703840</td>\n",
       "    </tr>\n",
       "    <tr>\n",
       "      <th>630</th>\n",
       "      <td>TLLyk</td>\n",
       "      <td>ADP-ribosylation factor-like protein 11</td>\n",
       "      <td>1</td>\n",
       "      <td>0.706897</td>\n",
       "      <td>0.688594</td>\n",
       "      <td>0.474803</td>\n",
       "      <td>0.740107</td>\n",
       "      <td>0.542838</td>\n",
       "      <td>0.582163</td>\n",
       "      <td>0.605364</td>\n",
       "      <td>0.683338</td>\n",
       "      <td>0.635144</td>\n",
       "    </tr>\n",
       "  </tbody>\n",
       "</table>\n",
       "</div>"
      ],
      "text/plain": [
       "    peptide-phosphosite               Master Protein Descriptions  PC9  \\\n",
       "294               TLLyk  ADP-ribosylation factor-like protein 11     1   \n",
       "630               TLLyk  ADP-ribosylation factor-like protein 11     1   \n",
       "\n",
       "          Erl      R428  Erl/R428   Erl+HGF   Erl+FGF   Erl+IGF    KO Erl  \\\n",
       "294  0.809582  0.868028  0.476933  0.877167  0.651235  0.710535  0.689647   \n",
       "630  0.706897  0.688594  0.474803  0.740107  0.542838  0.582163  0.605364   \n",
       "\n",
       "      KO R428  KO Erl/R428  \n",
       "294  0.736848     0.703840  \n",
       "630  0.683338     0.635144  "
      ]
     },
     "execution_count": 54,
     "metadata": {},
     "output_type": "execute_result"
    }
   ],
   "source": [
    "ABC[ABC[\"Master Protein Descriptions\"].str.contains(\"ADP-ribosylation factor-like protein 11\")]"
   ]
  },
  {
   "cell_type": "code",
   "execution_count": 55,
   "metadata": {},
   "outputs": [
    {
     "data": {
      "text/html": [
       "<div>\n",
       "<style scoped>\n",
       "    .dataframe tbody tr th:only-of-type {\n",
       "        vertical-align: middle;\n",
       "    }\n",
       "\n",
       "    .dataframe tbody tr th {\n",
       "        vertical-align: top;\n",
       "    }\n",
       "\n",
       "    .dataframe thead th {\n",
       "        text-align: right;\n",
       "    }\n",
       "</style>\n",
       "<table border=\"1\" class=\"dataframe\">\n",
       "  <thead>\n",
       "    <tr style=\"text-align: right;\">\n",
       "      <th></th>\n",
       "      <th>peptide-phosphosite</th>\n",
       "      <th>Master Protein Descriptions</th>\n",
       "      <th>PC9</th>\n",
       "      <th>Erl</th>\n",
       "      <th>R428</th>\n",
       "      <th>Erl/R428</th>\n",
       "      <th>Erl+HGF</th>\n",
       "      <th>Erl+FGF</th>\n",
       "      <th>Erl+IGF</th>\n",
       "      <th>KO Erl</th>\n",
       "      <th>KO R428</th>\n",
       "      <th>KO Erl/R428</th>\n",
       "    </tr>\n",
       "  </thead>\n",
       "  <tbody>\n",
       "    <tr>\n",
       "      <th>293</th>\n",
       "      <td>TILyk</td>\n",
       "      <td>(blank)</td>\n",
       "      <td>1</td>\n",
       "      <td>0.809582</td>\n",
       "      <td>0.868028</td>\n",
       "      <td>0.476933</td>\n",
       "      <td>0.877167</td>\n",
       "      <td>0.651235</td>\n",
       "      <td>0.710535</td>\n",
       "      <td>0.689647</td>\n",
       "      <td>0.736848</td>\n",
       "      <td>0.703840</td>\n",
       "    </tr>\n",
       "    <tr>\n",
       "      <th>629</th>\n",
       "      <td>TILyk</td>\n",
       "      <td>(blank)</td>\n",
       "      <td>1</td>\n",
       "      <td>0.706897</td>\n",
       "      <td>0.688594</td>\n",
       "      <td>0.474803</td>\n",
       "      <td>0.740107</td>\n",
       "      <td>0.542838</td>\n",
       "      <td>0.582163</td>\n",
       "      <td>0.605364</td>\n",
       "      <td>0.683338</td>\n",
       "      <td>0.635144</td>\n",
       "    </tr>\n",
       "    <tr>\n",
       "      <th>760</th>\n",
       "      <td>yIEIFR</td>\n",
       "      <td>(blank)</td>\n",
       "      <td>1</td>\n",
       "      <td>0.894853</td>\n",
       "      <td>1.190289</td>\n",
       "      <td>1.199578</td>\n",
       "      <td>0.792884</td>\n",
       "      <td>0.635025</td>\n",
       "      <td>0.944130</td>\n",
       "      <td>0.590664</td>\n",
       "      <td>1.532201</td>\n",
       "      <td>1.356739</td>\n",
       "    </tr>\n",
       "  </tbody>\n",
       "</table>\n",
       "</div>"
      ],
      "text/plain": [
       "    peptide-phosphosite Master Protein Descriptions  PC9       Erl      R428  \\\n",
       "293               TILyk                     (blank)    1  0.809582  0.868028   \n",
       "629               TILyk                     (blank)    1  0.706897  0.688594   \n",
       "760              yIEIFR                     (blank)    1  0.894853  1.190289   \n",
       "\n",
       "     Erl/R428   Erl+HGF   Erl+FGF   Erl+IGF    KO Erl   KO R428  KO Erl/R428  \n",
       "293  0.476933  0.877167  0.651235  0.710535  0.689647  0.736848     0.703840  \n",
       "629  0.474803  0.740107  0.542838  0.582163  0.605364  0.683338     0.635144  \n",
       "760  1.199578  0.792884  0.635025  0.944130  0.590664  1.532201     1.356739  "
      ]
     },
     "execution_count": 55,
     "metadata": {},
     "output_type": "execute_result"
    }
   ],
   "source": [
    "ABC[ABC[\"Master Protein Descriptions\"].str.contains(\"(blank)\")]"
   ]
  },
  {
   "cell_type": "code",
   "execution_count": 56,
   "metadata": {},
   "outputs": [
    {
     "data": {
      "text/html": [
       "<div>\n",
       "<style scoped>\n",
       "    .dataframe tbody tr th:only-of-type {\n",
       "        vertical-align: middle;\n",
       "    }\n",
       "\n",
       "    .dataframe tbody tr th {\n",
       "        vertical-align: top;\n",
       "    }\n",
       "\n",
       "    .dataframe thead th {\n",
       "        text-align: right;\n",
       "    }\n",
       "</style>\n",
       "<table border=\"1\" class=\"dataframe\">\n",
       "  <thead>\n",
       "    <tr style=\"text-align: right;\">\n",
       "      <th></th>\n",
       "      <th>peptide-phosphosite</th>\n",
       "      <th>Master Protein Descriptions</th>\n",
       "      <th>PC9</th>\n",
       "      <th>Erl</th>\n",
       "      <th>R428</th>\n",
       "      <th>Erl/R428</th>\n",
       "      <th>Erl+HGF</th>\n",
       "      <th>Erl+FGF</th>\n",
       "      <th>Erl+IGF</th>\n",
       "      <th>KO Erl</th>\n",
       "      <th>KO R428</th>\n",
       "      <th>KO Erl/R428</th>\n",
       "    </tr>\n",
       "  </thead>\n",
       "  <tbody>\n",
       "    <tr>\n",
       "      <th>760</th>\n",
       "      <td>yIEIFR</td>\n",
       "      <td>(blank)</td>\n",
       "      <td>1</td>\n",
       "      <td>0.894853</td>\n",
       "      <td>1.190289</td>\n",
       "      <td>1.199578</td>\n",
       "      <td>0.792884</td>\n",
       "      <td>0.635025</td>\n",
       "      <td>0.94413</td>\n",
       "      <td>0.590664</td>\n",
       "      <td>1.532201</td>\n",
       "      <td>1.356739</td>\n",
       "    </tr>\n",
       "  </tbody>\n",
       "</table>\n",
       "</div>"
      ],
      "text/plain": [
       "    peptide-phosphosite Master Protein Descriptions  PC9       Erl      R428  \\\n",
       "760              yIEIFR                     (blank)    1  0.894853  1.190289   \n",
       "\n",
       "     Erl/R428   Erl+HGF   Erl+FGF  Erl+IGF    KO Erl   KO R428  KO Erl/R428  \n",
       "760  1.199578  0.792884  0.635025  0.94413  0.590664  1.532201     1.356739  "
      ]
     },
     "execution_count": 56,
     "metadata": {},
     "output_type": "execute_result"
    }
   ],
   "source": [
    "ABC[ABC[\"peptide-phosphosite\"].str.contains(\"yIEIFR\")]"
   ]
  },
  {
   "cell_type": "code",
   "execution_count": 57,
   "metadata": {},
   "outputs": [
    {
     "name": "stderr",
     "output_type": "stream",
     "text": [
      "/usr/local/lib/python3.7/dist-packages/ipykernel_launcher.py:4: PerformanceWarning: indexing past lexsort depth may impact performance.\n",
      "  after removing the cwd from sys.path.\n"
     ]
    }
   ],
   "source": [
    "dupslist = []   #should be shape 490\n",
    "for idx, dupseq in enumerate(duplicated_.iloc[:,1]):\n",
    "    dup_name = duplicated_.iloc[idx,0]\n",
    "    pepts = ABC.reset_index().set_index([\"peptide-phosphosite\", \"Master Protein Descriptions\"], drop = False).loc[dupseq, dup_name]\n",
    "    names = pepts.iloc[:,2]\n",
    "    if dup_name == \"(blank)\":\n",
    "        continue\n",
    "    elif len(pepts) == 2 and len(set(names)) == 1:\n",
    "        for i in range(len(pepts)):\n",
    "            dupslist.append(pepts.iloc[i, :])\n",
    "    else:\n",
    "        print(\"check this\")\n",
    "        print(pepts)\n",
    "duplicates = pd.DataFrame(dupslist)"
   ]
  },
  {
   "cell_type": "markdown",
   "metadata": {},
   "source": [
    "Find all triplicates in the concatenated dataframe ABC:"
   ]
  },
  {
   "cell_type": "code",
   "execution_count": 58,
   "metadata": {},
   "outputs": [
    {
     "name": "stderr",
     "output_type": "stream",
     "text": [
      "/usr/local/lib/python3.7/dist-packages/ipykernel_launcher.py:4: PerformanceWarning: indexing past lexsort depth may impact performance.\n",
      "  after removing the cwd from sys.path.\n"
     ]
    }
   ],
   "source": [
    "tripslist = []   #should be shape 492\n",
    "for idx, tripseq in enumerate(triplicated_.iloc[:,1]):\n",
    "    trip_name = triplicated_.iloc[idx,0]\n",
    "    pepts = ABC.reset_index().set_index([\"peptide-phosphosite\", \"Master Protein Descriptions\"], drop = False).loc[tripseq, trip_name]\n",
    "    names = pepts.iloc[:,2]\n",
    "    seq = pepts.iloc[:,1]\n",
    "    if trip_name == \"(blank)\":\n",
    "        continue\n",
    "    if len(pepts) == 3 and len(set(names)) == 1:\n",
    "        for i in range(len(pepts)):\n",
    "            tripslist.append(pepts.iloc[i, :])\n",
    "    else:\n",
    "        print(\"check this\")\n",
    "triplicates = pd.DataFrame(tripslist)"
   ]
  },
  {
   "cell_type": "markdown",
   "metadata": {},
   "source": [
    "Need to find a way to get pearson's correlation instead of using ptp... for the mean we take values of the same condition and for pearson we want two compare the entire list of values between replicates..."
   ]
  },
  {
   "cell_type": "code",
   "execution_count": 59,
   "metadata": {},
   "outputs": [],
   "source": [
    "func_tri, func_dup = {}, {}\n",
    "for i in t:\n",
    "    func_tri[i] = np.mean, np.std\n",
    "    func_dup[i] = np.mean, np.ptp #np.corrcoef\n",
    "    \n",
    "ABC_dups_avg = pd.pivot_table(duplicates, values = t, index = ['Master Protein Descriptions', 'peptide-phosphosite'], aggfunc = func_dup)\n",
    "ABC_dups_avg = ABC_dups_avg.reset_index()[header]\n",
    "\n",
    "ABC_trips_avg = pd.pivot_table(triplicates, values = t, index = ['Master Protein Descriptions', 'peptide-phosphosite'], aggfunc = func_tri)\n",
    "ABC_trips_avg = ABC_trips_avg.reset_index()[header]"
   ]
  },
  {
   "cell_type": "markdown",
   "metadata": {},
   "source": [
    "### Apply filter: Set range to 0.6 and stdev to 0.3"
   ]
  },
  {
   "cell_type": "markdown",
   "metadata": {},
   "source": [
    "Overlapping peptides across 2 BRs:"
   ]
  },
  {
   "cell_type": "code",
   "execution_count": 60,
   "metadata": {},
   "outputs": [],
   "source": [
    "ABC_dups_avg = ABC_dups_avg.set_index(['Master Protein Descriptions', 'peptide-phosphosite'])\n",
    "dups_final, protnames, seqs = [], [], []\n",
    "for i in range(ABC_dups_avg.shape[0]):\n",
    "    ptp = ABC_dups_avg.iloc[i, ABC_dups_avg.columns.get_level_values(1)=='ptp']\n",
    "    mean = ABC_dups_avg.iloc[i, ABC_dups_avg.columns.get_level_values(1)=='mean']\n",
    "    seq = ABC_dups_avg.index[i][1]\n",
    "    name = ABC_dups_avg.index[i][0]\n",
    "    if all(v <= 0.6 for v in ptp):\n",
    "        dups_final.append(mean)\n",
    "        seqs.append(seq)\n",
    "        protnames.append(name)\n",
    "\n",
    "dups_final = pd.DataFrame(dups_final).reset_index().iloc[:,1:]\n",
    "\n",
    "frames = [pd.DataFrame(seqs),pd.DataFrame(protnames), dups_final]\n",
    "dups_final = pd.concat(frames, axis = 1)\n",
    "dups_final.columns = header\n",
    "dups_final = dups_final.sort_values(by = \"Master Protein Descriptions\")"
   ]
  },
  {
   "cell_type": "markdown",
   "metadata": {},
   "source": [
    "Overlapping peptides across all 3 BRs:"
   ]
  },
  {
   "cell_type": "code",
   "execution_count": 61,
   "metadata": {},
   "outputs": [],
   "source": [
    "ABC_trips_avg = ABC_trips_avg.set_index(['Master Protein Descriptions', 'peptide-phosphosite'])\n",
    "trips_final, protnames, seqs = [], [], []\n",
    "for i in range(ABC_trips_avg.shape[0]):\n",
    "    std = ABC_trips_avg.iloc[i, ABC_trips_avg.columns.get_level_values(1)=='std']\n",
    "    mean = ABC_trips_avg.iloc[i, ABC_trips_avg.columns.get_level_values(1)=='mean']\n",
    "    seq = ABC_trips_avg.index[i][1]\n",
    "    name = ABC_trips_avg.index[i][0]\n",
    "    if all(v <= 0.3 for v in std):\n",
    "        trips_final.append(mean)\n",
    "        seqs.append(seq)\n",
    "        protnames.append(name)\n",
    "\n",
    "trips_final = pd.DataFrame(trips_final).reset_index().iloc[:,1:]\n",
    "\n",
    "frames = [pd.DataFrame(seqs),pd.DataFrame(protnames), trips_final]\n",
    "trips_final = pd.concat(frames, axis = 1)\n",
    "trips_final.columns = header\n",
    "trips_final = trips_final.sort_values(by = \"Master Protein Descriptions\")"
   ]
  },
  {
   "cell_type": "code",
   "execution_count": 62,
   "metadata": {},
   "outputs": [],
   "source": [
    "frame = [dups_final, trips_final]\n",
    "X_f = pd.concat(frame)\n",
    "X_f = X_f.sort_values(by = \"Master Protein Descriptions\")"
   ]
  },
  {
   "cell_type": "code",
   "execution_count": 63,
   "metadata": {},
   "outputs": [
    {
     "name": "stdout",
     "output_type": "stream",
     "text": [
      "total number of recurrences: {1: 203}\n"
     ]
    }
   ],
   "source": [
    "X_f_size = pd.pivot_table(X_f, index=['Master Protein Descriptions', 'peptide-phosphosite'], aggfunc = \"size\")\n",
    "Xf_counter = {i:list(X_f_size).count(i) for i in list(X_f_size)}\n",
    "print(\"total number of recurrences:\", Xf_counter)"
   ]
  },
  {
   "cell_type": "code",
   "execution_count": 64,
   "metadata": {},
   "outputs": [
    {
     "data": {
      "text/html": [
       "<a download=\"ABC_FilteredByVarAndFold\" href=\"data:text/csv;base64,LHBlcHRpZGUtcGhvc3Bob3NpdGUsTWFzdGVyIFByb3RlaW4gRGVzY3JpcHRpb25zLFBDOSxFcmwsUjQyOCxFcmwvUjQyOCxFcmwrSEdGLEVybCtGR0YsRXJsK0lHRixLTyBFcmwsS08gUjQyOCxLTyBFcmwvUjQyOAowLEVGUURBeVZMTFNFaywiNjAga0RhIGhlYXQgc2hvY2sgcHJvdGVpbiwgbWl0b2Nob25kcmlhbCAiLDEuMCwwLjkyMzE3NzQwMDUsMS4wNTgxNjQ5MTYsMS4yMDMzOTE1NDM1LDAuOTExOTcxNTEyNSwwLjk3ODkyNTI5MjUsMS4xMjU2ODYzMTIsMS4wNjQ4MzExODEsMS4wMTk1OTgwNTQ1LDAuODgyNzE4MQowLElRTExERHlQayw2MFMgYWNpZGljIHJpYm9zb21hbCBwcm90ZWluIFAwICwxLjAsMC45Mzk0MTM1NDQzMzMzMzM1LDEuMDIwNDMxOTQ0LDAuOTgyODA3ODYxLDAuOTkyOTE3NjY3MzMzMzMzMywwLjkxMzU2NzU0NTMzMzMzMzMsMS4wNDg4MDkwNjM2NjY2NjY3LDAuODE0MjY5Mzc1NjY2NjY2NywwLjc5NjIyNzkyMDAwMDAwMDEsMC42MjkwMjYxODg2NjY2NjY3CjEsVExMeWssQURQLXJpYm9zeWxhdGlvbiBmYWN0b3ItbGlrZSBwcm90ZWluIDExICwxLjAsMC43NTgyMzk3NCwwLjc3ODMxMTE2NDQ5OTk5OTksMC40NzU4NjgwODU5OTk5OTk5NywwLjgwODYzNjk1NDUwMDAwMDEsMC41OTcwMzY5NzA1LDAuNjQ2MzQ5NDIxOTk5OTk5OSwwLjY0NzUwNTY0NTQ5OTk5OTksMC43MTAwOTMyMTE1LDAuNjY5NDkxOTIzNQoyLExIeUVjSVZMVmssQURQLXN1Z2FyIHB5cm9waG9zcGhhdGFzZSAsMS4wLDAuNzI5OTE4MDcwNDk5OTk5OSwwLjg1MzYyODc5OCwwLjg0OTMyODIxOCwwLjgxNTc0MTE0MzQ5OTk5OTksMC44NzE5MDI4NDQ5OTk5OTk5LDAuODUwODQ4NjQ3LDAuNzcxNDEyODIyOTk5OTk5OSwwLjg2MjYxOTgxMywwLjY1MTk4NTY0NAozLFNEeVlOTUxMayxBUC0yIGNvbXBsZXggc3VidW5pdCBiZXRhICwxLjAsMS4wMjAzNzQwMDI1LDEuMDc2ODU1Nzc3NSwxLjExNDg4NzM5NywxLjEzOTg2MDExOTUsMS4xMjk3MzAyMDgsMS4zMTI4MjE1MDksMC42MjM1Mzc0OTI5OTk5OTk5LDAuNjMwODc4NjE3NTAwMDAwMSwwLjUzMjI4NTMyMzUKNCxWRUdRRE1MeVFTTGssQVAtMiBjb21wbGV4IHN1YnVuaXQgYmV0YSAsMS4wLDAuODIzODAwNjU0NSwwLjc4NjExMDIzODk5OTk5OTksMC45OTE4NzQ4NDU0OTk5OTk5LDAuOTU5MTM1NTQ1LDAuOTgxMzc5MDQ2LDAuOTM3NTQzNTUzLDAuOTUyNzcwNDM3NSwwLjkyNzg5OTc1MTk5OTk5OTksMC44OTgwOTAwNzE1CjUsQVFRUExTTFZHY0VWVlBEUFNQREhMWXNGUixBY3RpbiBmaWxhbWVudC1hc3NvY2lhdGVkIHByb3RlaW4gMS1saWtlIDIgLDEuMCwwLjcxODQ1ODI2LDAuNzQwOTQyODA3NSwwLjY2Mzk5NzAyMjUsMC43OTg2NTg3MjUsMC43NDU1ODIwNDM1LDAuODcyMjYzMjg1LDAuNzMyNDA4MTM1LDAuNjg0Mzc5MTE4NTAwMDAwMSwwLjY2MTE0ODQ4NDUKNixOSExIRnlRRFIsQWN0aW4gZmlsYW1lbnQtYXNzb2NpYXRlZCBwcm90ZWluIDEtbGlrZSAyICwxLjAsMC44MjQ4MTA4OTMsMC43MDIyODkyNCwwLjU5NjEyODk4Njk5OTk5OTksMC43ODYxOTU3NzA1LDAuNzY5OTI4MDc0LDAuOTE2OTcyNzU5NTAwMDAwMSwwLjU1NDM5MzIyNiwwLjU1NjQwMTMwMiwwLjYxODE3NDQ1OAo3LHlQSUVIR0lJVE5XRERNRWssIkFjdGluLCBhbHBoYSBjYXJkaWFjIG11c2NsZSAxICIsMS4wLDAuNzQ3NTA3ODI2LDAuODQ5MjgyNjQ1LDAuOTUyNTU2NDgyMDAwMDAwMSwwLjgwNjM5MDc5NSwwLjk2OTA0NjA0LDAuOTU3MzUyMTk5MDAwMDAwMSwwLjczMzk2NDkxODUsMC43NjA5ODMyODEsMC42NTkyMzE5NjQKMix5U0ZUVFRBRVIsIkFjdGluLCBjeXRvcGxhc21pYyAxICIsMS4wLDAuNTE0MDM3ODY5MzMzMzMzMywwLjUyNTM4OTU5MywwLjI3MjUyMjEzMzk5OTk5OTk3LDAuMzcxOTkxNTExMzMzMzMzMzYsMC4zMjc1MzcyODEzMzMzMzMzLDAuMzgxNDU1NjgzNjY2NjY2NywwLjMwMjUxOTUyNzY2NjY2NjcsMC4zOTg1NTI3MzUsMC4zMDQ2NzEwNDUzMzMzMzMzMwo5LEV5REVTR1BTSVZIUiwiQWN0aW4sIGN5dG9wbGFzbWljIDEgIiwxLjAsMC40OTM4NDM1NTQsMC41MDgyNjM1NjEsMC4xMTg3NTE0MjU1LDAuMTc0MTc2MjU0LDAuMTA5MDk0NDcyLDAuMTUyMzc0NjQxOTk5OTk5OTgsMC4wOTEyNDY0LDAuMTIyMTA3NTQ4OTk5OTk5OTgsMC4xMTI0NTQ0ODQKMSx5RUxQREdRVklUSUdORVIsIkFjdGluLCBjeXRvcGxhc21pYyAxICIsMS4wLDAuNjgzMjY4NjY3OTk5OTk5OSwwLjc4NTk4MDg3MzY2NjY2NjYsMC41MDAyMDkwODEsMC40OTAxODIxNjYzMzMzMzM0LDAuNDk2NDIyNDA3OTk5OTk5OSwwLjU3NjQzNDg1MDMzMzMzMzMsMC40NzA2MjkwNjczMzMzMzMzLDAuNTQyMjgzOTc4NjY2NjY2NywwLjQ3OTU3MDEyNjMzMzMzMzM1CjgsREx5QU5UVkxTR0dUVE1ZUEdJQURSLCJBY3RpbiwgY3l0b3BsYXNtaWMgMSAiLDEuMCwxLjA1NzM5ODM5NTUsMC45OTgzMTQ1MDc1LDEuMjE1Mjg1MjgwNSwxLjE0NjE1MDE5NSwxLjE4MDAzNjQyOCwxLjI2NDUwODQ3LDEuMjE2MjcwMjg0LDEuMzA0NDc1OTI0MDAwMDAwMSwxLjEzMzA3MjUwNgoxMSxjeVZBTERGRVFFTUFUQUFTU1NTTEVrLCJBY3RpbiwgY3l0b3BsYXNtaWMgMSAiLDEuMCwwLjg2MTIwOTUyODk5OTk5OTksMC44NDI4ODY2ODI1LDEuMTE3OTQwOTk3NDk5OTk5OSwxLjAyNzgzNTk0MSwxLjA5NzE1MjA5MDk5OTk5OTksMS4xODMzODE5MiwwLjk5MTUxMzA4NjUsMS4xNDMwMDg2ODM5OTk5OTk4LDAuOTc3NTU3MjQzCjEwLFRHSVZNRFNHREdWVEhUVlBJeUVHWUFMUEhBSUxSLCJBY3RpbiwgY3l0b3BsYXNtaWMgMSAiLDEuMCwwLjgxMjM0MjQ5NSwwLjc5MjA4NDQ2NTk5OTk5OTksMC44MzM3MjYxNDkwMDAwMDAxLDAuODY1NzUzMTkxNSwwLjc0MzE3NzY0NywwLjc3MTE5NjMxMjUsMC44MTY0MTQyMTYwMDAwMDAxLDAuODg5MjkzMjAyNSwwLjk3NTQ1NTUxMTk5OTk5OTkKMTIseUFUUFFWSVFBUEdQUixBY3RpdmF0ZWQgQ0RDNDIga2luYXNlIDEgLDEuMCwxLjQyMzQyMzE3ODQ5OTk5OTgsMC43MDc0MTc1MTA1LDEuMDAzMzM2Mzg5NSwwLjgwNDgzMDc1MTQ5OTk5OTksMC45ODg2MjA4OTE5OTk5OTk5LDAuNzI1NjcyNTI1LDAuNjgxNjI3OTEzNTAwMDAwMSwwLjYwMzY2MzMxMiwwLjY0Mzk0MjI5NAoxMyx5WUZFR0lrLEFjdGl2YXRvciBvZiA5MCBrRGEgaGVhdCBzaG9jayBwcm90ZWluIEFUUGFzZSBob21vbG9nIDEgLDEuMCwwLjgzMDkyNzE2Mjk5OTk5OTksMC44NDI3MjgxMDk1MDAwMDAxLDAuNjkxMTA4NzA4NTAwMDAwMSwwLjY5ODgyMjM1Nzk5OTk5OTksMC42MzYwNTU3MTI0OTk5OTk5LDAuNzQyMTM4ODMzNTAwMDAwMSwwLjQ0MTMyMjEyNCwwLjQ2MTQwNzA4NywwLjQ4Nzk2MDYyNwoxNCxFRUFFeVZSLEFkYXB0ZXIgbW9sZWN1bGUgY3JrICwxLjAsMC4yMDAxNjkwODUsMC40MjIzNDYxMjU1LDAuMTAyMzgyMjU5NSwwLjIyMjU0NTM5NjUsMC4xMzMwOTA4NjU1LDAuMTQ2ODA0MDM1NDk5OTk5OTksMC4xMzQzOTA4NzYsMC4yODI3MDQ0NDcsMC4xMDAyNTkyNjc1CjE1LFBOQXlEa1RBTEFMRVZHRUxWayxBZGFwdGVyIG1vbGVjdWxlIGNyayAsMS4wLDAuNjg3NTU0MTE1NSwwLjY5NDg0NjY2NzUsMC41MTgwODIwMjksMC42OTk1NTk1MjYsMC42MzQ4NDI4NDk1LDAuNjE3NzQ1MDM2NSwwLjc0OTk4MDEwMzAwMDAwMDEsMC45Nzk3NjQ2NTE5OTk5OTk4LDAuNzExMTMwODk4CjE2LHlGVEZQQVNrLEFmYWRpbiAsMS4wLDAuMzc5MDEwMjQzOTk5OTk5OTQsMC4zNDIzMDI4MjcsMC4yNTcxODAyNzI5OTk5OTk5NiwwLjMyMzY3ODM1MiwwLjIyNjM4NzEwNTUsMC4yMzUxNjUxNzEsMC4wOTE2MDE5OTQ5OTk5OTk5OSwwLjE4Nzk2MDI3OTk5OTk5OTk4LDAuMTM2MTk1Nzk1CjE3LElEY0FIVnlRTkVORVZHVkFJUUVrLEFsZG9zZSByZWR1Y3Rhc2UgLDEuMCwwLjgxMzQ0OTkwOTUwMDAwMDEsMS4wMjA0MTg2OSwwLjg3NDExMzExMywxLjAwNjkxMzQ0OCwwLjgzNDE2ODUwNDUsMC45Mjk5Njg0ODU1LDAuODM1MjAzOTk1MDAwMDAwMSwwLjg0NTUyNDYzNjUsMC42OTUxMjU4Mzc5OTk5OTk5CjMsa1BBVk5RSUVjSFB5TFRRRWssQWxkb3NlIHJlZHVjdGFzZSAsMS4wLDAuODc2NTIxNDgwNjY2NjY2NywwLjk1NzY5NjM4NiwwLjkwODM4NTY2NSwwLjgxNTk5OTM0NTY2NjY2NjcsMC45NDMwNTQ3NzAzMzMzMzM1LDAuODY3NzEwOTE3OTk5OTk5OSwwLjc4MTE0MzY0ODMzMzMzMzQsMC45MjYzMTM1ODgwMDAwMDAxLDAuNzg4NjI2Nzk4NjY2NjY2NQoxOSxGSWtEeVBWVlNJRURQRkRRRERXR0FXUWssQWxwaGEtZW5vbGFzZSAsMS4wLDEuMTE3MzkzMTMyNSwxLjA4OTU5NTk2MjUsMS4wOTcwNzY0NjM1LDEuMDA3NzQzMjc4LDEuMTAzODY5NzgzLDEuMDgwNDE3NjQyLDAuNjI4MzU4NDkwMDAwMDAwMSwwLjczMzgzNTQ2ODQ5OTk5OTksMC44MTc2ODE4NjY1CjE4LEFWUFNHQVNUR0l5RUFMRUxSRE5EayxBbHBoYS1lbm9sYXNlICwxLjAsMC45NDM5MzExMzgsMC43MzIzNDA2ODIsMC43NjE1ODY1MjU5OTk5OTk5LDAuNzk5MzM0NzU2NSwwLjkxMDM3MTQxNjk5OTk5OTksMC43Nzc2NjUyOTU1LDAuNzcxMDQzNDg2NSwwLjg4ODE4NzczMDUsMC43NzE5MzY2MjkKNCxBVlBTR0FTVEdJeUVBTEVMUixBbHBoYS1lbm9sYXNlICwxLjAsMC44NjE0OTAxMTM2NjY2NjY3LDAuNzU0MTI0NDc1NjY2NjY2NiwwLjc1NzY3NjIxLDAuODI2NTU0MzkyMzMzMzMzMywwLjc4ODA1ODkyODMzMzMzMzQsMC44Mjk0MzY4NDA2NjY2NjY3LDAuNjgyODQ1NDk5LDAuNzEzMjEwMzE1MzMzMzMzMywwLjYwMzAzODg4NTMzMzMzMzMKNixMTHlMY0dHREQsQW5uZXhpbiBBMiAsMS4wLDAuOTk2NzIzNjg4MzMzMzMzNCwwLjkyNTM5MzM5ODY2NjY2NjYsMC45MTkzMjYzODczMzMzMzM0LDAuOTAyODE3MzY1NjY2NjY2NiwwLjkyNzM5ODQzNDMzMzMzMzQsMC45MjE0OTYyOTk5OTk5OTk5LDAuNzMwNDk0NjA1NjY2NjY2NywwLjc4MDk0MjA1NzY2NjY2NjcsMC42NTQzNzg0Mjk2NjY2NjY3CjUsRURHU1ZJRHlFTElEUURBUixBbm5leGluIEEyICwxLjAsMC42MzkyODEzMjk2NjY2NjY3LDAuNzYwMDQwNzk1MDAwMDAwMSwwLjYyODUzODc5NDY2NjY2NjYsMC44NjUzNTE4ODgzMzMzMzM0LDAuNjM2NTI1NzgwMzMzMzMzNCwwLjc1MzI1MzU2NzMzMzMzMzMsMC41MjQyMTc1MDQzMzMzMzM0LDAuNzQ1MjA1NTQwOTk5OTk5OSwwLjU4NDE2NDI1NjY2NjY2NjcKOCx5VE5GREFFUkRBTE5JRVRBSWssQW5uZXhpbiBBMiAsMS4wLDAuNjI1NzExMDcxLDAuODExNTY1MDcxOTk5OTk5OSwwLjUyMzY2NDYyNCwwLjYyMDI1NzQxMSwwLjY2MTI1MzgwMjAwMDAwMDEsMC42OTc0ODgzNjYsMC40ODI4ODAxMTAzMzMzMzMzMywwLjczMTYzNTgwNTAwMDAwMDEsMC40ODkxODE0MjEzMzMzMzMzNwo3LFNMRUdESFNUUFBTQXlHU1ZrLEFubmV4aW4gQTIgLDEuMCwwLjc1MjcwMjUxMjY2NjY2NjcsMC43NDA3ODU0ODI5OTk5OTk5LDAuNjIxNDg3ODQ1NjY2NjY2NiwwLjY3MTE3MTU3MTMzMzMzMzQsMC44NDY0NTUxOTAzMzMzMzM0LDAuNzMwMDA5NjI4NjY2NjY2NiwwLjUwNDU5ODEzMTY2NjY2NjcsMC41MzI2NTUyMzQzMzMzMzMzLDAuNDQ2MzA4MDY5NjY2NjY2NjQKMjAsWVNQeURNTEVTSVIsQW5uZXhpbiBBMiAsMS4wLDAuNjkwMDk3NTYxNSwwLjY4NjYwOTE4NTUsMC43MDM2NzIzNjI5OTk5OTk5LDAuODk1ODk4MTE5LDAuODg2OTIwMTk5NSwwLjk5ODAwOTU2OCwwLjg0OTQ2MDUzODQ5OTk5OTksMC43MDk0ODg2NzYwMDAwMDAxLDAuNTM3ODM0MjEyCjksWURBeUVMayxBbm5leGluIEE1ICwxLjAsMC44MDIwMjY0NTU2NjY2NjY3LDAuODU0NzgzOTA4MzMzMzMzMywwLjY2NTI5NTAyODY2NjY2NjcsMC44Mjg4NDE4NzgzMzMzMzMzLDAuNzg0NjA1MjcwMzMzMzMzNCwwLjg3NTQ2NzYyMDY2NjY2NjYsMC42NDExMTEyODA2NjY2NjY3LDAuNzEzNTYxMDUxMzMzMzMzNCwwLjU3OTM2MTcxNwoyMSx5RFRMU2ssQnJhaW4tc3BlY2lmaWMgYW5naW9nZW5lc2lzIGluaGliaXRvciAxLWFzc29jaWF0ZWQgcHJvdGVpbiAyLWxpa2UgcHJvdGVpbiAxICwxLjAsMC4zNDMzMDgxMzMsMC4yMjIzNjM0MDYsMC4xMTg1MzI1NzY1MDAwMDAwMSwwLjIyMDQ2ODAxMjQ5OTk5OTk4LDAuMTY1NTEzNzkzNSwwLjE5MDIyNDg2MTUsMC4xMTg0MzE2MDM1MDAwMDAwMSwwLjEwODQ0NzMwMiwwLjA3NDIxODQ3NzUKMTAsUEdQR1RMeURWUFIsQnJlYXN0IGNhbmNlciBhbnRpLWVzdHJvZ2VuIHJlc2lzdGFuY2UgcHJvdGVpbiAxICwxLjAsMS4xMDg1ODgwODE2NjY2NjY3LDEuMTY5NDU0NDEyNjY2NjY2OCwxLjIyOTE2NjIwMTY2NjY2NjcsMC45NzI4MjMxNTYsMC45NTYzMzIyMzc2NjY2NjY5LDAuOTM0NTk1MjI5NjY2NjY2NywwLjg0MDc4MzY0MzMzMzMzMzMsMS4wMjc5MDgyMjg2NjY2NjY4LDEuMDQxMzMyOTAxMzMzMzMzMgoyMixRUUdMeVFWUEdQU1BRRlFTUFBBayxCcmVhc3QgY2FuY2VyIGFudGktZXN0cm9nZW4gcmVzaXN0YW5jZSBwcm90ZWluIDEgLDEuMCwwLjg4ODIzOTA2OCwxLjAwMzQxNTkxMDUsMS4wNjcwNzQ5ODYwMDAwMDAyLDAuNzIxNDUwNDAxNSwwLjkxMTc0MjkzNiwwLjg3NDEzNzIwOTUsMC44MDQ1NzAzMDU1MDAwMDAxLDAuODkwODUxNzM2NSwwLjkyNDgzNjE2NAoyMyxGRGtER05HeUlTQUFFTFIsQ2FsbW9kdWxpbi0xICwxLjAsMC42NTQ4NTc0MDgsMC44MDYzMzgyMTIsMC42MzA3NjI4OTcsMC45MDQ4MjU1MTE1LDAuNjY0MDc2OTIyLDAuODYxNDc0MTIsMC43MTQwNzgzNjIsMC45MzE2ODI1MDgsMC43MjEyNzA2MDM1CjI0LEh5R0xQVlZWayxDYXRlbmluIGJldGEtMSAsMS4wLDAuNjAyNTY4NzQ2NSwwLjcxNjY2OTIxNTUwMDAwMDEsMC41NTU5OTUzMjk1LDAuNjcyNDQyNDE1MDAwMDAwMSwwLjU0NzUwNjQwMDAwMDAwMDEsMC44MjM3NDUzMTcsMC4zOTA5OTc3MzY1LDAuMzkwMjY0MTYwNSwwLjMyNTE5MDI2MTAwMDAwMDA0CjI1LFlFREdZUEdHU0ROeUdTTFNSLENhdGVuaW4gZGVsdGEtMSAsMS4wLDAuNDgzNzMwOTUzNDk5OTk5OTUsMC4zNjM4NDUxNjcsMC4yMTUxNzIzNTU1LDAuMjk4Mjg2MjMwNDk5OTk5OTcsMC4yNDU3NjY2MDA1MDAwMDAwMiwwLjIzMjUwNzc4NzUsMC4xNzgzNjg1NjcsMC4yMjY2MTU1ODc1LDAuMTg1MjU5Nzc5NQoyNixWRFNFR0hMeVRWUElSLENhdmVvbGluLTEgLDEuMCwwLjY3MTA5NDAwODk5OTk5OTksMS4wNDQ3OTUyMjM1LDAuNjQyMTA5OTQwNSwwLjYyOTM0MDc5OCwwLjcyNDU5ODc2NjUsMC42NDQ4NzE3NjQ0OTk5OTk5LDAuNjMxMjkzNDc2LDEuMDEyNzU4ODQ1LDAuNzA1MTQzNzg1NQoxMSxMeURGUEdOREFFRExQRmssQ3JrLWxpa2UgcHJvdGVpbiAsMS4wLDAuNzc3NjIwMzgzMzMzMzMzNCwwLjg0MzM4MTg3MzY2NjY2NjYsMC44MTQzODczNDM2NjY2NjY3LDAuODU3OTU4OTM4NjY2NjY2NywwLjc4ODIyMjQ3MDMzMzMzMzQsMC45MDc0Mzk3MTgsMC44Mjg4OTI0NDczMzMzMzMzLDAuOTQwMzg4ODQ0NjY2NjY2NSwwLjgyNjU5MDQ5MwoyNyxQY0F5RGtUQUxBTEVWR0RJVmssQ3JrLWxpa2UgcHJvdGVpbiAsMS4wLDAuNjAyNjM4MDI5NSwwLjU1NTkyOTU5NCwwLjUwMDM0ODYwNjUsMC41NTYxMzM0NTgsMC41NTA3OTgyNTM1LDAuNTgxODQ5ODE2NSwwLjQ5MjAyNDQ0NCwwLjUxNDk2MjYxMSwwLjQ0OTY1MzcyNDAwMDAwMDAzCjEyLEx5REZQR05EQUVETFBGa2ssQ3JrLWxpa2UgcHJvdGVpbiAsMS4wLDAuNzUxOTUwMTUyLDAuODE4ODI1MDM5LDAuNzUwODY1NDUxNjY2NjY2NywwLjgyNjMwMTU2MTMzMzMzMzIsMC43ODU1MjY2MjcsMC44NzExODM0ODkzMzMzMzMzLDAuNzgwODk3MzMwNjY2NjY2NiwwLjg5NTQ1MjAxNSwwLjc4MzI1OTkyNDMzMzMzMzIKMjgsRFFRWUVjVkFFSUdFR0F5R2ssQ3ljbGluLWRlcGVuZGVudCBraW5hc2UgNiAsMS4wLDEuMDg3NzE4MDMzLDEuMDM5MzQzMTgyLDEuMDQ2ODE4ODEwNSwxLjA3MDY1NDQ4NywxLjIwMDEyNTI2MSwxLjAyNzc5MjQwNzUsMC45NTkxNTE4NDM0OTk5OTk5LDEuMTQ2NzQ2NDUsMC42NTE3Mzg3NTcwMDAwMDAxCjI5LEdFR1R5R1RWRmssQ3ljbGluLWRlcGVuZGVudC1saWtlIGtpbmFzZSA1ICwxLjAsMS43ODU4NjIyMTMwMDAwMDAxLDAuMzY1MTUzNjc4NSwwLjI2ODQ3OTA4NiwwLjg4NjI1MzY5OCwxLjM1NjUwMTQzNDUwMDAwMDIsMS4xNjA1Njg4NSwxLjE5MDMxMjYyNywwLjMzNTk2OTE1MzUsMC4xMzE1OTU4MDkKMzAsREVMdFlGLEN5c3RhdGluLUIgLDEuMCwwLjkyNzI3Mjk0OTUsMS4wMTk2NTIzMDg1LDAuNzQ3Nzc2MTcyNTAwMDAwMSwwLjg3NTgyMTMyMTUsMC43NzU2MTc5ODgsMC44NDE4ODM2MzU5OTk5OTk5LDAuNzE4NDU2MDcyNSwwLjg3MTg1NzAxMzUwMDAwMDEsMC42MjcwMzI0NTkKMzEsUHlBSElTSVBSLEN5c3RlaW5lLXJpY2ggdGFpbCBwcm90ZWluIDEgLDEuMCwwLjU2MjU2Mzg3NTUsMC40NzAwNjE0ODk1MDAwMDAwNCwwLjMyNDE5NzcyODUsMC4zNzQxOTkyNTc1LDAuMzg0MTc2OTcxNSwwLjM3NjQwODE2OCwwLjMwMTM5NTg3NSwwLjI2ODUyNDM2MjUsMC4xNzQ1ODQ4NAozMixUTlFWSXlMTlBQSUVFY1IsQ3l0b3BsYXNtaWMgZHluZWluIDEgaGVhdnkgY2hhaW4gMSAsMS4wLDAuODAzMjc1NCwxLjAwNDA5Nzc1OSwwLjkwNzUxMDMzNDUsMC44ODkxNDM0OTc5OTk5OTk5LDAuODIzMTE4MzgzNSwwLjkwMTYyMDQ5MjUsMC43MjY4MTczMjEsMC44NzU3NDg4ODc1LDAuODMwMDc4Mzk4NQozMyxWUEx5RVNQUixETkEgZGFtYWdlLWJpbmRpbmcgcHJvdGVpbiAxICwxLjAsMC42NTUxMjY1NzQwMDAwMDAxLDAuNTU4Mjg0NjQ5NSwwLjM3MTM0MjE4NTUsMC43MDkxMTkwNjY1LDAuNTU5NDY3MjE2NSwwLjU0NzIwNDQ0LDAuNjI4NTA5NzY4NTAwMDAwMSwwLjYzNjAxMTY2MTUsMC41MTk2NDMwMzgKMzQsSVFQSEdHR1NOUExFR1RRSExRRFZQeVZNVlIsRGVzbW9nbGVpbi0yICwxLjAsMC42MzcxODMzMzQ1LDAuNzQ3NTc1MjQ0OTk5OTk5OSwwLjU3NDU3MzM0OSwwLjY5MDMzOTIzNzQ5OTk5OTksMC41MjQyMDI3NjE1LDAuNjU4Mzk5NzcwNSwwLjU5MTkyMjMyODUsMC42NTg1NDkzODAwMDAwMDAxLDAuNTg3OTQyMDQyCjM1LHlHREdJUUxUUixEZXNtb3BsYWtpbiAsMS4wLDEuMDA4Mjc1OTYxNDk5OTk5OSwxLjM2NzI1NDU2NDUsMS4wMzA3MzE3NjEsMC45NDE4NDc1NjA1MDAwMDAxLDAuNzU1NTczNTcyMDAwMDAwMSwxLjA3NTcxMjE4NjUwMDAwMDEsMC45MzQxMTQ5MDMsMS45MTg2NjQ5MjY1LDEuMTEzMTQwMTgyCjM2LFZQSXlBTlIsRGlzaW50ZWdyaW4gYW5kIG1ldGFsbG9wcm90ZWluYXNlIGRvbWFpbi1jb250YWluaW5nIHByb3RlaW4gOSAsMS4wLDAuNzk1OTc1MDYxNTAwMDAwMSwwLjYzMDMwNzc3LDAuMzgxODE5ODY0NSwwLjY2Mzc4MzUyOSwwLjU2NDExMjE1OTUsMC40Nzk4MjUzNjcsMC41ODgyNDI0MjQ1LDAuNjg2NDYzNzA2NTAwMDAwMSwwLjQxMTg0OTkyMTAwMDAwMDA2CjM3LFlUeUlRU1IsRHVhbCBzcGVjaWZpY2l0eSB0eXJvc2luZS1waG9zcGhvcnlsYXRpb24tcmVndWxhdGVkIGtpbmFzZSAyICwxLjAsMS4wMDkyNDUyODMsMC43MTQ4MTM2MywwLjU0MzE3NDg5MDUsMS4wMTI1NTMwNTA1LDAuNzE1NjIxNTMsMC44NTE1MDk0NTE1LDAuNjk4NTA1NjE5OTk5OTk5OSwwLjg2ODYwMDA3MDUsMC42MzUzOTEyNjU1CjEzLFlOSUFOdFYsRTMgdWJpcXVpdGluLXByb3RlaW4gbGlnYXNlIFJORjEzICwxLjAsMC42MDgxNDk2NDgzMzMzMzM0LDAuNTc4MDcyMjc3LDAuNTIwNzA0ODY2MzMzMzMzMywwLjY4NjkwNTA4MTY2NjY2NjYsMC41MjYzOTEzNDUzMzMzMzMzLDAuNzQ1NzQ3NTk5NjY2NjY2NiwwLjcyNTA4MTYzLDAuODYyNzA1MjM4MzMzMzMzMiwwLjY4ODg4NzA2MQozOCx5VlRJSURBUEdIUixFbG9uZ2F0aW9uIGZhY3RvciAxLWFscGhhIDEgLDEuMCwwLjc3MTEwNTcwNTQ5OTk5OTksMC44MjY1OTc5NzM1LDAuNzEyNTg1NzAxMDAwMDAwMSwwLjYyMzgxNjM1NjUwMDAwMDEsMC42ODA0ODcxNywwLjY2NzgxMDM2MTUsMC42MDc2NDU4NTgsMC42NDc5NDgwMDQsMC40MjgwMTQyNjc1CjM5LFZQVkd5R0lSLEVsb25nYXRpb24gZmFjdG9yIDEtZGVsdGEgLDEuMCwwLjcwMTQwODAzNDUsMC44MTAyOTI0NTUsMC41NTEyMDk5NjMsMC43NTkzMTIyOTc1LDAuNjEwNDg3NDAzLDAuNzEzMDA1MDA2NSwwLjU5Nzg0MTY1NDUsMC43MTA3NjY1NTQ1LDAuMzkzMjg0MjE1NTAwMDAwMDMKMTQsTHlETlZQRWNBRUVMQUZSLEVuaGFuY2VyIG9mIGZpbGFtZW50YXRpb24gMSAsMS4wLDAuNzM4OTIwNzEyLDAuNjc3OTgxMDU0NjY2NjY2NywwLjcyOTk3MTk5NjAwMDAwMDEsMC44MzM0NDY1ODg2NjY2NjY1LDAuNzYxNTM4ODUzMzMzMzMzMywwLjc0OTIzNDg4MzAwMDAwMDEsMC45MDg2MDkxNDQzMzMzMzM0LDAuOTI1MDE1NzkwMzMzMzMzMywwLjc2MjM3NDg5MzY2NjY2NjcKNDQseURGUFBQTVIsRW5oYW5jZXIgb2YgZmlsYW1lbnRhdGlvbiAxICwxLjAsMS4yODE4ODc4NDgwMDAwMDAyLDEuMDMxMTE2MjU2OTk5OTk5OSwxLjM1NDA1MTQ4NywxLjQ2ODk0NzY2NzUsMS43NDU0ODMxMzMsMS40MTIzMDQ3Njk1LDIuMDU3Nzc1NDk0LDEuNjgwOTA2MTAyNSwwLjkxMTY5NzA2NTUwMDAwMDEKNDUseVFWUE5QUUFBUFIsRW5oYW5jZXIgb2YgZmlsYW1lbnRhdGlvbiAxICwxLjAsMS4xNDg0OTU2MTk1LDEuMTg2ODg2MDc1NSwxLjAwMjUwMDcwMDAwMDAwMDEsMS4yMzkzMzUzOSwxLjIxODYxNTYzOTQ5OTk5OTgsMS4wNDY2NzE4Mjk1LDEuNjUzODQzNTk2NTAwMDAwMiwxLjY4MTQ5NDM3MywxLjI4Mzk2OTIzNjUKNDMsa0R5REZQUFBNUixFbmhhbmNlciBvZiBmaWxhbWVudGF0aW9uIDEgLDEuMCwxLjU1MjA1MTMzNzUsMS40NDE3NzIwNDUsMS45MjU0MjE1NywyLjIwNjk0NTMzMiwyLjU4MDM5MTYyODk5OTk5OTcsMS44NjI2NDg3Mjc0OTk5OTk5LDMuMDU5NDExNzgzNSwyLjQ3MDYyNjM5MjUsMS4yNjY0NzMwMTk1CjQwLEdIR1lWeUVZUFNSLEVuaGFuY2VyIG9mIGZpbGFtZW50YXRpb24gMSAsMS4wLDAuNjA2NTMxMjE0NDk5OTk5OSwwLjYzNDMyNDU5MDUsMC40MzQ0MjI5NDM1LDAuNjk1MTI5MjU5NSwwLjU3MTE2MTAzMTUsMC40ODM0ODAzLDAuNzgwNjE3NjAwNTAwMDAwMSwwLjg3Njg2ODAwNzQ5OTk5OTksMC41NjUyNjUxNTkKNDEsVnlBSVBQU0FjUixFbmhhbmNlciBvZiBmaWxhbWVudGF0aW9uIDEgLDEuMCwwLjkzOTMxOTUzNCwxLjA5OTc3ODIwMiwwLjYzNzA5MDUwMSwxLjEzODQ0ODk0OSwxLjA1MDYwMjM0MywwLjkzNjcwNDg3NzUsMS41MzU1NzY2NDIsMS42Mjg4NDY5NDc1LDAuODI0NDkzODAzCjQyLFdNRERZRHlWSExRR2ssRW5oYW5jZXIgb2YgZmlsYW1lbnRhdGlvbiAxICwxLjAsMS40ODk0MjY5MDY0OTk5OTk5LDEuNzMyNTk5OTk4LDEuODE1NDEwMjYxNSwyLjA2NzU3MTI4NywyLjMyNDcwNjkwNywyLjMwNDg3OTYzMzk5OTk5OTcsMy4xMzkwODMyMjMsMy4yNTE1MTA4MTI1LDEuMzM0OTg0NTQwOTk5OTk5OQo0OCxrUE1NSUlURXlNRU5HQUxEayxFcGhyaW4gdHlwZS1BIHJlY2VwdG9yIDIgLDEuMCwwLjk1ODI4MjgwNDUsMS4zMzM0MzMyNDIsMS41NjU5ODk1NTQwMDAwMDAyLDEuNDczMzAzNDc0NSwxLjQzNTM1OTY4LDEuMzIzMTExMTk1LDEuMzYxNjgxMjU3NSwxLjYzODEzMDg5NzUsMS4zODAxNTQ5NDY0OTk5OTk4CjQ3LFFReVRFSEZNQUFHWVRBSUVrLEVwaHJpbiB0eXBlLUEgcmVjZXB0b3IgMiAsMS4wLDAuODk5NjUwMTI1NSwxLjIwOTg1MDE0MSwwLjk3MDg5NTg2Nzk5OTk5OTksMS4wMTQ5NjQ4OTY1LDAuNzY3ODg0OTIxLDEuMDgxMzE2ODMyLDEuMTc0ODM5MTIwMDAwMDAwMSwxLjM1NDAwMTM1MSwxLjM2NjA3OTIwMTk5OTk5OTkKNDYsTEVERFBFQVR5VFRTR0drSVBJUixFcGhyaW4gdHlwZS1BIHJlY2VwdG9yIDIgLDEuMCwxLjAwNjgyNDU3NjUsMC45MzkyNjI0LDAuOTg0Nzg5Mzc0LDAuNjI3MjQxNDUxNSwwLjkwMjQyNzc1MjUsMC43MzM3MzczODMsMC44NzE2MTk2MDgsMS4wNjQyNzYzNTMsMC44Mjg2NzA4MjQKNDkseUlEUEZUWUVEUE5FQVZSLEVwaHJpbiB0eXBlLUIgcmVjZXB0b3IgMSAsMS4wLDEuMzA5MTUzOTAzNSwwLjg5NDA5NDk3NjAwMDAwMDEsMS4zMzEwMjgzMTMsMC44MzAwNzc4MzA1LDEuMTUyMzA0MDQ3NSwxLjAzNjMyMTA2NjAwMDAwMDIsMC41OTI0MjgyMiwwLjYzNjcyNzYxNTUsMC42NTkwODgzNTI1CjE1LExFRERQU0RQdFlUU1NMR0drLEVwaHJpbiB0eXBlLUIgcmVjZXB0b3IgMyAsMS4wLDEuMDIzOTA4MzQyMzMzMzMzMywxLjE3NzM1MTM0NTMzMzMzMzMsMS4xNDEzNzk1OTU2NjY2NjY2LDAuOTI1ODAzMjYxMDAwMDAwMSwxLjA0NTA0ODgzNywxLjA5Njc0ODU3OCwxLjAwNTU1MzY0MDY2NjY2NjUsMS4yNDUyMDg5Mzk2NjY2NjY4LDEuMTk5MDAyNzQ2MzMzMzMzMwo1MCxURU5OWWNQSHlFayxFcGhyaW4tQjEgLDEuMCwwLjY3NjMwNzE0NjUsMC41Nzk3MzkxOTA1LDAuMzQ3NzM4NDg2LDAuNTY2MzI0NjU5LDAuMzk0OTEwNTM0LDAuMzk0Nzg3NjExNDk5OTk5OTcsMC4zOTI2OTAzNTQ1LDAuNTc1MDMxNTU2MDAwMDAwMSwwLjQwNjk4NTY4NwoxNixTSFFJU0xETlBEeVFRREZGUGssRXBpZGVybWFsIGdyb3d0aCBmYWN0b3IgcmVjZXB0b3IgLDEuMCwwLjA4MTkzNTkxMDY2NjY2NjY3LDAuODYzNzY0OTk3NjY2NjY2NywwLjA3NTA2MTMzODY2NjY2NjY2LDAuMTAyMzU2ODQ3MzMzMzMzMzIsMC4wOTM1MTE3MjI5OTk5OTk5OSwwLjEwNzUyNDk3ODY2NjY2NjY3LDAuMDgwMjU2MzI1MzMzMzMzMzQsMC41MDUxODE2MDIsMC4wODgxMTc1MjQ2NjY2NjY2Nwo1MSxEUFB5VEhUSVFrLEVwaWRlcm1hbCBncm93dGggZmFjdG9yIHJlY2VwdG9yIGtpbmFzZSBzdWJzdHJhdGUgOCAsMS4wLDAuNDU5MDk0MTU0NSwwLjM4MjAwMzA4NiwwLjE3MDAzNjQ3LDAuNDMyNzM5OTE1OTk5OTk5OTUsMC4zNTY2ODM4MzE1MDAwMDAwNSwwLjMyNTAxNzU1MjAwMDAwMDA0LDAuNDM3OTI2NTA5NSwwLjQ4MDAwOTU0NzUsMC4yODY0MTg0NTU1CjUyLExZQUdEeVlSLEVwaXRoZWxpYWwgZGlzY29pZGluIGRvbWFpbi1jb250YWluaW5nIHJlY2VwdG9yIDEgLDEuMCwxLjM4MzQ5NTY1OSwxLjExNDYyOTE4ODUsMC44NDk2NTg5OTk5OTk5OTk5LDEuMzEyMTAxNDM1NSwxLjAyODQ3ODQ3MiwwLjg3OTgwMTM4MTk5OTk5OTksMC44ODM0NjQ0MzY1LDEuMDY1NDcxNTQwNSwwLjk3NTc5MDg4ODUKNTMsUUlQRUdEeUxTWVIsRXJiaW4gLDEuMCwwLjU2MjE0NDcyNjQ5OTk5OTksMC4yODU4MzA1ODU0OTk5OTk5NiwwLjE4NTE2ODQ4MywwLjI1NjcwNjY3MywwLjMyODM5NjU2NzUsMC4yODc1NTk2NzUsMC4yMjQwNzc0MjE5OTk5OTk5NywwLjIyMTE0MTE4NjUsMC4xNzM1MTUwOTI1MDAwMDAwMgo1NCxBTlBTR05MVEVUeVZRRFIsRmlsYW1pbi1BICwxLjAsMC45MTEzMjE0MjA1LDAuODM4MTE2MTE0NSwwLjYyNDA2NTMxOSwwLjc3NjQ4NjQxOCwwLjYyMjU0NzEyOSwwLjcyMjcxMDY5LDAuNTgwNTEwNTc4LDAuNzI4NDE4MzY2MDAwMDAwMSwwLjYxNTg5MjE2NzUKNTYsVEFTR1BHTFNTeUdWUEFTTFBWREZBSURBUixGaWxhbWluLUIgLDEuMCwxLjIxOTgzNTM1OTAwMDAwMDIsMC44ODYxMTY2NjA1LDAuOTMwMDk5MDc5NDk5OTk5OSwxLjEzMzAzODgzMywwLjk5OTY3NzYwODk5OTk5OTksMS4yOTY1OTc0OTc1LDEuMDQ0ODQyNDU1NSwxLjAyNDIyNDU1OTUwMDAwMDEsMS4xODQ4MzA5NDcKNTUsTERJSUROWUR5U0hUVmssRmlsYW1pbi1CICwxLjAsMC43ODQzODA0MTU1LDAuOTk4MjA2MjAxNSwwLjc4NzIxNTk5MjUsMC44MDk2NDU4Nzk0OTk5OTk5LDAuODA5Nzg1Mjg2NDk5OTk5OSwwLjg1NjgwNTY0MywwLjc1NTU5MzM4MjUwMDAwMDEsMC43ODI1NDk0MjA1LDAuNjUyMzMyODQwNQo1NyxJSEREUUR5TEhTTEdrLEZsb3RpbGxpbi0xICwxLjAsMC43NjA3MzA1NzMsMC43NjM3Mjg3MDk1LDAuNzMyODUwNTE2NSwwLjY4NzMyMDQyMSwwLjY4NDQwNDI5LDAuNTE2ODU1ODIzLDAuNTY0NjY4Njc1NDk5OTk5OSwwLjc5OTY1MzU2MzQ5OTk5OTksMC42MTc3NjI1OQo1OCxORGtWeUVOVlRHTFZrLEZvY2FsIGFkaGVzaW9uIGtpbmFzZSAxICwxLjAsMC45NjA2OTQ2Mjc1MDAwMDAxLDAuOTM3MzY1MDMxLDAuODE5MTQ4NjU5LDEuMDA3MTcyNTM4LDEuMDk4OTE1Mzc1LDEuMTkwOTY4ODg3MDAwMDAwMSwwLjk4NTE1MjU2MywwLjg1ODQ1MDQ3MjUsMC43MTA0MTM5NDU1CjU5LFZHeUVUSUxrLEctcHJvdGVpbiBjb3VwbGVkIHJlY2VwdG9yIGZhbWlseSBDIGdyb3VwIDUgbWVtYmVyIEMgLDEuMCwxLjA1MTQ5MTYzNjUsMS4wMzQ2NDIyMywwLjg3Nzk5OTI5ODUsMC44MDA5MjI0Njc1LDEuMTY5MjM3MjgyNTAwMDAwMSwwLjkzMTM0NjI3ODAwMDAwMDEsMi4yMDY1Njg5OCwyLjA4NTk2NjMzMDUsMS44MjA5NDcwMDA1CjE3LHlZUlBURVZERkxRR0RjVGssIkdEUC1tYW5ub3NlIDQsNiBkZWh5ZHJhdGFzZSAiLDEuMCwxLjE5MzEyNjc4NSwxLjI0MTQwNzM3NzMzMzMzMzQsMS4yMzIyNTk4MjEzMzMzMzM2LDEuMTE4MDY5NTIwMzMzMzMzMywxLjI0NzcyNzYzNDY2NjY2NjgsMS4yMzM2OTcyMjA2NjY2NjY4LDAuOTE4MzQ0NTI1MzMzMzMzMiwxLjAyNDQ4MjMwMzMzMzMzMzIsMC42NDA5MzYwODc2NjY2NjY3CjYwLFBER3lFRmssR2FsZWN0aW4tMSAsMS4wLDAuNzc4NTczNjI4NSwwLjc2NDMyOTY5ODUsMC4zNDcxMjI4MzQ1MDAwMDAwMywwLjUzNzQwMDIzOTQ5OTk5OTksMC4zOTkwMTE2MDE1LDAuNDY1MTkxMzI3LDAuMzc3ODM5MTg2OTk5OTk5OTcsMC4zODA2MDExNDM0OTk5OTk5NiwwLjM1OTYyNTcyMjUKMTgsUURHRExUTHlRU05USUxSLEdsdXRhdGhpb25lIFMtdHJhbnNmZXJhc2UgUCAsMS4wLDAuODkyOTkzODE3MDAwMDAwMSwwLjg1MTcyNjQxNjMzMzMzMzMsMC44MTYwMjE3ODE2NjY2NjY2LDAuOTAwMzk2ODE3OTk5OTk5OSwwLjg1MDAyNzA5MTMzMzMzMzMsMC44MzU2MTI5NjE2NjY2NjY3LDAuOTgzMzcyNzA2MzMzMzMzMywxLjAxNzQzODM1NTMzMzMzMzUsMC45NTk2MDc0NzYKNjEsRVBOVlN5SWNTUixHbHljb2dlbiBzeW50aGFzZSBraW5hc2UtMyBhbHBoYSAsMS4wLDEuNDg5OTg5OTY4LDEuMTcyNzA0NTQ4LDAuNzIxMDA3MTE5NTAwMDAwMSwxLjE2NjYxNDA3MjUsMS4xOTk1NDI0NTk1LDEuMTgxNTg0MDY0LDEuMDA1NjM5Nzc1NSwxLjM2NzgxMzYwNjUsMC42ODY4NzI5NDk1MDAwMDAxCjYyLFZ5QVRUVkdUUFlrLEdvbGdpbiBzdWJmYW1pbHkgQSBtZW1iZXIgNCAsMS4wLDAuMjA5NzAxNTEyNTAwMDAwMDIsMC4xNjU5MzA4NzQ5OTk5OTk5OCwwLjA3NjAzMTc1MiwwLjE5MjQ3MDExNTUsMC4xNDA2NzM4NDYsMC4xNjIyNzg0OTY0OTk5OTk5OCwwLjA2ODU4NDg2NSwwLjA2NTQzMjY1NiwwLjA2MDAzMDI4OQo2MyxMVEZ5UixIZWF0IHNob2NrIDcwIGtEYSBwcm90ZWluIDQgLDEuMCwwLjkyODIyODM5MjUsMC45NDA2ODIxMjksMC44NDU0MjEzOCwwLjgwNjUxNzg1MSwwLjgxMzY4NTA0NzAwMDAwMDEsMC44NTc1NjQ2NDI1MDAwMDAxLDAuNzMzMDYwNjgwNSwwLjczODc4MDM5MSwwLjcyMTg1NjgxODUKNjQsVFBTeVZBRlREVEVSLEhlYXQgc2hvY2sgY29nbmF0ZSA3MSBrRGEgcHJvdGVpbiAsMS4wLDAuOTI3NTYxODUzNSwwLjgzNDEwMTA3NCwwLjU1NDkzMDUzOCwwLjY1MzAwODM2NywwLjU1MTA4MzM2ODUwMDAwMDEsMC41NDU0MzM4NTEsMC41MDczOTk5MTA5OTk5OTk5LDAuNTY1NTk4NzYsMC40OTE3NzYwOTE0OTk5OTk5Ngo2NSxJTEhMa0VEUVRFeUxFRVIsSGVhdCBzaG9jayBwcm90ZWluIEhTUCA5MC1hbHBoYSAsMS4wLDAuODU1OTUwNTkzLDAuOTM1MDIyMzUzNSwwLjk3Njg1MzAxMzUsMC44MDQ3MzM3MzUsMC45MDkyMTIxMzM1MDAwMDAxLDAuOTIyMzU1OTM1MDAwMDAwMSwwLjg3MzIyMjg1NjUsMC42MDQzOTMzODc1LDAuNDIxNzkxMzY4NQo2NixJeVlJVEdFVGssSGVhdCBzaG9jayBwcm90ZWluIEhTUCA5MC1hbHBoYSAsMS4wLDAuNzUzMjYzOTc5LDAuODcwMDQxMTc2OTk5OTk5OSwwLjYyMjQxNTA2ODUwMDAwMDEsMC43MzY1NTAzMzEsMC42OTM1NjMzMTUsMC42OTUyMjQwNzI5OTk5OTk5LDAuNDgyMjM3NzIsMC40NTU5MTY4NzU1MDAwMDAwNCwwLjQ0NDQ3NzgzNgo2NyxWVFNQY2NJVlRTVHlHV1RBTk1FUixIZWF0IHNob2NrIHByb3RlaW4gSFNQIDkwLWFscGhhICwxLjAsMC41ODMzOTIxMTg1MDAwMDAxLDAuNzcxMDQzNTM1LDAuNzM1MTE4ODA4MDAwMDAwMSwwLjg5OTk4NDk4MTUwMDAwMDEsMC42Njk5OTQwNjU5OTk5OTk5LDAuNjgwNjc4ODgsMC41OTczNTQ3Njk1LDAuODE3MzI5NzAyNDk5OTk5OSwwLjczOTE1MDQ3OTAwMDAwMDEKNjgseUVTTFREUFNrTERTR2ssSGVhdCBzaG9jayBwcm90ZWluIEhTUCA5MC1hbHBoYSAsMS4wLDAuNzkxNjU3NDgyNSwwLjgxNTAzODQ1NzUsMC40ODA0NjEyOTk1LDAuNzk4NjU4MTU0NSwwLjY1NzQ4OTcwOTUwMDAwMDEsMC43OTI5MzAxMDE1LDAuMzU0NzczODY5NSwwLjM5NDYyMTk0MTUsMC4zMzIzNzExOTM1CjY5LEl5WUlUR0VTayxIZWF0IHNob2NrIHByb3RlaW4gSFNQIDkwLWJldGEgLDEuMCwwLjc1NDQwMjc4OTUwMDAwMDEsMC44ODU2NDA4MTA1LDAuNjM1ODE4NTY0NSwwLjc2MzA3MjY1MzUwMDAwMDEsMC44NzkxOTA1NTUsMC43Mzk0MjE3OSwwLjg0NDEyMDc4MjUsMC45NjI3MjQ2OTksMC44MjQ0Mjg0MDk1MDAwMDAxCjcwLE1ZRGtFeVlTVkhOayxIZXBhdG9jeXRlIGdyb3d0aCBmYWN0b3IgcmVjZXB0b3IgLDEuMCwwLjUxMDMwMjg2OTUsMC4zMjMyNjM2MTUsMC4xMTUxNjM4MTk1LDAuNDMyNzYwODUxMDAwMDAwMDYsMC4zNjcxMzQ1NzIsMC4yOTAzMzk5NTQsMC4xMzU4OTU2MTg0OTk5OTk5OCwwLjE1ODI1NDE3NywwLjEyMjA2NTEzODk5OTk5OTk5CjcxLGtWVlFEVHlRSU1rLEhlcGF0b2N5dGUgZ3Jvd3RoIGZhY3Rvci1yZWd1bGF0ZWQgdHlyb3NpbmUga2luYXNlIHN1YnN0cmF0ZSAsMS4wLDEuMTA3MjQ5MzYzNSwxLjA0NTM4NTQ4MTUsMC44NjYwMzQwMzYwMDAwMDAxLDEuMDc0MDg0NjkzNTAwMDAwMSwxLjMzMDQyMjQzNywxLjAzNzAxMTQ2MzQ5OTk5OTgsMC45ODA0MjE0OTEsMS4yMTQzMjExODA5OTk5OTk5LDAuOTcwODAyNjU2NTAwMDAwMQo3Mix5SUVWRmssSGV0ZXJvZ2VuZW91cyBudWNsZWFyIHJpYm9udWNsZW9wcm90ZWluIEYgLDEuMCwwLjY1MTcxNDcwNDUsMS4xNjIxODA4MTIsMC45NzM1MDE0MTIwMDAwMDAxLDAuNjQ5MjA0OTQ3NDk5OTk5OSwwLjYwMDk1MTI3NDk5OTk5OTksMC44MDQzNzIwNTQ0OTk5OTk5LDAuNzgwNzYzMTkzNSwxLjc2MTk2OTU2NTQ5OTk5OTgsMS42MTU1NTE3OAo3Myx5UlBHVFZBTFIsSGlzdG9uZSBIMy4xICwxLjAsMC42MzU3NjQxNzksMC40NzE2NTIxMjc0OTk5OTk5NiwwLjE4NTIwNTg4NiwwLjI2MzE2OTgyLDAuMjMzMjY1NjMsMC4xODI1NDE4NTQsMC4yNTE4MTIwNjIwMDAwMDAwNiwwLjE5MTIwODkzNDQ5OTk5OTk4LDAuMjAxODY4ODg1NQo3NCxMeUdGR0csSGlzdG9uZSBINCAsMS4wLDAuOTE4NTg0OTY3LDAuNDc5NzAyNjIxMDAwMDAwMDUsMC40MDM4NDQzNDcsMC4yODM3Nzk5OTEsMC4zNTQzNjk4NzI1LDAuMjE2NzQxOTg4LDAuMjg4MTk0MjUwNSwwLjMzNTA3NDEzNDUsMC4yNTA5NzkzODg1Cjc1LEVEQVBWVnlMR1NGUixJbmFjdGl2ZSB0eXJvc2luZS1wcm90ZWluIGtpbmFzZSBQUkFHMSAsMS4wLDAuNjkzODM0MjQwNSwwLjcyNzg3OTYwMzAwMDAwMDEsMC41NTUzNzI0ODQ1LDAuODE0Nzk2Njk1NTAwMDAwMSwwLjY4NjA0MTY3NCwwLjY0MjMwODQ4NCwwLjYzMzc5NDgwMTQ5OTk5OTksMC42NjQxMTk3ODIsMC41MzM2MzQ0ODkKNzYsUFBBeVRNVkdMSE5MRVBSLEluYWN0aXZlIHR5cm9zaW5lLXByb3RlaW4ga2luYXNlIFBSQUcxICwxLjAsMC43MjkwNTg4OTcsMC45NjEyODEwMDA1MDAwMDAxLDAuODc5MTIzOTgwNTAwMDAwMSwwLjgxNjMxMTc1OSwwLjkzNjU0MTE1ODUwMDAwMDEsMC44MjQ5ODg1MTIsMS4xMDE3MTE0Njc1LDEuMTY3MjU2MzQyNSwwLjc5ODk1MDY5NzUKNzcseWtWUERHa1BFTkVGQUZOQUVGayxJbm9yZ2FuaWMgcHlyb3Bob3NwaGF0YXNlICwxLjAsMC44MzUwNDIyNTI1MDAwMDAxLDEuMDQwNjMxNDM1NSwxLjAwODc4NzgzNywwLjg5ODY3MzYxOTQ5OTk5OTksMS4xNDQxMDU3OTA0OTk5OTk4LDEuMDk4MjgxMjA4NSwwLjg5OTk3NDQ1MywwLjk1MzczNzY0MTUsMC44OTQ5OTgyNTk1MDAwMDAxCjc4LGNBWUdBUUdFR1B5U1NMVlNjUixJbnRlZ3JpbiBiZXRhLTQgLDEuMCwxLjE2NjU1NDcwNTk5OTk5OTksMS4wODU0MDM3OTY1LDEuMDQ3Mzk3MTAyNSwxLjI2MDQ5NzIxOTUsMS4yNzQ2NTQyMjMsMS4zMTYxMDY5ODg0OTk5OTk5LDEuMDc1Nzk3MTYwNSwxLjA4NDQ4MTUyNDUwMDAwMDEsMC45NzMxMTAyMzc1Cjc5LFNJU0Z5LEp1cGl0ZXIgbWljcm90dWJ1bGUgYXNzb2NpYXRlZCBob21vbG9nIDIgLDEuMCwwLjczMDY4MzY5NiwwLjUzODMwODUxMiwwLjI5MTYzNzcyNiwwLjM5MTA2MTgyMSwwLjUyODE2ODQ5OCwwLjUxMDAwNTU2OCwwLjQ0NDUyNDQwMiwwLjU1NzMwMTU5MzUsMC4zMzAyOTAxNTgKODAsUVNTU0FTeUdHR0ZHR0dTY1FMR0dHUiwiS2VyYXRpbiwgdHlwZSBJIGN5dG9za2VsZXRhbCAxMyAiLDEuMCwwLjgwODkwNzQ0OCwwLjc2NDE4MDA3NzUsMC41MTEzOTE3OTA1LDAuNTE0NDYzNzMyMDAwMDAwMSwwLjU0NjA0ODEyOSwwLjczMDA1NjQwOCwwLjUzMTYxOTYwOCwwLjU0NTg2ODQ0MDQ5OTk5OTksMC4zNzg2MDU4NzE0OTk5OTk5NwoyMCxURlNUTnlSLCJLZXJhdGluLCB0eXBlIEkgY3l0b3NrZWxldGFsIDE4ICIsMS4wLDAuNTc1MTQ2NDAzMDAwMDAwMSwwLjUxOTYxMTQxMSwwLjMyMjMyNTc0MTY2NjY2NjY3LDAuNTkxNzI1NDQ4NjY2NjY2NywwLjQxMDc3NTMxNywwLjQ2NDIyNDU5NTY2NjY2NjcsMC40ODg0NjQzMywwLjU4ODEyNDg3OTY2NjY2NjYsMC40MDk4NDE1NTcKMTksUXlERUxBUiwiS2VyYXRpbiwgdHlwZSBJIGN5dG9za2VsZXRhbCAxOCAiLDEuMCwwLjUzMjU5OTc4NSwwLjQ4MzM5ODkyNjMzMzMzMzMsMC4yNTI0OTQyNTUzMzMzMzMzNiwwLjMzMjgwMzQ1Mjk5OTk5OTk3LDAuMjUzMDU1ODE5MzMzMzMzMywwLjI1OTI1MjYyODY2NjY2NjY1LDAuMjcxNTQ2MDc4MzMzMzMzMzMsMC4zMTY4MDM2MzgzMzMzMzMzLDAuMjU1ODg2NTk5CjIxLEFTeUxEaywiS2VyYXRpbiwgdHlwZSBJIGN5dG9za2VsZXRhbCAxOSAiLDEuMCwwLjU5NjQxMjE3MiwwLjU5ODMzMDI1MDk5OTk5OTksMC4zODA1MzA5MTgsMC40NTc3OTY2NjI5OTk5OTk5NCwwLjM4NDY0NzU1MTY2NjY2NjcsMC40Mjk1Nzc5Mzg2NjY2NjY3LDAuMzUxMDkwNzM3LDAuNDQxNDc3NjExMzMzMzMzMzUsMC4zODE4MzAyMTEwMDAwMDAwMwoyMixMTEVHUUVESHlOTkxTQVNrLCJLZXJhdGluLCB0eXBlIEkgY3l0b3NrZWxldGFsIDE5ICIsMS4wLDAuNTU2NjU1OTcxNjY2NjY2NywwLjU4Nzk4MTM4LDAuMzgxNzY2NTI2LDAuNDMzODI3MTcsMC41MTIzODY5MzMsMC41MDA3NDgwMzE2NjY2NjY3LDAuNDYyMjg1MTQwOTk5OTk5OTYsMC41MDMzMzgxMzIsMC40MzQ1MDYzNDgKMjMsWVNIeVlUVElRRExSLCJLZXJhdGluLCB0eXBlIEkgY3l0b3NrZWxldGFsIDE5ICIsMS4wLDAuNzY2Njc2MDg4NjY2NjY2NywwLjg3OTg3NzQ5MjMzMzMzMzMsMC43MjIxOTMyNTk2NjY2NjY3LDAuNzIwNjM3NDIsMC42ODMwNTMyNzI2NjY2NjY3LDAuNzkyMjY4NTQ0MzMzMzMzNCwwLjc3NDIzNTI2MSwwLjkxNTMwNzc1NDY2NjY2NjcsMC44MDUwOTYzMDQ2NjY2NjY3CjgyLFZEQUF5TVNrLCJLZXJhdGluLCB0eXBlIElJIGN5dG9za2VsZXRhbCA3ICIsMS4wLDAuOTE1NzYyMDY2NDk5OTk5OSwwLjgxMTMwOTkyODUsMC45MTM2MjUzMzQ1LDAuOTE3MzE2NjIsMC45NzA0NDY1NDY1MDAwMDAxLDAuOTYyMjA1NTQwNTAwMDAwMSwxLjEzNTU1MjQ2NzUsMS4yOTcyODUxNzg1MDAwMDAxLDEuMjI3NDEzNDIzNQo4MSxBeUdHUFZHQUdJUiwiS2VyYXRpbiwgdHlwZSBJSSBjeXRvc2tlbGV0YWwgNyAiLDEuMCwwLjYxOTQyODM0MDk5OTk5OTksMC42ODMwMzMwMzI1LDAuMzI3NTA4NTYzNDk5OTk5OTYsMC41NzAxOTg3NTMsMC40NDE5NDI2NjcsMC40NzcwODc1LDAuNDY4MTg5MDg2NSwwLjgwOTAzNjY0NDk5OTk5OTksMC40MTg3NzE2MzQ1CjgzLEx5RUVFSVIsIktlcmF0aW4sIHR5cGUgSUkgY3l0b3NrZWxldGFsIDggIiwxLjAsMC42MTk3MDc1NzQ1LDAuNjE5MjMwMjU2LDAuMjY2MjMyOTMzLDAuMzQ5MTA0NzYsMC4zMTk4OTI2ODE1MDAwMDAwNSwwLjM1NzQwMzcxMiwwLjM1Nzc0NjE1NjAwMDAwMDA0LDAuMzM5ODIzNTI1NSwwLjI2Njk2NDI1NQo4NCxWREVBeU1Oa1ZFTEVTUiwiS2VyYXRpbiwgdHlwZSBJSSBjeXRvc2tlbGV0YWwgOCAiLDEuMCwxLjA1NzQ0MTU0NzUsMS4wMjk4OTIzMTYsMS4xNTk0MzI0MDYsMS4xNzQ4MzQ1NzksMS4yMDE4MTU2MjUsMS4yMTUzNTc5NTY1MDAwMDAxLDEuMTcxODgxMTE1MDAwMDAwMSwxLjEyNDQ3NDUxNjUsMS4xMDQ2ODU3MjE1Cjg1LHlFRUxRU0xBR2ssIktlcmF0aW4sIHR5cGUgSUkgY3l0b3NrZWxldGFsIDggIiwxLjAsMC41MzIwODk5NDIsMC41NzU3ODg1NjE1LDAuMjI0ODYwMTExNTAwMDAwMDIsMC4zNTA2MTg1NDEsMC4yODg3MjMzOTk5OTk5OTk5NiwwLjM2MTAwMTIxNzk5OTk5OTk2LDAuMjc2MjYwNTU5LDAuMzc2MzYyMzA4LDAuMjkyOTE5NDI5NQo4NixWTHlBRFlSLEtpbiBvZiBJUlJFLWxpa2UgcHJvdGVpbiAxICwxLjAsMC44MDc2MjA5MSwwLjgwMjMzMjQ5MywwLjY3NjU3ODQwMTUsMC42OTc1NTQ1ODYsMC44NDIxMjk0NzY1LDAuNzQ0NTU5Nzg3NTAwMDAwMSwwLjgzODM0MTk0MDAwMDAwMDEsMS4yMzEwMDk4MzA1LDEuMDY4MjM1NDgyNQo4NyxMeVlNRWssTGlwb2x5c2lzLXN0aW11bGF0ZWQgbGlwb3Byb3RlaW4gcmVjZXB0b3IgLDEuMCwwLjUzMzA5ODE3MzUsMC4zODQ0NTAzNjcsMC4yMDU2OTI1Mjc1LDAuNDE0MzUzNDczLDAuMzg3NjQ0NTY3NSwwLjM1MTQxMjM5LDAuMzAwMDU4MTc4LDAuNDg3NjE3Nzg5NSwwLjI2MzEwOTY2MjUKOTAsWUVHWXlBQUdQR1lHR1IsTGlwb21hLXByZWZlcnJlZCBwYXJ0bmVyICwxLjAsMC43MzYyNjQxNTEwMDAwMDAxLDAuNjcyOTAxODI4LDAuNDIxMjI1NDU3LDAuNjQzOTE2MzgwMDAwMDAwMSwwLjU1OTY3OTc2NTUsMC41MTg5MDE1MzgsMC42NTk0MTAzMzY1LDAuNzU3NDQ2MDc1LDAuNTQ1OTI1MzM2Cjg4LERTRFBUeUdRUUdIUE5UV2ssTGlwb21hLXByZWZlcnJlZCBwYXJ0bmVyICwxLjAsMC43NDY0NTUwMDQ1LDAuNzQyOTc2NjA4LDAuNTU5NTMxOTQ4MDAwMDAwMSwwLjczODQwODcyODUwMDAwMDEsMC42OTYwMDQ3ODQ0OTk5OTk5LDAuNzAxNTQwNTQ3NTAwMDAwMSwwLjc3MjMxMzc0NywwLjgyOTU2ODczODUsMC43MzA4ODc2NDM1Cjg5LEdNRHlBWUlQUFBHTFFQRVBHWUdZQVBOUUdSLExpcG9tYS1wcmVmZXJyZWQgcGFydG5lciAsMS4wLDAuNzY1OTAxMzI1NSwwLjczMzY3OTczMDUsMC41Nzc2MDU4MzE1LDAuNTk2Mjk0NDgyNTAwMDAwMSwwLjcxMjQ2MjEyLDAuNTQ5MDgyNTc4NSwwLjU5NTg4MjY4MjUsMC43NzEyNDA4NjE0OTk5OTk5LDAuNjAyOTQ3NjEzCjI0LExJSUVEUHlZR05EU0RGRVRWWVFRY1ZSLExvdyBtb2xlY3VsYXIgd2VpZ2h0IHBob3NwaG90eXJvc2luZSBwcm90ZWluIHBob3NwaGF0YXNlICwxLjAsMC44ODA3NzMzOTk2NjY2NjY2LDAuODYyMjE4MTYxMzMzMzMzMywwLjc5Nzg1Mzk2NDAwMDAwMDEsMS4wOTE5OTE3MjczMzMzMzMzLDAuODI5MTg3ODM5MzMzMzMzMywwLjk0Mzk0ODU4MDAwMDAwMDEsMC43OTM0OTM3NzM2NjY2NjY2LDAuNzk0NjAyNDUwOTk5OTk5OSwwLjY0OTIwMDA5ODY2NjY2NjcKOTEseWtBU0lUQUxFQWssTXlvc2luLTkgLDEuMCwwLjgzNDYwOTA0OSwwLjkwNjY1MDk1NiwwLjY4ODIyNDE5NDQ5OTk5OTksMC44Mjk5MDQxOTIsMC45MTE3ODE1MzU5OTk5OTk5LDAuODE5ODEwNzIxMDAwMDAwMSwwLjY2MTM4MjU2MzUsMC43MjA5OTQ2OTIwMDAwMDAxLDAuNTY4NDYwMDg3MDAwMDAwMQo5MixHQUFQRUVFU0F5VkFHRWtSLE5TRkwxIGNvZmFjdG9yIHA0NyAsMS4wLDAuMzY1MDk1MjYxLDAuMzk0NjAwNzk4NDk5OTk5OTYsMC4xMzM0ODIyMzg1MDAwMDAwMiwwLjMzNDk2NjQ4NzUsMC4yNDc4NDc1NzYsMC4yODg0NzEyODM1LDAuMzI0NDI1MTA2NSwwLjM3NTU0MDUwMDUsMC4yMzE2MDU1NDMKOTMsVkZTU2NTU0VWVkxTR0RERUV5UVIsTmV1cm9ibGFzdCBkaWZmZXJlbnRpYXRpb24tYXNzb2NpYXRlZCBwcm90ZWluIEFITkFLICwxLjAsMC41OTk4NDU3Nzc1LDAuNDQ5Njg1NTc2NSwwLjQ3OTQ2OTQ2NiwwLjUzOTMxMDQ4MjUsMC40NDY3OTExNTksMC41ODY3MTE3MDA1LDAuNTM0MDY2MDk4NSwwLjU2Mzk2MjY0ODUsMC41MTg4ODUzNDc1Cjk0LFZUQXlUVkRWVEdSLE5ldXJvYmxhc3QgZGlmZmVyZW50aWF0aW9uLWFzc29jaWF0ZWQgcHJvdGVpbiBBSE5BSyAsMS4wLDAuNDYxNTY2MDAzLDAuNDU3NjU0NTM3NSwwLjE5MzcxMDg2OSwwLjMyNjMxMzc1OTUsMC4yNzYxOTUwODg1LDAuMjkxMDc1OTczOTk5OTk5OTYsMC4yMDA2OTYzMTcsMC4yMzE3OTE1ODQsMC4xNzM0ODAyNDkKOTUsa0dEeURWVFZQayxOZXVyb2JsYXN0IGRpZmZlcmVudGlhdGlvbi1hc3NvY2lhdGVkIHByb3RlaW4gQUhOQUsgLDEuMCwwLjE5MjY5NjE3MiwwLjIwMDA4OTU3MzUsMC4wOTQ5OTgwMTU1LDAuMTk1NDExMTEyLDAuMTY3Mjg2MDk1LDAuMTk2NzAyODk0NSwwLjA2NTcxMTg1NTUsMC4xMjQyMDE4ODY1LDAuMDU2MDc1MDM4NDk5OTk5OTkKOTYsa0dFeURWVFZQayxOZXVyb2JsYXN0IGRpZmZlcmVudGlhdGlvbi1hc3NvY2lhdGVkIHByb3RlaW4gQUhOQUsgLDEuMCwwLjI0ODU4OTYzODUsMC4xODA1MDMxMzQsMC4wNTYyNjM1NzY5OTk5OTk5OTUsMC4xODEyMDAzODU1LDAuMTIyNDU5MzUyLDAuMTQyMzk4NjUwMDAwMDAwMDIsMC4wNjA0OTU5NzY0OTk5OTk5OSwwLjA3Njc1NjY2OCwwLjA1NzIzNDA5Nwo5NyxMQVFBRUdFUGN5SVIsTm9uLXJlY2VwdG9yIHR5cm9zaW5lLXByb3RlaW4ga2luYXNlIFRZSzIgLDEuMCwxLjI4MTUxODExMzAwMDAwMDIsMC43NzkwNzIwOTEsMC45MDg1NTgzNiwwLjc3OTgxMjI4MDUsMS4wODIxMTcyNTY1LDAuOTg2NzQ4MjA2OTk5OTk5OSwwLjg4MzU5MTkxNjUsMC42ODgwNzQ3MTM1LDAuNjA3NDAxMTUxCjk4LEh5SURMayxOdWNsZW9zaWRlIGRpcGhvc3BoYXRlIGtpbmFzZSBCICwxLjAsMC45MTkwMTY2ODM1LDAuNzY2MzU2NDU4NSwwLjU2NjgxMTIxODUsMC43MTY0NDg0NjcsMC44MDcwNzA0MjgwMDAwMDAxLDAuNjE3NzY0NzMyNSwwLjc4NjU1Nzc1OSwwLjgyMjEyNTcxMDQ5OTk5OTksMC44NjgwMDQ0NTQKOTksSVR5RUVMUixPQ0lBIGRvbWFpbi1jb250YWluaW5nIHByb3RlaW4gMSAsMS4wLDEuMzkwNjY3NTMzLDEuMjUzNTUxODYyMDAwMDAwMSwwLjg0ODkzMTM1LDAuOTgzNjg1NjQ2OTk5OTk5OSwxLjAyNzE5MDQ4NSwwLjcwMTEwMDk3NDUsMi43ODEyMTY4OTc1MDAwMDAyLDMuMzk2NzU5NDY2LDIuNDYyMDc0MzMzMDAwMDAwMwoyNSxZUEVFeUVGQVBrLCJPbGlnb3JpYm9udWNsZWFzZSwgbWl0b2Nob25kcmlhbCAiLDEuMCwwLjc3NjE4NzY2NDMzMzMzMzQsMC45MDU1NDUxNjU2NjY2NjY3LDAuNzQ4MzAzMDk1MzMzMzMzMywwLjc4OTYyNDQ2NDk5OTk5OTgsMC44MzI3OTgxMDAwMDAwMDAxLDAuODQ4Nzg5NjMzMzMzMzMzMywwLjQ1NTY4OTM4NDMzMzMzMzM0LDAuNTY1MTgzODcyNjY2NjY2NywwLjQ2NjM4NjI4NDY2NjY2NjY1CjEwMSxJSFFRUFFTU1NQVnlHU1NBayxQYXhpbGxpbiAsMS4wLDAuODU2MDc0ODMzLDAuOTkwNDEwMzI0LDAuNDY0OTE0NDkzLDAuNzY5Nzg5MTM2LDAuNzM5MTMzOTMyLDAuNzEzNjQyMjM3LDAuODQ4Mzc3MTI1MDAwMDAwMSwwLjk3MTI0NzMyOTAwMDAwMDEsMC43NzQwOTU0MTc0OTk5OTk5CjEwMCxHRUVFSFZ5U0ZQTmtRayxQYXhpbGxpbiAsMS4wLDAuNzkwNDI0MzQ0OTk5OTk5OSwwLjgyMDE4OTAxNjUsMC41OTU5MTEwNjE1LDAuNzM0OTkzNzEyNSwwLjg5NzA3MjE4NTUwMDAwMDEsMC41MTQ4NDI2MTIsMS4zOTU2MjY1MzI1MDAwMDAxLDEuMzM3MjE3NDQ5MDAwMDAwMiwxLjYwNjU0Mjc4OTUwMDAwMDIKMTAyLFlQRHlJUUlBTVBURVNSLFBob3NwaGF0aWR5bGNob2xpbmU6Y2VyYW1pZGUgY2hvbGluZXBob3NwaG90cmFuc2ZlcmFzZSAyICwxLjAsMC41Nzk1MjA3Njk1LDAuODQxOTE0NzEzNSwwLjczNDQxOTkzNiwwLjczMzY0ODQ5MywwLjcwODU3MzY2NCwwLjY1OTc3MTkxNDUwMDAwMDEsMC41MzI2ODYwNjIsMC45MTAyODQ1MTQ1LDAuNjMyODA3MTEwNQoyNixReUxNV0xUUWssUGhvc3BoYXRpZHlsaW5vc2l0b2wgMy1raW5hc2UgcmVndWxhdG9yeSBzdWJ1bml0IGFscGhhICwxLjAsMS4xODI1NzMyMzI2NjY2NjY3LDEuMDc1MDgwNjE4LDEuMTk1NTQ1NzQ4NjY2NjY2NywxLjIzNjkyMDY3MSwxLjMyMDgzMzkzMzY2NjY2NjYsMS4zNjA2MjIxMDEsMC40NDkwNDA0ODEzMzMzMzMzLDAuNDU3MDgwNDc1MzMzMzMzMzUsMC4zNTI0MzE5NzU2NjY2NjY3CjEwMyxZRFJMeUVFWVRSLFBob3NwaGF0aWR5bGlub3NpdG9sIDMta2luYXNlIHJlZ3VsYXRvcnkgc3VidW5pdCBhbHBoYSAsMS4wLDEuMTA3MTgzMzQyNSwwLjkxNDc5Nzk2OTQ5OTk5OTksMC44NjczMzUyOTg1LDEuMTEwMjYwOTcxOTk5OTk5OCwwLjg3NjQ5MzEzNjAwMDAwMDEsMC44NTE2Nzc5NTEsMC40NTkyODQ5NjEwMDAwMDAwNSwwLjUwODQ1ODEwOSwwLjI4NTcyMjA2NjUKMTA0LHlFRVlUUixQaG9zcGhhdGlkeWxpbm9zaXRvbCAzLWtpbmFzZSByZWd1bGF0b3J5IHN1YnVuaXQgYWxwaGEgLDEuMCwwLjkxNjk0Mzg1NTUsMC43OTcwODc1MDM1LDAuNDkwMTkxNzk1NSwwLjkzNjM3NjcxMiwwLjY2MjQ3MjYwNCwwLjY4NjQxNzUwMDQ5OTk5OTksMC4zNzkxODgwMTEsMC40NzAzMjM1NTk1LDAuMjYzMTExNzQ1CjEwNSxSRXlEUUxZRUVZVFIsUGhvc3BoYXRpZHlsaW5vc2l0b2wgMy1raW5hc2UgcmVndWxhdG9yeSBzdWJ1bml0IGJldGEgLDEuMCwwLjk1ODEyMjAzNzUsMS4wMjAwMjM4OTM1MDAwMDAxLDAuNjg2Mzk0OTA2NDk5OTk5OSwxLjE2ODI4MTg0NTUwMDAwMDEsMC44MTA1OTcyMDQ1MDAwMDAxLDAuNzM3MTIyNjUsMC41MjE5NTI4MzA1MDAwMDAxLDAuNjM0Njc1NTg1LDAuNDE0MjcyNzM1CjEwNixBTHlFVFBUR1drLFBob3NwaG9nbHVjb211dGFzZS0xICwxLjAsMS4wMDQ1OTYzNTgwMDAwMDAxLDEuMDAzMTAxMjk2LDEuMDkwMzAzMjAxNDk5OTk5OCwwLjg3NjU1ODEyNCwxLjA0NDY2Mzg5NTk5OTk5OTksMS4xNDE3NzQ3NjUsMC43NDg5NTc3MSwwLjc0MDkwNTI3NywwLjY3OTQxMjMxMjUKMTA3LExOeUZBayxQaG9zcGhvZ2x5Y2VyYXRlIGtpbmFzZSAxICwxLjAsMC45MzI0ODQwMzEsMC44ODcwODIzMjk1LDAuNTgyMzc0MjEwNSwwLjgzMDMzNDQ3MjUsMC43NzM4NjI5NDcsMC42OTM1MTI1OTY1LDAuNTA4NzMyODMsMC42NjI3OTI2NjY1LDAuNDc5NTA4MTYzOTk5OTk5OTYKMTA4LFBTU2NOREx5QVRWayxQaG9zcGhvcHJvdGVpbiBhc3NvY2lhdGVkIHdpdGggZ2x5Y29zcGhpbmdvbGlwaWQtZW5yaWNoZWQgbWljcm9kb21haW5zIDEgLDEuMCwwLjU0ODY1MTU2NjUsMC41MDAyNDMxMTQ0OTk5OTk5LDAuMzA0NzU5NTA0LDAuNDgxNzE4NTksMC40MjU2MjQzMjYsMC40Mzg5NjMyNzQ1LDAuMjY0MDI0NjE1LDAuMzI1MDI0MTYyNSwwLjIwNjQ3NjQxMDk5OTk5OTk3CjEwOSxWREdEUUdMR01FR1B5RVZMayxQaG9zcGhvcHJvdGVpbiBhc3NvY2lhdGVkIHdpdGggZ2x5Y29zcGhpbmdvbGlwaWQtZW5yaWNoZWQgbWljcm9kb21haW5zIDEgLDEuMCwwLjk2OTI2NzM4MDUsMC45MDQwMzk3OTcsMS4xMzUxNzU1MjgsMS4wMzE1MjMyOTEsMS4yNzg1MDE1NDYsMS4wMDQxNTk0NTI1MDAwMDAyLDAuNzk2MjEyMDQxLDAuODE1NTE5MTg0NSwwLjQ5Nzc3MjQyNDUKMjcsRUZBRXlBU1ZEUixQaG9zcGhvcHJvdGVpbiBhc3NvY2lhdGVkIHdpdGggZ2x5Y29zcGhpbmdvbGlwaWQtZW5yaWNoZWQgbWljcm9kb21haW5zIDEgLDEuMCwwLjY3OTQzNzYwODMzMzMzMzIsMC42NzU3NjE1NDYzMzMzMzMzLDAuNDM2MzcwMzIwNjY2NjY2NywwLjY0NDcyODE2MDMzMzMzMzQsMC41OTAwMTgwNjkzMzMzMzMzLDAuNjA1NjgwNDI5OTk5OTk5OSwwLjQwNjMwMDA0MDMzMzMzMzMsMC40NzgyNzM1MjQsMC4zNTI5OTg5NzczMzMzMzMzNQoxMTAseUxWRUZSLFByb3RlYXNvbWFsIHViaXF1aXRpbiByZWNlcHRvciBBRFJNMSAsMS4wLDAuNjYzOTE0MjI3LDAuNzMzMTkwNjcxNTAwMDAwMSwwLjU4ODYzODgzNiwwLjY1MDU2OTI2NCwwLjY4ODA3Mzg3MywwLjY3NzUwNTI0NiwwLjU4MjE5ODI2LDAuNzI4OTY2ODA1NSwwLjU5NzkyMTE1MgoxMTEseWtZR1lFSVBWRE1MY2ssUHJvdGVhc29tZSBzdWJ1bml0IGFscGhhIHR5cGUtNiAsMS4wLDEuMDM5Mjk0MjE1NSwxLjAwNjQ0NzA3MiwxLjE5NjI5NTA2NDUwMDAwMDEsMS4wOTU1MjkwOTYsMS4xOTMyMjI3MDU1LDEuMTk1NTI0MzE0NSwwLjc0ODIzOTM4NCwwLjg0NjA3MzczNjUsMC43NjQ1OTc1NzYwMDAwMDAxCjExMix5WVRQVElTUixQcm90ZWFzb21lIHN1YnVuaXQgYmV0YSB0eXBlLTIgLDEuMCwwLjkwMDY5Mjg5MjUsMC44MDk2MzQyNDY0OTk5OTk5LDAuNTA4NDQ0ODA5NSwwLjk3MDU2NTE4MDUsMC43MDcwNTc0MzgwMDAwMDAxLDAuNzM3OTQ0MTI5NSwwLjYzNDU3MDQyNzQ5OTk5OTksMC43MzU3Njk4NzksMC41NDQ1OTA3MTIKMjksSUV5SUVBUixQcm90ZWluIEJSSUNLMSAsMS4wLDAuNzIyNzQ2NzQ5MzMzMzMzNCwwLjcxMzM2NzM1NTY2NjY2NjYsMC40ODg4MjkzNDQzMzMzMzMzNiwwLjY0NjYxODUwNSwwLjYzNjkwMzUyNDMzMzMzMzQsMC42MDE3MjU5NjI2NjY2NjY3LDAuNTQ0NjAyMzk1MzMzMzMzMywwLjY4MDE5NjUyNDY2NjY2NjcsMC41NDAxMjI1MDkzMzMzMzM0CjI4LEV5SUVBUixQcm90ZWluIEJSSUNLMSAsMS4wLDAuODUxNTY1ODc0MzMzMzMzMywwLjg0MzA1NTI1NjAwMDAwMDEsMC41NTQxNTU0NjkzMzMzMzM0LDAuODQ2Mjg4NzE2MzMzMzMzMSwwLjcwNjE0NTY2NiwwLjcyNjU1NTQ1MDMzMzMzMzIsMC42NDEwNDI1MTAzMzMzMzM0LDAuNzcxNTE3NzIwMzMzMzMzMywwLjYxMjQyOTI2NTMzMzMzMzMKMTEzLEV5RkFJayxQcm90ZWluIGtpbmFzZSBDIGRlbHRhIHR5cGUgLDEuMCwxLjYyMzIwNDI2MDUsMS4zMzQ5Mjc4NTgsMC45NjQ3NTgyOTY5OTk5OTk5LDEuMTUzODI1MjE2NSwxLjI5ODI2Mjc3ODUsMS41MjczMzcyMTE1MDAwMDAxLDEuMzc2MTQzNzA1LDEuNjI4ODkxNDA3OTk5OTk5OSwwLjYxNTcxOTM1OTUKMTE0LFJHRXlGQUlrLFByb3RlaW4ga2luYXNlIEMgZGVsdGEgdHlwZSAsMS4wLDEuNDY1NTcwMzUxNSwxLjIwODQ5MTg0ODUsMS4xMDEwMzYwNzk1LDEuMTg2MTk0Mzc5NSwxLjI2OTQxNzA4MDk5OTk5OTgsMS4wODE2MDE2NiwxLjA3NTQ1NzIwNiwxLjIyNjU4NjMwNTUsMC43MDM4NDM5MTUKMTE1LFROUEZZTnRNLFByb3RlaW4gcGhvc3BoYXRhc2UgU2xpbmdzaG90IGhvbW9sb2cgMiAsMS4wLDEuMTkxOTI3NTMxNSwwLjk2Mzc3NTMwNTQ5OTk5OTksMS4yMTcyODUxMDk1MDAwMDAxLDEuMzc3MDIxNjY5NSwxLjM2MjMzNTg4MiwxLjQxOTI3MTYyMzUsMS41NjI1NTQwMjYsMS42NjMyMjAwMzE1LDEuNTcwMzk5MTYKMTE2LEFURVNGQVNEUElMeVJQVkFWQUxEVGssUHlydXZhdGUga2luYXNlIFBLTSAsMS4wLDAuOTEyMDM5MDUxLDAuODg3NjkwNDgwOTk5OTk5OSwwLjgwMTAzMDkwMywwLjcyNDk4MTY5NiwwLjgxNDMyMDQ2MTQ5OTk5OTksMC45ODU2MjQ4NjA1MDAwMDAxLDAuODI5MTc4NjA1MDAwMDAwMSwxLjIwMTc3MjY4NzUsMS4wOTEwMDUzMjE1CjExNyxEeVBMRUFWUixQeXJ1dmF0ZSBraW5hc2UgUEtNICwxLjAsMC43NzUxNTE3NjYsMC44Mzg0MDIwOTYsMC40NjUyOTY1NywwLjY5OTY1NzQ4OSwwLjYzODg3OTkxMTk5OTk5OTksMC42NTUyOTM2MTM1LDAuNTY4ODc2MzY5OTk5OTk5OSwwLjYxNTMyOTkxNTUsMC40MDQ5NjY2ODc1CjExOCxFR1NEVkFOQVZMREdBRGNJTUxTR0VUQWtHRHlQTEVBVlIsUHlydXZhdGUga2luYXNlIFBLTSAsMS4wLDAuOTc3ODM4NzI0LDEuMDMyNjA1NDUsMS4wNTc2MjEwOTIsMS4wNTM3OTI0NjksMS4yMDU2MTM3MzUsMS4xMzI3MTgyMDUsMS4xMTIxMzI0MTEsMS4yMTA1NzQ1MjUsMS4wNDUxOTAwODgKMTE5LHlWRERHTElTTFFWayxQeXJ1dmF0ZSBraW5hc2UgUEtNICwxLjAsMC45MTIzNjc1MDk1LDAuODQ4NTA4NTEwOTk5OTk5OSwxLjAwNjg0NDczNzAwMDAwMDIsMC44NjA0OTE4NDksMC45NTg4MjAzNjUsMS4wMTM5MTIwNzk1LDAuNzA0ODkzNDA5OTk5OTk5OSwwLjg5NDM1OTczMDUwMDAwMDEsMC43NzAyOTUzMjI1CjEyMCxMTHlURVZUUixSYWIgR0RQIGRpc3NvY2lhdGlvbiBpbmhpYml0b3IgYmV0YSAsMS4wLDAuODMwMTQ1MTQ5LDAuOTA0MDM3MDQ3NSwwLjgzNzc4NDQ1MDUsMC45NzI3Mzg5Mzk1MDAwMDAxLDAuODcyMDg5OTk1MDAwMDAwMSwwLjkxNDQ3OTMwNiwwLjc2NDczMTc2ODQ5OTk5OTksMC44ODQzMTU2MDg1LDAuODI2NDQ2MTM5NDk5OTk5OQoxMjEsTE5HQUVQTnlIU0xQU0FSLFJhZ3VsYXRvciBjb21wbGV4IHByb3RlaW4gTEFNVE9SMSAsMS4wLDAuNTE3NzI4MjM4NSwwLjc1MDcyMTQwNSwwLjQwMTQ5MTgzMywwLjQ5NTE1NzQ2OTUsMC41MTgyNjY1MDY1MDAwMDAxLDAuNDc3NDY4OTExOTk5OTk5OTcsMC4zMzY4MDM2MzY1LDAuNjM1MDc5NTM5LDAuMzc0NjkzMjI2CjEyMix5REhMRmssUmFzLXJlbGF0ZWQgcHJvdGVpbiBSYWItMTMgLDEuMCwwLjczNjcwMTIyMTUwMDAwMDEsMC41ODY5NjUwNDY1LDAuMzIyNTA5ODQ2OTk5OTk5OTYsMC44MzkwNjMwNzI5OTk5OTk5LDAuNjYwNDY1NTgyOTk5OTk5OSwxLjYwNjc0NzA4ODUsMC42MTc4NzQwNTM1LDAuNjQ1NDA5NzIyNTAwMDAwMSwwLjUxMTc2MDgzMgoxMjMseURITEZrLFJhcy1yZWxhdGVkIHByb3RlaW4gUmFiLTM1ICwxLjAsMC43MDI4MzkzNywwLjk0NDg0NTYxMjUsMC40NTAyOTYzNDMsMC45NDgxMDMyNzc1LDAuNjg3MDM4ODc4MDAwMDAwMSwxLjEwNjEzNDg2OTUsMC43MTI1OTI4NDYwMDAwMDAxLDAuOTEyMTUyMjA0LDAuNjU0MTU5OTc3NQoxMjQseURZTEZrLFJhcy1yZWxhdGVkIHByb3RlaW4gUmFiLThBICwxLjAsMC45MDUzOTIxNTksMC45MDAyODAzMzA1LDAuODYzNDY5MDQsMC45NTc1OTc0NjEsMC45NDY3NjExNTMsMS4wOTU5NTU3Nzc1LDEuMDMxNDA5MzczNSwwLjk4OTA2NDQ4NTAwMDAwMDEsMC45ODA4NDYxMjIKMTI1LHlUVlFERVNIU0VXVlNjVlIsUmVjZXB0b3Igb2YgYWN0aXZhdGVkIHByb3RlaW4gQyBraW5hc2UgMSAsMS4wLDAuOTAzNzI2MjE3NSwwLjkzNDg0MjI2MjQ5OTk5OTksMC44MDM0MDM4MjMsMC43ODQyNzk3OSwwLjk0NjgyNzcsMC45MDczMTg4NTU1LDAuOTI0MTU1OTExNSwwLjY3MzY4NjY0LDAuNTYyMjk4MTA0NQozMCxMRUFURFNBRkROUER5V0hTUixSZWNlcHRvciB0eXJvc2luZS1wcm90ZWluIGtpbmFzZSBlcmJCLTMgLDEuMCwwLjQ4OTA3NzM1MzY2NjY2NjY2LDEuMTExNzU2NzU4LDAuNDMyOTM1ODEyNjY2NjY2NywwLjUyMjY4NjY4MywwLjM2Njk4MTExNDAwMDAwMDA1LDAuMzcyMDYyNjU0MDAwMDAwMDUsMC40NDc2MDk5NTczMzMzMzMzNiwxLjM0MDcxOTIyMTY2NjY2NjYsMC40MTY4ODA1NjU2NjY2NjY3CjEyNixGUUdQR0hRQVBIVkh5QVIsUmVjZXB0b3IgdHlyb3NpbmUtcHJvdGVpbiBraW5hc2UgZXJiQi0zICwxLjAsMC40MDE1ODc3OSwwLjQ0NjIzMzc5NjUwMDAwMDA2LDAuMTU4NDQ0NTA1NSwwLjI2NjA1Nzc1OSwwLjI1NTAwODEwNzk5OTk5OTk2LDAuMjAwNzY3OTAyNDk5OTk5OTgsMC4yMDg2Njk0MTc1LDAuMjk0MzQxMTQyNSwwLjIzNzk5Mzk3NjQ5OTk5OTk4CjEyNyxMY0VHVEVTUHlRVEdRTEhQQUlSLFJlY2VwdG9yLXR5cGUgdHlyb3NpbmUtcHJvdGVpbiBwaG9zcGhhdGFzZSBrYXBwYSAsMS4wLDAuODcyMTI4MzQzNSwwLjkxNjc0Njk3Njk5OTk5OTksMC42ODM1Mjc1NzY1MDAwMDAxLDAuNjIwNTQ2ODUxNSwwLjU4ODcxNTY0MzUsMC42MTk5MDAyMTM1LDAuNTc5NDU4ODE2NSwwLjc2Nzk2MzY1NTk5OTk5OTksMC42NDM5NzE1NzI0OTk5OTk5CjEyOCx5R05JSUFZREhTUixSZWNlcHRvci10eXBlIHR5cm9zaW5lLXByb3RlaW4gcGhvc3BoYXRhc2Uga2FwcGEgLDEuMCwwLjQ3ODM5NjQwNSwwLjUyMjE2MDM1ODUsMC4zNjYwMjc0NTc1LDAuNTE1OTc0MDk3NSwwLjQzNjcyNTA1OCwwLjUwNzYzMTE3MywwLjQwODQxNzI5NDQ5OTk5OTk3LDAuNDQ4NzgzODM4OTk5OTk5OTYsMC4zODY2NjA1NTg5OTk5OTk5NgozMSxZU1FFRUlUUUdGRUVUR0R0TFlBUFlTVEhGUUxRTlFQUFFrLFJldGlub2ljIGFjaWQtaW5kdWNlZCBwcm90ZWluIDMgLDEuMCwwLjg3OTA4MTEzMjY2NjY2NjgsMC44NTk3MTIxMDEzMzMzMzMzLDAuODA0NTUxMjQ2MzMzMzMzMywwLjc3MTY3NjUyODY2NjY2NjcsMC45MTg5NzAyNDU2NjY2NjY3LDAuODA5NTI2MzIzNjY2NjY2OCwxLjE1MTkzOTEwODY2NjY2NjYsMS4yNDMzNDUzNTYzMzMzMzMyLDEuMTk3MDk2MTM2NjY2NjY2NgoxMjksR2tHRVNBR3lNRVBZRUFRUixTSDIgZG9tYWluLWNvbnRhaW5pbmcgYWRhcHRlciBwcm90ZWluIEIgLDEuMCwwLjkyMTk1MDg5MTk5OTk5OTksMC43Nzc0NzY1NDA1MDAwMDAxLDAuNDA0NDQ4NzM2LDEuMzk5MzY5NDM0LDEuMDI2MDY4MjAzNSwwLjkzMjcwMTcwMjUsMS4xMTI4OTU1MDksMS40NTcxMDA1ODUsMC41NTc4NzI0OQoxMzAsUFFERERSUEFERXlEUVBXRVdOUixTSDIgZG9tYWluLWNvbnRhaW5pbmcgYWRhcHRlciBwcm90ZWluIEIgLDEuMCwwLjY1MjczNTgwMTUsMC40NTAzOTY1OTgsMC4zODUxMzgyOCwwLjI4ODU3MDE5NzQ5OTk5OTk2LDAuMzgyNDI5MjI4NDk5OTk5OTQsMC4zNDY1NzIzOTg1LDAuMjY5ODE1NjEyNDk5OTk5OTcsMC4zNDY2Mjc0OTk1LDAuMzM4NjExMDE3NQozMixMRkREUFN5Vk5WUU5MRGssU0hDLXRyYW5zZm9ybWluZyBwcm90ZWluIDEgLDEuMCwwLjA3NDg2NDEyMDMzMzMzMzM0LDAuNDQ0NjYyMTM5MzMzMzMzMjYsMC4wNTQwNTYwOTI5OTk5OTk5OSwwLjEyMzMyNTE4MjY2NjY2NjY2LDAuMDU0MTgyMDAxNjY2NjY2NjcsMC4wNzkyMDM2NzU2NjY2NjY2NSwwLjA2ODUwMDc2MywwLjQ4ODUxMjc4NzAwMDAwMDA2LDAuMDg1MzY2MzQ1NjY2NjY2NjYKMTMxLEFBTHlQSExQUEVBRFBSLFNlcXVlc3Rvc29tZS0xICwxLjAsMC42NDgzODU0MTY1LDAuNzE3Nzc2MTQyNSwwLjU4ODAzMTYzMjUsMC43NzcyMDAzMzc1MDAwMDAxLDAuNjU5MTIyNjIzNTAwMDAwMSwwLjY5MjU5NDcwNDUsMC43MjkzNTQ3MTcsMC43NDA2OTQxMDksMC41NTM4ODYzODgKMTMyLEZHeVlHUExSLFNlcmluZS9hcmdpbmluZS1yaWNoIHNwbGljaW5nIGZhY3RvciAzICwxLjAsMC44ODA2ODU5ODE1LDAuODcyNjk0NzExNSwwLjgwNTU0MjI3MzAwMDAwMDEsMC43NzA4NDYxMDc0OTk5OTk5LDAuNzY4MjA1NDk1NSwwLjc4NjQ5MDU4MiwwLjY5MDMyMDg5NTUsMC43ODI1NjI0OTcsMC43MTUzODIwODEKMTMzLEZTeVlHUExSLFNlcmluZS9hcmdpbmluZS1yaWNoIHNwbGljaW5nIGZhY3RvciA3ICwxLjAsMC44Nzc3MjQwODg0OTk5OTk5LDAuODk2MjEyMDU4NSwwLjgxNDYzODUzMTUsMC44MDUwMjMwMjMwMDAwMDAxLDAuODA3OTgyMjE2LDAuODYwMjM2NTg0NSwwLjg1MDI2ODIzNiwwLjkyNDkxMTU4MywwLjg4Njg4MzAxCjEzNCxzUEhZRlNQRlJQWSxTZXJpbmUvYXJnaW5pbmUtcmljaCBzcGxpY2luZyBmYWN0b3IgOSAsMS4wLDEuMDUxNjU1NDU2NSwxLjAwNDM2NjY4NTUsMC45MzU0NzUzMzA5OTk5OTk5LDAuOTUzNjIyNzg4NDk5OTk5OSwxLjAzMTI4MzczLDAuOTk0NjgxMjM3NSwxLjA0ODYxODkxNDAwMDAwMDIsMC45MzU1NjQzNTc1LDAuOTcwMzM2OTYzCjEzNSxjREZHU0FTSFZBRE5ESVRQeUxWU1IsU2VyaW5lL3RocmVvbmluZS1wcm90ZWluIGtpbmFzZSBQUlA0IGhvbW9sb2cgLDEuMCwxLjAzNTQ5OTE3MywxLjA5MzUyMzQzOTUsMS4xNjQ4ODE0MTgwMDAwMDAyLDEuMDc0OTQzNzg0OTk5OTk5OSwxLjI0MjMzNDk5NywxLjMzMDY5MDc2MiwxLjI3NTg1MjkwMjUsMS41MTUxMzc1ODQ0OTk5OTk3LDAuOTc5OTc2MzY5MDAwMDAwMQoxMzYsWVRMQURFRUVEUExJeVFIUixTZXJpbmUvdGhyZW9uaW5lLXByb3RlaW4ga2luYXNlIG1UT1IgLDEuMCwwLjg4Mzg1OTQ5NSwwLjg4ODY0OTEwNTk5OTk5OTksMC43MTI2OTU0NzA1LDEuMTIxMzM3Mjc4NSwwLjc1MzExOTgwMjUsMC45MTY5ODc3ODc1MDAwMDAxLDAuNjM1MDUxMjMwNSwwLjk0MDI0NjQxNzk5OTk5OTksMC44MDc2MTk3OTEKMTM3LEl5REZFQUFFRE5FTFRGayxTaWduYWwgdHJhbnNkdWNpbmcgYWRhcHRlciBtb2xlY3VsZSAxICwxLjAsMC45MzY5NTI4ODc0OTk5OTk5LDAuODUwMzAxNTg2NSwwLjgwMTQwOTAyNzk5OTk5OTksMS4wMzAwMzU5ODIsMS4wNDI4MjEyNjg1LDEuMTY4NzQyNTY5LDEuMTczMDg4MDY5LDAuODQ3Mjk5NzQ1NSwwLjgyMzM5NjAzMzk5OTk5OTkKMzMsSVZWeVRHRFIsU29kaXVtL3BvdGFzc2l1bS10cmFuc3BvcnRpbmcgQVRQYXNlIHN1YnVuaXQgYWxwaGEtMSAsMS4wLDEuMDAyOTM3MDcwMzMzMzMzMywwLjcxMTQ4MDAzNTk5OTk5OTksMC40NDczOTg1MTU2NjY2NjY2NiwwLjY1MDIwNTM1OTY2NjY2NjcsMC42NDg2NTkzNTgwMDAwMDAxLDAuNTc1MjM1ODA4MDAwMDAwMSwwLjM4NTU4Njg2MzY2NjY2NjY3LDAuMzkyMjUyNTUyNjY2NjY2NywwLjMwMDcxOTI3MTMzMzMzMzMKMzQsVkVFTHlIU0xMRUxHRWssIlNwZWN0cmluIGFscGhhIGNoYWluLCBub24tZXJ5dGhyb2N5dGljIDEgIiwxLjAsMC44Nzk1NjA0NDgzMzMzMzM0LDAuNzg3OTAzNjc0MzMzMzMzMywwLjc0Nzk1NTU2NDY2NjY2NjYsMC43OTQ4MjM5ODEsMC44MjI2NzU5NTYsMC44MTE3MjMxNTE5OTk5OTk5LDAuNzkyOTMyNTQ2OTk5OTk5OSwwLjcwNzA4MTk2NzMzMzMzMzQsMC43Njg1MTQ0NDkKMTM4LElMU1NBRHlWRVIsU3ludGF4aW4tNCAsMS4wLDAuNTE1NzU2MDEzNSwxLjI0ODk1NDA5NDUwMDAwMDIsMC40OTIwODU5Mjg1LDAuNTE5MjU4Mzc4LDAuNDU0MTkwMzA4NSwwLjU3ODgyNjUwMSwwLjM4OTc5MzAyOSwwLjk2NDM3OTY3MTAwMDAwMDEsMC40NzQ2NzE0MjM0OTk5OTk5NwoxMzksUURWeVZFTFNISWssVFJJTyBhbmQgRi1hY3Rpbi1iaW5kaW5nIHByb3RlaW4gLDEuMCwwLjQzNjIxMjU0OCwwLjY3MDc5MTcyOCwwLjQwNDY1MDM3MzUsMC40ODY2NTg2OTMsMC40Mzc2MjE4OTQsMC41MjI3MjA3ODYsMC40MDAyNzEwMTg5OTk5OTk5NSwwLjQ3MjE5OTc3MjUsMC4zMTQ5NDUxMDgKMTQwLE1RRkVQU1RNVnlEQWNSLFRhbGluLTEgLDEuMCwwLjg2NTMyNjExMDUwMDAwMDEsMC44NjI5NjgxOTc5OTk5OTk5LDAuOTExNjU5Nzc5NTAwMDAwMSwxLjAyNjU2MDUwMDUsMC44MDc3MzUxOTk1LDAuOTgwNTA2Nzk2LDAuODY0MjE3NDY3LDEuMTc0ODIwNjI3LDAuOTQyODQxMDgzCjE0MSxHU0xQTnlBVElOR2ssVGVuc2luLTEgLDEuMCwwLjc0MzU2NjY3ODAwMDAwMDEsMC42MjI2NzgxODQsMC4zNjYxNzE2MjYsMC42NjI5NzIzOTk1LDAuNzEwODE5OTEwNSwwLjUyMTg2NzE5MiwwLjgwNzA2MTMwNzQ5OTk5OTksMC43NTc1NDIyNjksMC4zNTAyODEzNzA0OTk5OTk5NwoxNDIsWVNQeURZUVBjTEFHUE5RREZIU2ssVGVuc2luLTEgLDEuMCwwLjgzODQyMTY3NCwwLjg3NzU4ODcwOTQ5OTk5OTksMC43MDYyMTE0NTcsMC44MjI5OTQyMDEsMC41ODE2MzI3MTIsMC44ODE1NDY4ODc1LDAuNzgwMDA1NDMsMS4wNzM2MTE5NywwLjc1OTEzMTc0OTUwMDAwMDEKMzYsU0xHUXlETkRBR0dRTFBGU2ssVGVuc2luLTMgLDEuMCwwLjk0MDMxMTAxODY2NjY2NjcsMC44ODc4NTk3ODMzMzMzMzM0LDAuNzQ1MjExNzQxNjY2NjY2NiwwLjkwMjAwMzk2MjY2NjY2NjYsMC45ODg4ODUyNDg2NjY2NjY2LDEuMDI2NTI5NTc0LDAuODA1NjI3MjgsMC44NTEyODIzNjc2NjY2NjY3LDAuNjE3MzAwNzU1CjM1LExTTEdReUROREFHR1FMUEZTayxUZW5zaW4tMyAsMS4wLDAuOTgxNjU5NTczNjY2NjY2NywwLjkwMTYyNjgxMzMzMzMzMzQsMC43Mjk0MjMyNDI2NjY2NjY2LDAuODQwNTE3MjQwNjY2NjY2NywxLjA0MjM1OTUyNjY2NjY2NjgsMC45ODA1ODA2ODAzMzMzMzM1LDAuNzg4NzQ5MTk0NjY2NjY2NiwwLjg3NDY2ODM0ODY2NjY2NjUsMC41Njk5NTg4NDYKMzcsWUR5RExJSUlHR0dTR0dMQUFBaywiVGhpb3JlZG94aW4gcmVkdWN0YXNlIDEsIGN5dG9wbGFzbWljICIsMS4wLDAuODgzNDE0MDM1LDAuOTgwNDI1MDEyLDAuOTU5ODQwNjY5MDAwMDAwMSwwLjk5NTYwMzkyOTY2NjY2NjcsMS4wMDU3NTIzODk2NjY2NjY3LDEuMDM4MDUzNDM5NjY2NjY2NSwxLjUwMDc4ODc4NCwxLjQ5MDQwNDc1MzMzMzMzMzMsMS40MTA5OTc1MjQzMzMzMzM1CjE0NCxQREl5QVZQSWssVGlnaHQganVuY3Rpb24gcHJvdGVpbiBaTy0yICwxLjAsMC42MDE3Mzg1NiwwLjU0NjA0NjM3NDAwMDAwMDEsMC40NTYyNTk2MTM1LDAuNTQ4MTc3NzI3NDk5OTk5OSwwLjY2OTczMDM3OSwwLjY5MTM3ODU0NTUsMC40NDQ4MjU2NzgwMDAwMDAwNiwwLjQyNjk4OTIwOTAwMDAwMDA0LDAuMzY3MTA4MjYzNQoxNDMsRUlBUWtIUERJeUFWUElrLFRpZ2h0IGp1bmN0aW9uIHByb3RlaW4gWk8tMiAsMS4wLDAuNDk2NDQ5MDE3NTAwMDAwMDMsMC41MjA3NjI4ODUsMC4zOTE1MTQ5NjgsMC40Njg5NzM5MzYsMC41NzQ1ODg1ODg0OTk5OTk5LDAuNTA2MjIzOTc0OTk5OTk5OSwwLjM4Mzc0MDEyODUsMC40MTk1NTQzNTc1MDAwMDAwMywwLjM1MTc2NTMxMjUKMTQ1LEFTUUFHTVRHeUdNUFIsVHJhbnNnZWxpbi0yICwxLjAsMC40NjgxMzc3ODUwMDAwMDAwMywwLjM3NjQwNzgzMiwwLjI3ODk1MDU4NCwwLjYyNTIxMTU2MiwwLjM4MzI0MDMxOTk5OTk5OTk3LDAuNDgxNDE0MjkzNTAwMDAwMDMsMC4zNDk0OTIzMzgsMC40ODA3MjUxOTksMC4yNjI2NDIxMTM1CjE0NixQQXlHTFNSLFRyYW5zZ2VsaW4tMiAsMS4wLDAuMzkzMTY4OTk0MDAwMDAwMDUsMC4zMzMzNTczMDUwMDAwMDAwNSwwLjE1MDM1MjA5OCwwLjI5Mzc3NzgxOCwwLjE5NjU3NDg4LDAuMjU5ODg1NzM4MDAwMDAwMDMsMC4xOTgyNDk0Njc5OTk5OTk5OCwwLjIyOTU5MjE5LDAuMTU4NjQ4MDMKMTQ3LFFFRUFJQVFGUHlWRUZUR1IsVHJhbnNtZW1icmFuZSBwcm90ZWluIDEwNkMgLDEuMCwwLjg5OTg0NjM5MywxLjE2NTEyODI1NCwwLjg2MDUxMTY2NTQ5OTk5OTksMC43ODQ3NjcyMDA1LDAuOTMzNjQ2MDE1LDAuNzQ2NjU3NTExNSwwLjkwNDAyMDcxNTUsMC45NDY1Njk5OTI1LDAuOTI2MDEwMDMyNQoxNDgsRExNeUFrLFR1YnVsaW4gYWxwaGEtMUIgY2hhaW4gLDEuMCwwLjg2ODE0NDY4MzUsMC44MTUyMjI1MTc1MDAwMDAxLDAuNjc3MjUzMTkyLDAuNjIxNjE2Njk1NSwwLjczNDQzMDk1NjUsMC43ODgwODU4OTE1LDAuNzEwNjMyNTk1LDAuNjYyMDcyNDI1NSwwLjU0NDYzMDQ5MDAwMDAwMDEKMTQ5LFRBR0xTREx5LFR1bW9yIHN1c2NlcHRpYmlsaXR5IGdlbmUgMTAxIHByb3RlaW4gLDEuMCwwLjkwNDI3NjYwNzUsMS4wMjI0MTc4NzE1LDAuNjQ3ODI1OTg0LDAuODQ1OTg1MjI2NSwwLjg0MTE0OTkzNDUsMC45MDQwMTYzMDI5OTk5OTk5LDEuOTEyNDc5MTI0LDEuODgyNDI1ODY5NSwxLjA1MzAzODY2NjUKMTUwLEF5UVRJRFNBRUFQQURQRkFWUEVHUixUeXBlLTEgYW5naW90ZW5zaW4gSUkgcmVjZXB0b3ItYXNzb2NpYXRlZCBwcm90ZWluICwxLjAsMC43MjUyMDI5MDk1LDAuOTI1NjU0NzA0NSwwLjU5MDAzNTYzMzAwMDAwMDEsMC43NjI3MzcyNTYsMC42NDgyOTI2MTMsMC44NTU2NDgxODA5OTk5OTk4LDEuMDE2NjU0Nzg2NSwwLjkxMTU0MTMzMiwwLjYxNTc2ODI0NDUKMTUyLGtMRURZRkVURFNTeVNEQU5ORklSLFR5cm9zaW5lLXByb3RlaW4ga2luYXNlIEZSSyAsMS4wLDEuMTE5NjE4MTYyNTAwMDAwMSwxLjA1MjEyOTg2NDUsMS4wMDM5MTA2Nzc1LDAuODk0NDc4MTcxOTk5OTk5OSwxLjIxMDAzMDQzNTk5OTk5OTgsMS4wMDYxNTQ4NTY1LDAuOTI5MDYwODE1NSwxLjEwNzg3Mzg5LDEuMDYwMzY2MDgzCjE1MSxHSHlGVkFMRkRZUUFSLFR5cm9zaW5lLXByb3RlaW4ga2luYXNlIEZSSyAsMS4wLDAuODk2NTc5Nzc4NSwxLjAwMDU0MzA5NDUsMC45NzA4NTYyNTQ1LDAuOTU4NTUyMjQyNDk5OTk5OSwwLjkxMDE5MDIyMSwwLjk1NTYwNTQyODUsMC45NTM2NzQ1MjcsMC44NDEyMzQwNjc1MDAwMDAxLDAuODEwOTYzMDc0CjE1MyxMRE5HR1l5SVNQUixUeXJvc2luZS1wcm90ZWluIGtpbmFzZSBMeW4gLDEuMCwxLjAxMzQ1NjcwOSwxLjAyMjY2NDA2ODUwMDAwMDEsMC45MzIwODUyMjQsMS4wMjcxNDExOTIwMDAwMDAyLDEuMTQzMDI2MTAxOTk5OTk5OSwxLjA3MzQwNjM4NywxLjI4MzkwMTc0NiwxLjIwOTk5NTY2OSwxLjA2MDMyNjQ4Mjk5OTk5OTkKMTU0LFRBUEVBQUx5R1IsVHlyb3NpbmUtcHJvdGVpbiBraW5hc2UgWWVzICwxLjAsMC44MzYyMjY4MzksMS40Mzk0ODM0NjY1LDEuNTc5OTA2NDA3NSwwLjc4OTg3NTc4MywwLjg5NzI1MDcyMDUsMC45NTA1OTk2ODQ1LDAuOTg2NTI2NDc2LDEuNzA1NjM1MTMsMS41OTI4ODkwMTg1MDAwMDAyCjE1NSxJWU5HRHlZUixUeXJvc2luZS1wcm90ZWluIGtpbmFzZSByZWNlcHRvciBVRk8gLDEuMCwwLjk4MjM3ODc0NCwwLjc5NTIwNTgsMC4zMTI0NzI4MzA0OTk5OTk5NywxLjIzMTI4MTg1NywwLjg5NDk4NDE0OTQ5OTk5OTksMC43OTcyNDg1OTE1LDAuMDQxNTEyNTkwNSwwLjA0NjI2MTg4NiwwLjAyOTAwNTczNAoxNTYseUdFVkZFUFRWRVIsVHlyb3NpbmUtcHJvdGVpbiBraW5hc2UgcmVjZXB0b3IgVUZPICwxLjAsMS4wNTIxNTI5OTIsMS42MTc5MzkzMTM1LDEuMTIwMjc1NDgzLDEuMDMzMDY1Njg3NTAwMDAwMiwxLjEwMzAwMTMxNTk5OTk5OTgsMS4xMDk3NDYzMTI1LDAuMTYwNjM1NzYzNSwwLjE3MDY5OTQyMzAwMDAwMDAyLDAuMTMxMTA5OTgwNQoxNTcseUxGVEdMayxVYmlxdWl0aW4gY2FyYm94eWwtdGVybWluYWwgaHlkcm9sYXNlIDE0ICwxLjAsMC44ODYxMDE3ODA1LDAuOTAwNTQ1OTY4LDAuODUwNDE5OTc2LDAuODM3ODUzNDI2NDk5OTk5OSwwLjc4MjQ4NzY5ODUsMC44MzQ2NTg3NDg5OTk5OTk5LDAuNjQwNTcwMTMzLDAuNzczODA4Mjg1NDk5OTk5OSwwLjcwMDQ3OTg1NwoxNTgsR0xTU1BJeUlETFIsVXJpZGluZSA1Jy1tb25vcGhvc3BoYXRlIHN5bnRoYXNlICwxLjAsMC44NTE0ODEyMjE5OTk5OTk5LDAuOTc2MzA1MTExMDAwMDAwMSwwLjk5MTAyNjMwMjQ5OTk5OTksMC43OTUxMzAxMDEsMC43Nzc4NjY1Mzc1LDAuODkyNzI2ODk0NSwwLjkwMzgxNDU1MjUwMDAwMDEsMC44NjcxNjIwNDI1LDAuOTg3NjQ2MzAyNQozOCx5QUdTQUxRWUVEVlNUQVZRTkxRayxWYWN1b2xhciBwcm90ZWluIHNvcnRpbmctYXNzb2NpYXRlZCBwcm90ZWluIFZUQTEgaG9tb2xvZyAsMS4wLDAuNTY5Njk5NjMyMzMzMzMzMywwLjYwODQ5NTAzNTMzMzMzMzMsMC41MjQ3NDE2MTU2NjY2NjY3LDAuNjE3MDM0NzY0NjY2NjY2NiwwLjU2MDMzODMwMTk5OTk5OTksMC42NDAzNjgyNjA2NjY2NjY2LDAuNTU2MDQ2MDA1NjY2NjY2NywwLjYxNDIzMzE0NzAwMDAwMDEsMC42MTI3NDUxOTMzMzMzMzMzCjE1OSxRSXlITlBUQU5TRlIsVmFzb2RpbGF0b3Itc3RpbXVsYXRlZCBwaG9zcGhvcHJvdGVpbiAsMS4wLDAuNzcwNTIyNjU4LDAuNjQ3NDU0MDk1OTk5OTk5OSwwLjUxMTU3NjI4NiwwLjY1MTY0MjQ1MTk5OTk5OTksMC42MzU3ODE0MTcsMC42MjY3NTE3MTIsMC40NzkxMTczMTksMC42MjIzNjY2NjEsMC40MTcwOTMzMTM1CjE2MCxHSXlBVkVORUhNTlIsVmVzaWNsZSB0cmFuc3BvcnQgdGhyb3VnaCBpbnRlcmFjdGlvbiB3aXRoIHQtU05BUkVzIGhvbW9sb2cgMUIgLDEuMCwwLjkzNDkwNDg0MzUsMC44NDc3MDY5MDQsMC44Nzg5Mzk2NzIsMS4xMDIyMDg2MjksMC45NzgxMzc3MDY1LDEuNDIwNzQ2MjcyMDAwMDAwMSwwLjY1ODQ2MjQ1MDUwMDAwMDEsMC44ODAyMzI0MjUsMC44Mjc0NDA5MDg5OTk5OTk5CjM5LEZMRFNHeVIsVmluY3VsaW4gLDEuMCwwLjg5NjczNDQzMjMzMzMzMzQsMC44NDUzNTA3Njk2NjY2NjY3LDAuNjc4NzI3NzI3MzMzMzMzNCwwLjgyNDY2Njg5NTY2NjY2NjYsMC44NTEzOTk2OTQzMzMzMzM0LDAuODI0MjU1OTA5LDAuNzQ2MzgxNTQxLDAuNzc4MjA0Nzc1MzMzMzMzMywwLjcwMTY5MjUxMgoxNjEseUlTQVdFTFFSLFdEIHJlcGVhdC1jb250YWluaW5nIHByb3RlaW4gMTggLDEuMCwxLjIyMTk5NTgwMywxLjA5OTY0MTkzMDUsMS4wMzQyNTU2NTYsMC45ODA1NzgzMDUsMC44NzA2MDMyMjEwMDAwMDAxLDAuODY5ODA1MzQwMDAwMDAwMSwwLjgyMDE5MzU4NSwwLjkxODAwNTQ0MywwLjgyMzI4MTcxNQoxNjIseVZOQVNFVlNTR2tQVlNBUixaaW5jIGZpbmdlciBwcm90ZWluIDE4NSAsMS4wLDAuMjg1NTUyNzI3LDAuMzAxNjExMDg2LDAuMDU3Mjc4MTE0LDAuMjMzNDMzNjU0NSwwLjEyODQ2MDc0NTUsMC4xNTAxNzU2OTgsMC4wNjg2Mzg3MjY1LDAuMDkyMDM1NjE4NSwwLjA1ODkzMjgzMzk5OTk5OTk5Ngo=\" target=\"_blank\">Download CSV file</a>"
      ],
      "text/plain": [
       "<IPython.core.display.HTML object>"
      ]
     },
     "execution_count": 64,
     "metadata": {},
     "output_type": "execute_result"
    }
   ],
   "source": [
    "create_download_link(X_f, \"ABC_FilteredByVarAndFold\")"
   ]
  }
 ],
 "metadata": {
  "kernelspec": {
   "display_name": "Python 3",
   "language": "python",
   "name": "python3"
  },
  "language_info": {
   "codemirror_mode": {
    "name": "ipython",
    "version": 3
   },
   "file_extension": ".py",
   "mimetype": "text/x-python",
   "name": "python",
   "nbconvert_exporter": "python",
   "pygments_lexer": "ipython3",
   "version": "3.7.3"
  }
 },
 "nbformat": 4,
 "nbformat_minor": 4
}
