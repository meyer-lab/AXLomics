{
 "cells": [
  {
   "cell_type": "markdown",
   "metadata": {},
   "source": [
    "# AXL RNAseq analysis"
   ]
  },
  {
   "cell_type": "code",
   "execution_count": 1,
   "metadata": {},
   "outputs": [],
   "source": [
    "import matplotlib\n",
    "import matplotlib.pyplot as plt\n",
    "import seaborn as sns\n",
    "import numpy as np\n",
    "import pandas as pd\n",
    "from msresist.pre_processing import preprocessing, VarianceFilter\n",
    "from msresist.plsr import plotR2YQ2Y\n",
    "from msresist.figures.common import import_phenotype_data, formatPhenotypesForModeling\n",
    "from sklearn.cross_decomposition import PLSRegression\n",
    "from sklearn.preprocessing import StandardScaler\n",
    "from sklearn.linear_model import MultiTaskLassoCV\n",
    "from sklearn.metrics import r2_score"
   ]
  },
  {
   "cell_type": "code",
   "execution_count": 2,
   "metadata": {},
   "outputs": [],
   "source": [
    "# Set plotting format\n",
    "matplotlib.rcParams['font.sans-serif'] = \"Arial\"\n",
    "sns.set(style=\"whitegrid\", font_scale=1, color_codes=True, palette=\"colorblind\", rc={\"grid.linestyle\": \"dotted\", \"axes.linewidth\": 0.6})"
   ]
  },
  {
   "cell_type": "markdown",
   "metadata": {},
   "source": [
    "## 0. Import and Preprocess RNAseq data"
   ]
  },
  {
   "cell_type": "code",
   "execution_count": 3,
   "metadata": {},
   "outputs": [
    {
     "name": "stderr",
     "output_type": "stream",
     "text": [
      "/Library/Frameworks/Python.framework/Versions/3.9/lib/python3.9/site-packages/pandas/core/indexing.py:1851: SettingWithCopyWarning: \n",
      "A value is trying to be set on a copy of a slice from a DataFrame.\n",
      "Try using .loc[row_indexer,col_indexer] = value instead\n",
      "\n",
      "See the caveats in the documentation: https://pandas.pydata.org/pandas-docs/stable/user_guide/indexing.html#returning-a-view-versus-a-copy\n",
      "  self._setitem_single_column(loc, val, pi)\n"
     ]
    }
   ],
   "source": [
    "rna = pd.read_feather(\"msresist/data/RNAseq/AXLmutants_RNAseq_merged.feather\").iloc[:, 1:]\n",
    "idsT = pd.read_csv(\"msresist/data/RNAseq/transcripts_to_genes.csv\")\n",
    "ids = dict(zip(idsT[\"ENSEMBL1\"], idsT[\"SYMBOL\"]))\n",
    "rna.insert(0, \"Cell Lines\", [s[:3] if \"M1\" in s else s[:2] for s in rna[\"Cell Line\"]])\n",
    "rna.insert(1, \"Treatment\", [s[-1] if s[-1] == \"E\" in s else s[-2:] for s in rna[\"Cell Line\"]])\n",
    "rna = rna.drop(\"Cell Line\", axis=1)\n",
    "XIDX = np.any(rna.iloc[:, 2:].values > 10, axis=0)\n",
    "rna_f = rna.iloc[:, [True, True] + list(XIDX)]\n",
    "rna_f.iloc[:, 2:] = pd.DataFrame(StandardScaler().fit_transform(rna_f.iloc[:, 2:]))\n",
    "rna_f.columns = [\"Cell Lines\", \"Treatment\"] + [ids[g] if g in ids.keys() else g for g in list(rna_f.columns[2:])]\n",
    "rna_f = rna_f.set_index(\"Cell Lines\").T\n",
    "rna_f = rna_f.rename(columns={\"KD\":\"KD\", \"PC9\":\"WT\", \"M4\": \"Y634F\", \"M5\":\"Y643F\", \"M7\":\"Y698F\", \"M10\":\"Y726F\", \"M11\":\"Y750F\", \"M15\":\"Y821F\"}).T.reset_index()"
   ]
  },
  {
   "cell_type": "code",
   "execution_count": 7,
   "metadata": {},
   "outputs": [],
   "source": [
    "# def filter_by_EvEAvar(rna_f, savefig=False, perCut=50):\n",
    "#     rnaE = rna_f[rna_f[\"Treatment\"] == \"E\"].sort_values(by=\"Cell Lines\")\n",
    "#     rnaEA = rna_f[(rna_f[\"Treatment\"] == \"EA\") | (rna_f[\"Cell Lines\"] == \"KO\") & ~(rna_f[\"Treatment\"] == \"UT\")].sort_values(by=\"Cell Lines\")\n",
    "#     ssd = []\n",
    "#     for ii in range(2, rnaE.shape[1]):\n",
    "#         ssd.append(np.sum(np.square(rnaEA.iloc[:, ii].values - rnaE.iloc[:, ii].values)))\n",
    "#     rna_fEA = rna_f.iloc[:, [True, True] + list(ssd >= np.percentile(ssd, perCut))]\n",
    "#     rna_fEA = rna_fEA[rna_fEA[\"Treatment\"] != \"UT\"].T\n",
    "#     rna_fEA.columns = [c + \"-\" + t for c, t in list(zip(rna_fEA.iloc[0, :], rna_fEA.iloc[1, :]))]\n",
    "#     rna_fEA = rna_fEA.iloc[2:, :]\n",
    "#     if savefig:\n",
    "#         rna_fEA.to_csv(\"msresist/WGCNA/WGCNA_input_Filtered_Abundance_and_EvA.txt\", sep=\"\\t\")        \n",
    "#     return rna_fEA\n",
    "\n",
    "# rna_fEA = filter_by_EvEAvar(rna_f, savefig=True, perCut=50)"
   ]
  },
  {
   "cell_type": "markdown",
   "metadata": {},
   "source": [
    "## 1. Targeted Pathways / Kinases"
   ]
  },
  {
   "cell_type": "code",
   "execution_count": 72,
   "metadata": {},
   "outputs": [
    {
     "ename": "KeyError",
     "evalue": "'bHLHa38'",
     "output_type": "error",
     "traceback": [
      "\u001b[0;31m---------------------------------------------------------------------------\u001b[0m",
      "\u001b[0;31mKeyError\u001b[0m                                  Traceback (most recent call last)",
      "\u001b[0;32m/Library/Frameworks/Python.framework/Versions/3.9/lib/python3.9/site-packages/pandas/core/indexes/base.py\u001b[0m in \u001b[0;36mget_loc\u001b[0;34m(self, key, method, tolerance)\u001b[0m\n\u001b[1;32m   3360\u001b[0m             \u001b[0;32mtry\u001b[0m\u001b[0;34m:\u001b[0m\u001b[0;34m\u001b[0m\u001b[0;34m\u001b[0m\u001b[0m\n\u001b[0;32m-> 3361\u001b[0;31m                 \u001b[0;32mreturn\u001b[0m \u001b[0mself\u001b[0m\u001b[0;34m.\u001b[0m\u001b[0m_engine\u001b[0m\u001b[0;34m.\u001b[0m\u001b[0mget_loc\u001b[0m\u001b[0;34m(\u001b[0m\u001b[0mcasted_key\u001b[0m\u001b[0;34m)\u001b[0m\u001b[0;34m\u001b[0m\u001b[0;34m\u001b[0m\u001b[0m\n\u001b[0m\u001b[1;32m   3362\u001b[0m             \u001b[0;32mexcept\u001b[0m \u001b[0mKeyError\u001b[0m \u001b[0;32mas\u001b[0m \u001b[0merr\u001b[0m\u001b[0;34m:\u001b[0m\u001b[0;34m\u001b[0m\u001b[0;34m\u001b[0m\u001b[0m\n",
      "\u001b[0;32m/Library/Frameworks/Python.framework/Versions/3.9/lib/python3.9/site-packages/pandas/_libs/index.pyx\u001b[0m in \u001b[0;36mpandas._libs.index.IndexEngine.get_loc\u001b[0;34m()\u001b[0m\n",
      "\u001b[0;32m/Library/Frameworks/Python.framework/Versions/3.9/lib/python3.9/site-packages/pandas/_libs/index.pyx\u001b[0m in \u001b[0;36mpandas._libs.index.IndexEngine.get_loc\u001b[0;34m()\u001b[0m\n",
      "\u001b[0;32m/Library/Frameworks/Python.framework/Versions/3.9/lib/python3.9/site-packages/pandas/_libs/index.pyx\u001b[0m in \u001b[0;36mpandas._libs.index.IndexEngine._get_loc_duplicates\u001b[0;34m()\u001b[0m\n",
      "\u001b[0;32m/Library/Frameworks/Python.framework/Versions/3.9/lib/python3.9/site-packages/pandas/_libs/index.pyx\u001b[0m in \u001b[0;36mpandas._libs.index.IndexEngine._maybe_get_bool_indexer\u001b[0;34m()\u001b[0m\n",
      "\u001b[0;32m/Library/Frameworks/Python.framework/Versions/3.9/lib/python3.9/site-packages/pandas/_libs/index.pyx\u001b[0m in \u001b[0;36mpandas._libs.index.IndexEngine._unpack_bool_indexer\u001b[0;34m()\u001b[0m\n",
      "\u001b[0;31mKeyError\u001b[0m: 'bHLHa38'",
      "\nThe above exception was the direct cause of the following exception:\n",
      "\u001b[0;31mKeyError\u001b[0m                                  Traceback (most recent call last)",
      "\u001b[0;32m/var/folders/qz/7zyfxvhx06q9y2ykk30slw200000gn/T/ipykernel_41798/3438505816.py\u001b[0m in \u001b[0;36m<module>\u001b[0;34m\u001b[0m\n\u001b[0;32m----> 1\u001b[0;31m \u001b[0mrna_f\u001b[0m\u001b[0;34m[\u001b[0m\u001b[0;34m\"bHLHa38\"\u001b[0m\u001b[0;34m]\u001b[0m\u001b[0;34m\u001b[0m\u001b[0;34m\u001b[0m\u001b[0m\n\u001b[0m",
      "\u001b[0;32m/Library/Frameworks/Python.framework/Versions/3.9/lib/python3.9/site-packages/pandas/core/frame.py\u001b[0m in \u001b[0;36m__getitem__\u001b[0;34m(self, key)\u001b[0m\n\u001b[1;32m   3453\u001b[0m             \u001b[0;32mif\u001b[0m \u001b[0mself\u001b[0m\u001b[0;34m.\u001b[0m\u001b[0mcolumns\u001b[0m\u001b[0;34m.\u001b[0m\u001b[0mnlevels\u001b[0m \u001b[0;34m>\u001b[0m \u001b[0;36m1\u001b[0m\u001b[0;34m:\u001b[0m\u001b[0;34m\u001b[0m\u001b[0;34m\u001b[0m\u001b[0m\n\u001b[1;32m   3454\u001b[0m                 \u001b[0;32mreturn\u001b[0m \u001b[0mself\u001b[0m\u001b[0;34m.\u001b[0m\u001b[0m_getitem_multilevel\u001b[0m\u001b[0;34m(\u001b[0m\u001b[0mkey\u001b[0m\u001b[0;34m)\u001b[0m\u001b[0;34m\u001b[0m\u001b[0;34m\u001b[0m\u001b[0m\n\u001b[0;32m-> 3455\u001b[0;31m             \u001b[0mindexer\u001b[0m \u001b[0;34m=\u001b[0m \u001b[0mself\u001b[0m\u001b[0;34m.\u001b[0m\u001b[0mcolumns\u001b[0m\u001b[0;34m.\u001b[0m\u001b[0mget_loc\u001b[0m\u001b[0;34m(\u001b[0m\u001b[0mkey\u001b[0m\u001b[0;34m)\u001b[0m\u001b[0;34m\u001b[0m\u001b[0;34m\u001b[0m\u001b[0m\n\u001b[0m\u001b[1;32m   3456\u001b[0m             \u001b[0;32mif\u001b[0m \u001b[0mis_integer\u001b[0m\u001b[0;34m(\u001b[0m\u001b[0mindexer\u001b[0m\u001b[0;34m)\u001b[0m\u001b[0;34m:\u001b[0m\u001b[0;34m\u001b[0m\u001b[0;34m\u001b[0m\u001b[0m\n\u001b[1;32m   3457\u001b[0m                 \u001b[0mindexer\u001b[0m \u001b[0;34m=\u001b[0m \u001b[0;34m[\u001b[0m\u001b[0mindexer\u001b[0m\u001b[0;34m]\u001b[0m\u001b[0;34m\u001b[0m\u001b[0;34m\u001b[0m\u001b[0m\n",
      "\u001b[0;32m/Library/Frameworks/Python.framework/Versions/3.9/lib/python3.9/site-packages/pandas/core/indexes/base.py\u001b[0m in \u001b[0;36mget_loc\u001b[0;34m(self, key, method, tolerance)\u001b[0m\n\u001b[1;32m   3361\u001b[0m                 \u001b[0;32mreturn\u001b[0m \u001b[0mself\u001b[0m\u001b[0;34m.\u001b[0m\u001b[0m_engine\u001b[0m\u001b[0;34m.\u001b[0m\u001b[0mget_loc\u001b[0m\u001b[0;34m(\u001b[0m\u001b[0mcasted_key\u001b[0m\u001b[0;34m)\u001b[0m\u001b[0;34m\u001b[0m\u001b[0;34m\u001b[0m\u001b[0m\n\u001b[1;32m   3362\u001b[0m             \u001b[0;32mexcept\u001b[0m \u001b[0mKeyError\u001b[0m \u001b[0;32mas\u001b[0m \u001b[0merr\u001b[0m\u001b[0;34m:\u001b[0m\u001b[0;34m\u001b[0m\u001b[0;34m\u001b[0m\u001b[0m\n\u001b[0;32m-> 3363\u001b[0;31m                 \u001b[0;32mraise\u001b[0m \u001b[0mKeyError\u001b[0m\u001b[0;34m(\u001b[0m\u001b[0mkey\u001b[0m\u001b[0;34m)\u001b[0m \u001b[0;32mfrom\u001b[0m \u001b[0merr\u001b[0m\u001b[0;34m\u001b[0m\u001b[0;34m\u001b[0m\u001b[0m\n\u001b[0m\u001b[1;32m   3364\u001b[0m \u001b[0;34m\u001b[0m\u001b[0m\n\u001b[1;32m   3365\u001b[0m         \u001b[0;32mif\u001b[0m \u001b[0mis_scalar\u001b[0m\u001b[0;34m(\u001b[0m\u001b[0mkey\u001b[0m\u001b[0;34m)\u001b[0m \u001b[0;32mand\u001b[0m \u001b[0misna\u001b[0m\u001b[0;34m(\u001b[0m\u001b[0mkey\u001b[0m\u001b[0;34m)\u001b[0m \u001b[0;32mand\u001b[0m \u001b[0;32mnot\u001b[0m \u001b[0mself\u001b[0m\u001b[0;34m.\u001b[0m\u001b[0mhasnans\u001b[0m\u001b[0;34m:\u001b[0m\u001b[0;34m\u001b[0m\u001b[0;34m\u001b[0m\u001b[0m\n",
      "\u001b[0;31mKeyError\u001b[0m: 'bHLHa38'"
     ]
    }
   ],
   "source": [
    "rna_f[\"bHLHa38\"]"
   ]
  },
  {
   "cell_type": "code",
   "execution_count": 74,
   "metadata": {},
   "outputs": [
    {
     "data": {
      "text/plain": [
       "<AxesSubplot:xlabel='Cell Lines', ylabel='AHNAK'>"
      ]
     },
     "execution_count": 74,
     "metadata": {},
     "output_type": "execute_result"
    },
    {
     "data": {
      "image/png": "[encoded data removed]",
      "text/plain": [
       "<Figure size 432x288 with 1 Axes>"
      ]
     },
     "metadata": {},
     "output_type": "display_data"
    }
   ],
   "source": [
    "ccn1 = pd.DataFrame(rna_f[\"AHNAK\"]).reset_index()\n",
    "sns.barplot(data=ccn1, x=\"Cell Lines\", y=\"AHNAK\", hue=\"Treatment\")"
   ]
  },
  {
   "cell_type": "code",
   "execution_count": 83,
   "metadata": {},
   "outputs": [
    {
     "data": {
      "text/plain": [
       "<AxesSubplot:xlabel='Cell Lines', ylabel='FLNB'>"
      ]
     },
     "execution_count": 83,
     "metadata": {},
     "output_type": "execute_result"
    },
    {
     "data": {
      "image/png": "[encoded data removed]",
      "text/plain": [
       "<Figure size 432x288 with 1 Axes>"
      ]
     },
     "metadata": {},
     "output_type": "display_data"
    }
   ],
   "source": [
    "ccn1 = pd.DataFrame(rna_f[\"FLNB\"]).reset_index().iloc[:, :3]\n",
    "sns.barplot(data=ccn1, x=\"Cell Lines\", y=\"FLNB\", hue=\"Treatment\")"
   ]
  },
  {
   "cell_type": "markdown",
   "metadata": {},
   "source": [
    "## 2. WGCNA Modules"
   ]
  },
  {
   "cell_type": "code",
   "execution_count": 9,
   "metadata": {},
   "outputs": [],
   "source": [
    "# eg = pd.read_csv(\"msresist/WGCNA/output/final-eigengenes.csv\").set_index(\"Module\")\n",
    "# memberships = pd.read_csv(\"msresist/WGCNA/output/final-membership.csv\")\n",
    "\n",
    "# eg = eg.T.reset_index()\n",
    "# eg = eg.rename_axis(\"\", axis=\"columns\")\n",
    "# eg.insert(0, \"Cell Lines\", [s[:3] if \"M1\" in s else s[:2] for s in eg[\"index\"]])\n",
    "# eg.insert(1, \"Treatment\", [s[-1] if s[-1] == \"E\" in s else s[-2:] for s in eg[\"index\"]])\n",
    "# eg = eg.drop(\"index\", axis=1)\n",
    "# eg.head()"
   ]
  },
  {
   "cell_type": "code",
   "execution_count": 10,
   "metadata": {},
   "outputs": [],
   "source": [
    "# egF = eg.sort_values(by=\"Treatment\").set_index([\"Cell Lines\", \"Treatment\"])\n",
    "# sns.clustermap(egF.T, cmap=\"bwr\", robust=True, col_cluster=True)"
   ]
  },
  {
   "cell_type": "markdown",
   "metadata": {},
   "source": [
    "### Use MS data to predict Modules "
   ]
  },
  {
   "cell_type": "markdown",
   "metadata": {},
   "source": [
    "TODO: Filter modules based on variance between E v EA conditions. Maybe only WT."
   ]
  },
  {
   "cell_type": "code",
   "execution_count": 11,
   "metadata": {},
   "outputs": [],
   "source": [
    "# # Import siganling data\n",
    "# ms = preprocessing(AXLm_ErlAF154=True, Vfilter=True, FCfilter=True, log2T=True, mc_row=True)\n",
    "# ms = ms.rename(columns={\"PC9 A\":\"WT\", \"KO A\":\"KO\", \"Kd A\":\"KDead\", \"KI A\":\"KI\",\"M4 A\": \"Y634F\", \"M5 A\":\"Y643F\", \"M7 A\":\"Y698F\", \"M10 A\":\"Y726F\", \"M11 A\":\"Y750F\", \"M15 A\":\"Y821F\"})\n",
    "# d = ms.select_dtypes(include=['float64']).T\n",
    "# i = ms.select_dtypes(include=['object'])"
   ]
  },
  {
   "cell_type": "code",
   "execution_count": 12,
   "metadata": {},
   "outputs": [],
   "source": [
    "# ddmc = MassSpecClustering(i, n_components=5, SeqWeight=2, distance_method=\"PAM250\", random_state=5).fit(d)\n",
    "# centers = pd.DataFrame(ddmc.transform())\n",
    "# centers.index = d.index"
   ]
  },
  {
   "cell_type": "code",
   "execution_count": 13,
   "metadata": {},
   "outputs": [],
   "source": [
    "# egEA = eg[(eg[\"Treatment\"] == \"EA\") | (eg[\"Cell Lines\"] == \"KO\")].set_index(\"Cell Lines\").T\n",
    "# egEA = egEA.rename(columns={\"KD\":\"KDead\", \"M4\": \"Y634F\", \"M5\":\"Y643F\", \"M7\":\"Y698F\", \"M10\":\"Y726F\", \"M11\":\"Y750F\", \"M15\":\"Y821F\"})\n",
    "# egEA = egEA[list(centers.index)].T.drop(\"Treatment\", axis=1).T\n",
    "# egEA = egEA.rename_axis(\"Module\", axis=\"columns\").astype(float)"
   ]
  },
  {
   "cell_type": "code",
   "execution_count": 14,
   "metadata": {},
   "outputs": [],
   "source": [
    "# egEA_f = VarianceFilter(egEA, list(egEA.columns), axis=1, varCut=0.01).T\n",
    "# sns.clustermap(egEA, cmap=\"bwr\", robust=True, figsize=(6, 5), method=\"centroid\")\n",
    "# sns.clustermap(egEA_f.T, cmap=\"bwr\", robust=True, figsize=(6, 5), method=\"centroid\")"
   ]
  },
  {
   "cell_type": "code",
   "execution_count": 15,
   "metadata": {},
   "outputs": [],
   "source": [
    "# _, ax = plt.subplots(1, 1)\n",
    "# plotR2YQ2Y(ax, PLSRegression(n_components=2), egEA_f, centers, b=6, color=\"darkblue\", title=False)"
   ]
  },
  {
   "cell_type": "code",
   "execution_count": 16,
   "metadata": {},
   "outputs": [],
   "source": [
    "# reg = MultiTaskLassoCV(cv=10, eps=1e-5).fit(egEA_f, centers)\n",
    "# r2_score(centers, reg.predict(egEA_f))"
   ]
  },
  {
   "cell_type": "markdown",
   "metadata": {},
   "source": [
    "### Use Modules to predict Phenotypes"
   ]
  },
  {
   "cell_type": "code",
   "execution_count": 17,
   "metadata": {},
   "outputs": [],
   "source": [
    "# cv = import_phenotype_data(phenotype=\"Cell Viability\")\n",
    "# red = import_phenotype_data(phenotype=\"Cell Death\")\n",
    "# sw = import_phenotype_data(phenotype=\"Migration\")\n",
    "# c = import_phenotype_data(phenotype=\"Island\")\n",
    "# y = formatPhenotypesForModeling(cv, red, sw, c)\n",
    "# y = y[y[\"Treatment\"] == \"A/E\"].drop(\"Treatment\", axis=1).set_index(\"Lines\")"
   ]
  },
  {
   "cell_type": "code",
   "execution_count": 18,
   "metadata": {},
   "outputs": [],
   "source": [
    "# _, ax = plt.subplots(1, 1)\n",
    "# plotR2YQ2Y(ax, PLSRegression(n_components=2), egEA_f, y, b=6, color=\"darkblue\", title=False)"
   ]
  },
  {
   "cell_type": "code",
   "execution_count": 19,
   "metadata": {},
   "outputs": [],
   "source": [
    "# reg = MultiTaskLassoCV(cv=10, eps=1e-5).fit(egEA_f, y)\n",
    "# r2_score(y, reg.predict(egEA_f))"
   ]
  },
  {
   "cell_type": "markdown",
   "metadata": {},
   "source": [
    "## 3. PCA\n",
    "\n",
    "1. Preprocess raw data based on abundance and variance. Make sure AXL is present\n",
    "2. Make another file version filtering only extremely low transcripts out for GSEA\n",
    "3. Run PCA\n",
    "    - Plot Scores\n",
    "    - Try to predict using Scores of PCA with EA data only"
   ]
  },
  {
   "cell_type": "code",
   "execution_count": 20,
   "metadata": {},
   "outputs": [],
   "source": [
    "from sklearn.decomposition import PCA\n",
    "from msresist.pca import pca_dfs, plotPCA_scoresORloadings"
   ]
  },
  {
   "cell_type": "markdown",
   "metadata": {},
   "source": [
    "### PCA Scores"
   ]
  },
  {
   "cell_type": "code",
   "execution_count": 37,
   "metadata": {},
   "outputs": [
    {
     "data": {
      "image/png": "[encoded data removed]",
      "text/plain": [
       "<Figure size 1224x360 with 3 Axes>"
      ]
     },
     "metadata": {},
     "output_type": "display_data"
    }
   ],
   "source": [
    "_, ax = plt.subplots(1, 3, figsize=(17, 5))\n",
    "\n",
    "# Full PCA\n",
    "rna_f = rna_f.set_index(\"Cell Lines\").rename(index={\"KD\":\"KDead\", \"PC9\":\"WT\", \"M4\": \"Y634F\", \"M5\":\"Y643F\", \"M7\":\"Y698F\", \"M10\":\"Y726F\", \"M11\":\"Y750F\", \"M15\":\"Y821F\"}).reset_index()\n",
    "rna_f.iloc[:, 2:] = rna_f.iloc[:, 2:].astype(float)\n",
    "plotPCA_scoresORloadings(ax[0], rna_f, 2, [\"Cell Lines\", \"Treatment\"], rna_f.columns[2:], hue_scores=\"Cell Lines\", style_scores=\"Treatment\", legendOut=False, plot=\"scores\")\n",
    "\n",
    "# EA PCA\n",
    "rna_fEA = rna_f[(rna_f[\"Treatment\"] == \"EA\") | (rna_f[\"Cell Lines\"] == \"KO\") & ~(rna_f[\"Treatment\"] == \"UT\")].drop(\"Treatment\", axis=1).set_index(\"Cell Lines\")\n",
    "rna_fEA = rna_fEA.rename(index={\"KD\":\"KDead\", \"PC9\":\"WT\",\"M4\": \"Y634F\", \"M5\":\"Y643F\", \"M7\":\"Y698F\", \"M10\":\"Y726F\", \"M11\":\"Y750F\", \"M15\":\"Y821F\"}).T\n",
    "# rna_fEA = rna_fEA[list(centers.index)].T.reset_index()\n",
    "# plotPCA_scoresORloadings(ax[1], rna_fEA, 2, [\"Cell Lines\"], rna_fEA.columns[1:], hue_scores=\"Cell Lines\", legendOut=False, plot=\"scores\")\n",
    "# plotPCA_scoresORloadings(ax[2], rna_fEA.set_index(\"Cell Lines\").drop(\"WT\").reset_index(), 2, [\"Cell Lines\"], rna_fEA.columns[1:], hue_scores=\"Cell Lines\", legendOut=False, plot=\"scores\")"
   ]
  },
  {
   "cell_type": "code",
   "execution_count": 69,
   "metadata": {},
   "outputs": [],
   "source": [
    "n_components = 4\n",
    "scores_ind = [\"Cell Lines\"]\n",
    "loadings_ind = rna_fEA.columns[2:]\n",
    "\n",
    "ppEA = PCA(n_components=n_components)\n",
    "dScor_EA = ppEA.fit_transform(rna_fEA.select_dtypes(include=[\"float64\"]))\n",
    "dLoad_EA = ppEA.components_\n",
    "dScor_EA, dLoad_EA = pca_dfs(dScor_EA, dLoad_EA, rna_fEA, n_components, scores_ind, loadings_ind)\n",
    "scoresEA = dScor_EA.set_index(\"Cell Lines\")\n",
    "scoresEA.iloc[:, :] = StandardScaler().fit_transform(dScor_EA.set_index(\"Cell Lines\"))\n",
    "varExp = np.round(ppEA.explained_variance_ratio_, 2)"
   ]
  },
  {
   "cell_type": "markdown",
   "metadata": {},
   "source": [
    "### 4. GSEA\n",
    "#### 4.1 Standard"
   ]
  },
  {
   "cell_type": "code",
   "execution_count": 27,
   "metadata": {},
   "outputs": [],
   "source": [
    "import gseapy as gp"
   ]
  },
  {
   "cell_type": "code",
   "execution_count": 38,
   "metadata": {},
   "outputs": [],
   "source": [
    "st_gsea_d = rna_f[rna_f[\"Treatment\"] != \"UT\"]\n",
    "st_gsea_d.insert(0, \"Sample\", [c + \"_\" + t for c, t in list(zip(list(st_gsea_d[\"Cell Lines\"]), list(st_gsea_d[\"Treatment\"])))])\n",
    "st_gsea_d = st_gsea_d.drop([\"Cell Lines\", \"Treatment\"], axis=1).set_index(\"Sample\").T\n",
    "st_gsea_d = st_gsea_d[~st_gsea_d.index.duplicated()]\n",
    "samples = list(rna_f[\"Treatment\"][rna_f[\"Treatment\"] != \"UT\"])"
   ]
  },
  {
   "cell_type": "code",
   "execution_count": 41,
   "metadata": {},
   "outputs": [
    {
     "name": "stdout",
     "output_type": "stream",
     "text": [
      "['E', 'EA', 'E', 'EA', 'E', 'E', 'EA', 'E', 'EA', 'E', 'EA', 'E', 'EA', 'E', 'EA', 'E', 'EA', 'E', 'EA']\n"
     ]
    },
    {
     "data": {
      "text/html": [
       "<div>\n",
       "<style scoped>\n",
       "    .dataframe tbody tr th:only-of-type {\n",
       "        vertical-align: middle;\n",
       "    }\n",
       "\n",
       "    .dataframe tbody tr th {\n",
       "        vertical-align: top;\n",
       "    }\n",
       "\n",
       "    .dataframe thead th {\n",
       "        text-align: right;\n",
       "    }\n",
       "</style>\n",
       "<table border=\"1\" class=\"dataframe\">\n",
       "  <thead>\n",
       "    <tr style=\"text-align: right;\">\n",
       "      <th>Sample</th>\n",
       "      <th>KDead_E</th>\n",
       "      <th>KDead_EA</th>\n",
       "      <th>KI_E</th>\n",
       "      <th>KI_EA</th>\n",
       "      <th>KO_E</th>\n",
       "      <th>Y726F_E</th>\n",
       "      <th>Y726F_EA</th>\n",
       "      <th>Y750F_E</th>\n",
       "      <th>Y750F_EA</th>\n",
       "      <th>Y821F_E</th>\n",
       "      <th>Y821F_EA</th>\n",
       "      <th>Y634F_E</th>\n",
       "      <th>Y634F_EA</th>\n",
       "      <th>Y643F_E</th>\n",
       "      <th>Y643F_EA</th>\n",
       "      <th>Y698F_E</th>\n",
       "      <th>Y698F_EA</th>\n",
       "      <th>WT_E</th>\n",
       "      <th>WT_EA</th>\n",
       "    </tr>\n",
       "  </thead>\n",
       "  <tbody>\n",
       "    <tr>\n",
       "      <th>GPX1</th>\n",
       "      <td>-0.952666</td>\n",
       "      <td>-0.804980</td>\n",
       "      <td>0.180572</td>\n",
       "      <td>-0.831976</td>\n",
       "      <td>0.245796</td>\n",
       "      <td>-0.619947</td>\n",
       "      <td>-0.955099</td>\n",
       "      <td>-1.150020</td>\n",
       "      <td>-1.097452</td>\n",
       "      <td>-1.203234</td>\n",
       "      <td>-1.669222</td>\n",
       "      <td>0.090009</td>\n",
       "      <td>-0.714651</td>\n",
       "      <td>0.369980</td>\n",
       "      <td>-0.297270</td>\n",
       "      <td>-0.825816</td>\n",
       "      <td>-0.888425</td>\n",
       "      <td>1.217476</td>\n",
       "      <td>2.446660</td>\n",
       "    </tr>\n",
       "    <tr>\n",
       "      <th>PKD1L2</th>\n",
       "      <td>1.111373</td>\n",
       "      <td>0.787675</td>\n",
       "      <td>0.851830</td>\n",
       "      <td>0.656814</td>\n",
       "      <td>1.369108</td>\n",
       "      <td>0.218851</td>\n",
       "      <td>0.433419</td>\n",
       "      <td>0.307076</td>\n",
       "      <td>0.445966</td>\n",
       "      <td>1.208578</td>\n",
       "      <td>1.020740</td>\n",
       "      <td>0.655812</td>\n",
       "      <td>1.594462</td>\n",
       "      <td>1.091235</td>\n",
       "      <td>0.609850</td>\n",
       "      <td>0.595607</td>\n",
       "      <td>0.470614</td>\n",
       "      <td>-0.460967</td>\n",
       "      <td>-1.250536</td>\n",
       "    </tr>\n",
       "    <tr>\n",
       "      <th>ENST00000622053.4</th>\n",
       "      <td>-0.860961</td>\n",
       "      <td>-0.840119</td>\n",
       "      <td>-0.608375</td>\n",
       "      <td>-0.748983</td>\n",
       "      <td>-0.832326</td>\n",
       "      <td>-0.881863</td>\n",
       "      <td>-0.666333</td>\n",
       "      <td>-0.721272</td>\n",
       "      <td>-0.708882</td>\n",
       "      <td>-0.859717</td>\n",
       "      <td>-0.840365</td>\n",
       "      <td>-0.522139</td>\n",
       "      <td>-0.554901</td>\n",
       "      <td>-0.620171</td>\n",
       "      <td>-0.679258</td>\n",
       "      <td>-0.769428</td>\n",
       "      <td>-0.776988</td>\n",
       "      <td>-0.504634</td>\n",
       "      <td>-0.472856</td>\n",
       "    </tr>\n",
       "    <tr>\n",
       "      <th>IGLV5-52</th>\n",
       "      <td>-1.444459</td>\n",
       "      <td>0.859360</td>\n",
       "      <td>-0.146834</td>\n",
       "      <td>-0.849833</td>\n",
       "      <td>0.571617</td>\n",
       "      <td>0.085337</td>\n",
       "      <td>0.213432</td>\n",
       "      <td>0.794614</td>\n",
       "      <td>0.282615</td>\n",
       "      <td>-0.691153</td>\n",
       "      <td>-0.548304</td>\n",
       "      <td>2.222123</td>\n",
       "      <td>-0.210512</td>\n",
       "      <td>0.102044</td>\n",
       "      <td>-0.987172</td>\n",
       "      <td>1.612156</td>\n",
       "      <td>2.545853</td>\n",
       "      <td>-0.346304</td>\n",
       "      <td>0.110260</td>\n",
       "    </tr>\n",
       "    <tr>\n",
       "      <th>IGLV1-51</th>\n",
       "      <td>0.460198</td>\n",
       "      <td>-0.110828</td>\n",
       "      <td>-1.070584</td>\n",
       "      <td>-1.146700</td>\n",
       "      <td>0.042593</td>\n",
       "      <td>0.358210</td>\n",
       "      <td>-0.380440</td>\n",
       "      <td>-0.939781</td>\n",
       "      <td>-0.349307</td>\n",
       "      <td>-0.274284</td>\n",
       "      <td>0.441239</td>\n",
       "      <td>-0.558065</td>\n",
       "      <td>-0.545729</td>\n",
       "      <td>1.422977</td>\n",
       "      <td>-0.030150</td>\n",
       "      <td>3.376245</td>\n",
       "      <td>-0.599603</td>\n",
       "      <td>-0.241108</td>\n",
       "      <td>1.183253</td>\n",
       "    </tr>\n",
       "    <tr>\n",
       "      <th>...</th>\n",
       "      <td>...</td>\n",
       "      <td>...</td>\n",
       "      <td>...</td>\n",
       "      <td>...</td>\n",
       "      <td>...</td>\n",
       "      <td>...</td>\n",
       "      <td>...</td>\n",
       "      <td>...</td>\n",
       "      <td>...</td>\n",
       "      <td>...</td>\n",
       "      <td>...</td>\n",
       "      <td>...</td>\n",
       "      <td>...</td>\n",
       "      <td>...</td>\n",
       "      <td>...</td>\n",
       "      <td>...</td>\n",
       "      <td>...</td>\n",
       "      <td>...</td>\n",
       "      <td>...</td>\n",
       "    </tr>\n",
       "    <tr>\n",
       "      <th>AC139769.3</th>\n",
       "      <td>0.295438</td>\n",
       "      <td>0.931416</td>\n",
       "      <td>-0.893167</td>\n",
       "      <td>0.858279</td>\n",
       "      <td>1.179667</td>\n",
       "      <td>-0.643467</td>\n",
       "      <td>-0.030193</td>\n",
       "      <td>-0.755220</td>\n",
       "      <td>0.716153</td>\n",
       "      <td>1.295603</td>\n",
       "      <td>-1.113428</td>\n",
       "      <td>-0.717046</td>\n",
       "      <td>-0.542005</td>\n",
       "      <td>3.147534</td>\n",
       "      <td>0.413982</td>\n",
       "      <td>-0.235253</td>\n",
       "      <td>0.826602</td>\n",
       "      <td>0.173935</td>\n",
       "      <td>-1.381398</td>\n",
       "    </tr>\n",
       "    <tr>\n",
       "      <th>AC112907.2</th>\n",
       "      <td>-1.015461</td>\n",
       "      <td>0.231582</td>\n",
       "      <td>-1.381813</td>\n",
       "      <td>-0.301275</td>\n",
       "      <td>-0.417754</td>\n",
       "      <td>0.207009</td>\n",
       "      <td>-0.173334</td>\n",
       "      <td>-0.405839</td>\n",
       "      <td>0.982715</td>\n",
       "      <td>-0.314665</td>\n",
       "      <td>-1.304193</td>\n",
       "      <td>-0.073679</td>\n",
       "      <td>-1.128727</td>\n",
       "      <td>-0.116016</td>\n",
       "      <td>-0.493231</td>\n",
       "      <td>-1.092383</td>\n",
       "      <td>0.090699</td>\n",
       "      <td>-1.422526</td>\n",
       "      <td>-1.442750</td>\n",
       "    </tr>\n",
       "    <tr>\n",
       "      <th>AL450124.1</th>\n",
       "      <td>1.061606</td>\n",
       "      <td>0.245118</td>\n",
       "      <td>0.642248</td>\n",
       "      <td>0.603356</td>\n",
       "      <td>1.152630</td>\n",
       "      <td>0.909654</td>\n",
       "      <td>0.976740</td>\n",
       "      <td>0.831856</td>\n",
       "      <td>0.683840</td>\n",
       "      <td>0.747024</td>\n",
       "      <td>0.156124</td>\n",
       "      <td>0.209961</td>\n",
       "      <td>0.618425</td>\n",
       "      <td>1.501152</td>\n",
       "      <td>0.218542</td>\n",
       "      <td>1.391751</td>\n",
       "      <td>0.517825</td>\n",
       "      <td>-0.068899</td>\n",
       "      <td>0.490588</td>\n",
       "    </tr>\n",
       "    <tr>\n",
       "      <th>PMS2P6</th>\n",
       "      <td>-0.035939</td>\n",
       "      <td>0.079962</td>\n",
       "      <td>0.301239</td>\n",
       "      <td>0.190922</td>\n",
       "      <td>0.295447</td>\n",
       "      <td>-0.632961</td>\n",
       "      <td>-1.254310</td>\n",
       "      <td>-0.591555</td>\n",
       "      <td>1.986094</td>\n",
       "      <td>1.155283</td>\n",
       "      <td>1.237447</td>\n",
       "      <td>1.174188</td>\n",
       "      <td>-0.248537</td>\n",
       "      <td>0.303420</td>\n",
       "      <td>2.699462</td>\n",
       "      <td>0.050554</td>\n",
       "      <td>-0.996802</td>\n",
       "      <td>-0.094352</td>\n",
       "      <td>1.664239</td>\n",
       "    </tr>\n",
       "    <tr>\n",
       "      <th>FRG1BP</th>\n",
       "      <td>0.908061</td>\n",
       "      <td>0.413106</td>\n",
       "      <td>-0.638862</td>\n",
       "      <td>0.671648</td>\n",
       "      <td>0.426588</td>\n",
       "      <td>-0.736332</td>\n",
       "      <td>0.817992</td>\n",
       "      <td>0.878792</td>\n",
       "      <td>0.703090</td>\n",
       "      <td>1.295874</td>\n",
       "      <td>0.539583</td>\n",
       "      <td>-0.600125</td>\n",
       "      <td>1.221992</td>\n",
       "      <td>1.526211</td>\n",
       "      <td>0.529827</td>\n",
       "      <td>-0.370493</td>\n",
       "      <td>0.259254</td>\n",
       "      <td>1.475611</td>\n",
       "      <td>1.251216</td>\n",
       "    </tr>\n",
       "  </tbody>\n",
       "</table>\n",
       "<p>9417 rows × 19 columns</p>\n",
       "</div>"
      ],
      "text/plain": [
       "Sample              KDead_E  KDead_EA      KI_E     KI_EA      KO_E   Y726F_E  \\\n",
       "GPX1              -0.952666 -0.804980  0.180572 -0.831976  0.245796 -0.619947   \n",
       "PKD1L2             1.111373  0.787675  0.851830  0.656814  1.369108  0.218851   \n",
       "ENST00000622053.4 -0.860961 -0.840119 -0.608375 -0.748983 -0.832326 -0.881863   \n",
       "IGLV5-52          -1.444459  0.859360 -0.146834 -0.849833  0.571617  0.085337   \n",
       "IGLV1-51           0.460198 -0.110828 -1.070584 -1.146700  0.042593  0.358210   \n",
       "...                     ...       ...       ...       ...       ...       ...   \n",
       "AC139769.3         0.295438  0.931416 -0.893167  0.858279  1.179667 -0.643467   \n",
       "AC112907.2        -1.015461  0.231582 -1.381813 -0.301275 -0.417754  0.207009   \n",
       "AL450124.1         1.061606  0.245118  0.642248  0.603356  1.152630  0.909654   \n",
       "PMS2P6            -0.035939  0.079962  0.301239  0.190922  0.295447 -0.632961   \n",
       "FRG1BP             0.908061  0.413106 -0.638862  0.671648  0.426588 -0.736332   \n",
       "\n",
       "Sample             Y726F_EA   Y750F_E  Y750F_EA   Y821F_E  Y821F_EA   Y634F_E  \\\n",
       "GPX1              -0.955099 -1.150020 -1.097452 -1.203234 -1.669222  0.090009   \n",
       "PKD1L2             0.433419  0.307076  0.445966  1.208578  1.020740  0.655812   \n",
       "ENST00000622053.4 -0.666333 -0.721272 -0.708882 -0.859717 -0.840365 -0.522139   \n",
       "IGLV5-52           0.213432  0.794614  0.282615 -0.691153 -0.548304  2.222123   \n",
       "IGLV1-51          -0.380440 -0.939781 -0.349307 -0.274284  0.441239 -0.558065   \n",
       "...                     ...       ...       ...       ...       ...       ...   \n",
       "AC139769.3        -0.030193 -0.755220  0.716153  1.295603 -1.113428 -0.717046   \n",
       "AC112907.2        -0.173334 -0.405839  0.982715 -0.314665 -1.304193 -0.073679   \n",
       "AL450124.1         0.976740  0.831856  0.683840  0.747024  0.156124  0.209961   \n",
       "PMS2P6            -1.254310 -0.591555  1.986094  1.155283  1.237447  1.174188   \n",
       "FRG1BP             0.817992  0.878792  0.703090  1.295874  0.539583 -0.600125   \n",
       "\n",
       "Sample             Y634F_EA   Y643F_E  Y643F_EA   Y698F_E  Y698F_EA      WT_E  \\\n",
       "GPX1              -0.714651  0.369980 -0.297270 -0.825816 -0.888425  1.217476   \n",
       "PKD1L2             1.594462  1.091235  0.609850  0.595607  0.470614 -0.460967   \n",
       "ENST00000622053.4 -0.554901 -0.620171 -0.679258 -0.769428 -0.776988 -0.504634   \n",
       "IGLV5-52          -0.210512  0.102044 -0.987172  1.612156  2.545853 -0.346304   \n",
       "IGLV1-51          -0.545729  1.422977 -0.030150  3.376245 -0.599603 -0.241108   \n",
       "...                     ...       ...       ...       ...       ...       ...   \n",
       "AC139769.3        -0.542005  3.147534  0.413982 -0.235253  0.826602  0.173935   \n",
       "AC112907.2        -1.128727 -0.116016 -0.493231 -1.092383  0.090699 -1.422526   \n",
       "AL450124.1         0.618425  1.501152  0.218542  1.391751  0.517825 -0.068899   \n",
       "PMS2P6            -0.248537  0.303420  2.699462  0.050554 -0.996802 -0.094352   \n",
       "FRG1BP             1.221992  1.526211  0.529827 -0.370493  0.259254  1.475611   \n",
       "\n",
       "Sample                WT_EA  \n",
       "GPX1               2.446660  \n",
       "PKD1L2            -1.250536  \n",
       "ENST00000622053.4 -0.472856  \n",
       "IGLV5-52           0.110260  \n",
       "IGLV1-51           1.183253  \n",
       "...                     ...  \n",
       "AC139769.3        -1.381398  \n",
       "AC112907.2        -1.442750  \n",
       "AL450124.1         0.490588  \n",
       "PMS2P6             1.664239  \n",
       "FRG1BP             1.251216  \n",
       "\n",
       "[9417 rows x 19 columns]"
      ]
     },
     "execution_count": 41,
     "metadata": {},
     "output_type": "execute_result"
    }
   ],
   "source": [
    "print(samples)\n",
    "st_gsea_d"
   ]
  },
  {
   "cell_type": "code",
   "execution_count": 115,
   "metadata": {},
   "outputs": [],
   "source": [
    "# GO\n",
    "gs_res = gp.gsea(data=st_gsea_d, \n",
    "                 gene_sets='GO_Biological_Process_2021', \n",
    "                 cls= samples, \n",
    "                 # set permutation_type to phenotype if samples >=15\n",
    "                 permutation_type='phenotype',\n",
    "                 permutation_num=100, \n",
    "                 outdir='GSEA_standard_results/GSEA_EvsEA_GO21',\n",
    "                 method='signal_to_noise',\n",
    "                 processes=4, seed= 7,\n",
    "                 format='png')"
   ]
  },
  {
   "cell_type": "code",
   "execution_count": 116,
   "metadata": {},
   "outputs": [],
   "source": [
    "# WP\n",
    "gs_res = gp.gsea(data=st_gsea_d, \n",
    "                 gene_sets='WikiPathway_2021_Human',\n",
    "                 cls= samples, \n",
    "                 # set permutation_type to phenotype if samples >=15\n",
    "                 permutation_type='phenotype',\n",
    "                 permutation_num=100,\n",
    "                 outdir='GSEA_standard_results/GSEA_EvsEA_WP21',\n",
    "                 method='signal_to_noise',\n",
    "                 processes=4, seed= 7,\n",
    "                 format='png')"
   ]
  },
  {
   "cell_type": "code",
   "execution_count": 117,
   "metadata": {},
   "outputs": [],
   "source": [
    "# OGS\n",
    "gs_res = gp.gsea(data=st_gsea_d, \n",
    "                 gene_sets='MSigDB_Oncogenic_Signatures',\n",
    "                 cls= samples, \n",
    "                 # set permutation_type to phenotype if samples >=15\n",
    "                 permutation_type='phenotype',\n",
    "                 permutation_num=100,\n",
    "                 outdir='GSEA_standard_results/GSEA_EvsEA_OGS21',\n",
    "                 method='signal_to_noise',\n",
    "                 processes=4, seed= 7,\n",
    "                 format='png')"
   ]
  },
  {
   "cell_type": "code",
   "execution_count": 114,
   "metadata": {},
   "outputs": [],
   "source": [
    "# KEGG\n",
    "gs_res = gp.gsea(data=st_gsea_d, \n",
    "                 gene_sets='KEGG_2021_Human',\n",
    "                 cls= samples, \n",
    "                 # set permutation_type to phenotype if samples >=15\n",
    "                 permutation_type='phenotype',\n",
    "                 permutation_num=100,\n",
    "                 outdir='GSEA_standard_results/GSEA_EvsEA_KEGG21',\n",
    "                 method='signal_to_noise',\n",
    "                 processes=4, seed= 7,\n",
    "                 format='png')"
   ]
  },
  {
   "cell_type": "markdown",
   "metadata": {},
   "source": [
    "#### 4.1 GSEA with EA PCA loadings\n",
    "#### 4.1.1 Ranked PCA loadings"
   ]
  },
  {
   "cell_type": "code",
   "execution_count": 28,
   "metadata": {},
   "outputs": [],
   "source": [
    "dLoad_EA = dLoad_EA.reset_index()\n",
    "dLoad_EA = dLoad_EA.rename(columns={\"index\": \"Gene\"})\n",
    "rankPCS = dLoad_EA.iloc[:, 1:].abs().sum(axis=1)\n",
    "dLoad_EA[\"Sum\"] = rankPCS\n",
    "PCrank = rankPCS.sort_values(ascending=False).index\n",
    "\n",
    "LoadR_pcs = dLoad_EA.iloc[PCrank, :]\n",
    "LoadR_pcs = LoadR_pcs[[\"Gene\", \"Sum\"]].set_index(\"Gene\")\n",
    "LoadR_pcs = LoadR_pcs[~LoadR_pcs.index.duplicated()]\n",
    "LoadR_pcs.iloc[:, :] = StandardScaler().fit_transform(LoadR_pcs)"
   ]
  },
  {
   "cell_type": "code",
   "execution_count": 31,
   "metadata": {},
   "outputs": [],
   "source": [
    "# GO\n",
    "pre_res_EA = gp.prerank(rnk=LoadR_pcs, gene_sets='GO_Biological_Process_2021',\n",
    "                     processes=4,\n",
    "                     permutation_num=100,\n",
    "                     outdir='GSEA_ranked_results/GO/PCA_PCs_EA_GO21', format='png', seed=6)\n",
    "\n",
    "# terms = pre_res.res2d.index\n",
    "# gseaplot(rank_metric=pre_res.ranking, term=terms[4], **pre_res.results[terms[4]])"
   ]
  },
  {
   "cell_type": "code",
   "execution_count": 32,
   "metadata": {},
   "outputs": [],
   "source": [
    "# WikiPathways\n",
    "pre_res_EA = gp.prerank(rnk=LoadR_pcs, gene_sets='WikiPathway_2021_Human',\n",
    "                     processes=4,\n",
    "                     permutation_num=100,\n",
    "                     outdir='GSEA_ranked_results/WP/PCA_PCs_EA_WP21', format='png', seed=6)"
   ]
  },
  {
   "cell_type": "code",
   "execution_count": 33,
   "metadata": {},
   "outputs": [],
   "source": [
    "# OncoPathways\n",
    "pre_res_EA = gp.prerank(rnk=LoadR_pcs, gene_sets='MSigDB_Oncogenic_Signatures',\n",
    "                     processes=4,\n",
    "                     permutation_num=100,\n",
    "                     outdir='GSEA_ranked_results/OGS/PCA_PCs_EA_OGS', format='png', seed=6)"
   ]
  },
  {
   "cell_type": "markdown",
   "metadata": {},
   "source": [
    "#### 4.1.2 PCA loadings ranked by AXL MS"
   ]
  },
  {
   "cell_type": "code",
   "execution_count": 29,
   "metadata": {},
   "outputs": [],
   "source": [
    "MSrank = ms.iloc[:, 6:].set_index(\"Gene\").abs().sum(axis=1).sort_values(ascending=False)\n",
    "MSrank = MSrank[~MSrank.index.duplicated()]\n",
    "MSrank = MSrank.drop(['MCAM', 'ALB', 'PAG1', 'TNS1', 'DYRK3', 'EPHA5', 'MAPK10', 'SEPT2', 'TEC', 'PARD3B'])\n",
    "dLoad_EA = dLoad_EA.sort_values(by=\"Sum\", ascending=False).set_index(\"Gene\")\n",
    "dLoad_EA = dLoad_EA[~dLoad_EA.index.duplicated()]\n",
    "dLoad_msR = dLoad_EA.loc[MSrank.index]\n",
    "dLoad_msR = dLoad_msR.reset_index()[[\"Gene\", \"Sum\"]].set_index(\"Gene\")\n",
    "dLoad_msR.iloc[:, :] = StandardScaler().fit_transform(dLoad_msR)"
   ]
  },
  {
   "cell_type": "code",
   "execution_count": 43,
   "metadata": {},
   "outputs": [],
   "source": [
    "# GO\n",
    "pre_res_MS_go = gp.prerank(rnk=dLoad_msR, gene_sets='GO_Biological_Process_2021',\n",
    "                     processes=4,\n",
    "                     permutation_num=100,\n",
    "                     outdir='GSEA_ranked_results/GO/PCA_MS_EA_GO21', format='png', seed=6)"
   ]
  },
  {
   "cell_type": "code",
   "execution_count": 44,
   "metadata": {},
   "outputs": [],
   "source": [
    "# WP\n",
    "pre_res_MS_wp = gp.prerank(rnk=dLoad_msR, gene_sets='WikiPathway_2021_Human',\n",
    "                     processes=4,\n",
    "                     permutation_num=100,\n",
    "                     outdir='GSEA_ranked_results/WP/PCA_MS_EA_WP21', format='png', seed=6)"
   ]
  },
  {
   "cell_type": "code",
   "execution_count": 45,
   "metadata": {},
   "outputs": [],
   "source": [
    "# OGS\n",
    "pre_res_MS_ogs = gp.prerank(rnk=dLoad_msR, gene_sets='MSigDB_Oncogenic_Signatures',\n",
    "                     processes=4,\n",
    "                     permutation_num=100,\n",
    "                     outdir='GSEA_ranked_results/OGS/PCA_MS_EA_OGS', format='png', seed=6)"
   ]
  },
  {
   "cell_type": "markdown",
   "metadata": {},
   "source": [
    "#### 4.1.3 PCA loadings ranked by PC1"
   ]
  },
  {
   "cell_type": "code",
   "execution_count": 30,
   "metadata": {},
   "outputs": [],
   "source": [
    "dPC1 = dLoad_EA.reset_index().sort_values(by=\"PC1\", ascending=False)[[\"Gene\", \"PC1\"]]\n",
    "dPC1 = dPC1[~dPC1.index.duplicated()].set_index(\"Gene\")\n",
    "dPC1.iloc[:, :] = StandardScaler().fit_transform(dPC1)"
   ]
  },
  {
   "cell_type": "code",
   "execution_count": 52,
   "metadata": {},
   "outputs": [],
   "source": [
    "#GO\n",
    "pre_res_pc1GO = gp.prerank(rnk=dPC1, gene_sets='GO_Biological_Process_2021',\n",
    "                     processes=4,\n",
    "                     permutation_num=100,\n",
    "                     outdir='GSEA_ranked_results/GO/PCA_PC1_EA_GO21', format='png', seed=6)"
   ]
  },
  {
   "cell_type": "code",
   "execution_count": 53,
   "metadata": {},
   "outputs": [],
   "source": [
    "# WP\n",
    "pre_res_pc1WP = gp.prerank(rnk=dPC1, gene_sets='WikiPathway_2021_Human',\n",
    "                     processes=4,\n",
    "                     permutation_num=100,\n",
    "                     outdir='GSEA_ranked_results/WP/PCA_PC1_EA_WP21', format='png', seed=6)"
   ]
  },
  {
   "cell_type": "code",
   "execution_count": 54,
   "metadata": {},
   "outputs": [],
   "source": [
    "# OGS\n",
    "pre_res_pc1OGS = gp.prerank(rnk=dPC1, gene_sets='MSigDB_Oncogenic_Signatures',\n",
    "                     processes=4,\n",
    "                     permutation_num=100,\n",
    "                     outdir='GSEA_ranked_results/OGS/PCA_PC1_EA_OGS', format='png', seed=6)"
   ]
  },
  {
   "cell_type": "markdown",
   "metadata": {},
   "source": [
    "### 4.3 GSEA with Full PCA Loadings "
   ]
  },
  {
   "cell_type": "code",
   "execution_count": 31,
   "metadata": {},
   "outputs": [],
   "source": [
    "ppF = PCA(n_components=n_components)\n",
    "dScor_F = ppF.fit_transform(rna_f.select_dtypes(include=[\"float64\"]))\n",
    "dLoad_F = ppF.components_\n",
    "dScor_F, dLoad_F = pca_dfs(dScor_F, dLoad_F, rna_f, n_components, scores_ind, loadings_ind)\n",
    "scoresF = dScor_F.set_index(\"Cell Lines\")\n",
    "scoresF.iloc[:, :] = StandardScaler().fit_transform(dScor_F.set_index(\"Cell Lines\"))\n",
    "varExp = np.round(ppF.explained_variance_ratio_, 2)"
   ]
  },
  {
   "cell_type": "markdown",
   "metadata": {},
   "source": [
    "#### 4.3.1 Ranked by all PCs "
   ]
  },
  {
   "cell_type": "code",
   "execution_count": 32,
   "metadata": {},
   "outputs": [],
   "source": [
    "dLoad_F = dLoad_F.reset_index()\n",
    "dLoad_F = dLoad_F.rename(columns={\"index\": \"Gene\"})\n",
    "rankPCS = dLoad_F.iloc[:, 1:].abs().sum(axis=1)\n",
    "dLoad_F[\"Sum\"] = rankPCS\n",
    "PCrank = rankPCS.sort_values(ascending=False).index\n",
    "\n",
    "LoadF_pcs = dLoad_F.iloc[PCrank, :]\n",
    "LoadF_pcs = LoadF_pcs[[\"Gene\", \"Sum\"]].set_index(\"Gene\")\n",
    "LoadF_pcs = LoadF_pcs[~LoadF_pcs.index.duplicated()]\n",
    "LoadF_pcs.iloc[:, :] = StandardScaler().fit_transform(LoadF_pcs)"
   ]
  },
  {
   "cell_type": "code",
   "execution_count": 33,
   "metadata": {},
   "outputs": [],
   "source": [
    "# GO\n",
    "pre_res_F_go = gp.prerank(rnk=LoadF_pcs, gene_sets='GO_Biological_Process_2021',\n",
    "                     processes=4,\n",
    "                     permutation_num=100,\n",
    "                     outdir='GSEA_ranked_results/GO/PCA_Fpcs_GO21', format='png', seed=6)"
   ]
  },
  {
   "cell_type": "code",
   "execution_count": 34,
   "metadata": {},
   "outputs": [],
   "source": [
    "# WP\n",
    "pre_res_F_go = gp.prerank(rnk=LoadF_pcs, gene_sets='WikiPathway_2021_Human',\n",
    "                     processes=4,\n",
    "                     permutation_num=100,\n",
    "                     outdir='GSEA_ranked_results/WP/PCA_PCs_F_WP21', format='png', seed=6)"
   ]
  },
  {
   "cell_type": "code",
   "execution_count": 35,
   "metadata": {},
   "outputs": [],
   "source": [
    "# OGS\n",
    "pre_res_pc1OGS = gp.prerank(rnk=LoadF_pcs, gene_sets='MSigDB_Oncogenic_Signatures',\n",
    "                     processes=4,\n",
    "                     permutation_num=100,\n",
    "                     outdir='GSEA_ranked_results/OGS/PCA_PCs_F_OGS', format='png', seed=6)"
   ]
  },
  {
   "cell_type": "markdown",
   "metadata": {},
   "source": [
    "#### 4.3.2 Full PCA loadings ranked by AXL MS"
   ]
  },
  {
   "cell_type": "code",
   "execution_count": 36,
   "metadata": {},
   "outputs": [],
   "source": [
    "MSrankF = ms.iloc[:, 6:].set_index(\"Gene\").abs().sum(axis=1).sort_values(ascending=False)\n",
    "MSrankF = MSrankF[~MSrankF.index.duplicated()]\n",
    "MSrankF = MSrankF.drop(['MCAM', 'ALB', 'PAG1', 'TNS1', 'DYRK3', 'EPHA5', 'MAPK10', 'SEPT2', 'TEC', 'PARD3B'])\n",
    "dLoad_F = dLoad_F.sort_values(by=\"Sum\", ascending=False).set_index(\"Gene\")\n",
    "dLoad_F = dLoad_F[~dLoad_F.index.duplicated()]\n",
    "dLoad_msF = dLoad_F.loc[MSrankF.index]\n",
    "dLoad_msF = dLoad_msF.reset_index()[[\"Gene\", \"Sum\"]].set_index(\"Gene\")\n",
    "dLoad_msF.iloc[:, :] = StandardScaler().fit_transform(dLoad_msF)"
   ]
  },
  {
   "cell_type": "code",
   "execution_count": 37,
   "metadata": {},
   "outputs": [],
   "source": [
    "# GO\n",
    "pre_res_F_go = gp.prerank(rnk=dLoad_msF, gene_sets='GO_Biological_Process_2021',\n",
    "                     processes=4,\n",
    "                     permutation_num=100,\n",
    "                     outdir='GSEA_ranked_results/GO/PCA_MS_F_GO21', format='png', seed=6)"
   ]
  },
  {
   "cell_type": "code",
   "execution_count": 38,
   "metadata": {},
   "outputs": [],
   "source": [
    "# WP\n",
    "pre_res_F_go = gp.prerank(rnk=dLoad_msF, gene_sets='WikiPathway_2021_Human',\n",
    "                     processes=4,\n",
    "                     permutation_num=100,\n",
    "                     outdir='GSEA_ranked_results/WP/PCA_MS_F_WP21', format='png', seed=6)"
   ]
  },
  {
   "cell_type": "code",
   "execution_count": 39,
   "metadata": {},
   "outputs": [],
   "source": [
    "# OGS\n",
    "pre_res_pc1OGS = gp.prerank(rnk=dLoad_msF, gene_sets='MSigDB_Oncogenic_Signatures',\n",
    "                     processes=4,\n",
    "                     permutation_num=100,\n",
    "                     outdir='GSEA_ranked_results/OGS/PCA_MS_F_OGS', format='png', seed=6)"
   ]
  },
  {
   "cell_type": "markdown",
   "metadata": {},
   "source": [
    "### 4.4 Prep input data for ClusterProfiler"
   ]
  },
  {
   "cell_type": "code",
   "execution_count": 104,
   "metadata": {},
   "outputs": [],
   "source": [
    "clusPro = pd.melt(rna_f, id_vars=[\"Cell Lines\", \"Treatment\"], value_vars=rna_f.columns[2:], var_name=\"Gene\", value_name=\"log(TPM)\")\n",
    "clusPro = clusPro.rename(columns={\"Cell Lines\":\"Lines\"})\n",
    "clusPro = clusPro[~clusPro[\"Gene\"].str.startswith(\"ENST0\")].set_index([\"Gene\", \"Treatment\", \"Lines\"])\n",
    "clusPro = clusPro[~clusPro.index.duplicated()]\n",
    "\n",
    "# Filter based on signal\n",
    "XIDX = list((clusPro[\"log(TPM)\"] >= 1) | (clusPro[\"log(TPM)\"] <= -1))\n",
    "clusPro_f = clusPro.iloc[XIDX, :]\n",
    "clusPro_f.to_csv(\"RNAseq_CLuPro_Filtered_Input.csv\")\n"
   ]
  },
  {
   "cell_type": "code",
   "execution_count": 113,
   "metadata": {},
   "outputs": [],
   "source": [
    "clusPro_f.to_csv(\"RNAseq_CLuPro_Filtered_Input.csv\")"
   ]
  },
  {
   "cell_type": "code",
   "execution_count": 108,
   "metadata": {},
   "outputs": [
    {
     "name": "stdout",
     "output_type": "stream",
     "text": [
      "querying 1-1000...done.\n",
      "querying 1001-2000...done.\n",
      "querying 2001-3000...done.\n",
      "querying 3001-4000...done.\n",
      "querying 4001-5000...done.\n",
      "querying 5001-6000...done.\n",
      "querying 6001-7000...done.\n",
      "querying 7001-8000...done.\n",
      "querying 8001-9000...done.\n",
      "querying 9001-10000...done.\n",
      "querying 10001-11000...done.\n",
      "querying 11001-12000...done.\n",
      "querying 12001-13000...done.\n",
      "querying 13001-14000...done.\n",
      "querying 14001-15000...done.\n",
      "querying 15001-16000...done.\n",
      "querying 16001-17000...done.\n",
      "querying 17001-18000...done.\n",
      "querying 18001-19000...done.\n",
      "querying 19001-20000...done.\n",
      "querying 20001-21000...done.\n",
      "querying 21001-22000...done.\n",
      "querying 22001-23000...done.\n",
      "querying 23001-24000...done.\n",
      "querying 24001-25000...done.\n",
      "querying 25001-26000...done.\n",
      "querying 26001-27000...done.\n",
      "querying 27001-28000...done.\n",
      "querying 28001-29000...done.\n",
      "querying 29001-30000...done.\n",
      "querying 30001-31000...done.\n",
      "querying 31001-32000...done.\n",
      "querying 32001-33000...done.\n",
      "querying 33001-34000...done.\n",
      "querying 34001-35000...done.\n",
      "querying 35001-36000...done.\n",
      "querying 36001-37000...done.\n",
      "querying 37001-38000...done.\n",
      "querying 38001-39000...done.\n",
      "querying 39001-40000...done.\n",
      "querying 40001-41000...done.\n",
      "querying 41001-42000...done.\n",
      "querying 42001-43000...done.\n",
      "querying 43001-44000...done.\n",
      "querying 44001-45000...done.\n",
      "querying 45001-46000...done.\n",
      "querying 46001-47000...done.\n",
      "querying 47001-48000...done.\n",
      "querying 48001-49000...done.\n",
      "querying 49001-50000...done.\n",
      "querying 50001-51000...done.\n",
      "querying 51001-52000...done.\n",
      "querying 52001-53000...done.\n",
      "querying 53001-54000...done.\n",
      "querying 54001-55000...done.\n",
      "querying 55001-56000...done.\n",
      "querying 56001-57000...done.\n",
      "querying 57001-58000...done.\n",
      "querying 58001-59000...done.\n",
      "querying 59001-60000...done.\n",
      "querying 60001-61000...done.\n",
      "querying 61001-62000...done.\n",
      "querying 62001-63000...done.\n",
      "querying 63001-64000...done.\n",
      "querying 64001-65000...done.\n",
      "querying 65001-66000...done.\n",
      "querying 66001-67000...done.\n",
      "querying 67001-68000...done.\n",
      "querying 68001-69000...done.\n",
      "querying 69001-70000...done.\n",
      "querying 70001-71000...done.\n",
      "querying 71001-72000...done.\n",
      "querying 72001-73000...done.\n",
      "querying 73001-74000...done.\n",
      "querying 74001-75000...done.\n",
      "querying 75001-76000...done.\n",
      "querying 76001-77000...done.\n",
      "querying 77001-78000...done.\n",
      "querying 78001-79000...done.\n",
      "querying 79001-80000...done.\n",
      "querying 80001-81000...done.\n",
      "querying 81001-82000...done.\n",
      "querying 82001-83000...done.\n",
      "querying 83001-84000...done.\n",
      "querying 84001-85000...done.\n",
      "querying 85001-86000...done.\n",
      "querying 86001-87000...done.\n",
      "querying 87001-88000...done.\n",
      "querying 88001-89000...done.\n",
      "querying 89001-90000...done.\n",
      "querying 90001-91000...done.\n",
      "querying 91001-92000...done.\n",
      "querying 92001-93000...done.\n",
      "querying 93001-94000...done.\n",
      "querying 94001-95000...done.\n",
      "querying 95001-96000...done.\n",
      "querying 96001-97000...done.\n",
      "querying 97001-98000...done.\n",
      "querying 98001-99000...done.\n",
      "querying 99001-100000...done.\n",
      "querying 100001-101000...done.\n",
      "querying 101001-102000...done.\n",
      "querying 102001-103000...done.\n",
      "querying 103001-104000...done.\n",
      "querying 104001-105000...done.\n",
      "querying 105001-106000...done.\n",
      "querying 106001-107000...done.\n",
      "querying 107001-108000...done.\n",
      "querying 108001-108174...done.\n",
      "Finished.\n",
      "10842 input query terms found dup hits:\n",
      "\t[('GPX1', 10), ('PKD1L2', 11), ('TRBC2', 12), ('IGLV5-52', 12), ('IGLV1-51', 16), ('TRDJ1', 2), ('TR\n",
      "6055 input query terms found no hit:\n",
      "\t['MT-ND1', 'MT-ND1', 'MT-ND1', 'MT-ND1', 'MT-ND1', 'MT-ND1', 'MT-ND2', 'MT-ND2', 'MT-ND2', 'MT-ND2',\n",
      "Pass \"returnall=True\" to return complete lists of duplicate or missing query terms.\n"
     ]
    }
   ],
   "source": [
    "import mygene\n",
    "\n",
    "clusPro_f = clusPro_f.reset_index()\n",
    "mg = mygene.MyGeneInfo()\n",
    "gg = mg.querymany(list(clusPro_f[\"Gene\"]), scopes=\"symbol\", fields=\"entrezgene\", species=\"human\", returnall=False, as_dataframe=True)\n",
    "aa = dict(zip(list(gg.index), list(gg[\"entrezgene\"])))\n",
    "for ii in range(clusPro_f.shape[0]):\n",
    "    clusPro_f.loc[ii, \"Gene\"] = aa[clusPro_f.loc[ii, \"Gene\"]]"
   ]
  },
  {
   "cell_type": "markdown",
   "metadata": {},
   "source": [
    "### 4.5 GSEA of WGCNA clusters"
   ]
  },
  {
   "cell_type": "code",
   "execution_count": null,
   "metadata": {},
   "outputs": [],
   "source": [
    "from gseapy.plot import gseaplot, dotplot, barplot"
   ]
  },
  {
   "cell_type": "markdown",
   "metadata": {},
   "source": [
    "## 6. AXL Correlation Analysis"
   ]
  },
  {
   "cell_type": "code",
   "execution_count": null,
   "metadata": {},
   "outputs": [],
   "source": []
  }
 ],
 "metadata": {
  "kernelspec": {
   "display_name": "Python 3.9.14 ('venv': venv)",
   "language": "python",
   "name": "python3"
  },
  "language_info": {
   "codemirror_mode": {
    "name": "ipython",
    "version": 3
   },
   "file_extension": ".py",
   "mimetype": "text/x-python",
   "name": "python",
   "nbconvert_exporter": "python",
   "pygments_lexer": "ipython3",
   "version": "3.9.14"
  },
  "orig_nbformat": 4,
  "vscode": {
   "interpreter": {
    "hash": "2aa8ab5353e2da0ffb4ea2b705806a26b5687a29d359e9cb82051fda7bf272de"
   }
  }
 },
 "nbformat": 4,
 "nbformat_minor": 2
}
