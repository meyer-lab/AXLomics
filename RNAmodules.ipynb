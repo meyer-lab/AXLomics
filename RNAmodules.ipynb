{
 "cells": [
  {
   "cell_type": "markdown",
   "metadata": {},
   "source": [
    "# AXL RNAseq analysis"
   ]
  },
  {
   "cell_type": "code",
   "execution_count": 1,
   "metadata": {},
   "outputs": [],
   "source": [
    "import matplotlib\n",
    "import matplotlib.pyplot as plt\n",
    "import seaborn as sns\n",
    "import numpy as np\n",
    "from msresist.pre_processing import preprocessing, VarianceFilter\n",
    "from msresist.clustering import MassSpecClustering\n",
    "from msresist.plsr import plotR2YQ2Y\n",
    "from msresist.figures.common import import_phenotype_data, formatPhenotypesForModeling\n",
    "from sklearn.cross_decomposition import PLSRegression\n",
    "from sklearn.preprocessing import StandardScaler\n",
    "from sklearn.linear_model import MultiTaskLassoCV\n",
    "from sklearn.metrics import r2_score\n",
    "import pandas as pd"
   ]
  },
  {
   "cell_type": "code",
   "execution_count": 2,
   "metadata": {},
   "outputs": [],
   "source": [
    "# Set plotting format\n",
    "matplotlib.rcParams['font.sans-serif'] = \"Arial\"\n",
    "sns.set(style=\"whitegrid\", font_scale=1, color_codes=True, palette=\"colorblind\", rc={\"grid.linestyle\": \"dotted\", \"axes.linewidth\": 0.6})"
   ]
  },
  {
   "cell_type": "markdown",
   "metadata": {},
   "source": [
    "## 0. Import and Preprocess RNAseq data"
   ]
  },
  {
   "cell_type": "code",
   "execution_count": 3,
   "metadata": {},
   "outputs": [],
   "source": [
    "rna = pd.read_feather(\"msresist/data/RNAseq/AXLmutants_RNAseq_merged.feather\").iloc[:, 1:]\n",
    "idsT = pd.read_csv(\"msresist/data/RNAseq/transcripts_to_genes.csv\")\n",
    "ids = dict(zip(idsT[\"ENSEMBL1\"], idsT[\"SYMBOL\"]))\n",
    "rna.insert(0, \"Cell Lines\", [s[:3] if \"M1\" in s else s[:2] for s in rna[\"Cell Line\"]])\n",
    "rna.insert(1, \"Treatment\", [s[-1] if s[-1] == \"E\" in s else s[-2:] for s in rna[\"Cell Line\"]])\n",
    "rna = rna.drop(\"Cell Line\", axis=1)\n",
    "XIDX = np.any(rna.iloc[:, 2:].values > 20, axis=0)\n",
    "rna_f = rna.iloc[:, [True, True] + list(XIDX)]\n",
    "# rna_f.iloc[:, 2:] = pd.DataFrame(StandardScaler().fit_transform(rna_f.iloc[:, 2:]))\n",
    "rna_f.columns = [\"Cell Lines\", \"Treatment\"] + [ids[g] if g in ids.keys() else g for g in list(rna_f.columns[2:])]\n",
    "rna_f = rna_f.set_index(\"Cell Lines\").T\n",
    "rna_f = rna_f.rename(columns={\"KD\":\"KD\", \"PC9\":\"WT\", \"M4\": \"Y634F\", \"M5\":\"Y643F\", \"M7\":\"Y698F\", \"M10\":\"Y726F\", \"M11\":\"Y750F\", \"M15\":\"Y821F\"}).T.reset_index()"
   ]
  },
  {
   "cell_type": "code",
   "execution_count": 4,
   "metadata": {},
   "outputs": [],
   "source": [
    "def filter_by_EvEAvar(rna_f, savefig=False, perCut=50):\n",
    "    rnaE = rna_f[rna_f[\"Treatment\"] == \"E\"].sort_values(by=\"Cell Lines\")\n",
    "    rnaEA = rna_f[(rna_f[\"Treatment\"] == \"EA\") | (rna_f[\"Cell Lines\"] == \"KO\") & ~(rna_f[\"Treatment\"] == \"UT\")].sort_values(by=\"Cell Lines\")\n",
    "    ssd = []\n",
    "    for ii in range(2, rnaE.shape[1]):\n",
    "        ssd.append(np.sum(np.square(rnaEA.iloc[:, ii].values - rnaE.iloc[:, ii].values)))\n",
    "    rna_fEA = rna_f.iloc[:, [True, True] + list(ssd >= np.percentile(ssd, perCut))]\n",
    "    rna_fEA = rna_fEA[rna_fEA[\"Treatment\"] != \"UT\"].T\n",
    "    rna_fEA.columns = [c + \"-\" + t for c, t in list(zip(rna_fEA.iloc[0, :], rna_fEA.iloc[1, :]))]\n",
    "    rna_fEA = rna_fEA.iloc[2:, :]\n",
    "    if savefig:\n",
    "        rna_fEA.to_csv(\"msresist/WGCNA/WGCNA_input_Filtered_Abundance_and_EvA.txt\", sep=\"\\t\")        \n",
    "    return rna_fEA\n",
    "\n",
    "rna_fEA = filter_by_EvEAvar(rna_f, savefig=True, perCut=50)"
   ]
  },
  {
   "cell_type": "markdown",
   "metadata": {},
   "source": [
    "## 1. Targeted Pathways / Kinases"
   ]
  },
  {
   "cell_type": "code",
   "execution_count": 8,
   "metadata": {},
   "outputs": [
    {
     "data": {
      "text/plain": [
       "<seaborn.matrix.ClusterGrid at 0x7f9a1efb8460>"
      ]
     },
     "execution_count": 8,
     "metadata": {},
     "output_type": "execute_result"
    },
    {
     "data": {
      "image/png": "[encoded data removed]",
      "text/plain": [
       "<Figure size 432x504 with 4 Axes>"
      ]
     },
     "metadata": {},
     "output_type": "display_data"
    }
   ],
   "source": [
    "axls = rna_f.set_index([\"Cell Lines\", \"Treatment\"])[\"AXL\"]\n",
    "sns.clustermap(axls.astype(float), figsize=(6, 7), yticklabels=True)"
   ]
  },
  {
   "cell_type": "code",
   "execution_count": 10,
   "metadata": {},
   "outputs": [
    {
     "data": {
      "text/html": [
       "<div>\n",
       "<style scoped>\n",
       "    .dataframe tbody tr th:only-of-type {\n",
       "        vertical-align: middle;\n",
       "    }\n",
       "\n",
       "    .dataframe tbody tr th {\n",
       "        vertical-align: top;\n",
       "    }\n",
       "\n",
       "    .dataframe thead th {\n",
       "        text-align: right;\n",
       "    }\n",
       "</style>\n",
       "<table border=\"1\" class=\"dataframe\">\n",
       "  <thead>\n",
       "    <tr style=\"text-align: right;\">\n",
       "      <th></th>\n",
       "      <th>HALLMARK_TNFA_SIGNALING_VIA_NFKB</th>\n",
       "      <th>HALLMARK_HYPOXIA</th>\n",
       "      <th>HALLMARK_CHOLESTEROL_HOMEOSTASIS</th>\n",
       "      <th>HALLMARK_TGF_BETA_SIGNALING</th>\n",
       "      <th>HALLMARK_DNA_REPAIR</th>\n",
       "      <th>HALLMARK_G2M_CHECKPOINT</th>\n",
       "      <th>HALLMARK_APOPTOSIS</th>\n",
       "      <th>HALLMARK_NOTCH_SIGNALING</th>\n",
       "      <th>HALLMARK_ADIPOGENESIS</th>\n",
       "      <th>HALLMARK_ESTROGEN_RESPONSE_EARLY</th>\n",
       "      <th>...</th>\n",
       "      <th>HALLMARK_IL2_STAT5_SIGNALING</th>\n",
       "      <th>HALLMARK_ALLOGRAFT_REJECTION</th>\n",
       "      <th>HALLMARK_KRAS_SIGNALING_UP</th>\n",
       "      <th>FATTY_ACID_BETA_OXIDATION</th>\n",
       "      <th>S.GENES.ITAY</th>\n",
       "      <th>G2M.GENES.ITAY</th>\n",
       "      <th>CELL_CYCLE</th>\n",
       "      <th>NRF2_ROMORO</th>\n",
       "      <th>KEGG_GLUTATHIONE_METABOLISM</th>\n",
       "      <th>GO_ANTIOXIDANT_ACTIVITY</th>\n",
       "    </tr>\n",
       "  </thead>\n",
       "  <tbody>\n",
       "    <tr>\n",
       "      <th>0</th>\n",
       "      <td>JUNB</td>\n",
       "      <td>PGK1</td>\n",
       "      <td>FDPS</td>\n",
       "      <td>TGFBR1</td>\n",
       "      <td>POLR2H</td>\n",
       "      <td>AURKA</td>\n",
       "      <td>CASP3</td>\n",
       "      <td>JAG1</td>\n",
       "      <td>FABP4</td>\n",
       "      <td>GREB1</td>\n",
       "      <td>...</td>\n",
       "      <td>SOCS2</td>\n",
       "      <td>PTPRC</td>\n",
       "      <td>ANGPTL4</td>\n",
       "      <td>ACADM</td>\n",
       "      <td>MCM5</td>\n",
       "      <td>HMGB2</td>\n",
       "      <td>MCM5</td>\n",
       "      <td>TXNRD1</td>\n",
       "      <td>ANPEP</td>\n",
       "      <td>ALB</td>\n",
       "    </tr>\n",
       "    <tr>\n",
       "      <th>1</th>\n",
       "      <td>CXCL2</td>\n",
       "      <td>PDK1</td>\n",
       "      <td>CYP51A1</td>\n",
       "      <td>SMAD7</td>\n",
       "      <td>POLR2A</td>\n",
       "      <td>CCNA2</td>\n",
       "      <td>CASP9</td>\n",
       "      <td>NOTCH3</td>\n",
       "      <td>ADIPOQ</td>\n",
       "      <td>CA12</td>\n",
       "      <td>...</td>\n",
       "      <td>CISH</td>\n",
       "      <td>IL12B</td>\n",
       "      <td>ITGA2</td>\n",
       "      <td>ACADS</td>\n",
       "      <td>PCNA</td>\n",
       "      <td>CDK1</td>\n",
       "      <td>PCNA</td>\n",
       "      <td>TKT</td>\n",
       "      <td>G6PD</td>\n",
       "      <td>ALOX5AP</td>\n",
       "    </tr>\n",
       "    <tr>\n",
       "      <th>2</th>\n",
       "      <td>ATF3</td>\n",
       "      <td>GBE1</td>\n",
       "      <td>IDI1</td>\n",
       "      <td>TGFB1</td>\n",
       "      <td>POLR2G</td>\n",
       "      <td>TOP2A</td>\n",
       "      <td>DFFA</td>\n",
       "      <td>NOTCH2</td>\n",
       "      <td>PPARG</td>\n",
       "      <td>SLC9A3R1</td>\n",
       "      <td>...</td>\n",
       "      <td>PIM1</td>\n",
       "      <td>TGFB1</td>\n",
       "      <td>SPRY2</td>\n",
       "      <td>ACADVL</td>\n",
       "      <td>TYMS</td>\n",
       "      <td>NUSAP1</td>\n",
       "      <td>TYMS</td>\n",
       "      <td>SRXN1</td>\n",
       "      <td>GCLC</td>\n",
       "      <td>APOA4</td>\n",
       "    </tr>\n",
       "    <tr>\n",
       "      <th>3</th>\n",
       "      <td>NFKBIA</td>\n",
       "      <td>PFKL</td>\n",
       "      <td>FDFT1</td>\n",
       "      <td>SMURF2</td>\n",
       "      <td>POLR2E</td>\n",
       "      <td>CCNB2</td>\n",
       "      <td>CASP7</td>\n",
       "      <td>APH1A</td>\n",
       "      <td>LIPE</td>\n",
       "      <td>MYB</td>\n",
       "      <td>...</td>\n",
       "      <td>IL2RA</td>\n",
       "      <td>IL12A</td>\n",
       "      <td>HBEGF</td>\n",
       "      <td>BDH2</td>\n",
       "      <td>FEN1</td>\n",
       "      <td>UBE2C</td>\n",
       "      <td>FEN1</td>\n",
       "      <td>NQO1</td>\n",
       "      <td>GCLM</td>\n",
       "      <td>APOE</td>\n",
       "    </tr>\n",
       "    <tr>\n",
       "      <th>4</th>\n",
       "      <td>TNFAIP3</td>\n",
       "      <td>ALDOA</td>\n",
       "      <td>DHCR7</td>\n",
       "      <td>SMURF1</td>\n",
       "      <td>POLR2J</td>\n",
       "      <td>CENPA</td>\n",
       "      <td>CFLAR</td>\n",
       "      <td>HES1</td>\n",
       "      <td>DGAT1</td>\n",
       "      <td>ANXA9</td>\n",
       "      <td>...</td>\n",
       "      <td>TNFRSF4</td>\n",
       "      <td>CD3E</td>\n",
       "      <td>RBP4</td>\n",
       "      <td>CPT1A</td>\n",
       "      <td>MCM2</td>\n",
       "      <td>BIRC5</td>\n",
       "      <td>MCM2</td>\n",
       "      <td>GCLC</td>\n",
       "      <td>GGCT</td>\n",
       "      <td>APOM</td>\n",
       "    </tr>\n",
       "    <tr>\n",
       "      <th>...</th>\n",
       "      <td>...</td>\n",
       "      <td>...</td>\n",
       "      <td>...</td>\n",
       "      <td>...</td>\n",
       "      <td>...</td>\n",
       "      <td>...</td>\n",
       "      <td>...</td>\n",
       "      <td>...</td>\n",
       "      <td>...</td>\n",
       "      <td>...</td>\n",
       "      <td>...</td>\n",
       "      <td>...</td>\n",
       "      <td>...</td>\n",
       "      <td>...</td>\n",
       "      <td>...</td>\n",
       "      <td>...</td>\n",
       "      <td>...</td>\n",
       "      <td>...</td>\n",
       "      <td>...</td>\n",
       "      <td>...</td>\n",
       "      <td>...</td>\n",
       "    </tr>\n",
       "    <tr>\n",
       "      <th>195</th>\n",
       "      <td>GFPT2</td>\n",
       "      <td>HOXB9</td>\n",
       "      <td>NaN</td>\n",
       "      <td>NaN</td>\n",
       "      <td>NaN</td>\n",
       "      <td>MEIS2</td>\n",
       "      <td>NaN</td>\n",
       "      <td>NaN</td>\n",
       "      <td>ABCB8</td>\n",
       "      <td>RRP12</td>\n",
       "      <td>...</td>\n",
       "      <td>TGM2</td>\n",
       "      <td>RPL9</td>\n",
       "      <td>SNAP91</td>\n",
       "      <td>NaN</td>\n",
       "      <td>NaN</td>\n",
       "      <td>NaN</td>\n",
       "      <td>NaN</td>\n",
       "      <td>NaN</td>\n",
       "      <td>NaN</td>\n",
       "      <td>NaN</td>\n",
       "    </tr>\n",
       "    <tr>\n",
       "      <th>196</th>\n",
       "      <td>KLF2</td>\n",
       "      <td>SELENBP1</td>\n",
       "      <td>NaN</td>\n",
       "      <td>NaN</td>\n",
       "      <td>NaN</td>\n",
       "      <td>PAFAH1B1</td>\n",
       "      <td>NaN</td>\n",
       "      <td>NaN</td>\n",
       "      <td>PQLC3</td>\n",
       "      <td>ADCY1</td>\n",
       "      <td>...</td>\n",
       "      <td>PNP</td>\n",
       "      <td>BCAT1</td>\n",
       "      <td>EVI5</td>\n",
       "      <td>NaN</td>\n",
       "      <td>NaN</td>\n",
       "      <td>NaN</td>\n",
       "      <td>NaN</td>\n",
       "      <td>NaN</td>\n",
       "      <td>NaN</td>\n",
       "      <td>NaN</td>\n",
       "    </tr>\n",
       "    <tr>\n",
       "      <th>197</th>\n",
       "      <td>TNC</td>\n",
       "      <td>FOSL2</td>\n",
       "      <td>NaN</td>\n",
       "      <td>NaN</td>\n",
       "      <td>NaN</td>\n",
       "      <td>WRN</td>\n",
       "      <td>NaN</td>\n",
       "      <td>NaN</td>\n",
       "      <td>POR</td>\n",
       "      <td>DHCR7</td>\n",
       "      <td>...</td>\n",
       "      <td>AGER</td>\n",
       "      <td>IL9</td>\n",
       "      <td>TNFRSF1B</td>\n",
       "      <td>NaN</td>\n",
       "      <td>NaN</td>\n",
       "      <td>NaN</td>\n",
       "      <td>NaN</td>\n",
       "      <td>NaN</td>\n",
       "      <td>NaN</td>\n",
       "      <td>NaN</td>\n",
       "    </tr>\n",
       "    <tr>\n",
       "      <th>198</th>\n",
       "      <td>SERPINB8</td>\n",
       "      <td>SULT2B1</td>\n",
       "      <td>NaN</td>\n",
       "      <td>NaN</td>\n",
       "      <td>NaN</td>\n",
       "      <td>H2AFV</td>\n",
       "      <td>NaN</td>\n",
       "      <td>NaN</td>\n",
       "      <td>UCP2</td>\n",
       "      <td>MICB</td>\n",
       "      <td>...</td>\n",
       "      <td>ETV4</td>\n",
       "      <td>IL27RA</td>\n",
       "      <td>GPNMB</td>\n",
       "      <td>NaN</td>\n",
       "      <td>NaN</td>\n",
       "      <td>NaN</td>\n",
       "      <td>NaN</td>\n",
       "      <td>NaN</td>\n",
       "      <td>NaN</td>\n",
       "      <td>NaN</td>\n",
       "    </tr>\n",
       "    <tr>\n",
       "      <th>199</th>\n",
       "      <td>MXD1</td>\n",
       "      <td>TGFB3</td>\n",
       "      <td>NaN</td>\n",
       "      <td>NaN</td>\n",
       "      <td>NaN</td>\n",
       "      <td>ODF2</td>\n",
       "      <td>NaN</td>\n",
       "      <td>NaN</td>\n",
       "      <td>UQCR11</td>\n",
       "      <td>AKAP1</td>\n",
       "      <td>...</td>\n",
       "      <td>CD86</td>\n",
       "      <td>DYRK3</td>\n",
       "      <td>TPH1</td>\n",
       "      <td>NaN</td>\n",
       "      <td>NaN</td>\n",
       "      <td>NaN</td>\n",
       "      <td>NaN</td>\n",
       "      <td>NaN</td>\n",
       "      <td>NaN</td>\n",
       "      <td>NaN</td>\n",
       "    </tr>\n",
       "  </tbody>\n",
       "</table>\n",
       "<p>200 rows × 72 columns</p>\n",
       "</div>"
      ],
      "text/plain": [
       "    HALLMARK_TNFA_SIGNALING_VIA_NFKB HALLMARK_HYPOXIA  \\\n",
       "0                               JUNB             PGK1   \n",
       "1                              CXCL2             PDK1   \n",
       "2                               ATF3             GBE1   \n",
       "3                             NFKBIA             PFKL   \n",
       "4                            TNFAIP3            ALDOA   \n",
       "..                               ...              ...   \n",
       "195                            GFPT2            HOXB9   \n",
       "196                             KLF2         SELENBP1   \n",
       "197                              TNC            FOSL2   \n",
       "198                         SERPINB8          SULT2B1   \n",
       "199                             MXD1            TGFB3   \n",
       "\n",
       "    HALLMARK_CHOLESTEROL_HOMEOSTASIS HALLMARK_TGF_BETA_SIGNALING  \\\n",
       "0                               FDPS                      TGFBR1   \n",
       "1                            CYP51A1                       SMAD7   \n",
       "2                               IDI1                       TGFB1   \n",
       "3                              FDFT1                      SMURF2   \n",
       "4                              DHCR7                      SMURF1   \n",
       "..                               ...                         ...   \n",
       "195                              NaN                         NaN   \n",
       "196                              NaN                         NaN   \n",
       "197                              NaN                         NaN   \n",
       "198                              NaN                         NaN   \n",
       "199                              NaN                         NaN   \n",
       "\n",
       "    HALLMARK_DNA_REPAIR HALLMARK_G2M_CHECKPOINT HALLMARK_APOPTOSIS  \\\n",
       "0                POLR2H                   AURKA              CASP3   \n",
       "1                POLR2A                   CCNA2              CASP9   \n",
       "2                POLR2G                   TOP2A               DFFA   \n",
       "3                POLR2E                   CCNB2              CASP7   \n",
       "4                POLR2J                   CENPA              CFLAR   \n",
       "..                  ...                     ...                ...   \n",
       "195                 NaN                   MEIS2                NaN   \n",
       "196                 NaN                PAFAH1B1                NaN   \n",
       "197                 NaN                     WRN                NaN   \n",
       "198                 NaN                   H2AFV                NaN   \n",
       "199                 NaN                    ODF2                NaN   \n",
       "\n",
       "    HALLMARK_NOTCH_SIGNALING HALLMARK_ADIPOGENESIS  \\\n",
       "0                       JAG1                 FABP4   \n",
       "1                     NOTCH3                ADIPOQ   \n",
       "2                     NOTCH2                 PPARG   \n",
       "3                      APH1A                  LIPE   \n",
       "4                       HES1                 DGAT1   \n",
       "..                       ...                   ...   \n",
       "195                      NaN                 ABCB8   \n",
       "196                      NaN                 PQLC3   \n",
       "197                      NaN                   POR   \n",
       "198                      NaN                  UCP2   \n",
       "199                      NaN                UQCR11   \n",
       "\n",
       "    HALLMARK_ESTROGEN_RESPONSE_EARLY  ... HALLMARK_IL2_STAT5_SIGNALING  \\\n",
       "0                              GREB1  ...                        SOCS2   \n",
       "1                               CA12  ...                         CISH   \n",
       "2                           SLC9A3R1  ...                         PIM1   \n",
       "3                                MYB  ...                        IL2RA   \n",
       "4                              ANXA9  ...                      TNFRSF4   \n",
       "..                               ...  ...                          ...   \n",
       "195                            RRP12  ...                         TGM2   \n",
       "196                            ADCY1  ...                          PNP   \n",
       "197                            DHCR7  ...                         AGER   \n",
       "198                             MICB  ...                         ETV4   \n",
       "199                            AKAP1  ...                         CD86   \n",
       "\n",
       "    HALLMARK_ALLOGRAFT_REJECTION HALLMARK_KRAS_SIGNALING_UP  \\\n",
       "0                          PTPRC                    ANGPTL4   \n",
       "1                          IL12B                      ITGA2   \n",
       "2                          TGFB1                      SPRY2   \n",
       "3                          IL12A                      HBEGF   \n",
       "4                           CD3E                       RBP4   \n",
       "..                           ...                        ...   \n",
       "195                         RPL9                     SNAP91   \n",
       "196                        BCAT1                       EVI5   \n",
       "197                          IL9                   TNFRSF1B   \n",
       "198                       IL27RA                      GPNMB   \n",
       "199                        DYRK3                       TPH1   \n",
       "\n",
       "    FATTY_ACID_BETA_OXIDATION S.GENES.ITAY G2M.GENES.ITAY CELL_CYCLE  \\\n",
       "0                       ACADM         MCM5          HMGB2       MCM5   \n",
       "1                       ACADS         PCNA           CDK1       PCNA   \n",
       "2                      ACADVL         TYMS         NUSAP1       TYMS   \n",
       "3                        BDH2         FEN1          UBE2C       FEN1   \n",
       "4                       CPT1A         MCM2          BIRC5       MCM2   \n",
       "..                        ...          ...            ...        ...   \n",
       "195                       NaN          NaN            NaN        NaN   \n",
       "196                       NaN          NaN            NaN        NaN   \n",
       "197                       NaN          NaN            NaN        NaN   \n",
       "198                       NaN          NaN            NaN        NaN   \n",
       "199                       NaN          NaN            NaN        NaN   \n",
       "\n",
       "    NRF2_ROMORO KEGG_GLUTATHIONE_METABOLISM GO_ANTIOXIDANT_ACTIVITY  \n",
       "0        TXNRD1                       ANPEP                     ALB  \n",
       "1           TKT                        G6PD                 ALOX5AP  \n",
       "2         SRXN1                        GCLC                   APOA4  \n",
       "3          NQO1                        GCLM                    APOE  \n",
       "4          GCLC                        GGCT                    APOM  \n",
       "..          ...                         ...                     ...  \n",
       "195         NaN                         NaN                     NaN  \n",
       "196         NaN                         NaN                     NaN  \n",
       "197         NaN                         NaN                     NaN  \n",
       "198         NaN                         NaN                     NaN  \n",
       "199         NaN                         NaN                     NaN  \n",
       "\n",
       "[200 rows x 72 columns]"
      ]
     },
     "execution_count": 10,
     "metadata": {},
     "output_type": "execute_result"
    }
   ],
   "source": [
    "pd.read_csv(\"msresist/data/RNAseq/41586_2021_3796_MOESM7_ESM.csv\")"
   ]
  },
  {
   "cell_type": "markdown",
   "metadata": {},
   "source": [
    "## 2. WGCNA Modules"
   ]
  },
  {
   "cell_type": "code",
   "execution_count": 114,
   "metadata": {},
   "outputs": [
    {
     "data": {
      "text/html": [
       "<div>\n",
       "<style scoped>\n",
       "    .dataframe tbody tr th:only-of-type {\n",
       "        vertical-align: middle;\n",
       "    }\n",
       "\n",
       "    .dataframe tbody tr th {\n",
       "        vertical-align: top;\n",
       "    }\n",
       "\n",
       "    .dataframe thead th {\n",
       "        text-align: right;\n",
       "    }\n",
       "</style>\n",
       "<table border=\"1\" class=\"dataframe\">\n",
       "  <thead>\n",
       "    <tr style=\"text-align: right;\">\n",
       "      <th></th>\n",
       "      <th>Cell Lines</th>\n",
       "      <th>Treatment</th>\n",
       "      <th>P1_I8_M4</th>\n",
       "      <th>P9_I4_M2</th>\n",
       "      <th>P8_I3_M1</th>\n",
       "      <th>P7_I6_M1</th>\n",
       "      <th>P1_I8_M2</th>\n",
       "      <th>P2_I6_M5</th>\n",
       "      <th>P3_I4_M5</th>\n",
       "      <th>P3_I4_M2</th>\n",
       "      <th>...</th>\n",
       "      <th>P2_I6_M9</th>\n",
       "      <th>P3_I4_M6</th>\n",
       "      <th>P3_I4_M1</th>\n",
       "      <th>P1_I8_M14</th>\n",
       "      <th>P7_I6_M3</th>\n",
       "      <th>P1_I8_M13</th>\n",
       "      <th>P1_I8_M6</th>\n",
       "      <th>P10_I3_M1</th>\n",
       "      <th>P5_I3_M2</th>\n",
       "      <th>P1_I8_M1</th>\n",
       "    </tr>\n",
       "  </thead>\n",
       "  <tbody>\n",
       "    <tr>\n",
       "      <th>0</th>\n",
       "      <td>KD</td>\n",
       "      <td>E</td>\n",
       "      <td>-0.073957</td>\n",
       "      <td>-0.089946</td>\n",
       "      <td>-0.060524</td>\n",
       "      <td>-0.079538</td>\n",
       "      <td>0.153850</td>\n",
       "      <td>0.077738</td>\n",
       "      <td>0.100740</td>\n",
       "      <td>-0.084983</td>\n",
       "      <td>...</td>\n",
       "      <td>-0.068885</td>\n",
       "      <td>0.033416</td>\n",
       "      <td>-0.161346</td>\n",
       "      <td>-0.062590</td>\n",
       "      <td>-0.107399</td>\n",
       "      <td>-0.040961</td>\n",
       "      <td>-0.055690</td>\n",
       "      <td>-0.180520</td>\n",
       "      <td>-0.136426</td>\n",
       "      <td>-0.096748</td>\n",
       "    </tr>\n",
       "    <tr>\n",
       "      <th>1</th>\n",
       "      <td>KD</td>\n",
       "      <td>EA</td>\n",
       "      <td>-0.067316</td>\n",
       "      <td>-0.082928</td>\n",
       "      <td>0.305111</td>\n",
       "      <td>-0.053031</td>\n",
       "      <td>-0.076488</td>\n",
       "      <td>-0.050680</td>\n",
       "      <td>-0.058611</td>\n",
       "      <td>0.016433</td>\n",
       "      <td>...</td>\n",
       "      <td>-0.128628</td>\n",
       "      <td>-0.050950</td>\n",
       "      <td>-0.095481</td>\n",
       "      <td>-0.086308</td>\n",
       "      <td>-0.058898</td>\n",
       "      <td>-0.066104</td>\n",
       "      <td>-0.052128</td>\n",
       "      <td>-0.110802</td>\n",
       "      <td>-0.130280</td>\n",
       "      <td>-0.049618</td>\n",
       "    </tr>\n",
       "    <tr>\n",
       "      <th>2</th>\n",
       "      <td>KI</td>\n",
       "      <td>E</td>\n",
       "      <td>-0.101206</td>\n",
       "      <td>-0.083730</td>\n",
       "      <td>-0.094799</td>\n",
       "      <td>-0.114080</td>\n",
       "      <td>0.165688</td>\n",
       "      <td>0.153352</td>\n",
       "      <td>0.070091</td>\n",
       "      <td>-0.103507</td>\n",
       "      <td>...</td>\n",
       "      <td>-0.114876</td>\n",
       "      <td>-0.070263</td>\n",
       "      <td>-0.187877</td>\n",
       "      <td>0.965561</td>\n",
       "      <td>-0.052516</td>\n",
       "      <td>-0.067495</td>\n",
       "      <td>-0.091042</td>\n",
       "      <td>-0.106406</td>\n",
       "      <td>-0.137742</td>\n",
       "      <td>-0.084629</td>\n",
       "    </tr>\n",
       "    <tr>\n",
       "      <th>3</th>\n",
       "      <td>KI</td>\n",
       "      <td>EA</td>\n",
       "      <td>-0.025347</td>\n",
       "      <td>-0.136306</td>\n",
       "      <td>-0.213485</td>\n",
       "      <td>-0.166748</td>\n",
       "      <td>0.113895</td>\n",
       "      <td>0.075100</td>\n",
       "      <td>0.288257</td>\n",
       "      <td>-0.049862</td>\n",
       "      <td>...</td>\n",
       "      <td>-0.071965</td>\n",
       "      <td>-0.099298</td>\n",
       "      <td>0.121013</td>\n",
       "      <td>-0.074783</td>\n",
       "      <td>-0.052344</td>\n",
       "      <td>-0.064928</td>\n",
       "      <td>-0.061406</td>\n",
       "      <td>-0.023632</td>\n",
       "      <td>-0.096509</td>\n",
       "      <td>-0.085226</td>\n",
       "    </tr>\n",
       "    <tr>\n",
       "      <th>4</th>\n",
       "      <td>KO</td>\n",
       "      <td>E</td>\n",
       "      <td>-0.027506</td>\n",
       "      <td>-0.139339</td>\n",
       "      <td>-0.089683</td>\n",
       "      <td>0.034305</td>\n",
       "      <td>0.224540</td>\n",
       "      <td>0.223655</td>\n",
       "      <td>0.333642</td>\n",
       "      <td>-0.069060</td>\n",
       "      <td>...</td>\n",
       "      <td>-0.101184</td>\n",
       "      <td>0.025756</td>\n",
       "      <td>-0.069271</td>\n",
       "      <td>-0.054129</td>\n",
       "      <td>0.015326</td>\n",
       "      <td>-0.074332</td>\n",
       "      <td>-0.068524</td>\n",
       "      <td>-0.099339</td>\n",
       "      <td>-0.019482</td>\n",
       "      <td>-0.093586</td>\n",
       "    </tr>\n",
       "  </tbody>\n",
       "</table>\n",
       "<p>5 rows × 49 columns</p>\n",
       "</div>"
      ],
      "text/plain": [
       "  Cell Lines Treatment  P1_I8_M4  P9_I4_M2  P8_I3_M1  P7_I6_M1  P1_I8_M2  \\\n",
       "0         KD         E -0.073957 -0.089946 -0.060524 -0.079538  0.153850   \n",
       "1         KD        EA -0.067316 -0.082928  0.305111 -0.053031 -0.076488   \n",
       "2         KI         E -0.101206 -0.083730 -0.094799 -0.114080  0.165688   \n",
       "3         KI        EA -0.025347 -0.136306 -0.213485 -0.166748  0.113895   \n",
       "4         KO         E -0.027506 -0.139339 -0.089683  0.034305  0.224540   \n",
       "\n",
       "   P2_I6_M5  P3_I4_M5  P3_I4_M2  ...  P2_I6_M9  P3_I4_M6  P3_I4_M1  P1_I8_M14  \\\n",
       "0  0.077738  0.100740 -0.084983  ... -0.068885  0.033416 -0.161346  -0.062590   \n",
       "1 -0.050680 -0.058611  0.016433  ... -0.128628 -0.050950 -0.095481  -0.086308   \n",
       "2  0.153352  0.070091 -0.103507  ... -0.114876 -0.070263 -0.187877   0.965561   \n",
       "3  0.075100  0.288257 -0.049862  ... -0.071965 -0.099298  0.121013  -0.074783   \n",
       "4  0.223655  0.333642 -0.069060  ... -0.101184  0.025756 -0.069271  -0.054129   \n",
       "\n",
       "   P7_I6_M3  P1_I8_M13  P1_I8_M6  P10_I3_M1  P5_I3_M2  P1_I8_M1  \n",
       "0 -0.107399  -0.040961 -0.055690  -0.180520 -0.136426 -0.096748  \n",
       "1 -0.058898  -0.066104 -0.052128  -0.110802 -0.130280 -0.049618  \n",
       "2 -0.052516  -0.067495 -0.091042  -0.106406 -0.137742 -0.084629  \n",
       "3 -0.052344  -0.064928 -0.061406  -0.023632 -0.096509 -0.085226  \n",
       "4  0.015326  -0.074332 -0.068524  -0.099339 -0.019482 -0.093586  \n",
       "\n",
       "[5 rows x 49 columns]"
      ]
     },
     "execution_count": 114,
     "metadata": {},
     "output_type": "execute_result"
    }
   ],
   "source": [
    "eg = pd.read_csv(\"msresist/WGCNA/output/final-eigengenes.csv\").set_index(\"Module\")\n",
    "memberships = pd.read_csv(\"msresist/WGCNA/output/final-membership.csv\")\n",
    "\n",
    "eg = eg.T.reset_index()\n",
    "eg = eg.rename_axis(\"\", axis=\"columns\")\n",
    "eg.insert(0, \"Cell Lines\", [s[:3] if \"M1\" in s else s[:2] for s in eg[\"index\"]])\n",
    "eg.insert(1, \"Treatment\", [s[-1] if s[-1] == \"E\" in s else s[-2:] for s in eg[\"index\"]])\n",
    "eg = eg.drop(\"index\", axis=1)\n",
    "eg.head()"
   ]
  },
  {
   "cell_type": "code",
   "execution_count": 116,
   "metadata": {},
   "outputs": [
    {
     "data": {
      "text/plain": [
       "<seaborn.matrix.ClusterGrid at 0x7f8a6b8cf8e0>"
      ]
     },
     "execution_count": 116,
     "metadata": {},
     "output_type": "execute_result"
    },
    {
     "data": {
      "image/png": "[encoded data removed]",
      "text/plain": [
       "<Figure size 720x720 with 4 Axes>"
      ]
     },
     "metadata": {},
     "output_type": "display_data"
    }
   ],
   "source": [
    "egF = eg.sort_values(by=\"Treatment\").set_index([\"Cell Lines\", \"Treatment\"])\n",
    "sns.clustermap(egF.T, cmap=\"bwr\", robust=True, col_cluster=True)"
   ]
  },
  {
   "cell_type": "markdown",
   "metadata": {},
   "source": [
    "### Use MS data to predict Modules "
   ]
  },
  {
   "cell_type": "markdown",
   "metadata": {},
   "source": [
    "TODO: Filter modules based on variance between E v EA conditions. Maybe only WT."
   ]
  },
  {
   "cell_type": "code",
   "execution_count": 117,
   "metadata": {},
   "outputs": [],
   "source": [
    "# Import siganling data\n",
    "ms = preprocessing(AXLm_ErlAF154=True, Vfilter=True, FCfilter=True, log2T=True, mc_row=True)\n",
    "ms = ms.rename(columns={\"PC9 A\":\"WT\", \"KO A\":\"KO\", \"Kd A\":\"KDead\", \"KI A\":\"KI\",\"M4 A\": \"Y634F\", \"M5 A\":\"Y643F\", \"M7 A\":\"Y698F\", \"M10 A\":\"Y726F\", \"M11 A\":\"Y750F\", \"M15 A\":\"Y821F\"})\n",
    "d = ms.select_dtypes(include=['float64']).T\n",
    "i = ms.select_dtypes(include=['object'])"
   ]
  },
  {
   "cell_type": "code",
   "execution_count": 118,
   "metadata": {},
   "outputs": [],
   "source": [
    "ddmc = MassSpecClustering(i, n_components=5, SeqWeight=2, distance_method=\"PAM250\", random_state=5).fit(d)\n",
    "centers = pd.DataFrame(ddmc.transform())\n",
    "centers.index = d.index"
   ]
  },
  {
   "cell_type": "code",
   "execution_count": 184,
   "metadata": {},
   "outputs": [],
   "source": [
    "egEA = eg[(eg[\"Treatment\"] == \"EA\") | (eg[\"Cell Lines\"] == \"KO\")].set_index(\"Cell Lines\").T\n",
    "egEA = egEA.rename(columns={\"KD\":\"KDead\", \"M4\": \"Y634F\", \"M5\":\"Y643F\", \"M7\":\"Y698F\", \"M10\":\"Y726F\", \"M11\":\"Y750F\", \"M15\":\"Y821F\"})\n",
    "egEA = egEA[list(centers.index)].T.drop(\"Treatment\", axis=1).T\n",
    "egEA = egEA.rename_axis(\"Module\", axis=\"columns\").astype(float)"
   ]
  },
  {
   "cell_type": "code",
   "execution_count": 224,
   "metadata": {},
   "outputs": [
    {
     "data": {
      "text/plain": [
       "<seaborn.matrix.ClusterGrid at 0x7f8a73798ee0>"
      ]
     },
     "execution_count": 224,
     "metadata": {},
     "output_type": "execute_result"
    },
    {
     "data": {
      "image/png": "[encoded data removed]",
      "text/plain": [
       "<Figure size 432x360 with 4 Axes>"
      ]
     },
     "metadata": {},
     "output_type": "display_data"
    },
    {
     "data": {
      "image/png": "[encoded data removed]",
      "text/plain": [
       "<Figure size 432x360 with 4 Axes>"
      ]
     },
     "metadata": {},
     "output_type": "display_data"
    }
   ],
   "source": [
    "egEA_f = VarianceFilter(egEA, list(egEA.columns), axis=1, varCut=0.01).T\n",
    "sns.clustermap(egEA, cmap=\"bwr\", robust=True, figsize=(6, 5), method=\"centroid\")\n",
    "sns.clustermap(egEA_f.T, cmap=\"bwr\", robust=True, figsize=(6, 5), method=\"centroid\")"
   ]
  },
  {
   "cell_type": "code",
   "execution_count": 225,
   "metadata": {},
   "outputs": [
    {
     "data": {
      "image/png": "[encoded data removed]",
      "text/plain": [
       "<Figure size 432x288 with 1 Axes>"
      ]
     },
     "metadata": {},
     "output_type": "display_data"
    }
   ],
   "source": [
    "_, ax = plt.subplots(1, 1)\n",
    "plotR2YQ2Y(ax, PLSRegression(n_components=2), egEA_f, centers, b=6, color=\"darkblue\", title=False)"
   ]
  },
  {
   "cell_type": "code",
   "execution_count": 226,
   "metadata": {},
   "outputs": [
    {
     "data": {
      "text/plain": [
       "0.25959171157067323"
      ]
     },
     "execution_count": 226,
     "metadata": {},
     "output_type": "execute_result"
    }
   ],
   "source": [
    "reg = MultiTaskLassoCV(cv=10, eps=1e-5).fit(egEA_f, centers)\n",
    "r2_score(centers, reg.predict(egEA_f))"
   ]
  },
  {
   "cell_type": "markdown",
   "metadata": {},
   "source": [
    "### Use Modules to predict Phenotypes"
   ]
  },
  {
   "cell_type": "code",
   "execution_count": 227,
   "metadata": {},
   "outputs": [],
   "source": [
    "cv = import_phenotype_data(phenotype=\"Cell Viability\")\n",
    "red = import_phenotype_data(phenotype=\"Cell Death\")\n",
    "sw = import_phenotype_data(phenotype=\"Migration\")\n",
    "c = import_phenotype_data(phenotype=\"Island\")\n",
    "y = formatPhenotypesForModeling(cv, red, sw, c)\n",
    "y = y[y[\"Treatment\"] == \"A/E\"].drop(\"Treatment\", axis=1).set_index(\"Lines\")"
   ]
  },
  {
   "cell_type": "code",
   "execution_count": 228,
   "metadata": {},
   "outputs": [
    {
     "data": {
      "image/png": "[encoded data removed]",
      "text/plain": [
       "<Figure size 432x288 with 1 Axes>"
      ]
     },
     "metadata": {},
     "output_type": "display_data"
    }
   ],
   "source": [
    "_, ax = plt.subplots(1, 1)\n",
    "plotR2YQ2Y(ax, PLSRegression(n_components=2), egEA_f, y, b=6, color=\"darkblue\", title=False)"
   ]
  },
  {
   "cell_type": "code",
   "execution_count": 198,
   "metadata": {},
   "outputs": [
    {
     "data": {
      "text/plain": [
       "0.09672847120165298"
      ]
     },
     "execution_count": 198,
     "metadata": {},
     "output_type": "execute_result"
    }
   ],
   "source": [
    "reg = MultiTaskLassoCV(cv=10, eps=1e-5).fit(egEA_f, y)\n",
    "r2_score(y, reg.predict(egEA_f))"
   ]
  },
  {
   "cell_type": "markdown",
   "metadata": {},
   "source": [
    "## 3. PCA\n",
    "\n",
    "1. Preprocess raw data based on abundance and variance. Make sure AXL is present\n",
    "2. Make another file version filtering only extremely low transcripts out for GSEA\n",
    "3. Run PCA\n",
    "    - Plot Scores\n",
    "    - Try to predict using Scores of PCA with EA data only"
   ]
  },
  {
   "cell_type": "code",
   "execution_count": 67,
   "metadata": {},
   "outputs": [],
   "source": [
    "from sklearn.decomposition import PCA\n",
    "from msresist.pca import pca_dfs, plotPCA_scoresORloadings"
   ]
  },
  {
   "cell_type": "markdown",
   "metadata": {},
   "source": [
    "### PCA Scores"
   ]
  },
  {
   "cell_type": "code",
   "execution_count": 68,
   "metadata": {},
   "outputs": [
    {
     "data": {
      "image/png": "[encoded data removed]",
      "text/plain": [
       "<Figure size 1224x360 with 3 Axes>"
      ]
     },
     "metadata": {},
     "output_type": "display_data"
    }
   ],
   "source": [
    "_, ax = plt.subplots(1, 3, figsize=(17, 5))\n",
    "\n",
    "# Full PCA\n",
    "rna_f = rna_f.set_index(\"Cell Lines\").rename(index={\"KD\":\"KDead\", \"PC9\":\"WT\", \"M4\": \"Y634F\", \"M5\":\"Y643F\", \"M7\":\"Y698F\", \"M10\":\"Y726F\", \"M11\":\"Y750F\", \"M15\":\"Y821F\"}).reset_index()\n",
    "plotPCA_scoresORloadings(ax[0], rna_f, 2, [\"Cell Lines\", \"Treatment\"], rna_f.columns[2:], hue_scores=\"Cell Lines\", style_scores=\"Treatment\", legendOut=False, plot=\"scores\")\n",
    "\n",
    "# EA PCA\n",
    "rna_fEA = rna_f[(rna_f[\"Treatment\"] == \"EA\") | (rna_f[\"Cell Lines\"] == \"KO\") & ~(rna_f[\"Treatment\"] == \"UT\")].drop(\"Treatment\", axis=1).set_index(\"Cell Lines\")\n",
    "rna_fEA = rna_fEA.rename(index={\"KD\":\"KDead\", \"PC9\":\"WT\",\"M4\": \"Y634F\", \"M5\":\"Y643F\", \"M7\":\"Y698F\", \"M10\":\"Y726F\", \"M11\":\"Y750F\", \"M15\":\"Y821F\"}).T\n",
    "rna_fEA = rna_fEA[list(centers.index)].T.reset_index()\n",
    "plotPCA_scoresORloadings(ax[1], rna_fEA, 2, [\"Cell Lines\"], rna_fEA.columns[1:], hue_scores=\"Cell Lines\", legendOut=False, plot=\"scores\")\n",
    "plotPCA_scoresORloadings(ax[2], rna_fEA.set_index(\"Cell Lines\").drop(\"WT\").reset_index(), 2, [\"Cell Lines\"], rna_fEA.columns[1:], hue_scores=\"Cell Lines\", legendOut=False, plot=\"scores\")"
   ]
  },
  {
   "cell_type": "code",
   "execution_count": 69,
   "metadata": {},
   "outputs": [],
   "source": [
    "n_components = 4\n",
    "scores_ind = [\"Cell Lines\"]\n",
    "loadings_ind = rna_fEA.columns[2:]\n",
    "\n",
    "ppEA = PCA(n_components=n_components)\n",
    "dScor_EA = ppEA.fit_transform(rna_fEA.select_dtypes(include=[\"float64\"]))\n",
    "dLoad_EA = ppEA.components_\n",
    "dScor_EA, dLoad_EA = pca_dfs(dScor_EA, dLoad_EA, rna_fEA, n_components, scores_ind, loadings_ind)\n",
    "scoresEA = dScor_EA.set_index(\"Cell Lines\")\n",
    "scoresEA.iloc[:, :] = StandardScaler().fit_transform(dScor_EA.set_index(\"Cell Lines\"))\n",
    "varExp = np.round(ppEA.explained_variance_ratio_, 2)"
   ]
  },
  {
   "cell_type": "markdown",
   "metadata": {},
   "source": [
    "### 4. GSEA\n",
    "#### 4.1 Standard"
   ]
  },
  {
   "cell_type": "code",
   "execution_count": 27,
   "metadata": {},
   "outputs": [],
   "source": [
    "import gseapy as gp"
   ]
  },
  {
   "cell_type": "code",
   "execution_count": 110,
   "metadata": {},
   "outputs": [],
   "source": [
    "st_gsea_d = rna_f[rna_f[\"Treatment\"] != \"UT\"]\n",
    "st_gsea_d.insert(0, \"Sample\", [c + \"_\" + t for c, t in list(zip(list(st_gsea_d[\"Cell Lines\"]), list(st_gsea_d[\"Treatment\"])))])\n",
    "st_gsea_d = st_gsea_d.drop([\"Cell Lines\", \"Treatment\"], axis=1).set_index(\"Sample\").T\n",
    "st_gsea_d = st_gsea_d[~st_gsea_d.index.duplicated()]\n",
    "samples = list(rna_f[\"Treatment\"][rna_f[\"Treatment\"] != \"UT\"])"
   ]
  },
  {
   "cell_type": "code",
   "execution_count": 115,
   "metadata": {},
   "outputs": [],
   "source": [
    "# GO\n",
    "gs_res = gp.gsea(data=st_gsea_d, \n",
    "                 gene_sets='GO_Biological_Process_2021', \n",
    "                 cls= samples, \n",
    "                 # set permutation_type to phenotype if samples >=15\n",
    "                 permutation_type='phenotype',\n",
    "                 permutation_num=100, \n",
    "                 outdir='GSEA_standard_results/GSEA_EvsEA_GO21',\n",
    "                 method='signal_to_noise',\n",
    "                 processes=4, seed= 7,\n",
    "                 format='png')"
   ]
  },
  {
   "cell_type": "code",
   "execution_count": 116,
   "metadata": {},
   "outputs": [],
   "source": [
    "# WP\n",
    "gs_res = gp.gsea(data=st_gsea_d, \n",
    "                 gene_sets='WikiPathway_2021_Human',\n",
    "                 cls= samples, \n",
    "                 # set permutation_type to phenotype if samples >=15\n",
    "                 permutation_type='phenotype',\n",
    "                 permutation_num=100,\n",
    "                 outdir='GSEA_standard_results/GSEA_EvsEA_WP21',\n",
    "                 method='signal_to_noise',\n",
    "                 processes=4, seed= 7,\n",
    "                 format='png')"
   ]
  },
  {
   "cell_type": "code",
   "execution_count": 117,
   "metadata": {},
   "outputs": [],
   "source": [
    "# OGS\n",
    "gs_res = gp.gsea(data=st_gsea_d, \n",
    "                 gene_sets='MSigDB_Oncogenic_Signatures',\n",
    "                 cls= samples, \n",
    "                 # set permutation_type to phenotype if samples >=15\n",
    "                 permutation_type='phenotype',\n",
    "                 permutation_num=100,\n",
    "                 outdir='GSEA_standard_results/GSEA_EvsEA_OGS21',\n",
    "                 method='signal_to_noise',\n",
    "                 processes=4, seed= 7,\n",
    "                 format='png')"
   ]
  },
  {
   "cell_type": "code",
   "execution_count": 114,
   "metadata": {},
   "outputs": [],
   "source": [
    "# KEGG\n",
    "gs_res = gp.gsea(data=st_gsea_d, \n",
    "                 gene_sets='KEGG_2021_Human',\n",
    "                 cls= samples, \n",
    "                 # set permutation_type to phenotype if samples >=15\n",
    "                 permutation_type='phenotype',\n",
    "                 permutation_num=100,\n",
    "                 outdir='GSEA_standard_results/GSEA_EvsEA_KEGG21',\n",
    "                 method='signal_to_noise',\n",
    "                 processes=4, seed= 7,\n",
    "                 format='png')"
   ]
  },
  {
   "cell_type": "markdown",
   "metadata": {},
   "source": [
    "#### 4.1 GSEA with EA PCA loadings\n",
    "#### 4.1.1 Ranked PCA loadings"
   ]
  },
  {
   "cell_type": "code",
   "execution_count": 28,
   "metadata": {},
   "outputs": [],
   "source": [
    "dLoad_EA = dLoad_EA.reset_index()\n",
    "dLoad_EA = dLoad_EA.rename(columns={\"index\": \"Gene\"})\n",
    "rankPCS = dLoad_EA.iloc[:, 1:].abs().sum(axis=1)\n",
    "dLoad_EA[\"Sum\"] = rankPCS\n",
    "PCrank = rankPCS.sort_values(ascending=False).index\n",
    "\n",
    "LoadR_pcs = dLoad_EA.iloc[PCrank, :]\n",
    "LoadR_pcs = LoadR_pcs[[\"Gene\", \"Sum\"]].set_index(\"Gene\")\n",
    "LoadR_pcs = LoadR_pcs[~LoadR_pcs.index.duplicated()]\n",
    "LoadR_pcs.iloc[:, :] = StandardScaler().fit_transform(LoadR_pcs)"
   ]
  },
  {
   "cell_type": "code",
   "execution_count": 31,
   "metadata": {},
   "outputs": [],
   "source": [
    "# GO\n",
    "pre_res_EA = gp.prerank(rnk=LoadR_pcs, gene_sets='GO_Biological_Process_2021',\n",
    "                     processes=4,\n",
    "                     permutation_num=100,\n",
    "                     outdir='GSEA_ranked_results/GO/PCA_PCs_EA_GO21', format='png', seed=6)\n",
    "\n",
    "# terms = pre_res.res2d.index\n",
    "# gseaplot(rank_metric=pre_res.ranking, term=terms[4], **pre_res.results[terms[4]])"
   ]
  },
  {
   "cell_type": "code",
   "execution_count": 32,
   "metadata": {},
   "outputs": [],
   "source": [
    "# WikiPathways\n",
    "pre_res_EA = gp.prerank(rnk=LoadR_pcs, gene_sets='WikiPathway_2021_Human',\n",
    "                     processes=4,\n",
    "                     permutation_num=100,\n",
    "                     outdir='GSEA_ranked_results/WP/PCA_PCs_EA_WP21', format='png', seed=6)"
   ]
  },
  {
   "cell_type": "code",
   "execution_count": 33,
   "metadata": {},
   "outputs": [],
   "source": [
    "# OncoPathways\n",
    "pre_res_EA = gp.prerank(rnk=LoadR_pcs, gene_sets='MSigDB_Oncogenic_Signatures',\n",
    "                     processes=4,\n",
    "                     permutation_num=100,\n",
    "                     outdir='GSEA_ranked_results/OGS/PCA_PCs_EA_OGS', format='png', seed=6)"
   ]
  },
  {
   "cell_type": "markdown",
   "metadata": {},
   "source": [
    "#### 4.1.2 PCA loadings ranked by AXL MS"
   ]
  },
  {
   "cell_type": "code",
   "execution_count": 29,
   "metadata": {},
   "outputs": [],
   "source": [
    "MSrank = ms.iloc[:, 6:].set_index(\"Gene\").abs().sum(axis=1).sort_values(ascending=False)\n",
    "MSrank = MSrank[~MSrank.index.duplicated()]\n",
    "MSrank = MSrank.drop(['MCAM', 'ALB', 'PAG1', 'TNS1', 'DYRK3', 'EPHA5', 'MAPK10', 'SEPT2', 'TEC', 'PARD3B'])\n",
    "dLoad_EA = dLoad_EA.sort_values(by=\"Sum\", ascending=False).set_index(\"Gene\")\n",
    "dLoad_EA = dLoad_EA[~dLoad_EA.index.duplicated()]\n",
    "dLoad_msR = dLoad_EA.loc[MSrank.index]\n",
    "dLoad_msR = dLoad_msR.reset_index()[[\"Gene\", \"Sum\"]].set_index(\"Gene\")\n",
    "dLoad_msR.iloc[:, :] = StandardScaler().fit_transform(dLoad_msR)"
   ]
  },
  {
   "cell_type": "code",
   "execution_count": 43,
   "metadata": {},
   "outputs": [],
   "source": [
    "# GO\n",
    "pre_res_MS_go = gp.prerank(rnk=dLoad_msR, gene_sets='GO_Biological_Process_2021',\n",
    "                     processes=4,\n",
    "                     permutation_num=100,\n",
    "                     outdir='GSEA_ranked_results/GO/PCA_MS_EA_GO21', format='png', seed=6)"
   ]
  },
  {
   "cell_type": "code",
   "execution_count": 44,
   "metadata": {},
   "outputs": [],
   "source": [
    "# WP\n",
    "pre_res_MS_wp = gp.prerank(rnk=dLoad_msR, gene_sets='WikiPathway_2021_Human',\n",
    "                     processes=4,\n",
    "                     permutation_num=100,\n",
    "                     outdir='GSEA_ranked_results/WP/PCA_MS_EA_WP21', format='png', seed=6)"
   ]
  },
  {
   "cell_type": "code",
   "execution_count": 45,
   "metadata": {},
   "outputs": [],
   "source": [
    "# OGS\n",
    "pre_res_MS_ogs = gp.prerank(rnk=dLoad_msR, gene_sets='MSigDB_Oncogenic_Signatures',\n",
    "                     processes=4,\n",
    "                     permutation_num=100,\n",
    "                     outdir='GSEA_ranked_results/OGS/PCA_MS_EA_OGS', format='png', seed=6)"
   ]
  },
  {
   "cell_type": "markdown",
   "metadata": {},
   "source": [
    "#### 4.1.3 PCA loadings ranked by PC1"
   ]
  },
  {
   "cell_type": "code",
   "execution_count": 30,
   "metadata": {},
   "outputs": [],
   "source": [
    "dPC1 = dLoad_EA.reset_index().sort_values(by=\"PC1\", ascending=False)[[\"Gene\", \"PC1\"]]\n",
    "dPC1 = dPC1[~dPC1.index.duplicated()].set_index(\"Gene\")\n",
    "dPC1.iloc[:, :] = StandardScaler().fit_transform(dPC1)"
   ]
  },
  {
   "cell_type": "code",
   "execution_count": 52,
   "metadata": {},
   "outputs": [],
   "source": [
    "#GO\n",
    "pre_res_pc1GO = gp.prerank(rnk=dPC1, gene_sets='GO_Biological_Process_2021',\n",
    "                     processes=4,\n",
    "                     permutation_num=100,\n",
    "                     outdir='GSEA_ranked_results/GO/PCA_PC1_EA_GO21', format='png', seed=6)"
   ]
  },
  {
   "cell_type": "code",
   "execution_count": 53,
   "metadata": {},
   "outputs": [],
   "source": [
    "# WP\n",
    "pre_res_pc1WP = gp.prerank(rnk=dPC1, gene_sets='WikiPathway_2021_Human',\n",
    "                     processes=4,\n",
    "                     permutation_num=100,\n",
    "                     outdir='GSEA_ranked_results/WP/PCA_PC1_EA_WP21', format='png', seed=6)"
   ]
  },
  {
   "cell_type": "code",
   "execution_count": 54,
   "metadata": {},
   "outputs": [],
   "source": [
    "# OGS\n",
    "pre_res_pc1OGS = gp.prerank(rnk=dPC1, gene_sets='MSigDB_Oncogenic_Signatures',\n",
    "                     processes=4,\n",
    "                     permutation_num=100,\n",
    "                     outdir='GSEA_ranked_results/OGS/PCA_PC1_EA_OGS', format='png', seed=6)"
   ]
  },
  {
   "cell_type": "markdown",
   "metadata": {},
   "source": [
    "### 4.3 GSEA with Full PCA Loadings "
   ]
  },
  {
   "cell_type": "code",
   "execution_count": 31,
   "metadata": {},
   "outputs": [],
   "source": [
    "ppF = PCA(n_components=n_components)\n",
    "dScor_F = ppF.fit_transform(rna_f.select_dtypes(include=[\"float64\"]))\n",
    "dLoad_F = ppF.components_\n",
    "dScor_F, dLoad_F = pca_dfs(dScor_F, dLoad_F, rna_f, n_components, scores_ind, loadings_ind)\n",
    "scoresF = dScor_F.set_index(\"Cell Lines\")\n",
    "scoresF.iloc[:, :] = StandardScaler().fit_transform(dScor_F.set_index(\"Cell Lines\"))\n",
    "varExp = np.round(ppF.explained_variance_ratio_, 2)"
   ]
  },
  {
   "cell_type": "markdown",
   "metadata": {},
   "source": [
    "#### 4.3.1 Ranked by all PCs "
   ]
  },
  {
   "cell_type": "code",
   "execution_count": 32,
   "metadata": {},
   "outputs": [],
   "source": [
    "dLoad_F = dLoad_F.reset_index()\n",
    "dLoad_F = dLoad_F.rename(columns={\"index\": \"Gene\"})\n",
    "rankPCS = dLoad_F.iloc[:, 1:].abs().sum(axis=1)\n",
    "dLoad_F[\"Sum\"] = rankPCS\n",
    "PCrank = rankPCS.sort_values(ascending=False).index\n",
    "\n",
    "LoadF_pcs = dLoad_F.iloc[PCrank, :]\n",
    "LoadF_pcs = LoadF_pcs[[\"Gene\", \"Sum\"]].set_index(\"Gene\")\n",
    "LoadF_pcs = LoadF_pcs[~LoadF_pcs.index.duplicated()]\n",
    "LoadF_pcs.iloc[:, :] = StandardScaler().fit_transform(LoadF_pcs)"
   ]
  },
  {
   "cell_type": "code",
   "execution_count": 33,
   "metadata": {},
   "outputs": [],
   "source": [
    "# GO\n",
    "pre_res_F_go = gp.prerank(rnk=LoadF_pcs, gene_sets='GO_Biological_Process_2021',\n",
    "                     processes=4,\n",
    "                     permutation_num=100,\n",
    "                     outdir='GSEA_ranked_results/GO/PCA_Fpcs_GO21', format='png', seed=6)"
   ]
  },
  {
   "cell_type": "code",
   "execution_count": 34,
   "metadata": {},
   "outputs": [],
   "source": [
    "# WP\n",
    "pre_res_F_go = gp.prerank(rnk=LoadF_pcs, gene_sets='WikiPathway_2021_Human',\n",
    "                     processes=4,\n",
    "                     permutation_num=100,\n",
    "                     outdir='GSEA_ranked_results/WP/PCA_PCs_F_WP21', format='png', seed=6)"
   ]
  },
  {
   "cell_type": "code",
   "execution_count": 35,
   "metadata": {},
   "outputs": [],
   "source": [
    "# OGS\n",
    "pre_res_pc1OGS = gp.prerank(rnk=LoadF_pcs, gene_sets='MSigDB_Oncogenic_Signatures',\n",
    "                     processes=4,\n",
    "                     permutation_num=100,\n",
    "                     outdir='GSEA_ranked_results/OGS/PCA_PCs_F_OGS', format='png', seed=6)"
   ]
  },
  {
   "cell_type": "markdown",
   "metadata": {},
   "source": [
    "#### 4.3.2 Full PCA loadings ranked by AXL MS"
   ]
  },
  {
   "cell_type": "code",
   "execution_count": 36,
   "metadata": {},
   "outputs": [],
   "source": [
    "MSrankF = ms.iloc[:, 6:].set_index(\"Gene\").abs().sum(axis=1).sort_values(ascending=False)\n",
    "MSrankF = MSrankF[~MSrankF.index.duplicated()]\n",
    "MSrankF = MSrankF.drop(['MCAM', 'ALB', 'PAG1', 'TNS1', 'DYRK3', 'EPHA5', 'MAPK10', 'SEPT2', 'TEC', 'PARD3B'])\n",
    "dLoad_F = dLoad_F.sort_values(by=\"Sum\", ascending=False).set_index(\"Gene\")\n",
    "dLoad_F = dLoad_F[~dLoad_F.index.duplicated()]\n",
    "dLoad_msF = dLoad_F.loc[MSrankF.index]\n",
    "dLoad_msF = dLoad_msF.reset_index()[[\"Gene\", \"Sum\"]].set_index(\"Gene\")\n",
    "dLoad_msF.iloc[:, :] = StandardScaler().fit_transform(dLoad_msF)"
   ]
  },
  {
   "cell_type": "code",
   "execution_count": 37,
   "metadata": {},
   "outputs": [],
   "source": [
    "# GO\n",
    "pre_res_F_go = gp.prerank(rnk=dLoad_msF, gene_sets='GO_Biological_Process_2021',\n",
    "                     processes=4,\n",
    "                     permutation_num=100,\n",
    "                     outdir='GSEA_ranked_results/GO/PCA_MS_F_GO21', format='png', seed=6)"
   ]
  },
  {
   "cell_type": "code",
   "execution_count": 38,
   "metadata": {},
   "outputs": [],
   "source": [
    "# WP\n",
    "pre_res_F_go = gp.prerank(rnk=dLoad_msF, gene_sets='WikiPathway_2021_Human',\n",
    "                     processes=4,\n",
    "                     permutation_num=100,\n",
    "                     outdir='GSEA_ranked_results/WP/PCA_MS_F_WP21', format='png', seed=6)"
   ]
  },
  {
   "cell_type": "code",
   "execution_count": 39,
   "metadata": {},
   "outputs": [],
   "source": [
    "# OGS\n",
    "pre_res_pc1OGS = gp.prerank(rnk=dLoad_msF, gene_sets='MSigDB_Oncogenic_Signatures',\n",
    "                     processes=4,\n",
    "                     permutation_num=100,\n",
    "                     outdir='GSEA_ranked_results/OGS/PCA_MS_F_OGS', format='png', seed=6)"
   ]
  },
  {
   "cell_type": "markdown",
   "metadata": {},
   "source": [
    "### 4.4 Prep input data for ClusterProfiler"
   ]
  },
  {
   "cell_type": "code",
   "execution_count": 104,
   "metadata": {},
   "outputs": [],
   "source": [
    "clusPro = pd.melt(rna_f, id_vars=[\"Cell Lines\", \"Treatment\"], value_vars=rna_f.columns[2:], var_name=\"Gene\", value_name=\"log(TPM)\")\n",
    "clusPro = clusPro.rename(columns={\"Cell Lines\":\"Lines\"})\n",
    "clusPro = clusPro[~clusPro[\"Gene\"].str.startswith(\"ENST0\")].set_index([\"Gene\", \"Treatment\", \"Lines\"])\n",
    "clusPro = clusPro[~clusPro.index.duplicated()]\n",
    "\n",
    "# Filter based on signal\n",
    "XIDX = list((clusPro[\"log(TPM)\"] >= 1) | (clusPro[\"log(TPM)\"] <= -1))\n",
    "clusPro_f = clusPro.iloc[XIDX, :]\n",
    "clusPro_f.to_csv(\"RNAseq_CLuPro_Filtered_Input.csv\")\n"
   ]
  },
  {
   "cell_type": "code",
   "execution_count": 113,
   "metadata": {},
   "outputs": [],
   "source": [
    "clusPro_f.to_csv(\"RNAseq_CLuPro_Filtered_Input.csv\")"
   ]
  },
  {
   "cell_type": "code",
   "execution_count": 108,
   "metadata": {},
   "outputs": [
    {
     "name": "stdout",
     "output_type": "stream",
     "text": [
      "querying 1-1000...done.\n",
      "querying 1001-2000...done.\n",
      "querying 2001-3000...done.\n",
      "querying 3001-4000...done.\n",
      "querying 4001-5000...done.\n",
      "querying 5001-6000...done.\n",
      "querying 6001-7000...done.\n",
      "querying 7001-8000...done.\n",
      "querying 8001-9000...done.\n",
      "querying 9001-10000...done.\n",
      "querying 10001-11000...done.\n",
      "querying 11001-12000...done.\n",
      "querying 12001-13000...done.\n",
      "querying 13001-14000...done.\n",
      "querying 14001-15000...done.\n",
      "querying 15001-16000...done.\n",
      "querying 16001-17000...done.\n",
      "querying 17001-18000...done.\n",
      "querying 18001-19000...done.\n",
      "querying 19001-20000...done.\n",
      "querying 20001-21000...done.\n",
      "querying 21001-22000...done.\n",
      "querying 22001-23000...done.\n",
      "querying 23001-24000...done.\n",
      "querying 24001-25000...done.\n",
      "querying 25001-26000...done.\n",
      "querying 26001-27000...done.\n",
      "querying 27001-28000...done.\n",
      "querying 28001-29000...done.\n",
      "querying 29001-30000...done.\n",
      "querying 30001-31000...done.\n",
      "querying 31001-32000...done.\n",
      "querying 32001-33000...done.\n",
      "querying 33001-34000...done.\n",
      "querying 34001-35000...done.\n",
      "querying 35001-36000...done.\n",
      "querying 36001-37000...done.\n",
      "querying 37001-38000...done.\n",
      "querying 38001-39000...done.\n",
      "querying 39001-40000...done.\n",
      "querying 40001-41000...done.\n",
      "querying 41001-42000...done.\n",
      "querying 42001-43000...done.\n",
      "querying 43001-44000...done.\n",
      "querying 44001-45000...done.\n",
      "querying 45001-46000...done.\n",
      "querying 46001-47000...done.\n",
      "querying 47001-48000...done.\n",
      "querying 48001-49000...done.\n",
      "querying 49001-50000...done.\n",
      "querying 50001-51000...done.\n",
      "querying 51001-52000...done.\n",
      "querying 52001-53000...done.\n",
      "querying 53001-54000...done.\n",
      "querying 54001-55000...done.\n",
      "querying 55001-56000...done.\n",
      "querying 56001-57000...done.\n",
      "querying 57001-58000...done.\n",
      "querying 58001-59000...done.\n",
      "querying 59001-60000...done.\n",
      "querying 60001-61000...done.\n",
      "querying 61001-62000...done.\n",
      "querying 62001-63000...done.\n",
      "querying 63001-64000...done.\n",
      "querying 64001-65000...done.\n",
      "querying 65001-66000...done.\n",
      "querying 66001-67000...done.\n",
      "querying 67001-68000...done.\n",
      "querying 68001-69000...done.\n",
      "querying 69001-70000...done.\n",
      "querying 70001-71000...done.\n",
      "querying 71001-72000...done.\n",
      "querying 72001-73000...done.\n",
      "querying 73001-74000...done.\n",
      "querying 74001-75000...done.\n",
      "querying 75001-76000...done.\n",
      "querying 76001-77000...done.\n",
      "querying 77001-78000...done.\n",
      "querying 78001-79000...done.\n",
      "querying 79001-80000...done.\n",
      "querying 80001-81000...done.\n",
      "querying 81001-82000...done.\n",
      "querying 82001-83000...done.\n",
      "querying 83001-84000...done.\n",
      "querying 84001-85000...done.\n",
      "querying 85001-86000...done.\n",
      "querying 86001-87000...done.\n",
      "querying 87001-88000...done.\n",
      "querying 88001-89000...done.\n",
      "querying 89001-90000...done.\n",
      "querying 90001-91000...done.\n",
      "querying 91001-92000...done.\n",
      "querying 92001-93000...done.\n",
      "querying 93001-94000...done.\n",
      "querying 94001-95000...done.\n",
      "querying 95001-96000...done.\n",
      "querying 96001-97000...done.\n",
      "querying 97001-98000...done.\n",
      "querying 98001-99000...done.\n",
      "querying 99001-100000...done.\n",
      "querying 100001-101000...done.\n",
      "querying 101001-102000...done.\n",
      "querying 102001-103000...done.\n",
      "querying 103001-104000...done.\n",
      "querying 104001-105000...done.\n",
      "querying 105001-106000...done.\n",
      "querying 106001-107000...done.\n",
      "querying 107001-108000...done.\n",
      "querying 108001-108174...done.\n",
      "Finished.\n",
      "10842 input query terms found dup hits:\n",
      "\t[('GPX1', 10), ('PKD1L2', 11), ('TRBC2', 12), ('IGLV5-52', 12), ('IGLV1-51', 16), ('TRDJ1', 2), ('TR\n",
      "6055 input query terms found no hit:\n",
      "\t['MT-ND1', 'MT-ND1', 'MT-ND1', 'MT-ND1', 'MT-ND1', 'MT-ND1', 'MT-ND2', 'MT-ND2', 'MT-ND2', 'MT-ND2',\n",
      "Pass \"returnall=True\" to return complete lists of duplicate or missing query terms.\n"
     ]
    }
   ],
   "source": [
    "import mygene\n",
    "\n",
    "clusPro_f = clusPro_f.reset_index()\n",
    "mg = mygene.MyGeneInfo()\n",
    "gg = mg.querymany(list(clusPro_f[\"Gene\"]), scopes=\"symbol\", fields=\"entrezgene\", species=\"human\", returnall=False, as_dataframe=True)\n",
    "aa = dict(zip(list(gg.index), list(gg[\"entrezgene\"])))\n",
    "for ii in range(clusPro_f.shape[0]):\n",
    "    clusPro_f.loc[ii, \"Gene\"] = aa[clusPro_f.loc[ii, \"Gene\"]]"
   ]
  },
  {
   "cell_type": "markdown",
   "metadata": {},
   "source": [
    "### 4.5 GSEA of WGCNA clusters"
   ]
  },
  {
   "cell_type": "code",
   "execution_count": null,
   "metadata": {},
   "outputs": [],
   "source": [
    "from gseapy.plot import gseaplot, dotplot, barplot"
   ]
  },
  {
   "cell_type": "markdown",
   "metadata": {},
   "source": [
    "## 6. AXL Correlation Analysis"
   ]
  },
  {
   "cell_type": "code",
   "execution_count": null,
   "metadata": {},
   "outputs": [],
   "source": []
  }
 ],
 "metadata": {
  "interpreter": {
   "hash": "7812ea015bdcee6f23a998adcdd2ef97c151c0c241b7b7070987d9313e41299d"
  },
  "kernelspec": {
   "display_name": "Python 3.9.6 64-bit",
   "language": "python",
   "name": "python3"
  },
  "language_info": {
   "codemirror_mode": {
    "name": "ipython",
    "version": 3
   },
   "file_extension": ".py",
   "mimetype": "text/x-python",
   "name": "python",
   "nbconvert_exporter": "python",
   "pygments_lexer": "ipython3",
   "version": "3.9.6"
  },
  "orig_nbformat": 4
 },
 "nbformat": 4,
 "nbformat_minor": 2
}
