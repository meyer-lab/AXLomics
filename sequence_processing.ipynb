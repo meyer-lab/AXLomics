{
 "cells": [
  {
   "cell_type": "code",
   "execution_count": null,
   "metadata": {
    "collapsed": true
   },
   "outputs": [],
   "source": [
    "from Bio import SeqIO\n",
    "import os\n",
    "import numpy as np\n",
    "import random\n",
    "\n",
    "def trim(seqFile):\n",
    "    cwd = os.getcwd()\n",
    "    homeDir = cwd[1:5]\n",
    "    if (homeDir == 'home'):\n",
    "        print('using path from server to load sequences')\n",
    "        pathToFile = os.path.join(\"/home\",\"adamw\",\"flu-vax\",\"fluv\", str(seqFile)) #aretha server\n",
    "    else:\n",
    "        print('using path from windows machine to load sequences')\n",
    "        pathToFile = './trial_seq.fa'\n",
    "        #pathToFile = os.path.join(Users\",\"Marc\",\"Documents\",\"flu-vax\", str(seqFile))  #windows machine\n",
    "    \n",
    "    allSeqs = []\n",
    "    allLabels = []\n",
    "    for seq_record in SeqIO.parse(pathToFile, \"\"\"fasta\"\"\"):\n",
    "            allSeqs.append(seq_record.seq)\n",
    "            allLabels.append(seq_record.id)\n",
    "    \n",
    "    seqMat = np.array(allSeqs)\n",
    "    label = np.array(allLabels)\n",
    "    \n",
    "    sequence = seqMat[:, 0:317]\n",
    "    \n",
    "    # filtering out residues not included in PAM250 pymsa distance matrix (http://www.matrixscience.com/blog/non-standard-amino-acid-residues.html)\n",
    "    for i in range(0, sequence.shape[0]):\n",
    "        for j in range(0,sequence.shape[1]):\n",
    "            if (sequence[i,j] == 'J'):\n",
    "                sequence[i,j] = random.choice(['I', 'L'])\n",
    "    \n",
    "    return (label, sequence)"
   ]
  }
 ],
 "metadata": {
  "kernelspec": {
   "display_name": "Python 3",
   "language": "python",
   "name": "python3"
  },
  "language_info": {
   "codemirror_mode": {
    "name": "ipython",
    "version": 3
   },
   "file_extension": ".py",
   "mimetype": "text/x-python",
   "name": "python",
   "nbconvert_exporter": "python",
   "pygments_lexer": "ipython3",
   "version": "3.6.8"
  }
 },
 "nbformat": 4,
 "nbformat_minor": 2
}
