{
 "cells": [
  {
   "cell_type": "code",
   "execution_count": 9,
   "metadata": {},
   "outputs": [],
   "source": [
    "import pandas as pd\n",
    "import numpy as np\n",
    "import matplotlib\n",
    "import matplotlib.pyplot as plt\n",
    "import seaborn as sns\n",
    "from msresist.pre_processing import preprocessing\n",
    "from msresist.clustering import DDMC\n",
    "from msresist.figures.common import plotMotifs\n",
    "\n",
    "matplotlib.rcParams['font.sans-serif'] = \"Arial\"\n",
    "sns.set(style=\"white\", font_scale=1, color_codes=True, palette=\"colorblind\", rc={\"grid.linestyle\": \"dotted\", \"axes.linewidth\": 0.6})"
   ]
  },
  {
   "cell_type": "code",
   "execution_count": 10,
   "metadata": {},
   "outputs": [
    {
     "name": "stderr",
     "output_type": "stream",
     "text": [
      "/home/creixell/AXLomics/msresist/pre_processing.py:121: FutureWarning: The provided callable <function mean at 0x7f06a8712660> is currently using DataFrameGroupBy.mean. In a future version of pandas, the provided callable will be used directly. To keep current behavior pass the string \"mean\" instead.\n",
      "  return pd.pivot_table(X, values=values, index=indices, aggfunc=np.mean)\n",
      "/home/creixell/AXLomics/msresist/pre_processing.py:284: FutureWarning: The provided callable <function mean at 0x7f06a8712660> is currently using SeriesGroupBy.mean. In a future version of pandas, the provided callable will be used directly. To keep current behavior pass the string \"mean\" instead.\n",
      "  X = pd.pivot_table(triplicates, values=triplicates[data_headers].columns, index=merging_indices, aggfunc=func_tri)\n",
      "/home/creixell/AXLomics/msresist/pre_processing.py:284: FutureWarning: The provided callable <function std at 0x7f06a87127a0> is currently using SeriesGroupBy.std. In a future version of pandas, the provided callable will be used directly. To keep current behavior pass the string \"std\" instead.\n",
      "  X = pd.pivot_table(triplicates, values=triplicates[data_headers].columns, index=merging_indices, aggfunc=func_tri)\n",
      "/home/creixell/AXLomics/msresist/pre_processing.py:284: FutureWarning: The provided callable <function mean at 0x7f06a8712660> is currently using SeriesGroupBy.mean. In a future version of pandas, the provided callable will be used directly. To keep current behavior pass the string \"mean\" instead.\n",
      "  X = pd.pivot_table(triplicates, values=triplicates[data_headers].columns, index=merging_indices, aggfunc=func_tri)\n",
      "/home/creixell/AXLomics/msresist/pre_processing.py:121: FutureWarning: The provided callable <function mean at 0x7f06a8712660> is currently using DataFrameGroupBy.mean. In a future version of pandas, the provided callable will be used directly. To keep current behavior pass the string \"mean\" instead.\n",
      "  return pd.pivot_table(X, values=values, index=indices, aggfunc=np.mean)\n"
     ]
    }
   ],
   "source": [
    "# Import siganling data\n",
    "X = preprocessing(AXLm_ErlAF154=True, Vfilter=True, FCfilter=True, log2T=True, mc_row=True)\n",
    "d = X.select_dtypes(include=['float64']).T\n",
    "i = X.select_dtypes(include=['object'])\n",
    "\n",
    "# Fit DDMC\n",
    "ddmc = DDMC(i, n_components=5, SeqWeight=2, distance_method=\"PAM250\", random_state=5).fit(d)"
   ]
  },
  {
   "cell_type": "code",
   "execution_count": 14,
   "metadata": {},
   "outputs": [
    {
     "data": {
      "text/plain": [
       "array([1, 2, 5, 5, 3, 3, 4, 5, 1, 5, 5, 3, 5, 5, 5, 3, 5, 1, 2, 5, 3, 3,\n",
       "       5, 3, 5, 3, 3, 5, 5, 4, 5, 5, 3, 1, 5, 3, 5, 5, 3, 5, 1, 5, 1, 3,\n",
       "       3, 5, 5, 3, 3, 5, 5, 4, 3, 5, 5, 3, 3, 3, 3, 1, 3, 3, 5, 3, 5, 5,\n",
       "       1, 5, 3, 5, 5, 5, 5, 5, 3, 5, 5, 4, 5, 5, 5, 5, 1, 5, 1, 3, 3, 3,\n",
       "       3, 5, 5, 5, 1, 3, 3, 5, 5, 3, 5, 3, 3, 5, 3, 4, 5, 4, 5, 2, 5, 5,\n",
       "       4, 5, 1, 5, 5, 5, 4, 5, 5, 5, 5, 3, 3, 5, 2, 2, 5, 1, 5, 1, 1, 2,\n",
       "       3, 3, 3, 5, 3, 3, 2, 1, 5, 3, 5, 1, 5, 5, 5, 5, 5, 3, 3, 5, 5, 1,\n",
       "       5, 5, 5, 4, 5, 5, 5, 5, 5, 1, 4, 4, 3, 5, 1, 5, 5, 5, 5, 3, 3, 3,\n",
       "       5, 5, 3, 5, 1, 1, 1, 3, 3, 3, 3, 1, 5, 5, 1, 5, 3, 3, 5, 4, 5, 5,\n",
       "       5, 4, 5, 4, 1, 1, 1, 4, 4, 2, 3, 3, 3, 2, 3, 3, 1, 5, 4, 3, 1, 4,\n",
       "       2, 1, 3, 4, 1, 4, 4, 4, 1, 5, 3, 3, 5, 4, 5, 3, 5, 2, 1, 4, 3, 3,\n",
       "       5, 1, 5, 5, 5, 1, 3, 5, 3, 5, 5, 3, 1, 3, 1, 3, 2, 2, 5, 3, 1, 5,\n",
       "       5, 4, 1, 1, 5, 2, 5, 5, 3, 1, 1, 1, 1, 3, 1, 1, 5, 3, 5, 3, 5, 5,\n",
       "       2, 5, 1, 2, 3, 5, 5, 1, 3, 3, 1, 3, 5, 5, 5, 3, 3, 3, 5, 1, 3, 4,\n",
       "       3, 3, 5, 3, 3, 2, 2, 5, 5, 3, 3, 5, 3, 1, 5, 5, 1, 3, 3, 4, 1, 5,\n",
       "       5, 3, 1, 1, 3, 4, 5, 5, 4, 3, 3, 3, 3, 1, 1, 3, 5, 3, 5, 5, 2, 1,\n",
       "       2, 3, 5, 3, 2, 5, 3, 3, 3, 5, 1, 5, 3, 5, 1, 1, 1, 5, 3, 3, 2, 5,\n",
       "       5, 5, 2, 3, 1, 3, 1, 3, 5, 1, 3, 3, 5, 4, 1, 2, 4, 3, 3, 3, 4, 2,\n",
       "       3, 3, 2, 3, 1, 1, 5, 1, 2, 3, 5, 3, 3, 3, 3, 3, 5, 4, 1, 5, 3, 5,\n",
       "       3, 3, 4, 5, 1, 3, 3, 5, 5, 3, 3, 5, 5, 1, 5, 5, 5, 5, 1, 5, 3, 5,\n",
       "       2, 5, 3, 4, 5, 3, 3, 1, 3, 1, 3, 5, 3, 5, 5, 1, 1, 1, 3, 5, 5, 5,\n",
       "       5, 1, 1, 5, 5, 5, 4, 3, 3, 3, 3, 3, 3, 3, 3, 3, 3, 2, 3, 4, 5, 5,\n",
       "       3, 1, 5, 3, 2, 3, 1])"
      ]
     },
     "execution_count": 14,
     "metadata": {},
     "output_type": "execute_result"
    }
   ],
   "source": [
    "ddmc.labels()"
   ]
  },
  {
   "cell_type": "code",
   "execution_count": 15,
   "metadata": {},
   "outputs": [],
   "source": [
    "X.insert(0, \"DDMC cluster\", ddmc.labels())"
   ]
  },
  {
   "cell_type": "code",
   "execution_count": 18,
   "metadata": {},
   "outputs": [],
   "source": [
    "X[[\"DDMC cluster\", \"Gene\", \"Position\"]].to_csv(\"/home/creixell/AXLomics/msresist/out/results/AXL_clusters.csv\", index=False)"
   ]
  },
  {
   "cell_type": "code",
   "execution_count": null,
   "metadata": {},
   "outputs": [],
   "source": [
    "_, ax = plt.subplots(1, 5, figsize=(25, 5))\n",
    "pssms, _ = ddmc.pssms(PsP_background=False)\n",
    "plotMotifs([pssms[0], pssms[1], pssms[2], pssms[3], pssms[4]], axes=ax, titles=[\"Cluster 1\", \"Cluster 2\", \"Cluster 3\", \"Cluster 4\", \"Cluster 5\"])\n",
    "plt.tight_layout()\n",
    "plt.savefig(\"motifs.svg\")"
   ]
  },
  {
   "cell_type": "code",
   "execution_count": 15,
   "metadata": {},
   "outputs": [
    {
     "data": {
      "text/plain": [
       "<Figure size 640x480 with 0 Axes>"
      ]
     },
     "metadata": {},
     "output_type": "display_data"
    }
   ],
   "source": [
    "plt.savefig(\"motifs.svg\")"
   ]
  },
  {
   "cell_type": "code",
   "execution_count": null,
   "metadata": {},
   "outputs": [],
   "source": []
  }
 ],
 "metadata": {
  "kernelspec": {
   "display_name": "pf2_env",
   "language": "python",
   "name": "python3"
  },
  "language_info": {
   "codemirror_mode": {
    "name": "ipython",
    "version": 3
   },
   "file_extension": ".py",
   "mimetype": "text/x-python",
   "name": "python",
   "nbconvert_exporter": "python",
   "pygments_lexer": "ipython3",
   "version": "3.13.3"
  }
 },
 "nbformat": 4,
 "nbformat_minor": 2
}
