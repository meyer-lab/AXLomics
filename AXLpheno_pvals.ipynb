{
 "cells": [
  {
   "cell_type": "code",
   "execution_count": 70,
   "metadata": {},
   "outputs": [],
   "source": [
    "import pandas as pd\n",
    "from scipy.stats import ttest_ind\n",
    "import seaborn as sns\n",
    "from msresist.figures.common import import_phenotype_data, formatPhenotypesForModeling, TimePointFoldChange\n",
    "from msresist.distances import DataFrameRipleysK\n",
    "import numpy as np\n"
   ]
  },
  {
   "cell_type": "code",
   "execution_count": 141,
   "metadata": {},
   "outputs": [],
   "source": [
    "all_lines = [\"WT\", \"KO\", \"KI\", \"KD\", \"Y634F\", \"Y643F\", \"Y698F\", \"Y726F\", \"Y750F\", \"Y821F\"]\n",
    "mutants = ['PC9', 'KO', 'KIN', 'KD', 'M4', 'M5', 'M7', 'M10', 'M11', 'M15']\n",
    "tr = ['ut', 'e', 'ae']\n",
    "\n",
    "cv = import_phenotype_data(phenotype=\"Cell Viability\")\n",
    "red = import_phenotype_data(phenotype=\"Cell Death\")\n",
    "sw = import_phenotype_data(phenotype=\"Migration\")\n",
    "c = import_phenotype_data(phenotype=\"Island\")\n",
    "y = formatPhenotypesForModeling(cv, red, sw, c)\n",
    "\n",
    "c_brs = DataFrameRipleysK('48hrs', mutants, ['ut', 'e', 'ae'], 6, np.linspace(1, 14.67, 1), merge=False).reset_index().set_index(\"Mutant\")\n"
   ]
  },
  {
   "cell_type": "code",
   "execution_count": 200,
   "metadata": {},
   "outputs": [],
   "source": [
    "def pval_phenotypes(data, pheno, lines, all_lines, timepoint, fc=True):\n",
    "    \"For each phenotype Test: E vs EA across all cell lines and per cell line.\"\n",
    "    out = np.empty(len(lines))\n",
    "    for idx, line in enumerate(lines):\n",
    "        aes = []\n",
    "        es = []\n",
    "        for d in data:\n",
    "            d = d.set_index(\"Elapsed\")\n",
    "            l = d.loc[:, d.columns.str.contains(line)]\n",
    "            aes.extend(l.loc[:, l.columns.str.contains(\"-A/E\")].loc[timepoint].values)\n",
    "            es.extend(l.loc[:, l.columns.str.contains(\"-E\")].loc[timepoint].values)\n",
    "        out[idx] = ttest_ind(es, aes)[1]\n",
    "\n",
    "    table = pd.DataFrame()\n",
    "    table[\"Cell Line\"] = all_lines\n",
    "    table[pheno] = out\n",
    "\n",
    "    return table.set_index(\"Cell Line\")\n",
    "\n",
    "\n",
    "def Island_pvals(c, all_lines):\n",
    "    mutants = list(set(c.index))\n",
    "    muts = []\n",
    "    out = np.empty(len(mutants))\n",
    "    for idx, m in enumerate(mutants):\n",
    "        mut = c.loc[m]\n",
    "        e = mut[mut[\"Treatment\"] == \"e\"][\"K Estimate\"].values\n",
    "        ae = mut[mut[\"Treatment\"] == \"ae\"][\"K Estimate\"].values\n",
    "        out[idx] = ttest_ind(e, ae)[1]\n",
    "        muts.append(m)\n",
    "\n",
    "    table = pd.DataFrame()\n",
    "    table[\"Cell Line\"] = muts\n",
    "    table[\"Island\"] = out\n",
    "    table = table.set_index(\"Cell Line\")\n",
    "    table = table.rename(index={\"M7\": \"Y698F\", \"M4\": \"Y634F\", \"M5\": \"Y643F\", \"M10\":\"Y726F\", \"M11\":\"Y750F\", \"M15\": \"Y821F\", \"PC9\": \"WT\", \"KIN\": \"KI\"})\n",
    "\n",
    "    return table.T[all_lines].T\n",
    "\n",
    "\n",
    "# Cell Viability\n",
    "mutants = ['PC9', 'AXL KO', 'Kin', 'Kdead', 'M4', 'M5', 'M7', 'M10', 'M11', 'M15']\n",
    "cv[-1][\"Elapsed\"] = cv[-2][\"Elapsed\"]\n",
    "cv_pvals = pval_phenotypes(cv, \"Cell Viability\", mutants, all_lines, int(96))\n",
    "\n",
    "# Cell Death\"\n",
    "red[-1][\"Elapsed\"] = red[-2][\"Elapsed\"]\n",
    "cd_pvals = pval_phenotypes(red, \"Cell Death\", mutants, all_lines, int(96))\n",
    "\n",
    "# Cell Migration\n",
    "mutants = ['PC9', 'KO', 'KIN', 'KD', 'M4', 'M5', 'M7', 'M10', 'M11', 'M15']\n",
    "sw_pvals = pval_phenotypes(sw, \"Migration\", mutants, all_lines, int(10))\n",
    "\n",
    "# Cell Island\n",
    "i_pvals = Island_pvals(c_brs, all_lines)\n",
    "\n",
    "pvals = pd.concat([cv_pvals, cd_pvals, sw_pvals, i_pvals], axis=1)"
   ]
  },
  {
   "cell_type": "code",
   "execution_count": 203,
   "metadata": {},
   "outputs": [
    {
     "data": {
      "text/plain": [
       "<AxesSubplot:ylabel='Cell Line'>"
      ]
     },
     "execution_count": 203,
     "metadata": {},
     "output_type": "execute_result"
    },
    {
     "data": {
      "image/png": "[encoded data removed]",
      "text/plain": [
       "<Figure size 432x288 with 2 Axes>"
      ]
     },
     "metadata": {
      "needs_background": "light"
     },
     "output_type": "display_data"
    }
   ],
   "source": [
    "sns.heatmap(pvals, vmax=(0.0))"
   ]
  },
  {
   "cell_type": "markdown",
   "metadata": {},
   "source": [
    "For every phenotype, E vs EA test:"
   ]
  },
  {
   "cell_type": "code",
   "execution_count": 205,
   "metadata": {},
   "outputs": [
    {
     "data": {
      "text/plain": [
       "[0.10956356795859032,\n",
       " 0.056562045620600514,\n",
       " 0.08038517234759954,\n",
       " 0.06948336893420695]"
      ]
     },
     "execution_count": 205,
     "metadata": {},
     "output_type": "execute_result"
    }
   ],
   "source": [
    "pval = []\n",
    "for p in y.columns[2:]:\n",
    "    e = y.set_index(\"Treatment\").loc[\"-E\"][p].values\n",
    "    ea =  y.set_index(\"Treatment\").loc[\"A/E\"][p].values\n",
    "    pval.append(ttest_ind(e, ea)[1])\n",
    "pval"
   ]
  }
 ],
 "metadata": {
  "interpreter": {
   "hash": "7812ea015bdcee6f23a998adcdd2ef97c151c0c241b7b7070987d9313e41299d"
  },
  "kernelspec": {
   "display_name": "Python 3.9.6 64-bit",
   "language": "python",
   "name": "python3"
  },
  "language_info": {
   "codemirror_mode": {
    "name": "ipython",
    "version": 3
   },
   "file_extension": ".py",
   "mimetype": "text/x-python",
   "name": "python",
   "nbconvert_exporter": "python",
   "pygments_lexer": "ipython3",
   "version": "3.9.6"
  },
  "orig_nbformat": 4
 },
 "nbformat": 4,
 "nbformat_minor": 2
}
