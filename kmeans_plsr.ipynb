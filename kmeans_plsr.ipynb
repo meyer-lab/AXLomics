{
 "cells": [
  {
   "cell_type": "code",
   "execution_count": 1,
   "metadata": {},
   "outputs": [],
   "source": [
    "import pandas as pd\n",
    "from sklearn.cross_decomposition import PLSRegression\n",
    "from sklearn.cluster import KMeans\n",
    "from msresist.comp_estimator import ComHyperPar, MyOwnKMEANS\n",
    "from msresist.plsr import MeanCenter, VarianceFilter, FoldChangeFilter, ClusterAverages, GridSearch_CV, MeasuredVsPredicted_LOOCVplot, Q2Y_across_components, R2Y_across_components\n",
    "from msresist.mining_bioreplicates import FormatName, FormatSeq, MapOverlappingPeptides, BuildDupsMatrix, BuildTripsMatrix, DupsMeanAndRange, TripsMeanAndStd, FilterByRange, FilterByStdev, MergeDfbyMean\n",
    "from msresist.sequence_analysis import GenerateFastaFile, DictProtNameToSeq, MatchProtNames, GeneratingKinaseMotifs\n",
    "import scipy as sp, numpy as np, pandas as pd, math\n",
    "from sklearn.pipeline import Pipeline\n",
    "import matplotlib.pyplot as plt\n",
    "import matplotlib.colors as colors\n",
    "import matplotlib.cm as cm\n",
    "import seaborn as sns; sns.set(color_codes=True)\n",
    "from FileExporter import create_download_link\n",
    "from Bio import SeqIO\n",
    "import warnings\n",
    "warnings.simplefilter(\"ignore\")"
   ]
  },
  {
   "cell_type": "markdown",
   "metadata": {},
   "source": [
    "# Importing and pre-processing data"
   ]
  },
  {
   "cell_type": "markdown",
   "metadata": {},
   "source": [
    "### Phosphorylation levels of peptides across conditions | X Matrix where peptides = vars and conditions = obs"
   ]
  },
  {
   "cell_type": "markdown",
   "metadata": {},
   "source": [
    "Raw Data of all 3 biological replicates:"
   ]
  },
  {
   "cell_type": "code",
   "execution_count": 2,
   "metadata": {},
   "outputs": [],
   "source": [
    "A_r = pd.read_csv('./msresist/data/Raw/20180817_JG_AM_TMT10plex_R1_psms_raw.csv', header=0)\n",
    "B_r = pd.read_csv('./msresist/data/Raw/20190214_JG_AM_PC9_AXL_TMT10_AC28_R2_PSMs_raw.csv', header=0)\n",
    "C_r = pd.read_csv('./msresist/data/Raw/CombinedBR3_TR1&2_raw.csv', header=0)"
   ]
  },
  {
   "cell_type": "code",
   "execution_count": 3,
   "metadata": {},
   "outputs": [],
   "source": [
    "treatments = A_r.columns[2:]\n",
    "header = A_r.columns"
   ]
  },
  {
   "cell_type": "markdown",
   "metadata": {},
   "source": [
    "#### Normalization 1: Linear Fold Change values wrt PC9 untreated cell population."
   ]
  },
  {
   "cell_type": "markdown",
   "metadata": {},
   "source": [
    "Biological replicates normalized by fold-change to the control:"
   ]
  },
  {
   "cell_type": "code",
   "execution_count": 4,
   "metadata": {},
   "outputs": [],
   "source": [
    "A_fc = pd.read_csv('./msresist/data/Fold-Change/20180817_JG_AM_TMT10plex_R1_psms.csv', header=0)\n",
    "B_fc = pd.read_csv('./msresist/data/Fold-Change/20190214_JG_AM_PC9_AXL_TMT10_AC28_R2_PSMs.csv', header=0)\n",
    "C_fc = pd.read_csv('./msresist/data/Fold-Change/CombinedBR3_TR1&2.csv', header=0)"
   ]
  },
  {
   "cell_type": "code",
   "execution_count": 5,
   "metadata": {},
   "outputs": [],
   "source": [
    "ABC_fc = pd.concat([A_fc, B_fc, C_fc])"
   ]
  },
  {
   "cell_type": "code",
   "execution_count": 6,
   "metadata": {},
   "outputs": [],
   "source": [
    "ABC_fc = ABC_fc[ABC_fc[\"peptide-phosphosite\"] != 'sEQLkPLktYVDPHTYEDPNQAVLk-1']\n",
    "ABC_fc = ABC_fc[ABC_fc[\"peptide-phosphosite\"] != 'tYVDPHTYEDPNQAVLk-1']\n",
    "ABC_fc = ABC_fc[ABC_fc[\"peptide-phosphosite\"] != 'tYELLNcDk-1']\n",
    "ABC_fc = ABC_fc[ABC_fc[\"peptide-phosphosite\"] != 'sLYHDISGDTSGDYRk-1']\n",
    "ABC_fc = ABC_fc[ABC_fc[\"peptide-phosphosite\"] != 'sYDVPPPPMEPDHPFYSNISk-1']"
   ]
  },
  {
   "cell_type": "code",
   "execution_count": 7,
   "metadata": {},
   "outputs": [],
   "source": [
    "ABC_fc = FormatSeq(ABC_fc)\n",
    "# ABC_fc['Master Protein Descriptions'] = FormatName(ABC_fc)"
   ]
  },
  {
   "cell_type": "markdown",
   "metadata": {},
   "source": [
    "#### Normalization 2: Linear mean centered across conditions."
   ]
  },
  {
   "cell_type": "code",
   "execution_count": 8,
   "metadata": {},
   "outputs": [],
   "source": [
    "A_mc = MeanCenter(A_r, logT=True)\n",
    "B_mc = MeanCenter(B_r, logT=True)\n",
    "C_mc = MeanCenter(C_r, logT=True)"
   ]
  },
  {
   "cell_type": "code",
   "execution_count": 9,
   "metadata": {},
   "outputs": [],
   "source": [
    "ABC_mc = pd.concat([A_mc, B_mc, C_mc])"
   ]
  },
  {
   "cell_type": "code",
   "execution_count": 10,
   "metadata": {},
   "outputs": [],
   "source": [
    "ABC_mc = ABC_mc[ABC_mc[\"peptide-phosphosite\"] != 'sEQLkPLktYVDPHTYEDPNQAVLk-1']\n",
    "ABC_mc = ABC_mc[ABC_mc[\"peptide-phosphosite\"] != 'tYVDPHTYEDPNQAVLk-1']\n",
    "ABC_mc = ABC_mc[ABC_mc[\"peptide-phosphosite\"] != 'tYELLNcDk-1']\n",
    "ABC_mc = ABC_mc[ABC_mc[\"peptide-phosphosite\"] != 'sLYHDISGDTSGDYRk-1']\n",
    "ABC_mc = ABC_mc[ABC_mc[\"peptide-phosphosite\"] != 'sYDVPPPPMEPDHPFYSNISk-1']"
   ]
  },
  {
   "cell_type": "code",
   "execution_count": 11,
   "metadata": {},
   "outputs": [],
   "source": [
    "ABC_mc = FormatSeq(ABC_mc)\n",
    "# ABC_mc['Master Protein Descriptions'] = FormatName(ABC_mc)"
   ]
  },
  {
   "cell_type": "markdown",
   "metadata": {},
   "source": [
    "## Make Peptide motifs uniform by mapping onto Uniprot's proteome"
   ]
  },
  {
   "cell_type": "code",
   "execution_count": 12,
   "metadata": {},
   "outputs": [],
   "source": [
    "ABC_acc = list(ABC_fc.iloc[:, 1])\n",
    "ABC_names = []\n",
    "x = list(map(lambda  v : ABC_names.append(v.split(\" OS\")[0]), ABC_fc.iloc[:,1]))\n",
    "ABC_seqs = list(ABC_fc.iloc[:, 0])\n",
    "GenerateFastaFile('./msresist/data/Sequence_analysis/ABC/ABC.fa', ABC_names, ABC_seqs)"
   ]
  },
  {
   "cell_type": "code",
   "execution_count": 13,
   "metadata": {},
   "outputs": [],
   "source": [
    "# ABC_fa = open('./msresist/data/Sequence_analysis/ABC/ABC.fa'. 'r')\n",
    "proteome = open('./msresist/data/Sequence_analysis/proteome_uniprot.fa', 'r')\n",
    "ProtNameToSeq_Uni = DictProtNameToSeq(proteome)"
   ]
  },
  {
   "cell_type": "code",
   "execution_count": 14,
   "metadata": {},
   "outputs": [],
   "source": [
    "# MatchProtNames('./msresist/data/Sequence_analysis/ABC/ABC_matched.fa', ABC_fa, ProtNameToSeq_Uni)"
   ]
  },
  {
   "cell_type": "code",
   "execution_count": 15,
   "metadata": {},
   "outputs": [],
   "source": [
    "ABC_matched = open('./msresist/data/Sequence_analysis/ABC/ABC_matched.fa', \"r\")"
   ]
  },
  {
   "cell_type": "code",
   "execution_count": 16,
   "metadata": {},
   "outputs": [],
   "source": [
    "matched_names = []\n",
    "for rec1 in SeqIO.parse(ABC_matched, \"fasta\"):\n",
    "    matched_names.append(str(rec1.description))                     "
   ]
  },
  {
   "cell_type": "code",
   "execution_count": 17,
   "metadata": {},
   "outputs": [],
   "source": [
    "ABC_matched2 = open('./msresist/data/Sequence_analysis/ABC/ABC_matched.fa', \"r\")"
   ]
  },
  {
   "cell_type": "code",
   "execution_count": 18,
   "metadata": {},
   "outputs": [
    {
     "name": "stdout",
     "output_type": "stream",
     "text": [
      "1491\n"
     ]
    }
   ],
   "source": [
    "MS_names, motifs = GeneratingKinaseMotifs(ABC_matched2, ProtNameToSeq_Uni)"
   ]
  },
  {
   "cell_type": "code",
   "execution_count": 19,
   "metadata": {},
   "outputs": [],
   "source": [
    "# GenerateFastaFile(\"./msresist/data/Sequence_analysis/ABC/ABC_motifs.fa\", MS_names, motifs)"
   ]
  },
  {
   "cell_type": "code",
   "execution_count": 20,
   "metadata": {},
   "outputs": [],
   "source": [
    "ABC_fc['peptide-phosphosite'] = motifs\n",
    "ABC_fc['Master Protein Descriptions'] = ABC_names\n",
    "\n",
    "ABC_mc['peptide-phosphosite'] = motifs\n",
    "ABC_mc['Master Protein Descriptions'] = ABC_names"
   ]
  },
  {
   "cell_type": "markdown",
   "metadata": {},
   "source": [
    "## Filtering and Merging of biological replicates"
   ]
  },
  {
   "cell_type": "markdown",
   "metadata": {},
   "source": [
    "Concatenate and format peptide sequences"
   ]
  },
  {
   "cell_type": "code",
   "execution_count": 21,
   "metadata": {},
   "outputs": [],
   "source": [
    "# display(A_fc[A_fc[\"Master Protein Descriptions\"].str.contains(\"UFO\")])\n",
    "# display(B_fc[B_fc[\"Master Protein Descriptions\"].str.contains(\"UFO\")])\n",
    "# display(C_fc[C_fc[\"Master Protein Descriptions\"].str.contains(\"UFO\")])"
   ]
  },
  {
   "cell_type": "code",
   "execution_count": 22,
   "metadata": {},
   "outputs": [],
   "source": [
    "# ABC_avg = MergeDfbyMean(ABC_fc, treatments)\n",
    "# ABC_avg = ABC_avg.reset_index(drop = False)[header]"
   ]
  },
  {
   "cell_type": "code",
   "execution_count": 23,
   "metadata": {},
   "outputs": [],
   "source": [
    "# ABC_avg[ABC_avg[\"Master Protein Descriptions\"].str.contains(\"UFO\")]"
   ]
  },
  {
   "cell_type": "markdown",
   "metadata": {},
   "source": [
    "Build dataframe inidicating the number of recurrencies of each peptide: 1,2 or 3. From this dataframe we manually created two csv files () containing all duplicates. Finally, generate counter to see number of non-recurrent peptides, duplicates and triplicates:"
   ]
  },
  {
   "cell_type": "code",
   "execution_count": 24,
   "metadata": {},
   "outputs": [
    {
     "name": "stdout",
     "output_type": "stream",
     "text": [
      "total number of recurrences: {1: 523, 2: 229, 3: 101, 4: 24, 5: 10, 6: 9, 7: 1}\n"
     ]
    }
   ],
   "source": [
    "recurrences = MapOverlappingPeptides(ABC_fc)"
   ]
  },
  {
   "cell_type": "markdown",
   "metadata": {},
   "source": [
    "Create two individual matrices, one with the peptides that show up 2 (range) and a second with peptides that show up >= 3:"
   ]
  },
  {
   "cell_type": "code",
   "execution_count": 25,
   "metadata": {},
   "outputs": [],
   "source": [
    "recurrences = recurrences.reset_index(drop=False)\n",
    "recurrences.columns = [header[0], header[1], \"Recs\"]"
   ]
  },
  {
   "cell_type": "code",
   "execution_count": 26,
   "metadata": {},
   "outputs": [],
   "source": [
    "duplicated_ = recurrences[recurrences[\"Recs\"] == 2]\n",
    "triplicated_ = recurrences[recurrences[\"Recs\"] >= 3]"
   ]
  },
  {
   "cell_type": "markdown",
   "metadata": {},
   "source": [
    "Sort all duplicates and triplicates within the concatenated dataframe in two seperate matrices:"
   ]
  },
  {
   "cell_type": "code",
   "execution_count": 27,
   "metadata": {},
   "outputs": [],
   "source": [
    "FC_dups = BuildDupsMatrix(duplicated_, ABC_fc)\n",
    "FC_trips = BuildTripsMatrix(triplicated_, ABC_fc)\n",
    "\n",
    "MC_dups = BuildDupsMatrix(duplicated_, ABC_mc)\n",
    "MC_trips = BuildTripsMatrix(triplicated_, ABC_mc)"
   ]
  },
  {
   "cell_type": "markdown",
   "metadata": {},
   "source": [
    "Merge overlapping peptides by computing the mean. Keep range and stdev for filter criteria. Note: Need to find a way to get pearson's correlation instead of using range. For the range we take values of the same condition but for pearson we want two compare the entire list of values between overalapping peptides."
   ]
  },
  {
   "cell_type": "code",
   "execution_count": 28,
   "metadata": {},
   "outputs": [],
   "source": [
    "FC_dups_MeanPtp = DupsMeanAndRange(FC_dups, treatments, header)\n",
    "FC_trips_MeanStd = TripsMeanAndStd(FC_trips, treatments, header)\n",
    "\n",
    "MC_dups_MeanPtp = DupsMeanAndRange(MC_dups, treatments, header)\n",
    "MC_trips_MeanStd = TripsMeanAndStd(MC_trips, treatments, header)"
   ]
  },
  {
   "cell_type": "markdown",
   "metadata": {},
   "source": [
    "1st Filter: by range or standard deviation:"
   ]
  },
  {
   "cell_type": "code",
   "execution_count": 29,
   "metadata": {},
   "outputs": [],
   "source": [
    "FC_dups_VarF = FilterByRange(FC_dups_MeanPtp, header)\n",
    "FC_trips_VarF = FilterByStdev(FC_trips_MeanStd, header)\n",
    "\n",
    "MC_dups_VarF = FilterByRange(MC_dups_MeanPtp, header)\n",
    "MC_trips_VarF =FilterByStdev(MC_trips_MeanStd, header)"
   ]
  },
  {
   "cell_type": "markdown",
   "metadata": {},
   "source": [
    "Concatenate resulting matrices:"
   ]
  },
  {
   "cell_type": "code",
   "execution_count": 30,
   "metadata": {},
   "outputs": [],
   "source": [
    "FC_VarF = pd.concat([FC_dups_VarF, FC_trips_VarF]).sort_values(by = \"Master Protein Descriptions\")\n",
    "\n",
    "MC_VarF = pd.concat([MC_dups_VarF, MC_trips_VarF]).sort_values(by = \"Master Protein Descriptions\")"
   ]
  },
  {
   "cell_type": "markdown",
   "metadata": {},
   "source": [
    "2nd Filter: by fold-change or variance:"
   ]
  },
  {
   "cell_type": "code",
   "execution_count": 31,
   "metadata": {},
   "outputs": [],
   "source": [
    "FC_VarF_FoldF = FoldChangeFilter(FC_VarF)\n",
    "\n",
    "MC_VarF_VarF = VarianceFilter(MC_VarF)"
   ]
  },
  {
   "cell_type": "markdown",
   "metadata": {},
   "source": [
    "### Observations (Y Matrix) = Cell Viability"
   ]
  },
  {
   "cell_type": "code",
   "execution_count": 32,
   "metadata": {},
   "outputs": [],
   "source": [
    "Y = pd.read_csv('./msresist/data/Phenotypic_data/ydata.csv', header=0)\n",
    "Y_cv = Y.iloc[:10, 2]"
   ]
  },
  {
   "cell_type": "markdown",
   "metadata": {},
   "source": [
    "## Define variables and data to use for analysis:"
   ]
  },
  {
   "cell_type": "markdown",
   "metadata": {},
   "source": [
    "#### Choose one of the following numbered options and comment out the rest:"
   ]
  },
  {
   "cell_type": "markdown",
   "metadata": {},
   "source": [
    "1. Fold-change Biological replicates 1, 2, or 3, filtered by fold change. Use A_fc, B_fc or C_fc in the first (filtered) OR second (not filtered) line to check each replicate individually:"
   ]
  },
  {
   "cell_type": "code",
   "execution_count": 33,
   "metadata": {},
   "outputs": [],
   "source": [
    "# Xf = FoldChangeFilter(A_fc)\n",
    "# Xf = A_fc \n",
    "# Xf_data = np.log2(Xf.iloc[:,2:]).T\n",
    "# Xf_protnames = list(Xf.iloc[:,1])\n",
    "# Xf_seqs = list(Xf.iloc[:,0])"
   ]
  },
  {
   "cell_type": "markdown",
   "metadata": {},
   "source": [
    "2. Mean-centered Biological replicates 1, 2, or 3, filtered by variance. Use A_mc, B_mc or C_mc in the first (filtered) OR second (not filtered) line to check each replicate individually:"
   ]
  },
  {
   "cell_type": "code",
   "execution_count": 34,
   "metadata": {},
   "outputs": [],
   "source": [
    "# Xf = VarianceFilter(B_mc)\n",
    "# Xf = B_mc\n",
    "# Xf_data = Xf.iloc[:, 2:].T\n",
    "# Xf_protnames = list(Xf.iloc[:,1])\n",
    "# Xf_seqs = list(Xf.iloc[:,0])"
   ]
  },
  {
   "cell_type": "markdown",
   "metadata": {},
   "source": [
    "3. Merged fold-change data filtered by fold change only. "
   ]
  },
  {
   "cell_type": "code",
   "execution_count": 35,
   "metadata": {},
   "outputs": [],
   "source": [
    "# Xf = MergeDfbyMean(ABC_fc, treatments)\n",
    "# Xf = FoldChangeFilter(Xf)\n",
    "# Xf = Xf.reset_index(drop = False)[header]\n",
    "# Xf.iloc[:, 2:] = np.log2(Xf.iloc[:,2:])\n",
    "\n",
    "# Xf_data = Xf.iloc[:, 2:].T\n",
    "# Xf_protnames = list(Xf.iloc[:,1])\n",
    "# Xf_seqs = list(Xf.iloc[:,0])"
   ]
  },
  {
   "cell_type": "markdown",
   "metadata": {},
   "source": [
    "4. Merged mean-centered data, filtered by variance only. "
   ]
  },
  {
   "cell_type": "code",
   "execution_count": 36,
   "metadata": {},
   "outputs": [],
   "source": [
    "# dups = MergeDfbyMean(MC_dups, treatments)\n",
    "# trips = MergeDfbyMean(MC_trips, treatments)\n",
    "# Xf = pd.concat([dups, trips]).reset_index(drop = False)[header]\n",
    "# Xf = VarianceFilter(Xf)\n",
    "\n",
    "# Xf_data = Xf.iloc[:, 2:].T\n",
    "# Xf_protnames = list(Xf.iloc[:,1])\n",
    "# Xf_seqs = list(Xf.iloc[:,0])"
   ]
  },
  {
   "cell_type": "markdown",
   "metadata": {},
   "source": [
    "5. Merged fold-change data filtered by range/std and by fold change."
   ]
  },
  {
   "cell_type": "code",
   "execution_count": 37,
   "metadata": {},
   "outputs": [],
   "source": [
    "# FC_VarF_FoldF.iloc[:,2:] = np.log2(FC_VarF_FoldF.iloc[:,2:])\n",
    "# Xf_data = FC_VarF_FoldF.iloc[:,2:].T\n",
    "# Xf_protnames = list(FC_VarF_FoldF.iloc[:,1])\n",
    "# Xf_seqs = list(FC_VarF_FoldF.iloc[:,0])"
   ]
  },
  {
   "cell_type": "markdown",
   "metadata": {},
   "source": [
    "6. Merged mean centered data filtered by range/std and by variance across conditions per peptide. "
   ]
  },
  {
   "cell_type": "code",
   "execution_count": 38,
   "metadata": {},
   "outputs": [],
   "source": [
    "Xf_data = MC_VarF_VarF.iloc[:,2:].T\n",
    "Xf_protnames = list(MC_VarF_VarF.iloc[:,1])\n",
    "Xf_seqs = list(MC_VarF_VarF.iloc[:,0])"
   ]
  },
  {
   "cell_type": "markdown",
   "metadata": {},
   "source": [
    "## Phosphopeptides Heat Map"
   ]
  },
  {
   "cell_type": "code",
   "execution_count": 39,
   "metadata": {},
   "outputs": [],
   "source": [
    "# g = sns.clustermap(A_fc.iloc[:, 2:].copy(), method = \"average\", robust = True)\n",
    "# g"
   ]
  },
  {
   "cell_type": "code",
   "execution_count": 40,
   "metadata": {},
   "outputs": [],
   "source": [
    "# Xf.iloc[:, 2:] = np.log2(Xf.iloc[:, 2:].values)\n",
    "# Xf_data = np.log2(Xf_data.values)"
   ]
  },
  {
   "cell_type": "code",
   "execution_count": 41,
   "metadata": {},
   "outputs": [],
   "source": [
    "# p = g.dendrogram_row.reordered_ind"
   ]
  },
  {
   "cell_type": "markdown",
   "metadata": {},
   "source": [
    "Recovering heat map peptides "
   ]
  },
  {
   "cell_type": "code",
   "execution_count": 42,
   "metadata": {},
   "outputs": [],
   "source": [
    "# p = g.dendrogram_row.reordered_ind\n",
    "\n",
    "# hm_prots = []\n",
    "# for i in p:\n",
    "#     hm_prots.append(Xf.iloc[i,:])\n",
    "# hm_prots = pd.DataFrame(hm_prots)"
   ]
  },
  {
   "cell_type": "markdown",
   "metadata": {},
   "source": [
    "## Cell Viability Measurements"
   ]
  },
  {
   "cell_type": "code",
   "execution_count": 43,
   "metadata": {},
   "outputs": [
    {
     "data": {
      "image/png": "[encoded data removed]",
      "text/plain": [
       "<Figure size 360x216 with 1 Axes>"
      ]
     },
     "metadata": {
      "needs_background": "light"
     },
     "output_type": "display_data"
    }
   ],
   "source": [
    "fig, axs = plt.subplots(1,1,figsize=(5,3))\n",
    "plt.bar(np.linspace(1,10,10)-1, Y_cv,width=0.3,align='center', color=['black', 'darkred', 'darkred', 'darkred', 'darkgreen', 'darkgreen', 'darkgreen', 'darkblue', 'darkblue', 'darkblue'])\n",
    "plt.xticks(np.arange(10), (treatments), rotation=70)\n",
    "plt.title(\"Cell Viability\")\n",
    "plt.ylabel(\"Viability (fold change)\")\n",
    "# plt.savefig(\"CellViability.pdf\")\n",
    "plt.show()"
   ]
  },
  {
   "cell_type": "markdown",
   "metadata": {},
   "source": [
    "# GridSearchCV"
   ]
  },
  {
   "cell_type": "markdown",
   "metadata": {},
   "source": [
    "Simultaneous hyperparameter tuning of number of clusters and components across entire model pipeline"
   ]
  },
  {
   "cell_type": "code",
   "execution_count": 44,
   "metadata": {},
   "outputs": [],
   "source": [
    "import warnings\n",
    "warnings.simplefilter(\"ignore\")\n",
    "\n",
    "CVresults_max, CVresults_min, best_params = ComHyperPar(Xf_data, Y_cv, Xf_protnames, Xf_seqs)\n",
    "# create_download_link(CVresults_min, \"GridSearch_ClustVsComp\")"
   ]
  },
  {
   "cell_type": "code",
   "execution_count": 45,
   "metadata": {},
   "outputs": [
    {
     "name": "stdout",
     "output_type": "stream",
     "text": [
      "{'kmeans__n_clusters': 5, 'plsr__n_components': 1}\n"
     ]
    },
    {
     "data": {
      "text/html": [
       "<div>\n",
       "<style scoped>\n",
       "    .dataframe tbody tr th:only-of-type {\n",
       "        vertical-align: middle;\n",
       "    }\n",
       "\n",
       "    .dataframe tbody tr th {\n",
       "        vertical-align: top;\n",
       "    }\n",
       "\n",
       "    .dataframe thead th {\n",
       "        text-align: right;\n",
       "    }\n",
       "</style>\n",
       "<table border=\"1\" class=\"dataframe\">\n",
       "  <thead>\n",
       "    <tr style=\"text-align: right;\">\n",
       "      <th></th>\n",
       "      <th>#Clusters</th>\n",
       "      <th>#Components</th>\n",
       "      <th>mean_test_scores</th>\n",
       "      <th>mean_train_scores</th>\n",
       "    </tr>\n",
       "  </thead>\n",
       "  <tbody>\n",
       "    <tr>\n",
       "      <th>0</th>\n",
       "      <td>2</td>\n",
       "      <td>1</td>\n",
       "      <td>-10.897601</td>\n",
       "      <td>-6.296913</td>\n",
       "    </tr>\n",
       "    <tr>\n",
       "      <th>1</th>\n",
       "      <td>2</td>\n",
       "      <td>2</td>\n",
       "      <td>-10.086110</td>\n",
       "      <td>-5.968970</td>\n",
       "    </tr>\n",
       "    <tr>\n",
       "      <th>2</th>\n",
       "      <td>3</td>\n",
       "      <td>1</td>\n",
       "      <td>-10.600955</td>\n",
       "      <td>-6.013186</td>\n",
       "    </tr>\n",
       "    <tr>\n",
       "      <th>3</th>\n",
       "      <td>3</td>\n",
       "      <td>2</td>\n",
       "      <td>-10.331320</td>\n",
       "      <td>-5.809722</td>\n",
       "    </tr>\n",
       "    <tr>\n",
       "      <th>4</th>\n",
       "      <td>3</td>\n",
       "      <td>3</td>\n",
       "      <td>-11.211225</td>\n",
       "      <td>-5.854385</td>\n",
       "    </tr>\n",
       "    <tr>\n",
       "      <th>5</th>\n",
       "      <td>4</td>\n",
       "      <td>1</td>\n",
       "      <td>-9.497690</td>\n",
       "      <td>-6.290087</td>\n",
       "    </tr>\n",
       "    <tr>\n",
       "      <th>6</th>\n",
       "      <td>4</td>\n",
       "      <td>2</td>\n",
       "      <td>-10.281930</td>\n",
       "      <td>-5.616938</td>\n",
       "    </tr>\n",
       "    <tr>\n",
       "      <th>7</th>\n",
       "      <td>4</td>\n",
       "      <td>3</td>\n",
       "      <td>-12.875453</td>\n",
       "      <td>-5.489789</td>\n",
       "    </tr>\n",
       "    <tr>\n",
       "      <th>8</th>\n",
       "      <td>4</td>\n",
       "      <td>4</td>\n",
       "      <td>-14.533551</td>\n",
       "      <td>-5.420912</td>\n",
       "    </tr>\n",
       "    <tr>\n",
       "      <th>9</th>\n",
       "      <td>5</td>\n",
       "      <td>1</td>\n",
       "      <td>-9.328316</td>\n",
       "      <td>-6.340093</td>\n",
       "    </tr>\n",
       "    <tr>\n",
       "      <th>10</th>\n",
       "      <td>5</td>\n",
       "      <td>2</td>\n",
       "      <td>-12.018446</td>\n",
       "      <td>-5.527380</td>\n",
       "    </tr>\n",
       "    <tr>\n",
       "      <th>11</th>\n",
       "      <td>5</td>\n",
       "      <td>3</td>\n",
       "      <td>-13.180654</td>\n",
       "      <td>-5.471533</td>\n",
       "    </tr>\n",
       "    <tr>\n",
       "      <th>12</th>\n",
       "      <td>5</td>\n",
       "      <td>4</td>\n",
       "      <td>-15.252549</td>\n",
       "      <td>-5.313200</td>\n",
       "    </tr>\n",
       "    <tr>\n",
       "      <th>13</th>\n",
       "      <td>5</td>\n",
       "      <td>5</td>\n",
       "      <td>-22.639780</td>\n",
       "      <td>-4.999731</td>\n",
       "    </tr>\n",
       "    <tr>\n",
       "      <th>14</th>\n",
       "      <td>6</td>\n",
       "      <td>1</td>\n",
       "      <td>-10.707799</td>\n",
       "      <td>-6.232936</td>\n",
       "    </tr>\n",
       "    <tr>\n",
       "      <th>15</th>\n",
       "      <td>6</td>\n",
       "      <td>2</td>\n",
       "      <td>-14.138424</td>\n",
       "      <td>-5.433489</td>\n",
       "    </tr>\n",
       "    <tr>\n",
       "      <th>16</th>\n",
       "      <td>6</td>\n",
       "      <td>3</td>\n",
       "      <td>-16.562842</td>\n",
       "      <td>-5.261754</td>\n",
       "    </tr>\n",
       "    <tr>\n",
       "      <th>17</th>\n",
       "      <td>6</td>\n",
       "      <td>4</td>\n",
       "      <td>-23.485069</td>\n",
       "      <td>-4.910817</td>\n",
       "    </tr>\n",
       "    <tr>\n",
       "      <th>18</th>\n",
       "      <td>6</td>\n",
       "      <td>5</td>\n",
       "      <td>-21.615064</td>\n",
       "      <td>-4.977172</td>\n",
       "    </tr>\n",
       "    <tr>\n",
       "      <th>19</th>\n",
       "      <td>6</td>\n",
       "      <td>6</td>\n",
       "      <td>-47.047039</td>\n",
       "      <td>-3.156847</td>\n",
       "    </tr>\n",
       "  </tbody>\n",
       "</table>\n",
       "</div>"
      ],
      "text/plain": [
       "   #Clusters #Components  mean_test_scores  mean_train_scores\n",
       "0          2           1        -10.897601          -6.296913\n",
       "1          2           2        -10.086110          -5.968970\n",
       "2          3           1        -10.600955          -6.013186\n",
       "3          3           2        -10.331320          -5.809722\n",
       "4          3           3        -11.211225          -5.854385\n",
       "5          4           1         -9.497690          -6.290087\n",
       "6          4           2        -10.281930          -5.616938\n",
       "7          4           3        -12.875453          -5.489789\n",
       "8          4           4        -14.533551          -5.420912\n",
       "9          5           1         -9.328316          -6.340093\n",
       "10         5           2        -12.018446          -5.527380\n",
       "11         5           3        -13.180654          -5.471533\n",
       "12         5           4        -15.252549          -5.313200\n",
       "13         5           5        -22.639780          -4.999731\n",
       "14         6           1        -10.707799          -6.232936\n",
       "15         6           2        -14.138424          -5.433489\n",
       "16         6           3        -16.562842          -5.261754\n",
       "17         6           4        -23.485069          -4.910817\n",
       "18         6           5        -21.615064          -4.977172\n",
       "19         6           6        -47.047039          -3.156847"
      ]
     },
     "metadata": {},
     "output_type": "display_data"
    }
   ],
   "source": [
    "print(best_params)\n",
    "display(CVresults_min.iloc[:20,:])\n",
    "\n",
    "# MSE = np.abs(CVresults_min.iloc[:20, 2])"
   ]
  },
  {
   "cell_type": "code",
   "execution_count": 46,
   "metadata": {},
   "outputs": [],
   "source": [
    "#range_ = np.linspace(1,MSE.shape[0],MSE.shape[0])\n",
    "\n",
    "#fig, axs = plt.subplots(1,1,figsize=(7,5))\n",
    "#plt.setp(axs, xticks=range_)\n",
    "#plt.bar(range_,MSE,width=0.3,align='center', color = \"green\")\n",
    "# plt.savefig(\"GridSearch_Cl&Comp.pdf\")\n",
    "#plt.title(\"GridSearch Cell Viability\")\n",
    "#plt.xlabel(\"Number of Components\")\n",
    "#plt.ylabel(\"MSE\")\n",
    "#plt.show()"
   ]
  },
  {
   "cell_type": "markdown",
   "metadata": {},
   "source": [
    "# R2Y / Q2Y"
   ]
  },
  {
   "cell_type": "markdown",
   "metadata": {},
   "source": [
    "Percentages of variance explained (R2Y) and predicted (Q2Y) across numbers of components"
   ]
  },
  {
   "cell_type": "code",
   "execution_count": 47,
   "metadata": {},
   "outputs": [],
   "source": [
    "import warnings\n",
    "warnings.simplefilter(\"ignore\")\n",
    "\n",
    "maxComp = 10\n",
    "Q2Y = Q2Y_across_components(Xf_data, Y_cv, maxComp+1)\n",
    "R2Y = R2Y_across_components(Xf_data, Y_cv, maxComp+1)"
   ]
  },
  {
   "cell_type": "markdown",
   "metadata": {},
   "source": [
    "First using the entire data set"
   ]
  },
  {
   "cell_type": "code",
   "execution_count": 48,
   "metadata": {},
   "outputs": [
    {
     "data": {
      "image/png": "[encoded data removed]",
      "text/plain": [
       "<Figure size 648x504 with 1 Axes>"
      ]
     },
     "metadata": {
      "needs_background": "light"
     },
     "output_type": "display_data"
    }
   ],
   "source": [
    "def truncate(f, n):\n",
    "    return math.floor(f * 10 ** n) / 10 ** n\n",
    "\n",
    "def disp_values(x,spac1,spac2,dec):\n",
    "    for l, m in enumerate(x):\n",
    "        plt.text(l+spac1,m+spac2,str(truncate(m,dec)))    #change to axs[ax].\n",
    "\n",
    "range_ = np.linspace(1,maxComp,maxComp)\n",
    "\n",
    "fig, axs = plt.subplots(1,1,figsize=(9,7))\n",
    "plt.setp(axs, xticks=range_)\n",
    "plt.bar(range_+0.15,Q2Y,width=0.3,align='center',label='Q2Y', color = \"darkred\")\n",
    "plt.bar(range_-0.15,R2Y,width=0.3,align='center',label='R2Y', color = \"black\")\n",
    "plt.title(\"R2Y/Q2Y Cell Viability\")\n",
    "plt.xlabel(\"Number of Components\")\n",
    "plt.legend(loc=4)\n",
    "disp_values(Q2Y,1.03,0.01,3)\n",
    "disp_values(R2Y,0.6,0.01,3)"
   ]
  },
  {
   "cell_type": "markdown",
   "metadata": {},
   "source": [
    "Then after k-means clustering setting the number of clusters to 5"
   ]
  },
  {
   "cell_type": "code",
   "execution_count": 49,
   "metadata": {},
   "outputs": [],
   "source": [
    "kmeans = MyOwnKMEANS(5, Xf_protnames, Xf_seqs).fit(Xf_data, Y=None)\n",
    "centers = kmeans.transform(Xf_data)\n",
    "clustermembers = kmeans.ClusterMembers(Xf_data)"
   ]
  },
  {
   "cell_type": "code",
   "execution_count": 50,
   "metadata": {},
   "outputs": [],
   "source": [
    "maxComp = centers.shape[1]\n",
    "Q2Y = Q2Y_across_components(centers, Y_cv, maxComp)\n",
    "R2Y = R2Y_across_components(centers, Y_cv, maxComp)"
   ]
  },
  {
   "cell_type": "code",
   "execution_count": 51,
   "metadata": {},
   "outputs": [
    {
     "data": {
      "image/png": "[encoded data removed]",
      "text/plain": [
       "<Figure size 360x216 with 1 Axes>"
      ]
     },
     "metadata": {
      "needs_background": "light"
     },
     "output_type": "display_data"
    }
   ],
   "source": [
    "def truncate(f, n):\n",
    "    return math.floor(f * 10 ** n) / 10 ** n\n",
    "\n",
    "def disp_values(x,spac1,spac2,dec):\n",
    "    for l, m in enumerate(x):\n",
    "        plt.text(l+spac1,m+spac2,str(truncate(m,dec)))    #change to axs[ax].\n",
    "\n",
    "range_ = np.linspace(1,maxComp-1,maxComp-1)\n",
    "\n",
    "fig, axs = plt.subplots(1,1,figsize=(5,3))\n",
    "plt.setp(axs, xticks=range_)\n",
    "plt.bar(range_+0.15,Q2Y,width=0.3,align='center',label='Q2Y', color = \"darkblue\")\n",
    "plt.bar(range_-0.15,R2Y,width=0.3,align='center',label='R2Y', color = \"black\")\n",
    "plt.title(\"R2Y/Q2Y Cell Viability\")\n",
    "plt.xlabel(\"Number of Components\")\n",
    "plt.legend(loc=4)\n",
    "disp_values(Q2Y,1.03,0.02,3)\n",
    "disp_values(R2Y,0.74,0.01,3)\n",
    "# plt.savefig(\"R2YQ2Y_BR1_5Cl.pdf\")"
   ]
  },
  {
   "cell_type": "markdown",
   "metadata": {},
   "source": [
    "# Building chained k-means and PLSR model pipeline"
   ]
  },
  {
   "cell_type": "markdown",
   "metadata": {},
   "source": [
    "## Measured Vs Predicted"
   ]
  },
  {
   "cell_type": "markdown",
   "metadata": {},
   "source": [
    "We've learnt during cross-validation that by setting the number of components to 2 and the number of clusters to 5 the model should perform reasonably well at predicting the viability response across conditions. To corroborate that we plot measured vs predicted below. We also show that the model performs better after clustering than using the entire data set, or even the filtered data set. "
   ]
  },
  {
   "cell_type": "code",
   "execution_count": 52,
   "metadata": {},
   "outputs": [],
   "source": [
    "ncl, ncomp = 5, 2\n",
    "estimators = [('kmeans', MyOwnKMEANS(ncl, Xf_protnames, Xf_seqs)), ('plsr', PLSRegression(ncomp))]\n",
    "pipe = Pipeline(estimators)"
   ]
  },
  {
   "cell_type": "code",
   "execution_count": 53,
   "metadata": {},
   "outputs": [],
   "source": [
    "X_scores, Y_scores = pipe.fit_transform(Xf_data, Y_cv)\n",
    "PC1_scores, PC2_scores = X_scores[:, 0], X_scores[:, 1]\n",
    "PC1_xload, PC2_xload = pipe.named_steps.plsr.x_loadings_[:, 0], pipe.named_steps.plsr.x_loadings_[:, 1]\n",
    "PC1_yload, PC2_yload = pipe.named_steps.plsr.y_loadings_[:, 0], pipe.named_steps.plsr.y_loadings_[:, 1]"
   ]
  },
  {
   "cell_type": "markdown",
   "metadata": {},
   "source": [
    "### Cross-Validation Strategy 1 - Pipeline:"
   ]
  },
  {
   "cell_type": "code",
   "execution_count": 54,
   "metadata": {},
   "outputs": [
    {
     "name": "stdout",
     "output_type": "stream",
     "text": [
      "Pearson's R:  0.737764534387645 \n",
      " p-value:  0.01486339398476783\n"
     ]
    },
    {
     "data": {
      "image/png": "[encoded data removed]",
      "text/plain": [
       "<Figure size 432x360 with 1 Axes>"
      ]
     },
     "metadata": {
      "needs_background": "light"
     },
     "output_type": "display_data"
    }
   ],
   "source": [
    "fig, axs = plt.subplots(1,1,figsize=(6,5))\n",
    "MeasuredVsPredicted_LOOCVplot(Xf_data,Y_cv, pipe, fig, \"none\", axs)\n",
    "plt.title(\"Correlation Measured vs Predicted - CV across pipeline\")\n",
    "plt.xlabel(\"Measured Cell Viability\")\n",
    "plt.ylabel(\"Predicted Cell Viability\")\n",
    "#textstr = '\\n'.join(['R: 0.79', 'p-value: 0.006'])\n",
    "#props = dict(boxstyle = 'square', facecolor = \"white\", alpha = 0.5)\n",
    "#plt.text(0.5, 14.7, textstr, bbox=props)\n",
    "# plt.savefig('Measured_Predict_5cl2co_pipe.pdf')\n",
    "plt.show()"
   ]
  },
  {
   "cell_type": "markdown",
   "metadata": {},
   "source": [
    "### Cross-Validation Strategy 2 - Fixed Clusters:"
   ]
  },
  {
   "cell_type": "code",
   "execution_count": 55,
   "metadata": {},
   "outputs": [
    {
     "name": "stdout",
     "output_type": "stream",
     "text": [
      "Pearson's R:  0.5710188478036071 \n",
      " p-value:  0.08468768490595355\n"
     ]
    },
    {
     "data": {
      "image/png": "[encoded data removed]",
      "text/plain": [
       "<Figure size 432x360 with 1 Axes>"
      ]
     },
     "metadata": {
      "needs_background": "light"
     },
     "output_type": "display_data"
    }
   ],
   "source": [
    "fig, axs = plt.subplots(1,1,figsize=(6,5))\n",
    "MeasuredVsPredicted_LOOCVplot(Xf_data,Y_cv, PLSRegression(ncomp), fig, \"none\", axs)\n",
    "plt.title(\"Correlation Measured vs Predicted - Fixed Clustered Df\")\n",
    "plt.xlabel(\"Measured Cell Viability\")\n",
    "plt.ylabel(\"Predicted Cell Viability\")\n",
    "textstr = '\\n'.join(['R: 0.79', 'p-value: 0.006'])\n",
    "props = dict(boxstyle = 'square', facecolor = \"white\", alpha = 0.5)\n",
    "plt.text(0.1, 10.5, textstr, bbox=props)\n",
    "# plt.savefig('Measured_Predict_5cl2co_pipe.pdf')\n",
    "plt.show()"
   ]
  },
  {
   "cell_type": "markdown",
   "metadata": {},
   "source": [
    "### Scores and Loadings Plot"
   ]
  },
  {
   "cell_type": "code",
   "execution_count": 56,
   "metadata": {},
   "outputs": [
    {
     "data": {
      "image/png": "[encoded data removed]",
      "text/plain": [
       "<Figure size 864x432 with 2 Axes>"
      ]
     },
     "metadata": {
      "needs_background": "light"
     },
     "output_type": "display_data"
    }
   ],
   "source": [
    "fig, axs = plt.subplots(1, 2,figsize=(12,6))\n",
    "# colors_ = cm.rainbow(np.linspace(0, 1, 5))\n",
    "colors_ = [\"blue\", \"orange\", \"green\", \"red\", \"purple\"]\n",
    "\n",
    "\n",
    "axs[0].scatter(PC1_scores,PC2_scores)\n",
    "for j, txt in enumerate(treatments):\n",
    "    axs[0].annotate(txt, (PC1_scores[j], PC2_scores[j]))\n",
    "axs[0].set_title('PLSR Model Scores')\n",
    "axs[0].set_xlabel('PC1')\n",
    "axs[0].set_ylabel('PC2')\n",
    "axs[0].axhline(y=0, color='0.25', linestyle='--')\n",
    "axs[0].axvline(x=0, color='0.25', linestyle='--')\n",
    "axs[0].set_xlim([-5, 5])\n",
    "axs[0].set_ylim([-1.75, 1.75])\n",
    "\n",
    "for i, txt in enumerate([\"1\", \"2\", \"3\", \"4\", \"5\"]):\n",
    "    axs[1].annotate(txt, (PC1_xload[i], PC2_xload[i]))\n",
    "axs[1].scatter(PC1_xload, PC2_xload, c=np.arange(ncl), cmap=colors.ListedColormap(colors_))\n",
    "axs[1].scatter(PC1_yload, PC2_yload, color='#000000', marker='D', label='Cell Viability')\n",
    "axs[1].legend(loc=4)\n",
    "axs[1].set_title('PLSR Model Loadings (Averaged Clusters)')\n",
    "axs[1].set_xlabel('PC1')\n",
    "axs[1].set_ylabel('PC2')\n",
    "axs[1].axhline(y=0, color='0.25', linestyle='--')\n",
    "axs[1].axvline(x=0, color='0.25', linestyle='--')\n",
    "axs[1].set_xlim([-0.65, 0.65])\n",
    "axs[1].set_ylim([-1.1, 1.1])\n",
    "# plt.savefig('scores_loadings.pdf')\n",
    "plt.show()"
   ]
  },
  {
   "cell_type": "code",
   "execution_count": 57,
   "metadata": {},
   "outputs": [],
   "source": [
    "ClusterMembers = pipe.named_steps.kmeans.ClusterMembers(Xf_data)\n",
    "count = sum(len(v) for v in ClusterMembers.values())\n",
    "CM_df = pd.DataFrame(dict([ (k, pd.Series(v)) for k,v in ClusterMembers.items() ]))\n",
    "# create_download_link(CM_df, 'fsdf')"
   ]
  },
  {
   "cell_type": "markdown",
   "metadata": {},
   "source": [
    "### Cluster Averages across Conditions"
   ]
  },
  {
   "cell_type": "code",
   "execution_count": 58,
   "metadata": {},
   "outputs": [
    {
     "data": {
      "image/png": "[encoded data removed]",
      "text/plain": [
       "<Figure size 432x288 with 1 Axes>"
      ]
     },
     "metadata": {
      "needs_background": "light"
     },
     "output_type": "display_data"
    },
    {
     "data": {
      "text/html": [
       "<div>\n",
       "<style scoped>\n",
       "    .dataframe tbody tr th:only-of-type {\n",
       "        vertical-align: middle;\n",
       "    }\n",
       "\n",
       "    .dataframe tbody tr th {\n",
       "        vertical-align: top;\n",
       "    }\n",
       "\n",
       "    .dataframe thead th {\n",
       "        text-align: right;\n",
       "    }\n",
       "</style>\n",
       "<table border=\"1\" class=\"dataframe\">\n",
       "  <thead>\n",
       "    <tr style=\"text-align: right;\">\n",
       "      <th></th>\n",
       "      <th>0</th>\n",
       "      <th>1</th>\n",
       "      <th>2</th>\n",
       "      <th>3</th>\n",
       "      <th>4</th>\n",
       "      <th>5</th>\n",
       "      <th>6</th>\n",
       "      <th>7</th>\n",
       "      <th>8</th>\n",
       "      <th>9</th>\n",
       "    </tr>\n",
       "  </thead>\n",
       "  <tbody>\n",
       "    <tr>\n",
       "      <th>0</th>\n",
       "      <td>0.434258</td>\n",
       "      <td>-0.183849</td>\n",
       "      <td>-0.480241</td>\n",
       "      <td>-1.376034</td>\n",
       "      <td>0.500104</td>\n",
       "      <td>-0.384588</td>\n",
       "      <td>4.329577</td>\n",
       "      <td>-1.081393</td>\n",
       "      <td>-0.673682</td>\n",
       "      <td>-1.084153</td>\n",
       "    </tr>\n",
       "    <tr>\n",
       "      <th>1</th>\n",
       "      <td>0.729577</td>\n",
       "      <td>0.309189</td>\n",
       "      <td>0.189470</td>\n",
       "      <td>-0.356588</td>\n",
       "      <td>0.091103</td>\n",
       "      <td>0.029894</td>\n",
       "      <td>0.050458</td>\n",
       "      <td>-0.353935</td>\n",
       "      <td>-0.116239</td>\n",
       "      <td>-0.572929</td>\n",
       "    </tr>\n",
       "    <tr>\n",
       "      <th>2</th>\n",
       "      <td>-0.327880</td>\n",
       "      <td>-0.208794</td>\n",
       "      <td>-0.028804</td>\n",
       "      <td>-0.133633</td>\n",
       "      <td>-0.261736</td>\n",
       "      <td>-0.157644</td>\n",
       "      <td>-0.246282</td>\n",
       "      <td>0.362483</td>\n",
       "      <td>0.766636</td>\n",
       "      <td>0.235655</td>\n",
       "    </tr>\n",
       "    <tr>\n",
       "      <th>3</th>\n",
       "      <td>2.437920</td>\n",
       "      <td>0.762444</td>\n",
       "      <td>0.399858</td>\n",
       "      <td>-1.073325</td>\n",
       "      <td>0.414002</td>\n",
       "      <td>-0.106947</td>\n",
       "      <td>0.046306</td>\n",
       "      <td>-0.918450</td>\n",
       "      <td>-0.762105</td>\n",
       "      <td>-1.199705</td>\n",
       "    </tr>\n",
       "    <tr>\n",
       "      <th>4</th>\n",
       "      <td>0.630280</td>\n",
       "      <td>1.466517</td>\n",
       "      <td>-0.836282</td>\n",
       "      <td>-1.267430</td>\n",
       "      <td>0.453285</td>\n",
       "      <td>1.069782</td>\n",
       "      <td>0.845063</td>\n",
       "      <td>0.881567</td>\n",
       "      <td>-0.945052</td>\n",
       "      <td>-2.297729</td>\n",
       "    </tr>\n",
       "  </tbody>\n",
       "</table>\n",
       "</div>"
      ],
      "text/plain": [
       "          0         1         2         3         4         5         6  \\\n",
       "0  0.434258 -0.183849 -0.480241 -1.376034  0.500104 -0.384588  4.329577   \n",
       "1  0.729577  0.309189  0.189470 -0.356588  0.091103  0.029894  0.050458   \n",
       "2 -0.327880 -0.208794 -0.028804 -0.133633 -0.261736 -0.157644 -0.246282   \n",
       "3  2.437920  0.762444  0.399858 -1.073325  0.414002 -0.106947  0.046306   \n",
       "4  0.630280  1.466517 -0.836282 -1.267430  0.453285  1.069782  0.845063   \n",
       "\n",
       "          7         8         9  \n",
       "0 -1.081393 -0.673682 -1.084153  \n",
       "1 -0.353935 -0.116239 -0.572929  \n",
       "2  0.362483  0.766636  0.235655  \n",
       "3 -0.918450 -0.762105 -1.199705  \n",
       "4  0.881567 -0.945052 -2.297729  "
      ]
     },
     "metadata": {},
     "output_type": "display_data"
    }
   ],
   "source": [
    "Centers = pipe.named_steps.kmeans.transform(Xf_data)\n",
    "memb = pipe.named_steps.kmeans.ClusterMembers(Xf_data)\n",
    "\n",
    "\n",
    "fig = plt.figure(figsize=(6,4))\n",
    "\n",
    "colors_ = [\"blue\", \"orange\", \"green\", \"red\", \"purple\"]\n",
    "\n",
    "centersT = np.transpose(Centers)\n",
    "for i in range(centersT.shape[0]):\n",
    "    plt.plot(centersT[i,:], label = \"cluster \"+str(i+1), color = colors_[i])\n",
    "    \n",
    "plt.xticks(np.arange(centersT.shape[1]), (treatments), rotation=70)\n",
    "# plt.legend(loc=2, prop={'size':8})\n",
    "# plt.savefig(\"ClAvgAcrossCond_BR1.pdf\")\n",
    "plt.show()\n",
    "display(pd.DataFrame(centersT))\n"
   ]
  },
  {
   "cell_type": "code",
   "execution_count": null,
   "metadata": {},
   "outputs": [],
   "source": []
  },
  {
   "cell_type": "code",
   "execution_count": null,
   "metadata": {},
   "outputs": [],
   "source": []
  }
 ],
 "metadata": {
  "kernelspec": {
   "display_name": "Python 3",
   "language": "python",
   "name": "python3"
  },
  "language_info": {
   "codemirror_mode": {
    "name": "ipython",
    "version": 3
   },
   "file_extension": ".py",
   "mimetype": "text/x-python",
   "name": "python",
   "nbconvert_exporter": "python",
   "pygments_lexer": "ipython3",
   "version": "3.7.3"
  }
 },
 "nbformat": 4,
 "nbformat_minor": 4
}
