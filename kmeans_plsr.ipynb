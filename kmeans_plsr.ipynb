{
 "cells": [
  {
   "cell_type": "code",
   "execution_count": 1,
   "metadata": {},
   "outputs": [],
   "source": [
    "import pandas as pd\n",
    "from sklearn.cross_decomposition import PLSRegression\n",
    "from sklearn.cluster import KMeans\n",
    "from msresist.comp_estimator import ComHyperPar, MyOwnKMEANS\n",
    "from msresist.plsr import MeanCenter, VarianceFilter, FoldChangeFilter, ClusterAverages, GridSearch_CV, MeasuredVsPredicted_LOOCVplot, Q2Y_across_components, R2Y_across_components\n",
    "from msresist.mining_bioreplicates import FormatName, FormatSeq, MapOverlappingPeptides, BuildDupsMatrix, BuildTripsMatrix, DupsMeanAndRange, TripsMeanAndStd, FilterByRange, FilterByStdev, MergeDfbyMean\n",
    "import scipy as sp, numpy as np, pandas as pd, math\n",
    "from sklearn.pipeline import Pipeline\n",
    "import matplotlib.pyplot as plt\n",
    "import matplotlib.colors as colors\n",
    "import matplotlib.cm as cm\n",
    "import seaborn as sns; sns.set(color_codes=True)\n",
    "from FileExporter import create_download_link\n",
    "import warnings\n",
    "warnings.simplefilter(\"ignore\")"
   ]
  },
  {
   "cell_type": "markdown",
   "metadata": {},
   "source": [
    "## Importing and pre-processing data"
   ]
  },
  {
   "cell_type": "markdown",
   "metadata": {},
   "source": [
    "### Phosphorylation levels of peptides across conditions | X Matrix where peptides = vars and conditions = obs"
   ]
  },
  {
   "cell_type": "markdown",
   "metadata": {},
   "source": [
    "Raw Data of all 3 biological replicates:"
   ]
  },
  {
   "cell_type": "code",
   "execution_count": 2,
   "metadata": {},
   "outputs": [],
   "source": [
    "A_r = pd.read_csv('./msresist/data/Raw/20180817_JG_AM_TMT10plex_R1_psms_raw.csv', header=0)\n",
    "B_r = pd.read_csv('./msresist/data/Raw/20190214_JG_AM_PC9_AXL_TMT10_AC28_R2_PSMs_raw.csv', header=0)\n",
    "C_r = pd.read_csv('./msresist/data/Raw/CombinedBR3_TR1&2_raw.csv', header=0)"
   ]
  },
  {
   "cell_type": "code",
   "execution_count": 3,
   "metadata": {},
   "outputs": [],
   "source": [
    "treatments = A_r.columns[2:]\n",
    "header = A_r.columns"
   ]
  },
  {
   "cell_type": "markdown",
   "metadata": {},
   "source": [
    "#### Normalization 1: Linear Fold Change values wrt PC9 untreated cell population."
   ]
  },
  {
   "cell_type": "markdown",
   "metadata": {},
   "source": [
    "Biological replicates normalized by fold-change to the control:"
   ]
  },
  {
   "cell_type": "code",
   "execution_count": 4,
   "metadata": {},
   "outputs": [],
   "source": [
    "A_fc = pd.read_csv('./msresist/data/Fold-Change/20180817_JG_AM_TMT10plex_R1_psms.csv', header=0)\n",
    "B_fc = pd.read_csv('./msresist/data/Fold-Change/20190214_JG_AM_PC9_AXL_TMT10_AC28_R2_PSMs.csv', header=0)\n",
    "C_fc = pd.read_csv('./msresist/data/Fold-Change/CombinedBR3_TR1&2.csv', header=0)"
   ]
  },
  {
   "cell_type": "markdown",
   "metadata": {},
   "source": [
    "#### Normalization 2: Linear mean centered across conditions."
   ]
  },
  {
   "cell_type": "code",
   "execution_count": 5,
   "metadata": {},
   "outputs": [],
   "source": [
    "A_mc = MeanCenter(A_r, logT=True)\n",
    "B_mc = MeanCenter(B_r, logT=True)\n",
    "C_mc = MeanCenter(C_r, logT=True)"
   ]
  },
  {
   "cell_type": "markdown",
   "metadata": {},
   "source": [
    "###                                                    Filtering and Merging of biological replicates"
   ]
  },
  {
   "cell_type": "markdown",
   "metadata": {},
   "source": [
    "Concatenate and format peptide sequences"
   ]
  },
  {
   "cell_type": "code",
   "execution_count": 6,
   "metadata": {},
   "outputs": [],
   "source": [
    "ABC_fc = FormatSeq(pd.concat([A_fc, B_fc, C_fc]))\n",
    "ABC_fc['Master Protein Descriptions'] = FormatName(ABC_fc)\n",
    "\n",
    "ABC_mc = FormatSeq(pd.concat([A_mc, B_mc, C_mc]))\n",
    "ABC_mc['Master Protein Descriptions'] = FormatName(ABC_mc)"
   ]
  },
  {
   "cell_type": "markdown",
   "metadata": {},
   "source": [
    "Build dataframe inidicating the number of recurrencies of each peptide: 1,2 or 3. From this dataframe we manually created two csv files () containing all duplicates. Finally, generate counter to see number of non-recurrent peptides, duplicates and triplicates:"
   ]
  },
  {
   "cell_type": "code",
   "execution_count": 7,
   "metadata": {},
   "outputs": [
    {
     "name": "stdout",
     "output_type": "stream",
     "text": [
      "total number of recurrences: {1: 620, 2: 246, 3: 128}\n"
     ]
    }
   ],
   "source": [
    "recurrencies = MapOverlappingPeptides(ABC_fc)"
   ]
  },
  {
   "cell_type": "markdown",
   "metadata": {},
   "source": [
    "Import duplicates and triplicates (cols = Names, Seqs, #Recurrences):"
   ]
  },
  {
   "cell_type": "code",
   "execution_count": 8,
   "metadata": {},
   "outputs": [],
   "source": [
    "duplicated_ = pd.read_csv('./msresist/data/Fold-Change/ABC_Duplicates.csv', header=0)\n",
    "triplicated_ = pd.read_csv('./msresist/data/Fold-Change/ABC_Triplicates.csv', header=0)"
   ]
  },
  {
   "cell_type": "markdown",
   "metadata": {},
   "source": [
    "Sort all duplicates and triplicates within the concatenated dataframe in two seperate matrices:"
   ]
  },
  {
   "cell_type": "code",
   "execution_count": 9,
   "metadata": {},
   "outputs": [],
   "source": [
    "FC_dups = BuildDupsMatrix(duplicated_, ABC_fc)\n",
    "FC_trips = BuildTripsMatrix(triplicated_, ABC_fc)\n",
    "\n",
    "MC_dups = BuildDupsMatrix(duplicated_, ABC_mc)\n",
    "MC_trips = BuildTripsMatrix(triplicated_, ABC_mc)"
   ]
  },
  {
   "cell_type": "markdown",
   "metadata": {},
   "source": [
    "Merge overlapping peptides by computing the mean. Keep range and stdev for filter criteria. Note: Need to find a way to get pearson's correlation instead of using range. For the range we take values of the same condition but for pearson we want two compare the entire list of values between overalapping peptides."
   ]
  },
  {
   "cell_type": "code",
   "execution_count": 10,
   "metadata": {},
   "outputs": [],
   "source": [
    "FC_dups_MeanPtp = DupsMeanAndRange(FC_dups, treatments, header)\n",
    "FC_trips_MeanStd = TripsMeanAndStd(FC_trips, treatments, header)\n",
    "\n",
    "MC_dups_MeanPtp = DupsMeanAndRange(MC_dups, treatments, header)\n",
    "MC_trips_MeanStd = TripsMeanAndStd(MC_trips, treatments, header)"
   ]
  },
  {
   "cell_type": "markdown",
   "metadata": {},
   "source": [
    "1st Filter: by range or standard deviation:"
   ]
  },
  {
   "cell_type": "code",
   "execution_count": 11,
   "metadata": {},
   "outputs": [],
   "source": [
    "FC_dups_VarF = FilterByRange(FC_dups_MeanPtp, header)\n",
    "FC_trips_VarF = FilterByStdev(FC_trips_MeanStd, header)\n",
    "\n",
    "MC_dups_VarF = FilterByRange(MC_dups_MeanPtp, header)\n",
    "MC_trips_VarF =FilterByStdev(MC_trips_MeanStd, header)"
   ]
  },
  {
   "cell_type": "markdown",
   "metadata": {},
   "source": [
    "Concatenate resulting matrices:"
   ]
  },
  {
   "cell_type": "code",
   "execution_count": 12,
   "metadata": {},
   "outputs": [],
   "source": [
    "FC_VarF = pd.concat([FC_dups_VarF, FC_trips_VarF]).sort_values(by = \"Master Protein Descriptions\")\n",
    "\n",
    "MC_VarF = pd.concat([MC_dups_VarF, MC_trips_VarF]).sort_values(by = \"Master Protein Descriptions\")"
   ]
  },
  {
   "cell_type": "markdown",
   "metadata": {},
   "source": [
    "2nd Filter: by fold-change or variance:"
   ]
  },
  {
   "cell_type": "code",
   "execution_count": 13,
   "metadata": {},
   "outputs": [],
   "source": [
    "FC_VarF_FoldF = FoldChangeFilter(FC_VarF)\n",
    "\n",
    "MC_VarF_VarF = VarianceFilter(MC_VarF)"
   ]
  },
  {
   "cell_type": "markdown",
   "metadata": {},
   "source": [
    "### Observations (Y Matrix) = Cell Viability"
   ]
  },
  {
   "cell_type": "code",
   "execution_count": 14,
   "metadata": {},
   "outputs": [],
   "source": [
    "Y = pd.read_csv('./msresist/data/Phenotypic_data/ydata.csv', header=0)\n",
    "Y_cv = Y.iloc[:10, 2]"
   ]
  },
  {
   "cell_type": "markdown",
   "metadata": {},
   "source": [
    "## Define variables and data to use for analysis:"
   ]
  },
  {
   "cell_type": "markdown",
   "metadata": {},
   "source": [
    "#### Choose one of the following and comment out the rest"
   ]
  },
  {
   "cell_type": "markdown",
   "metadata": {},
   "source": [
    "0. Fold-change Biological replicates 1, 2, or 3, filtered by fold change. Model IS predictive in each case. Use A_fc, B_fc or C_fc in the first line to check each replicate individually:"
   ]
  },
  {
   "cell_type": "code",
   "execution_count": 15,
   "metadata": {},
   "outputs": [],
   "source": [
    "Xf = FoldChangeFilter(B_fc)\n",
    "Xf_data = np.log2(Xf.iloc[:,2:]).T\n",
    "Xf_protnames = list(Xf.iloc[:,1])\n",
    "Xf_seqs = list(Xf.iloc[:,0])"
   ]
  },
  {
   "cell_type": "markdown",
   "metadata": {},
   "source": [
    "1. Merged fold-change data filtered by fold change only. Model not predictive."
   ]
  },
  {
   "cell_type": "code",
   "execution_count": 16,
   "metadata": {},
   "outputs": [],
   "source": [
    "# dups = MergeDfbyMean(FC_dups, treatments)\n",
    "# trips = MergeDfbyMean(FC_trips, treatments)\n",
    "# Xf = FoldChangeFilter(pd.concat([dups, trips]))\n",
    "# Xf = Xf.reset_index(drop = False)\n",
    "# Xf.iloc[:, 2:] = np.log2(Xf.iloc[:,2:])\n",
    "\n",
    "# Xf_data = Xf.iloc[:, 2:].T\n",
    "# Xf_protnames = list(Xf.iloc[:,1])\n",
    "# Xf_seqs = list(Xf.iloc[:,0])"
   ]
  },
  {
   "cell_type": "markdown",
   "metadata": {},
   "source": [
    "2. Merged mean-centered data, filtered by variance only. Model NOT predictive."
   ]
  },
  {
   "cell_type": "code",
   "execution_count": 17,
   "metadata": {},
   "outputs": [
    {
     "name": "stdout",
     "output_type": "stream",
     "text": [
      "shape of averaged matrix: (245, 10)\n",
      "shape of averaged matrix: (128, 10)\n"
     ]
    }
   ],
   "source": [
    "dups = MergeDfbyMean(MC_dups, treatments)\n",
    "trips = MergeDfbyMean(MC_trips, treatments)\n",
    "Xf = pd.concat([dups, trips]).reset_index(drop = False)\n",
    "Xf = VarianceFilter(Xf)\n",
    "\n",
    "Xf_data = Xf.iloc[:, 2:].T\n",
    "Xf_protnames = list(Xf.iloc[:,1])\n",
    "Xf_seqs = list(Xf.iloc[:,0])"
   ]
  },
  {
   "cell_type": "markdown",
   "metadata": {},
   "source": [
    "3. Merged fold-change data filtered by range/std and by fold change. Model is NOT predictive."
   ]
  },
  {
   "cell_type": "code",
   "execution_count": 18,
   "metadata": {},
   "outputs": [],
   "source": [
    "# FC_VarF_FoldF.iloc[:,2:] = np.log2(FC_VarF_FoldF.iloc[:,2:])\n",
    "# Xf_data = FC_VarF_FoldF.iloc[:,2:].T\n",
    "# Xf_protnames = list(FC_VarF_FoldF.iloc[:,1])\n",
    "# Xf_seqs = list(FC_VarF_FoldF.iloc[:,0])"
   ]
  },
  {
   "cell_type": "markdown",
   "metadata": {},
   "source": [
    "4. Merged mean centered data filtered by range/std and by variance across conditions per peptide. With this datat the model IS predictive."
   ]
  },
  {
   "cell_type": "code",
   "execution_count": 19,
   "metadata": {},
   "outputs": [],
   "source": [
    "# Xf_data = MC_VarF_VarF.iloc[:,2:].T\n",
    "# Xf_protnames = list(MC_VarF_VarF.iloc[:,1])\n",
    "# Xf_seqs = list(MC_VarF_VarF.iloc[:,0])"
   ]
  },
  {
   "cell_type": "code",
   "execution_count": 20,
   "metadata": {},
   "outputs": [],
   "source": [
    "# FC_VarF_FoldF[FC_VarF_FoldF[\"Master Protein Descriptions\"].str.contains(\"UFO\")]"
   ]
  },
  {
   "cell_type": "markdown",
   "metadata": {},
   "source": [
    "## Phosphopeptides Heat Map"
   ]
  },
  {
   "cell_type": "code",
   "execution_count": 21,
   "metadata": {},
   "outputs": [],
   "source": [
    "# g = sns.clustermap(A_fc.iloc[:, 2:].copy(), method = \"average\", robust = True)\n",
    "# g"
   ]
  },
  {
   "cell_type": "code",
   "execution_count": 22,
   "metadata": {},
   "outputs": [],
   "source": [
    "# Xf.iloc[:, 2:] = np.log2(Xf.iloc[:, 2:].values)\n",
    "# Xf_data = np.log2(Xf_data.values)"
   ]
  },
  {
   "cell_type": "code",
   "execution_count": 23,
   "metadata": {},
   "outputs": [],
   "source": [
    "# p = g.dendrogram_row.reordered_ind"
   ]
  },
  {
   "cell_type": "markdown",
   "metadata": {},
   "source": [
    "Recovering heat map peptides "
   ]
  },
  {
   "cell_type": "code",
   "execution_count": 24,
   "metadata": {},
   "outputs": [],
   "source": [
    "# p = g.dendrogram_row.reordered_ind\n",
    "\n",
    "# hm_prots = []\n",
    "# for i in p:\n",
    "#     hm_prots.append(Xf.iloc[i,:])\n",
    "# hm_prots = pd.DataFrame(hm_prots)"
   ]
  },
  {
   "cell_type": "markdown",
   "metadata": {},
   "source": [
    "## Cell Viability Measurements"
   ]
  },
  {
   "cell_type": "code",
   "execution_count": 25,
   "metadata": {},
   "outputs": [
    {
     "data": {
      "image/png": "[encoded data removed]",
      "text/plain": [
       "<Figure size 360x216 with 1 Axes>"
      ]
     },
     "metadata": {
      "needs_background": "light"
     },
     "output_type": "display_data"
    }
   ],
   "source": [
    "fig, axs = plt.subplots(1,1,figsize=(5,3))\n",
    "plt.bar(np.linspace(1,10,10)-1, Y_cv,width=0.3,align='center', color=['black', 'darkred', 'darkred', 'darkred', 'darkgreen', 'darkgreen', 'darkgreen', 'darkblue', 'darkblue', 'darkblue'])\n",
    "plt.xticks(np.arange(10), (treatments), rotation=70)\n",
    "plt.title(\"Cell Viability\")\n",
    "plt.ylabel(\"Viability (fold change)\")\n",
    "# plt.savefig(\"CellViability.pdf\")\n",
    "plt.show()"
   ]
  },
  {
   "cell_type": "markdown",
   "metadata": {},
   "source": [
    "## GridSearchCV"
   ]
  },
  {
   "cell_type": "markdown",
   "metadata": {},
   "source": [
    "Simultaneous hyperparameter tuning of number of clusters and components across entire model pipeline"
   ]
  },
  {
   "cell_type": "code",
   "execution_count": 26,
   "metadata": {},
   "outputs": [],
   "source": [
    "# import warnings\n",
    "# warnings.simplefilter(\"ignore\")\n",
    "\n",
    "# CVresults_max, CVresults_min, best_params = ComHyperPar(Xf_data, Y_cv, Xf_protnames, Xf_seqs)\n",
    "# create_download_link(CVresults_min, \"GridSearch_ClustVsComp\")"
   ]
  },
  {
   "cell_type": "code",
   "execution_count": 27,
   "metadata": {},
   "outputs": [],
   "source": [
    "# print(best_params)\n",
    "# display(CVresults_min.iloc[:20,:])\n",
    "\n",
    "# MSE = np.abs(CVresults_min.iloc[:20, 2])"
   ]
  },
  {
   "cell_type": "code",
   "execution_count": 28,
   "metadata": {},
   "outputs": [],
   "source": [
    "#range_ = np.linspace(1,MSE.shape[0],MSE.shape[0])\n",
    "\n",
    "#fig, axs = plt.subplots(1,1,figsize=(7,5))\n",
    "#plt.setp(axs, xticks=range_)\n",
    "#plt.bar(range_,MSE,width=0.3,align='center', color = \"green\")\n",
    "# plt.savefig(\"GridSearch_Cl&Comp.pdf\")\n",
    "#plt.title(\"GridSearch Cell Viability\")\n",
    "#plt.xlabel(\"Number of Components\")\n",
    "#plt.ylabel(\"MSE\")\n",
    "#plt.show()"
   ]
  },
  {
   "cell_type": "markdown",
   "metadata": {},
   "source": [
    "### R2Y / Q2Y"
   ]
  },
  {
   "cell_type": "markdown",
   "metadata": {},
   "source": [
    "Percentages of variance explained (R2Y) and predicted (Q2Y) across numbers of components"
   ]
  },
  {
   "cell_type": "code",
   "execution_count": 29,
   "metadata": {},
   "outputs": [],
   "source": [
    "import warnings\n",
    "warnings.simplefilter(\"ignore\")\n",
    "\n",
    "maxComp = 10\n",
    "Q2Y = Q2Y_across_components(Xf_data, Y_cv, maxComp+1)\n",
    "R2Y = R2Y_across_components(Xf_data, Y_cv, maxComp+1)"
   ]
  },
  {
   "cell_type": "markdown",
   "metadata": {},
   "source": [
    "First using the entire data set"
   ]
  },
  {
   "cell_type": "code",
   "execution_count": 30,
   "metadata": {},
   "outputs": [
    {
     "data": {
      "image/png": "[encoded data removed]",
      "text/plain": [
       "<Figure size 648x504 with 1 Axes>"
      ]
     },
     "metadata": {
      "needs_background": "light"
     },
     "output_type": "display_data"
    }
   ],
   "source": [
    "def truncate(f, n):\n",
    "    return math.floor(f * 10 ** n) / 10 ** n\n",
    "\n",
    "def disp_values(x,spac1,spac2,dec):\n",
    "    for l, m in enumerate(x):\n",
    "        plt.text(l+spac1,m+spac2,str(truncate(m,dec)))    #change to axs[ax].\n",
    "\n",
    "range_ = np.linspace(1,maxComp,maxComp)\n",
    "\n",
    "fig, axs = plt.subplots(1,1,figsize=(9,7))\n",
    "plt.setp(axs, xticks=range_)\n",
    "plt.bar(range_+0.15,Q2Y,width=0.3,align='center',label='Q2Y', color = \"darkred\")\n",
    "plt.bar(range_-0.15,R2Y,width=0.3,align='center',label='R2Y', color = \"black\")\n",
    "plt.title(\"R2Y/Q2Y Cell Viability\")\n",
    "plt.xlabel(\"Number of Components\")\n",
    "plt.legend(loc=4)\n",
    "disp_values(Q2Y,1.03,0.01,3)\n",
    "disp_values(R2Y,0.6,0.01,3)"
   ]
  },
  {
   "cell_type": "markdown",
   "metadata": {},
   "source": [
    "Then after k-means clustering setting the number of clusters to 5"
   ]
  },
  {
   "cell_type": "code",
   "execution_count": 31,
   "metadata": {},
   "outputs": [],
   "source": [
    "kmeans = MyOwnKMEANS(5, Xf_protnames, Xf_seqs).fit(Xf_data, Y=None)\n",
    "centers = kmeans.transform(Xf_data)\n",
    "clustermembers = kmeans.ClusterMembers(Xf_data)"
   ]
  },
  {
   "cell_type": "code",
   "execution_count": 32,
   "metadata": {},
   "outputs": [],
   "source": [
    "maxComp = centers.shape[1]\n",
    "Q2Y = Q2Y_across_components(centers, Y_cv, maxComp)\n",
    "R2Y = R2Y_across_components(centers, Y_cv, maxComp)"
   ]
  },
  {
   "cell_type": "code",
   "execution_count": 33,
   "metadata": {},
   "outputs": [
    {
     "data": {
      "image/png": "[encoded data removed]",
      "text/plain": [
       "<Figure size 360x216 with 1 Axes>"
      ]
     },
     "metadata": {
      "needs_background": "light"
     },
     "output_type": "display_data"
    }
   ],
   "source": [
    "def truncate(f, n):\n",
    "    return math.floor(f * 10 ** n) / 10 ** n\n",
    "\n",
    "def disp_values(x,spac1,spac2,dec):\n",
    "    for l, m in enumerate(x):\n",
    "        plt.text(l+spac1,m+spac2,str(truncate(m,dec)))    #change to axs[ax].\n",
    "\n",
    "range_ = np.linspace(1,maxComp-1,maxComp-1)\n",
    "\n",
    "fig, axs = plt.subplots(1,1,figsize=(5,3))\n",
    "plt.setp(axs, xticks=range_)\n",
    "plt.bar(range_+0.15,Q2Y,width=0.3,align='center',label='Q2Y', color = \"darkblue\")\n",
    "plt.bar(range_-0.15,R2Y,width=0.3,align='center',label='R2Y', color = \"black\")\n",
    "plt.title(\"R2Y/Q2Y Cell Viability\")\n",
    "plt.xlabel(\"Number of Components\")\n",
    "plt.legend(loc=4)\n",
    "disp_values(Q2Y,1.03,0.02,3)\n",
    "disp_values(R2Y,0.74,0.01,3)\n",
    "# plt.savefig(\"R2YQ2Y_BR1_5Cl.pdf\")"
   ]
  },
  {
   "cell_type": "markdown",
   "metadata": {},
   "source": [
    "## Building chained k-means and PLSR model pipeline"
   ]
  },
  {
   "cell_type": "markdown",
   "metadata": {},
   "source": [
    "### Measured Vs Predicted"
   ]
  },
  {
   "cell_type": "markdown",
   "metadata": {},
   "source": [
    "We've learnt during cross-validation that by setting the number of components to 2 and the number of clusters to 5 the model should perform reasonably well at predicting the viability response across conditions. To corroborate that we plot measured vs predicted below. We also show that the model performs better after clustering than using the entire data set, or even the filtered data set. "
   ]
  },
  {
   "cell_type": "code",
   "execution_count": 34,
   "metadata": {},
   "outputs": [],
   "source": [
    "ncl, ncomp = 5, 2\n",
    "estimators = [('kmeans', MyOwnKMEANS(ncl, Xf_protnames, Xf_seqs)), ('plsr', PLSRegression(ncomp))]\n",
    "pipe = Pipeline(estimators)"
   ]
  },
  {
   "cell_type": "code",
   "execution_count": 35,
   "metadata": {},
   "outputs": [],
   "source": [
    "X_scores, Y_scores = pipe.fit_transform(Xf_data, Y_cv)\n",
    "PC1_scores, PC2_scores = X_scores[:, 0], X_scores[:, 1]\n",
    "PC1_xload, PC2_xload = pipe.named_steps.plsr.x_loadings_[:, 0], pipe.named_steps.plsr.x_loadings_[:, 1]\n",
    "PC1_yload, PC2_yload = pipe.named_steps.plsr.y_loadings_[:, 0], pipe.named_steps.plsr.y_loadings_[:, 1]"
   ]
  },
  {
   "cell_type": "code",
   "execution_count": 36,
   "metadata": {},
   "outputs": [
    {
     "name": "stdout",
     "output_type": "stream",
     "text": [
      "Pearson's R:  0.3500371487108324 \n",
      " p-value:  0.32141672145834144\n"
     ]
    },
    {
     "data": {
      "image/png": "[encoded data removed]",
      "text/plain": [
       "<Figure size 432x360 with 1 Axes>"
      ]
     },
     "metadata": {
      "needs_background": "light"
     },
     "output_type": "display_data"
    }
   ],
   "source": [
    "fig, axs = plt.subplots(1,1,figsize=(6,5))\n",
    "MeasuredVsPredicted_LOOCVplot(Xf_data,Y_cv, pipe, fig, \"none\", axs)\n",
    "plt.title(\"Correlation Measured vs Predicted - CV across pipeline\")\n",
    "plt.xlabel(\"Measured Cell Viability\")\n",
    "plt.ylabel(\"Predicted Cell Viability\")\n",
    "#textstr = '\\n'.join(['R: 0.79', 'p-value: 0.006'])\n",
    "#props = dict(boxstyle = 'square', facecolor = \"white\", alpha = 0.5)\n",
    "#plt.text(0.5, 14.7, textstr, bbox=props)\n",
    "# plt.savefig('Measured_Predict_5cl2co_pipe.pdf')\n",
    "plt.show()"
   ]
  },
  {
   "cell_type": "code",
   "execution_count": 37,
   "metadata": {},
   "outputs": [
    {
     "name": "stdout",
     "output_type": "stream",
     "text": [
      "Pearson's R:  0.05475979318920787 \n",
      " p-value:  0.8805715042259873\n"
     ]
    },
    {
     "data": {
      "image/png": "[encoded data removed]",
      "text/plain": [
       "<Figure size 432x360 with 1 Axes>"
      ]
     },
     "metadata": {
      "needs_background": "light"
     },
     "output_type": "display_data"
    }
   ],
   "source": [
    "fig, axs = plt.subplots(1,1,figsize=(6,5))\n",
    "MeasuredVsPredicted_LOOCVplot(Xf_data,Y_cv, PLSRegression(ncomp), fig, \"none\", axs)\n",
    "plt.title(\"Correlation Measured vs Predicted - Fixed Clustered Df\")\n",
    "plt.xlabel(\"Measured Cell Viability\")\n",
    "plt.ylabel(\"Predicted Cell Viability\")\n",
    "textstr = '\\n'.join(['R: 0.79', 'p-value: 0.006'])\n",
    "props = dict(boxstyle = 'square', facecolor = \"white\", alpha = 0.5)\n",
    "plt.text(0.1, 10.5, textstr, bbox=props)\n",
    "# plt.savefig('Measured_Predict_5cl2co_pipe.pdf')\n",
    "plt.show()"
   ]
  },
  {
   "cell_type": "markdown",
   "metadata": {},
   "source": [
    "### Scores and Loadings Plot"
   ]
  },
  {
   "cell_type": "code",
   "execution_count": 38,
   "metadata": {},
   "outputs": [
    {
     "data": {
      "image/png": "[encoded data removed]",
      "text/plain": [
       "<Figure size 864x432 with 2 Axes>"
      ]
     },
     "metadata": {
      "needs_background": "light"
     },
     "output_type": "display_data"
    }
   ],
   "source": [
    "fig, axs = plt.subplots(1, 2,figsize=(12,6))\n",
    "# colors_ = cm.rainbow(np.linspace(0, 1, 5))\n",
    "colors_ = [\"blue\", \"orange\", \"green\", \"red\", \"purple\"]\n",
    "\n",
    "\n",
    "axs[0].scatter(PC1_scores,PC2_scores)\n",
    "for j, txt in enumerate(treatments):\n",
    "    axs[0].annotate(txt, (PC1_scores[j], PC2_scores[j]))\n",
    "axs[0].set_title('PLSR Model Scores')\n",
    "axs[0].set_xlabel('PC1')\n",
    "axs[0].set_ylabel('PC2')\n",
    "axs[0].axhline(y=0, color='0.25', linestyle='--')\n",
    "axs[0].axvline(x=0, color='0.25', linestyle='--')\n",
    "axs[0].set_xlim([-5, 5])\n",
    "axs[0].set_ylim([-1.75, 1.75])\n",
    "\n",
    "for i, txt in enumerate([\"1\", \"2\", \"3\", \"4\", \"5\"]):\n",
    "    axs[1].annotate(txt, (PC1_xload[i], PC2_xload[i]))\n",
    "axs[1].scatter(PC1_xload, PC2_xload, c=np.arange(ncl), cmap=colors.ListedColormap(colors_))\n",
    "axs[1].scatter(PC1_yload, PC2_yload, color='#000000', marker='D', label='Cell Viability')\n",
    "axs[1].legend(loc=4)\n",
    "axs[1].set_title('PLSR Model Loadings (Averaged Clusters)')\n",
    "axs[1].set_xlabel('PC1')\n",
    "axs[1].set_ylabel('PC2')\n",
    "axs[1].axhline(y=0, color='0.25', linestyle='--')\n",
    "axs[1].axvline(x=0, color='0.25', linestyle='--')\n",
    "axs[1].set_xlim([-0.65, 0.65])\n",
    "axs[1].set_ylim([-1.1, 1.1])\n",
    "# plt.savefig('scores_loadings.pdf')\n",
    "plt.show()"
   ]
  },
  {
   "cell_type": "code",
   "execution_count": 39,
   "metadata": {},
   "outputs": [],
   "source": [
    "ClusterMembers = pipe.named_steps.kmeans.ClusterMembers(Xf_data)\n",
    "count = sum(len(v) for v in ClusterMembers.values())\n",
    "CM_df = pd.DataFrame(dict([ (k, pd.Series(v)) for k,v in ClusterMembers.items() ]))\n",
    "# create_download_link(CM_df, 'fsdf')"
   ]
  },
  {
   "cell_type": "markdown",
   "metadata": {},
   "source": [
    "### Cluster Averages across Conditions"
   ]
  },
  {
   "cell_type": "code",
   "execution_count": 40,
   "metadata": {},
   "outputs": [
    {
     "data": {
      "image/png": "[encoded data removed]",
      "text/plain": [
       "<Figure size 432x288 with 1 Axes>"
      ]
     },
     "metadata": {
      "needs_background": "light"
     },
     "output_type": "display_data"
    },
    {
     "data": {
      "text/html": [
       "<div>\n",
       "<style scoped>\n",
       "    .dataframe tbody tr th:only-of-type {\n",
       "        vertical-align: middle;\n",
       "    }\n",
       "\n",
       "    .dataframe tbody tr th {\n",
       "        vertical-align: top;\n",
       "    }\n",
       "\n",
       "    .dataframe thead th {\n",
       "        text-align: right;\n",
       "    }\n",
       "</style>\n",
       "<table border=\"1\" class=\"dataframe\">\n",
       "  <thead>\n",
       "    <tr style=\"text-align: right;\">\n",
       "      <th></th>\n",
       "      <th>0</th>\n",
       "      <th>1</th>\n",
       "      <th>2</th>\n",
       "      <th>3</th>\n",
       "      <th>4</th>\n",
       "      <th>5</th>\n",
       "      <th>6</th>\n",
       "      <th>7</th>\n",
       "      <th>8</th>\n",
       "      <th>9</th>\n",
       "    </tr>\n",
       "  </thead>\n",
       "  <tbody>\n",
       "    <tr>\n",
       "      <th>0</th>\n",
       "      <td>0.126011</td>\n",
       "      <td>0.069317</td>\n",
       "      <td>0.085404</td>\n",
       "      <td>0.094425</td>\n",
       "      <td>-0.048578</td>\n",
       "      <td>-0.239652</td>\n",
       "      <td>-0.395846</td>\n",
       "      <td>-0.046432</td>\n",
       "      <td>0.257423</td>\n",
       "      <td>0.097927</td>\n",
       "    </tr>\n",
       "    <tr>\n",
       "      <th>1</th>\n",
       "      <td>0.561231</td>\n",
       "      <td>0.238265</td>\n",
       "      <td>0.939322</td>\n",
       "      <td>0.391811</td>\n",
       "      <td>-0.874933</td>\n",
       "      <td>-1.202739</td>\n",
       "      <td>-1.473831</td>\n",
       "      <td>-0.886647</td>\n",
       "      <td>2.086428</td>\n",
       "      <td>0.221093</td>\n",
       "    </tr>\n",
       "    <tr>\n",
       "      <th>2</th>\n",
       "      <td>-0.863392</td>\n",
       "      <td>-1.229668</td>\n",
       "      <td>-0.461808</td>\n",
       "      <td>-0.733776</td>\n",
       "      <td>-1.319063</td>\n",
       "      <td>-1.278790</td>\n",
       "      <td>-1.135964</td>\n",
       "      <td>1.988449</td>\n",
       "      <td>2.789840</td>\n",
       "      <td>2.244171</td>\n",
       "    </tr>\n",
       "    <tr>\n",
       "      <th>3</th>\n",
       "      <td>-0.104919</td>\n",
       "      <td>-0.062113</td>\n",
       "      <td>-0.061916</td>\n",
       "      <td>-0.047352</td>\n",
       "      <td>-0.150841</td>\n",
       "      <td>0.153653</td>\n",
       "      <td>0.043168</td>\n",
       "      <td>0.411400</td>\n",
       "      <td>-0.074805</td>\n",
       "      <td>-0.106277</td>\n",
       "    </tr>\n",
       "    <tr>\n",
       "      <th>4</th>\n",
       "      <td>0.340938</td>\n",
       "      <td>-0.194613</td>\n",
       "      <td>0.062032</td>\n",
       "      <td>-0.126902</td>\n",
       "      <td>-0.547630</td>\n",
       "      <td>-0.404238</td>\n",
       "      <td>-0.624052</td>\n",
       "      <td>-0.082898</td>\n",
       "      <td>1.230372</td>\n",
       "      <td>0.346990</td>\n",
       "    </tr>\n",
       "  </tbody>\n",
       "</table>\n",
       "</div>"
      ],
      "text/plain": [
       "          0         1         2         3         4         5         6  \\\n",
       "0  0.126011  0.069317  0.085404  0.094425 -0.048578 -0.239652 -0.395846   \n",
       "1  0.561231  0.238265  0.939322  0.391811 -0.874933 -1.202739 -1.473831   \n",
       "2 -0.863392 -1.229668 -0.461808 -0.733776 -1.319063 -1.278790 -1.135964   \n",
       "3 -0.104919 -0.062113 -0.061916 -0.047352 -0.150841  0.153653  0.043168   \n",
       "4  0.340938 -0.194613  0.062032 -0.126902 -0.547630 -0.404238 -0.624052   \n",
       "\n",
       "          7         8         9  \n",
       "0 -0.046432  0.257423  0.097927  \n",
       "1 -0.886647  2.086428  0.221093  \n",
       "2  1.988449  2.789840  2.244171  \n",
       "3  0.411400 -0.074805 -0.106277  \n",
       "4 -0.082898  1.230372  0.346990  "
      ]
     },
     "metadata": {},
     "output_type": "display_data"
    }
   ],
   "source": [
    "Centers = pipe.named_steps.kmeans.transform(Xf_data)\n",
    "memb = pipe.named_steps.kmeans.ClusterMembers(Xf_data)\n",
    "\n",
    "\n",
    "fig = plt.figure(figsize=(6,4))\n",
    "\n",
    "colors_ = [\"blue\", \"orange\", \"green\", \"red\", \"purple\"]\n",
    "\n",
    "centersT = np.transpose(Centers)\n",
    "for i in range(centersT.shape[0]):\n",
    "    plt.plot(centersT[i,:], label = \"cluster \"+str(i+1), color = colors_[i])\n",
    "    \n",
    "plt.xticks(np.arange(centersT.shape[1]), (treatments), rotation=70)\n",
    "# plt.legend(loc=2, prop={'size':8})\n",
    "# plt.savefig(\"ClAvgAcrossCond_BR1.pdf\")\n",
    "plt.show()\n",
    "display(pd.DataFrame(centersT))\n"
   ]
  },
  {
   "cell_type": "code",
   "execution_count": null,
   "metadata": {},
   "outputs": [],
   "source": []
  }
 ],
 "metadata": {
  "kernelspec": {
   "display_name": "Python 3",
   "language": "python",
   "name": "python3"
  },
  "language_info": {
   "codemirror_mode": {
    "name": "ipython",
    "version": 3
   },
   "file_extension": ".py",
   "mimetype": "text/x-python",
   "name": "python",
   "nbconvert_exporter": "python",
   "pygments_lexer": "ipython3",
   "version": "3.7.3"
  }
 },
 "nbformat": 4,
 "nbformat_minor": 4
}
