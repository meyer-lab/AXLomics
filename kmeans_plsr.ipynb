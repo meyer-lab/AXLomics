{
 "cells": [
  {
   "cell_type": "code",
   "execution_count": 1,
   "metadata": {},
   "outputs": [],
   "source": [
    "import pandas as pd\n",
    "from sklearn.cross_decomposition import PLSRegression\n",
    "from sklearn.cluster import KMeans\n",
    "from msresist.comp_estimator import ComHyperPar, MyOwnKMEANS\n",
    "from msresist.plsr import MeanCenter, VarianceFilter, FoldChangeFilter, ClusterAverages, GridSearch_CV, MeasuredVsPredicted_LOOCVplot, Q2Y_across_components, R2Y_across_components\n",
    "from msresist.mining_bioreplicates import FormatName, FormatSeq, MapOverlappingPeptides, BuildDupsMatrix, BuildTripsMatrix, DupsMeanAndRange, TripsMeanAndStd, FilterByRange, FilterByStdev\n",
    "import scipy as sp, numpy as np, pandas as pd, math\n",
    "from sklearn.pipeline import Pipeline\n",
    "import matplotlib.pyplot as plt\n",
    "import matplotlib.colors as colors\n",
    "import matplotlib.cm as cm\n",
    "import seaborn as sns; sns.set(color_codes=True)\n",
    "from FileExporter import create_download_link\n",
    "import warnings\n",
    "warnings.simplefilter(\"ignore\")"
   ]
  },
  {
   "cell_type": "markdown",
   "metadata": {},
   "source": [
    "## Importing and pre-processing data"
   ]
  },
  {
   "cell_type": "markdown",
   "metadata": {},
   "source": [
    "### Phosphorylation levels of peptides across conditions | X Matrix where peptides = vars and conditions = obs"
   ]
  },
  {
   "cell_type": "markdown",
   "metadata": {},
   "source": [
    "Raw Data of all 3 biological replicates:"
   ]
  },
  {
   "cell_type": "code",
   "execution_count": 2,
   "metadata": {},
   "outputs": [],
   "source": [
    "A_r = pd.read_csv('./msresist/data/Raw/20180817_JG_AM_TMT10plex_R1_psms_raw.csv', header=0)\n",
    "B_r = pd.read_csv('./msresist/data/Raw/20190214_JG_AM_PC9_AXL_TMT10_AC28_R2_PSMs_raw.csv', header=0)\n",
    "C_r = pd.read_csv('./msresist/data/Raw/CombinedBR3_TR1&2_raw.csv', header=0)"
   ]
  },
  {
   "cell_type": "code",
   "execution_count": 3,
   "metadata": {},
   "outputs": [],
   "source": [
    "treatments = A_r.columns[2:]\n",
    "header = A_r.columns"
   ]
  },
  {
   "cell_type": "markdown",
   "metadata": {},
   "source": [
    "#### Normalization 1: Linear Fold Change values wrt PC9 untreated cell population."
   ]
  },
  {
   "cell_type": "markdown",
   "metadata": {},
   "source": [
    "Biological replicates normalized by fold-change to the control:"
   ]
  },
  {
   "cell_type": "code",
   "execution_count": 4,
   "metadata": {},
   "outputs": [],
   "source": [
    "A_fc = pd.read_csv('./msresist/data/Fold-Change/20180817_JG_AM_TMT10plex_R1_psms.csv', header=0)\n",
    "B_fc = pd.read_csv('./msresist/data/Fold-Change/20190214_JG_AM_PC9_AXL_TMT10_AC28_R2_PSMs.csv', header=0)\n",
    "C_fc = pd.read_csv('./msresist/data/Fold-Change/CombinedBR3_TR1&2.csv', header=0)"
   ]
  },
  {
   "cell_type": "markdown",
   "metadata": {},
   "source": [
    "#### Normalization 2: Linear mean centered across conditions."
   ]
  },
  {
   "cell_type": "code",
   "execution_count": 5,
   "metadata": {},
   "outputs": [],
   "source": [
    "A_mc = MeanCenter(A_r, logT=True)\n",
    "B_mc = MeanCenter(B_r, logT=True)\n",
    "C_mc = MeanCenter(C_r, logT=True)"
   ]
  },
  {
   "cell_type": "markdown",
   "metadata": {},
   "source": [
    "###                                                    Filtering and Merging of biological replicates"
   ]
  },
  {
   "cell_type": "markdown",
   "metadata": {},
   "source": [
    "Concatenate and format peptide sequences"
   ]
  },
  {
   "cell_type": "code",
   "execution_count": 6,
   "metadata": {},
   "outputs": [],
   "source": [
    "ABC_fc = FormatSeq(pd.concat([A_fc, B_fc, C_fc]))\n",
    "ABC_fc['Master Protein Descriptions'] = FormatName(ABC_fc)\n",
    "\n",
    "ABC_mc = FormatSeq(pd.concat([A_mc, B_mc, C_mc]))\n",
    "ABC_mc['Master Protein Descriptions'] = FormatName(ABC_mc)"
   ]
  },
  {
   "cell_type": "markdown",
   "metadata": {},
   "source": [
    "Build dataframe inidicating the number of recurrencies of each peptide: 1,2 or 3. From this dataframe we manually created two csv files () containing all duplicates. Finally, generate counter to see number of non-recurrent peptides, duplicates and triplicates:"
   ]
  },
  {
   "cell_type": "code",
   "execution_count": 7,
   "metadata": {},
   "outputs": [
    {
     "name": "stdout",
     "output_type": "stream",
     "text": [
      "total number of recurrences: {1: 620, 2: 246, 3: 128}\n"
     ]
    }
   ],
   "source": [
    "recurrencies = MapOverlappingPeptides(ABC_fc)"
   ]
  },
  {
   "cell_type": "markdown",
   "metadata": {},
   "source": [
    "Import duplicates and triplicates (cols = Names, Seqs, #Recurrences):"
   ]
  },
  {
   "cell_type": "code",
   "execution_count": 8,
   "metadata": {},
   "outputs": [],
   "source": [
    "duplicated_ = pd.read_csv('./msresist/data/Fold-Change/ABC_Duplicates.csv', header=0)\n",
    "triplicated_ = pd.read_csv('./msresist/data/Fold-Change/ABC_Triplicates.csv', header=0)"
   ]
  },
  {
   "cell_type": "markdown",
   "metadata": {},
   "source": [
    "Sort all duplicates and triplicates within the concatenated dataframe in two seperate matrices:"
   ]
  },
  {
   "cell_type": "code",
   "execution_count": 9,
   "metadata": {},
   "outputs": [],
   "source": [
    "FC_dups = BuildDupsMatrix(duplicated_, ABC_fc)\n",
    "FC_trips = BuildTripsMatrix(triplicated_, ABC_fc)\n",
    "\n",
    "MC_dups = BuildDupsMatrix(duplicated_, ABC_mc)\n",
    "MC_trips = BuildTripsMatrix(triplicated_, ABC_mc)"
   ]
  },
  {
   "cell_type": "markdown",
   "metadata": {},
   "source": [
    "Merge overlapping peptides by computing the mean. Keep range and stdev for filter criteria. Note: Need to find a way to get pearson's correlation instead of using range. For the range we take values of the same condition but for pearson we want two compare the entire list of values between overalapping peptides."
   ]
  },
  {
   "cell_type": "code",
   "execution_count": 10,
   "metadata": {},
   "outputs": [],
   "source": [
    "FC_dups_MeanPtp = DupsMeanAndRange(FC_dups, treatments, header)\n",
    "FC_trips_MeanStd = TripsMeanAndStd(FC_trips, treatments, header)\n",
    "\n",
    "MC_dups_MeanPtp = DupsMeanAndRange(MC_dups, treatments, header)\n",
    "MC_trips_MeanStd = TripsMeanAndStd(MC_trips, treatments, header)"
   ]
  },
  {
   "cell_type": "markdown",
   "metadata": {},
   "source": [
    "Filter by range or standard deviation:"
   ]
  },
  {
   "cell_type": "code",
   "execution_count": 11,
   "metadata": {},
   "outputs": [],
   "source": [
    "FC_dups_VarF = FilterByRange(FC_dups_MeanPtp, header)\n",
    "FC_trips_VarF = FilterByStdev(FC_trips_MeanStd, header)\n",
    "\n",
    "MC_dups_VarF = FilterByRange(MC_dups_MeanPtp, header)\n",
    "MC_trips_VarF =FilterByStdev(MC_trips_MeanStd, header)"
   ]
  },
  {
   "cell_type": "markdown",
   "metadata": {},
   "source": [
    "Concatenate resulting matrices:"
   ]
  },
  {
   "cell_type": "code",
   "execution_count": 12,
   "metadata": {},
   "outputs": [],
   "source": [
    "FC_VarF = pd.concat([FC_dups_VarF, FC_trips_VarF]).sort_values(by = \"Master Protein Descriptions\")\n",
    "\n",
    "MC_VarF = pd.concat([MC_dups_VarF, MC_trips_VarF]).sort_values(by = \"Master Protein Descriptions\")"
   ]
  },
  {
   "cell_type": "markdown",
   "metadata": {},
   "source": [
    "Filter by fold-change or variance:"
   ]
  },
  {
   "cell_type": "code",
   "execution_count": 13,
   "metadata": {},
   "outputs": [],
   "source": [
    "FC_VarF_FoldF = FoldChangeFilter(FC_VarF)\n",
    "FC_VarF_FoldF.iloc[:,2:] = np.log2(FC_VarF_FoldF.iloc[:,2:])\n",
    "FC_VarF_FoldF_data = FC_VarF_FoldF.iloc[:,2:].T\n",
    "\n",
    "MC_VarF_VarF = VarianceFilter(MC_VarF)\n",
    "MC_VarF_VarF_data = MC_VarF_VarF.iloc[:,2:].T"
   ]
  },
  {
   "cell_type": "markdown",
   "metadata": {},
   "source": [
    "### Observations (Y Matrix) = Cell Viability"
   ]
  },
  {
   "cell_type": "code",
   "execution_count": 14,
   "metadata": {},
   "outputs": [],
   "source": [
    "Y = pd.read_csv('./msresist/data/Phenotypic_data/ydata.csv', header=0)\n",
    "Y_cv = Y.iloc[:10, 2]"
   ]
  },
  {
   "cell_type": "markdown",
   "metadata": {},
   "source": [
    "## Phosphopeptides Heat Map"
   ]
  },
  {
   "cell_type": "code",
   "execution_count": 15,
   "metadata": {},
   "outputs": [
    {
     "data": {
      "text/plain": [
       "<seaborn.matrix.ClusterGrid at 0x7efedf217860>"
      ]
     },
     "execution_count": 15,
     "metadata": {},
     "output_type": "execute_result"
    },
    {
     "data": {
      "image/png": "[encoded data removed]",
      "text/plain": [
       "<Figure size 720x720 with 4 Axes>"
      ]
     },
     "metadata": {
      "needs_background": "light"
     },
     "output_type": "display_data"
    }
   ],
   "source": [
    "g = sns.clustermap(np.exp(FC_VarF_FoldF_data.copy()).T, method = \"average\", robust = True)\n",
    "g"
   ]
  },
  {
   "cell_type": "code",
   "execution_count": 16,
   "metadata": {},
   "outputs": [],
   "source": [
    "# Xf.iloc[:, 2:] = np.log2(Xf.iloc[:, 2:].values)\n",
    "# Xf_data = np.log2(Xf_data.values)"
   ]
  },
  {
   "cell_type": "code",
   "execution_count": 17,
   "metadata": {},
   "outputs": [],
   "source": [
    "# p = g.dendrogram_row.reordered_ind"
   ]
  },
  {
   "cell_type": "markdown",
   "metadata": {},
   "source": [
    "Recovering heat map peptides "
   ]
  },
  {
   "cell_type": "code",
   "execution_count": 18,
   "metadata": {},
   "outputs": [],
   "source": [
    "# p = g.dendrogram_row.reordered_ind\n",
    "\n",
    "# hm_prots = []\n",
    "# for i in p:\n",
    "#     hm_prots.append(Xf.iloc[i,:])\n",
    "# hm_prots = pd.DataFrame(hm_prots)"
   ]
  },
  {
   "cell_type": "markdown",
   "metadata": {},
   "source": [
    "## Cell Viability Measurements"
   ]
  },
  {
   "cell_type": "code",
   "execution_count": 19,
   "metadata": {},
   "outputs": [
    {
     "data": {
      "image/png": "[encoded data removed]",
      "text/plain": [
       "<Figure size 360x216 with 1 Axes>"
      ]
     },
     "metadata": {
      "needs_background": "light"
     },
     "output_type": "display_data"
    }
   ],
   "source": [
    "fig, axs = plt.subplots(1,1,figsize=(5,3))\n",
    "plt.bar(np.linspace(1,10,10)-1, Y_cv,width=0.3,align='center', color=['black', 'darkred', 'darkred', 'darkred', 'darkgreen', 'darkgreen', 'darkgreen', 'darkblue', 'darkblue', 'darkblue'])\n",
    "plt.xticks(np.arange(10), (treatments), rotation=70)\n",
    "plt.title(\"Cell Viability\")\n",
    "plt.ylabel(\"Viability (fold change)\")\n",
    "# plt.savefig(\"CellViability.pdf\")\n",
    "plt.show()"
   ]
  },
  {
   "cell_type": "markdown",
   "metadata": {},
   "source": [
    "## GridSearchCV"
   ]
  },
  {
   "cell_type": "markdown",
   "metadata": {},
   "source": [
    "Simultaneous hyperparameter tuning of number of clusters and components across entire model pipeline"
   ]
  },
  {
   "cell_type": "code",
   "execution_count": 20,
   "metadata": {},
   "outputs": [],
   "source": [
    "# param_grid = []\n",
    "# for nn in range(2, 16):\n",
    "#     param_grid.append(dict(n_clusters=[nn], n_components= list(np.arange(1, nn + 1))))\n",
    "# param_grid"
   ]
  },
  {
   "cell_type": "code",
   "execution_count": 27,
   "metadata": {},
   "outputs": [],
   "source": [
    "estimators = [('kmeans', MyOwnKMEANS(5, list(FC_VarF_FoldF.iloc[:,1]), list(FC_VarF_FoldF.iloc[:,0]))), ('plsr', PLSRegression(2))]\n",
    "pipe = Pipeline(estimators)"
   ]
  },
  {
   "cell_type": "code",
   "execution_count": 30,
   "metadata": {},
   "outputs": [
    {
     "ename": "ValueError",
     "evalue": "Invalid parameter n_clusters for estimator Pipeline(memory=None,\n         steps=[('kmeans',\n                 MyOwnKMEANS(ProtNames=['ADP-ribosylation factor-like protein '\n                                        '11 ',\n                                        'Actin, cytoplasmic 1 ',\n                                        'Actin, cytoplasmic 1 ',\n                                        'Actin, cytoplasmic 1 ',\n                                        'Activator of 90 kDa heat shock '\n                                        'protein ATPase homolog 1 ',\n                                        'Adapter molecule crk ', 'Afadin ',\n                                        'Annexin A2 ', 'Annexin A2 ',\n                                        'Brain-specific angiogenesis inhibitor '\n                                        '1-associated protein 2-like protein '\n                                        '1 ',\n                                        'Cate...\n                                                  'YEDGYPGGSDNyGSLSR',\n                                                  'PcAyDkTALALEVGDIVk',\n                                                  'GEGTyGTVFk', 'PyAHISIPR',\n                                                  'VPLyESPR', 'VPIyANR',\n                                                  'yVTIIDAPGHR', 'VPVGyGIR',\n                                                  'yDFPPPMR', 'kDyDFPPPMR',\n                                                  'GHGYVyEYPSR',\n                                                  'WMDDYDyVHLQGk',\n                                                  'TENNYcPHyEk',\n                                                  'SHQISLDNPDyQQDFFPk',\n                                                  'DPPyTHTIQk', 'QIPEGDyLSYR',\n                                                  'VGyETILk', 'PDGyEFk',\n                                                  'VyATTVGTPYk', ...])),\n                ('plsr',\n                 PLSRegression(copy=True, max_iter=500, n_components=2,\n                               scale=True, tol=1e-06))],\n         verbose=False). Check the list of available parameters with `estimator.get_params().keys()`.",
     "output_type": "error",
     "traceback": [
      "\u001b[0;31m---------------------------------------------------------------------------\u001b[0m",
      "\u001b[0;31mValueError\u001b[0m                                Traceback (most recent call last)",
      "\u001b[0;32m<ipython-input-30-5217ea04ca6a>\u001b[0m in \u001b[0;36m<module>\u001b[0;34m\u001b[0m\n\u001b[1;32m      2\u001b[0m \u001b[0mwarnings\u001b[0m\u001b[0;34m.\u001b[0m\u001b[0msimplefilter\u001b[0m\u001b[0;34m(\u001b[0m\u001b[0;34m\"ignore\"\u001b[0m\u001b[0;34m)\u001b[0m\u001b[0;34m\u001b[0m\u001b[0;34m\u001b[0m\u001b[0m\n\u001b[1;32m      3\u001b[0m \u001b[0;34m\u001b[0m\u001b[0m\n\u001b[0;32m----> 4\u001b[0;31m \u001b[0mCVresults_max\u001b[0m\u001b[0;34m,\u001b[0m \u001b[0mCVresults_min\u001b[0m\u001b[0;34m,\u001b[0m \u001b[0mbest_params\u001b[0m \u001b[0;34m=\u001b[0m \u001b[0mComHyperPar\u001b[0m\u001b[0;34m(\u001b[0m\u001b[0mFC_VarF_FoldF_data\u001b[0m\u001b[0;34m,\u001b[0m \u001b[0mY_cv\u001b[0m\u001b[0;34m,\u001b[0m \u001b[0mlist\u001b[0m\u001b[0;34m(\u001b[0m\u001b[0mFC_VarF_FoldF\u001b[0m\u001b[0;34m.\u001b[0m\u001b[0miloc\u001b[0m\u001b[0;34m[\u001b[0m\u001b[0;34m:\u001b[0m\u001b[0;34m,\u001b[0m\u001b[0;36m1\u001b[0m\u001b[0;34m]\u001b[0m\u001b[0;34m)\u001b[0m\u001b[0;34m,\u001b[0m \u001b[0mlist\u001b[0m\u001b[0;34m(\u001b[0m\u001b[0mFC_VarF_FoldF\u001b[0m\u001b[0;34m.\u001b[0m\u001b[0miloc\u001b[0m\u001b[0;34m[\u001b[0m\u001b[0;34m:\u001b[0m\u001b[0;34m,\u001b[0m\u001b[0;36m0\u001b[0m\u001b[0;34m]\u001b[0m\u001b[0;34m)\u001b[0m\u001b[0;34m)\u001b[0m\u001b[0;34m\u001b[0m\u001b[0;34m\u001b[0m\u001b[0m\n\u001b[0m\u001b[1;32m      5\u001b[0m \u001b[0mcreate_download_link\u001b[0m\u001b[0;34m(\u001b[0m\u001b[0mCVresults_min\u001b[0m\u001b[0;34m,\u001b[0m \u001b[0;34m\"GridSearch_ClustVsComp\"\u001b[0m\u001b[0;34m)\u001b[0m\u001b[0;34m\u001b[0m\u001b[0;34m\u001b[0m\u001b[0m\n",
      "\u001b[0;32m~/resistance-MS/msresist/comp_estimator.py\u001b[0m in \u001b[0;36mComHyperPar\u001b[0;34m(X, Y, ProtNames, peptide_phosphosite)\u001b[0m\n\u001b[1;32m     42\u001b[0m \u001b[0;34m\u001b[0m\u001b[0m\n\u001b[1;32m     43\u001b[0m     \u001b[0mgrid\u001b[0m \u001b[0;34m=\u001b[0m \u001b[0mGridSearchCV\u001b[0m\u001b[0;34m(\u001b[0m\u001b[0mpipe\u001b[0m\u001b[0;34m,\u001b[0m \u001b[0mparam_grid\u001b[0m\u001b[0;34m=\u001b[0m\u001b[0mparam_grid\u001b[0m\u001b[0;34m,\u001b[0m \u001b[0mcv\u001b[0m\u001b[0;34m=\u001b[0m\u001b[0mX\u001b[0m\u001b[0;34m.\u001b[0m\u001b[0mshape\u001b[0m\u001b[0;34m[\u001b[0m\u001b[0;36m0\u001b[0m\u001b[0;34m]\u001b[0m\u001b[0;34m,\u001b[0m \u001b[0mreturn_train_score\u001b[0m\u001b[0;34m=\u001b[0m\u001b[0;32mTrue\u001b[0m\u001b[0;34m,\u001b[0m \u001b[0mscoring\u001b[0m\u001b[0;34m=\u001b[0m\u001b[0;34m'neg_mean_squared_error'\u001b[0m\u001b[0;34m)\u001b[0m\u001b[0;34m\u001b[0m\u001b[0;34m\u001b[0m\u001b[0m\n\u001b[0;32m---> 44\u001b[0;31m     \u001b[0mfit\u001b[0m \u001b[0;34m=\u001b[0m \u001b[0mgrid\u001b[0m\u001b[0;34m.\u001b[0m\u001b[0mfit\u001b[0m\u001b[0;34m(\u001b[0m\u001b[0mX\u001b[0m\u001b[0;34m,\u001b[0m \u001b[0mY\u001b[0m\u001b[0;34m)\u001b[0m\u001b[0;34m\u001b[0m\u001b[0;34m\u001b[0m\u001b[0m\n\u001b[0m\u001b[1;32m     45\u001b[0m     \u001b[0mCVresults_max\u001b[0m \u001b[0;34m=\u001b[0m \u001b[0mpd\u001b[0m\u001b[0;34m.\u001b[0m\u001b[0mDataFrame\u001b[0m\u001b[0;34m(\u001b[0m\u001b[0mdata\u001b[0m\u001b[0;34m=\u001b[0m\u001b[0mfit\u001b[0m\u001b[0;34m.\u001b[0m\u001b[0mcv_results_\u001b[0m\u001b[0;34m)\u001b[0m\u001b[0;34m\u001b[0m\u001b[0;34m\u001b[0m\u001b[0m\n\u001b[1;32m     46\u001b[0m     \u001b[0mstd_scores\u001b[0m \u001b[0;34m=\u001b[0m \u001b[0;34m{\u001b[0m\u001b[0;34m'#Clusters'\u001b[0m\u001b[0;34m:\u001b[0m \u001b[0mCVresults_max\u001b[0m\u001b[0;34m[\u001b[0m\u001b[0;34m'param_kmeans__n_clusters'\u001b[0m\u001b[0;34m]\u001b[0m\u001b[0;34m,\u001b[0m \u001b[0;34m'#Components'\u001b[0m\u001b[0;34m:\u001b[0m \u001b[0mCVresults_max\u001b[0m\u001b[0;34m[\u001b[0m\u001b[0;34m'param_plsr__n_components'\u001b[0m\u001b[0;34m]\u001b[0m\u001b[0;34m,\u001b[0m \u001b[0;34m'mean_test_scores'\u001b[0m\u001b[0;34m:\u001b[0m \u001b[0mCVresults_max\u001b[0m\u001b[0;34m[\u001b[0m\u001b[0;34m\"mean_test_score\"\u001b[0m\u001b[0;34m]\u001b[0m\u001b[0;34m,\u001b[0m \u001b[0;34m'mean_train_scores'\u001b[0m\u001b[0;34m:\u001b[0m \u001b[0mCVresults_max\u001b[0m\u001b[0;34m[\u001b[0m\u001b[0;34m\"mean_train_score\"\u001b[0m\u001b[0;34m]\u001b[0m\u001b[0;34m}\u001b[0m\u001b[0;34m\u001b[0m\u001b[0;34m\u001b[0m\u001b[0m\n",
      "\u001b[0;32m/usr/local/lib/python3.7/dist-packages/sklearn/model_selection/_search.py\u001b[0m in \u001b[0;36mfit\u001b[0;34m(self, X, y, groups, **fit_params)\u001b[0m\n\u001b[1;32m    685\u001b[0m                 \u001b[0;32mreturn\u001b[0m \u001b[0mresults\u001b[0m\u001b[0;34m\u001b[0m\u001b[0;34m\u001b[0m\u001b[0m\n\u001b[1;32m    686\u001b[0m \u001b[0;34m\u001b[0m\u001b[0m\n\u001b[0;32m--> 687\u001b[0;31m             \u001b[0mself\u001b[0m\u001b[0;34m.\u001b[0m\u001b[0m_run_search\u001b[0m\u001b[0;34m(\u001b[0m\u001b[0mevaluate_candidates\u001b[0m\u001b[0;34m)\u001b[0m\u001b[0;34m\u001b[0m\u001b[0;34m\u001b[0m\u001b[0m\n\u001b[0m\u001b[1;32m    688\u001b[0m \u001b[0;34m\u001b[0m\u001b[0m\n\u001b[1;32m    689\u001b[0m         \u001b[0;31m# For multi-metric evaluation, store the best_index_, best_params_ and\u001b[0m\u001b[0;34m\u001b[0m\u001b[0;34m\u001b[0m\u001b[0;34m\u001b[0m\u001b[0m\n",
      "\u001b[0;32m/usr/local/lib/python3.7/dist-packages/sklearn/model_selection/_search.py\u001b[0m in \u001b[0;36m_run_search\u001b[0;34m(self, evaluate_candidates)\u001b[0m\n\u001b[1;32m   1146\u001b[0m     \u001b[0;32mdef\u001b[0m \u001b[0m_run_search\u001b[0m\u001b[0;34m(\u001b[0m\u001b[0mself\u001b[0m\u001b[0;34m,\u001b[0m \u001b[0mevaluate_candidates\u001b[0m\u001b[0;34m)\u001b[0m\u001b[0;34m:\u001b[0m\u001b[0;34m\u001b[0m\u001b[0;34m\u001b[0m\u001b[0m\n\u001b[1;32m   1147\u001b[0m         \u001b[0;34m\"\"\"Search all candidates in param_grid\"\"\"\u001b[0m\u001b[0;34m\u001b[0m\u001b[0;34m\u001b[0m\u001b[0m\n\u001b[0;32m-> 1148\u001b[0;31m         \u001b[0mevaluate_candidates\u001b[0m\u001b[0;34m(\u001b[0m\u001b[0mParameterGrid\u001b[0m\u001b[0;34m(\u001b[0m\u001b[0mself\u001b[0m\u001b[0;34m.\u001b[0m\u001b[0mparam_grid\u001b[0m\u001b[0;34m)\u001b[0m\u001b[0;34m)\u001b[0m\u001b[0;34m\u001b[0m\u001b[0;34m\u001b[0m\u001b[0m\n\u001b[0m\u001b[1;32m   1149\u001b[0m \u001b[0;34m\u001b[0m\u001b[0m\n\u001b[1;32m   1150\u001b[0m \u001b[0;34m\u001b[0m\u001b[0m\n",
      "\u001b[0;32m/usr/local/lib/python3.7/dist-packages/sklearn/model_selection/_search.py\u001b[0m in \u001b[0;36mevaluate_candidates\u001b[0;34m(candidate_params)\u001b[0m\n\u001b[1;32m    664\u001b[0m                                \u001b[0;32mfor\u001b[0m \u001b[0mparameters\u001b[0m\u001b[0;34m,\u001b[0m \u001b[0;34m(\u001b[0m\u001b[0mtrain\u001b[0m\u001b[0;34m,\u001b[0m \u001b[0mtest\u001b[0m\u001b[0;34m)\u001b[0m\u001b[0;34m\u001b[0m\u001b[0;34m\u001b[0m\u001b[0m\n\u001b[1;32m    665\u001b[0m                                in product(candidate_params,\n\u001b[0;32m--> 666\u001b[0;31m                                           cv.split(X, y, groups)))\n\u001b[0m\u001b[1;32m    667\u001b[0m \u001b[0;34m\u001b[0m\u001b[0m\n\u001b[1;32m    668\u001b[0m                 \u001b[0;32mif\u001b[0m \u001b[0mlen\u001b[0m\u001b[0;34m(\u001b[0m\u001b[0mout\u001b[0m\u001b[0;34m)\u001b[0m \u001b[0;34m<\u001b[0m \u001b[0;36m1\u001b[0m\u001b[0;34m:\u001b[0m\u001b[0;34m\u001b[0m\u001b[0;34m\u001b[0m\u001b[0m\n",
      "\u001b[0;32m/usr/local/lib/python3.7/dist-packages/joblib/parallel.py\u001b[0m in \u001b[0;36m__call__\u001b[0;34m(self, iterable)\u001b[0m\n\u001b[1;32m    919\u001b[0m             \u001b[0;31m# remaining jobs.\u001b[0m\u001b[0;34m\u001b[0m\u001b[0;34m\u001b[0m\u001b[0;34m\u001b[0m\u001b[0m\n\u001b[1;32m    920\u001b[0m             \u001b[0mself\u001b[0m\u001b[0;34m.\u001b[0m\u001b[0m_iterating\u001b[0m \u001b[0;34m=\u001b[0m \u001b[0;32mFalse\u001b[0m\u001b[0;34m\u001b[0m\u001b[0;34m\u001b[0m\u001b[0m\n\u001b[0;32m--> 921\u001b[0;31m             \u001b[0;32mif\u001b[0m \u001b[0mself\u001b[0m\u001b[0;34m.\u001b[0m\u001b[0mdispatch_one_batch\u001b[0m\u001b[0;34m(\u001b[0m\u001b[0miterator\u001b[0m\u001b[0;34m)\u001b[0m\u001b[0;34m:\u001b[0m\u001b[0;34m\u001b[0m\u001b[0;34m\u001b[0m\u001b[0m\n\u001b[0m\u001b[1;32m    922\u001b[0m                 \u001b[0mself\u001b[0m\u001b[0;34m.\u001b[0m\u001b[0m_iterating\u001b[0m \u001b[0;34m=\u001b[0m \u001b[0mself\u001b[0m\u001b[0;34m.\u001b[0m\u001b[0m_original_iterator\u001b[0m \u001b[0;32mis\u001b[0m \u001b[0;32mnot\u001b[0m \u001b[0;32mNone\u001b[0m\u001b[0;34m\u001b[0m\u001b[0;34m\u001b[0m\u001b[0m\n\u001b[1;32m    923\u001b[0m \u001b[0;34m\u001b[0m\u001b[0m\n",
      "\u001b[0;32m/usr/local/lib/python3.7/dist-packages/joblib/parallel.py\u001b[0m in \u001b[0;36mdispatch_one_batch\u001b[0;34m(self, iterator)\u001b[0m\n\u001b[1;32m    757\u001b[0m                 \u001b[0;32mreturn\u001b[0m \u001b[0;32mFalse\u001b[0m\u001b[0;34m\u001b[0m\u001b[0;34m\u001b[0m\u001b[0m\n\u001b[1;32m    758\u001b[0m             \u001b[0;32melse\u001b[0m\u001b[0;34m:\u001b[0m\u001b[0;34m\u001b[0m\u001b[0;34m\u001b[0m\u001b[0m\n\u001b[0;32m--> 759\u001b[0;31m                 \u001b[0mself\u001b[0m\u001b[0;34m.\u001b[0m\u001b[0m_dispatch\u001b[0m\u001b[0;34m(\u001b[0m\u001b[0mtasks\u001b[0m\u001b[0;34m)\u001b[0m\u001b[0;34m\u001b[0m\u001b[0;34m\u001b[0m\u001b[0m\n\u001b[0m\u001b[1;32m    760\u001b[0m                 \u001b[0;32mreturn\u001b[0m \u001b[0;32mTrue\u001b[0m\u001b[0;34m\u001b[0m\u001b[0;34m\u001b[0m\u001b[0m\n\u001b[1;32m    761\u001b[0m \u001b[0;34m\u001b[0m\u001b[0m\n",
      "\u001b[0;32m/usr/local/lib/python3.7/dist-packages/joblib/parallel.py\u001b[0m in \u001b[0;36m_dispatch\u001b[0;34m(self, batch)\u001b[0m\n\u001b[1;32m    714\u001b[0m         \u001b[0;32mwith\u001b[0m \u001b[0mself\u001b[0m\u001b[0;34m.\u001b[0m\u001b[0m_lock\u001b[0m\u001b[0;34m:\u001b[0m\u001b[0;34m\u001b[0m\u001b[0;34m\u001b[0m\u001b[0m\n\u001b[1;32m    715\u001b[0m             \u001b[0mjob_idx\u001b[0m \u001b[0;34m=\u001b[0m \u001b[0mlen\u001b[0m\u001b[0;34m(\u001b[0m\u001b[0mself\u001b[0m\u001b[0;34m.\u001b[0m\u001b[0m_jobs\u001b[0m\u001b[0;34m)\u001b[0m\u001b[0;34m\u001b[0m\u001b[0;34m\u001b[0m\u001b[0m\n\u001b[0;32m--> 716\u001b[0;31m             \u001b[0mjob\u001b[0m \u001b[0;34m=\u001b[0m \u001b[0mself\u001b[0m\u001b[0;34m.\u001b[0m\u001b[0m_backend\u001b[0m\u001b[0;34m.\u001b[0m\u001b[0mapply_async\u001b[0m\u001b[0;34m(\u001b[0m\u001b[0mbatch\u001b[0m\u001b[0;34m,\u001b[0m \u001b[0mcallback\u001b[0m\u001b[0;34m=\u001b[0m\u001b[0mcb\u001b[0m\u001b[0;34m)\u001b[0m\u001b[0;34m\u001b[0m\u001b[0;34m\u001b[0m\u001b[0m\n\u001b[0m\u001b[1;32m    717\u001b[0m             \u001b[0;31m# A job can complete so quickly than its callback is\u001b[0m\u001b[0;34m\u001b[0m\u001b[0;34m\u001b[0m\u001b[0;34m\u001b[0m\u001b[0m\n\u001b[1;32m    718\u001b[0m             \u001b[0;31m# called before we get here, causing self._jobs to\u001b[0m\u001b[0;34m\u001b[0m\u001b[0;34m\u001b[0m\u001b[0;34m\u001b[0m\u001b[0m\n",
      "\u001b[0;32m/usr/local/lib/python3.7/dist-packages/joblib/_parallel_backends.py\u001b[0m in \u001b[0;36mapply_async\u001b[0;34m(self, func, callback)\u001b[0m\n\u001b[1;32m    180\u001b[0m     \u001b[0;32mdef\u001b[0m \u001b[0mapply_async\u001b[0m\u001b[0;34m(\u001b[0m\u001b[0mself\u001b[0m\u001b[0;34m,\u001b[0m \u001b[0mfunc\u001b[0m\u001b[0;34m,\u001b[0m \u001b[0mcallback\u001b[0m\u001b[0;34m=\u001b[0m\u001b[0;32mNone\u001b[0m\u001b[0;34m)\u001b[0m\u001b[0;34m:\u001b[0m\u001b[0;34m\u001b[0m\u001b[0;34m\u001b[0m\u001b[0m\n\u001b[1;32m    181\u001b[0m         \u001b[0;34m\"\"\"Schedule a func to be run\"\"\"\u001b[0m\u001b[0;34m\u001b[0m\u001b[0;34m\u001b[0m\u001b[0m\n\u001b[0;32m--> 182\u001b[0;31m         \u001b[0mresult\u001b[0m \u001b[0;34m=\u001b[0m \u001b[0mImmediateResult\u001b[0m\u001b[0;34m(\u001b[0m\u001b[0mfunc\u001b[0m\u001b[0;34m)\u001b[0m\u001b[0;34m\u001b[0m\u001b[0;34m\u001b[0m\u001b[0m\n\u001b[0m\u001b[1;32m    183\u001b[0m         \u001b[0;32mif\u001b[0m \u001b[0mcallback\u001b[0m\u001b[0;34m:\u001b[0m\u001b[0;34m\u001b[0m\u001b[0;34m\u001b[0m\u001b[0m\n\u001b[1;32m    184\u001b[0m             \u001b[0mcallback\u001b[0m\u001b[0;34m(\u001b[0m\u001b[0mresult\u001b[0m\u001b[0;34m)\u001b[0m\u001b[0;34m\u001b[0m\u001b[0;34m\u001b[0m\u001b[0m\n",
      "\u001b[0;32m/usr/local/lib/python3.7/dist-packages/joblib/_parallel_backends.py\u001b[0m in \u001b[0;36m__init__\u001b[0;34m(self, batch)\u001b[0m\n\u001b[1;32m    547\u001b[0m         \u001b[0;31m# Don't delay the application, to avoid keeping the input\u001b[0m\u001b[0;34m\u001b[0m\u001b[0;34m\u001b[0m\u001b[0;34m\u001b[0m\u001b[0m\n\u001b[1;32m    548\u001b[0m         \u001b[0;31m# arguments in memory\u001b[0m\u001b[0;34m\u001b[0m\u001b[0;34m\u001b[0m\u001b[0;34m\u001b[0m\u001b[0m\n\u001b[0;32m--> 549\u001b[0;31m         \u001b[0mself\u001b[0m\u001b[0;34m.\u001b[0m\u001b[0mresults\u001b[0m \u001b[0;34m=\u001b[0m \u001b[0mbatch\u001b[0m\u001b[0;34m(\u001b[0m\u001b[0;34m)\u001b[0m\u001b[0;34m\u001b[0m\u001b[0;34m\u001b[0m\u001b[0m\n\u001b[0m\u001b[1;32m    550\u001b[0m \u001b[0;34m\u001b[0m\u001b[0m\n\u001b[1;32m    551\u001b[0m     \u001b[0;32mdef\u001b[0m \u001b[0mget\u001b[0m\u001b[0;34m(\u001b[0m\u001b[0mself\u001b[0m\u001b[0;34m)\u001b[0m\u001b[0;34m:\u001b[0m\u001b[0;34m\u001b[0m\u001b[0;34m\u001b[0m\u001b[0m\n",
      "\u001b[0;32m/usr/local/lib/python3.7/dist-packages/joblib/parallel.py\u001b[0m in \u001b[0;36m__call__\u001b[0;34m(self)\u001b[0m\n\u001b[1;32m    223\u001b[0m         \u001b[0;32mwith\u001b[0m \u001b[0mparallel_backend\u001b[0m\u001b[0;34m(\u001b[0m\u001b[0mself\u001b[0m\u001b[0;34m.\u001b[0m\u001b[0m_backend\u001b[0m\u001b[0;34m,\u001b[0m \u001b[0mn_jobs\u001b[0m\u001b[0;34m=\u001b[0m\u001b[0mself\u001b[0m\u001b[0;34m.\u001b[0m\u001b[0m_n_jobs\u001b[0m\u001b[0;34m)\u001b[0m\u001b[0;34m:\u001b[0m\u001b[0;34m\u001b[0m\u001b[0;34m\u001b[0m\u001b[0m\n\u001b[1;32m    224\u001b[0m             return [func(*args, **kwargs)\n\u001b[0;32m--> 225\u001b[0;31m                     for func, args, kwargs in self.items]\n\u001b[0m\u001b[1;32m    226\u001b[0m \u001b[0;34m\u001b[0m\u001b[0m\n\u001b[1;32m    227\u001b[0m     \u001b[0;32mdef\u001b[0m \u001b[0m__len__\u001b[0m\u001b[0;34m(\u001b[0m\u001b[0mself\u001b[0m\u001b[0;34m)\u001b[0m\u001b[0;34m:\u001b[0m\u001b[0;34m\u001b[0m\u001b[0;34m\u001b[0m\u001b[0m\n",
      "\u001b[0;32m/usr/local/lib/python3.7/dist-packages/joblib/parallel.py\u001b[0m in \u001b[0;36m<listcomp>\u001b[0;34m(.0)\u001b[0m\n\u001b[1;32m    223\u001b[0m         \u001b[0;32mwith\u001b[0m \u001b[0mparallel_backend\u001b[0m\u001b[0;34m(\u001b[0m\u001b[0mself\u001b[0m\u001b[0;34m.\u001b[0m\u001b[0m_backend\u001b[0m\u001b[0;34m,\u001b[0m \u001b[0mn_jobs\u001b[0m\u001b[0;34m=\u001b[0m\u001b[0mself\u001b[0m\u001b[0;34m.\u001b[0m\u001b[0m_n_jobs\u001b[0m\u001b[0;34m)\u001b[0m\u001b[0;34m:\u001b[0m\u001b[0;34m\u001b[0m\u001b[0;34m\u001b[0m\u001b[0m\n\u001b[1;32m    224\u001b[0m             return [func(*args, **kwargs)\n\u001b[0;32m--> 225\u001b[0;31m                     for func, args, kwargs in self.items]\n\u001b[0m\u001b[1;32m    226\u001b[0m \u001b[0;34m\u001b[0m\u001b[0m\n\u001b[1;32m    227\u001b[0m     \u001b[0;32mdef\u001b[0m \u001b[0m__len__\u001b[0m\u001b[0;34m(\u001b[0m\u001b[0mself\u001b[0m\u001b[0;34m)\u001b[0m\u001b[0;34m:\u001b[0m\u001b[0;34m\u001b[0m\u001b[0;34m\u001b[0m\u001b[0m\n",
      "\u001b[0;32m/usr/local/lib/python3.7/dist-packages/sklearn/model_selection/_validation.py\u001b[0m in \u001b[0;36m_fit_and_score\u001b[0;34m(estimator, X, y, scorer, train, test, verbose, parameters, fit_params, return_train_score, return_parameters, return_n_test_samples, return_times, return_estimator, error_score)\u001b[0m\n\u001b[1;32m    499\u001b[0m     \u001b[0mtrain_scores\u001b[0m \u001b[0;34m=\u001b[0m \u001b[0;34m{\u001b[0m\u001b[0;34m}\u001b[0m\u001b[0;34m\u001b[0m\u001b[0;34m\u001b[0m\u001b[0m\n\u001b[1;32m    500\u001b[0m     \u001b[0;32mif\u001b[0m \u001b[0mparameters\u001b[0m \u001b[0;32mis\u001b[0m \u001b[0;32mnot\u001b[0m \u001b[0;32mNone\u001b[0m\u001b[0;34m:\u001b[0m\u001b[0;34m\u001b[0m\u001b[0;34m\u001b[0m\u001b[0m\n\u001b[0;32m--> 501\u001b[0;31m         \u001b[0mestimator\u001b[0m\u001b[0;34m.\u001b[0m\u001b[0mset_params\u001b[0m\u001b[0;34m(\u001b[0m\u001b[0;34m**\u001b[0m\u001b[0mparameters\u001b[0m\u001b[0;34m)\u001b[0m\u001b[0;34m\u001b[0m\u001b[0;34m\u001b[0m\u001b[0m\n\u001b[0m\u001b[1;32m    502\u001b[0m \u001b[0;34m\u001b[0m\u001b[0m\n\u001b[1;32m    503\u001b[0m     \u001b[0mstart_time\u001b[0m \u001b[0;34m=\u001b[0m \u001b[0mtime\u001b[0m\u001b[0;34m.\u001b[0m\u001b[0mtime\u001b[0m\u001b[0;34m(\u001b[0m\u001b[0;34m)\u001b[0m\u001b[0;34m\u001b[0m\u001b[0;34m\u001b[0m\u001b[0m\n",
      "\u001b[0;32m/usr/local/lib/python3.7/dist-packages/sklearn/pipeline.py\u001b[0m in \u001b[0;36mset_params\u001b[0;34m(self, **kwargs)\u001b[0m\n\u001b[1;32m    162\u001b[0m         \u001b[0mself\u001b[0m\u001b[0;34m\u001b[0m\u001b[0;34m\u001b[0m\u001b[0m\n\u001b[1;32m    163\u001b[0m         \"\"\"\n\u001b[0;32m--> 164\u001b[0;31m         \u001b[0mself\u001b[0m\u001b[0;34m.\u001b[0m\u001b[0m_set_params\u001b[0m\u001b[0;34m(\u001b[0m\u001b[0;34m'steps'\u001b[0m\u001b[0;34m,\u001b[0m \u001b[0;34m**\u001b[0m\u001b[0mkwargs\u001b[0m\u001b[0;34m)\u001b[0m\u001b[0;34m\u001b[0m\u001b[0;34m\u001b[0m\u001b[0m\n\u001b[0m\u001b[1;32m    165\u001b[0m         \u001b[0;32mreturn\u001b[0m \u001b[0mself\u001b[0m\u001b[0;34m\u001b[0m\u001b[0;34m\u001b[0m\u001b[0m\n\u001b[1;32m    166\u001b[0m \u001b[0;34m\u001b[0m\u001b[0m\n",
      "\u001b[0;32m/usr/local/lib/python3.7/dist-packages/sklearn/utils/metaestimators.py\u001b[0m in \u001b[0;36m_set_params\u001b[0;34m(self, attr, **params)\u001b[0m\n\u001b[1;32m     48\u001b[0m                 \u001b[0mself\u001b[0m\u001b[0;34m.\u001b[0m\u001b[0m_replace_estimator\u001b[0m\u001b[0;34m(\u001b[0m\u001b[0mattr\u001b[0m\u001b[0;34m,\u001b[0m \u001b[0mname\u001b[0m\u001b[0;34m,\u001b[0m \u001b[0mparams\u001b[0m\u001b[0;34m.\u001b[0m\u001b[0mpop\u001b[0m\u001b[0;34m(\u001b[0m\u001b[0mname\u001b[0m\u001b[0;34m)\u001b[0m\u001b[0;34m)\u001b[0m\u001b[0;34m\u001b[0m\u001b[0;34m\u001b[0m\u001b[0m\n\u001b[1;32m     49\u001b[0m         \u001b[0;31m# 3. Step parameters and other initialisation arguments\u001b[0m\u001b[0;34m\u001b[0m\u001b[0;34m\u001b[0m\u001b[0;34m\u001b[0m\u001b[0m\n\u001b[0;32m---> 50\u001b[0;31m         \u001b[0msuper\u001b[0m\u001b[0;34m(\u001b[0m\u001b[0;34m)\u001b[0m\u001b[0;34m.\u001b[0m\u001b[0mset_params\u001b[0m\u001b[0;34m(\u001b[0m\u001b[0;34m**\u001b[0m\u001b[0mparams\u001b[0m\u001b[0;34m)\u001b[0m\u001b[0;34m\u001b[0m\u001b[0;34m\u001b[0m\u001b[0m\n\u001b[0m\u001b[1;32m     51\u001b[0m         \u001b[0;32mreturn\u001b[0m \u001b[0mself\u001b[0m\u001b[0;34m\u001b[0m\u001b[0;34m\u001b[0m\u001b[0m\n\u001b[1;32m     52\u001b[0m \u001b[0;34m\u001b[0m\u001b[0m\n",
      "\u001b[0;32m/usr/local/lib/python3.7/dist-packages/sklearn/base.py\u001b[0m in \u001b[0;36mset_params\u001b[0;34m(self, **params)\u001b[0m\n\u001b[1;32m    222\u001b[0m                                  \u001b[0;34m'Check the list of available parameters '\u001b[0m\u001b[0;34m\u001b[0m\u001b[0;34m\u001b[0m\u001b[0m\n\u001b[1;32m    223\u001b[0m                                  \u001b[0;34m'with `estimator.get_params().keys()`.'\u001b[0m \u001b[0;34m%\u001b[0m\u001b[0;34m\u001b[0m\u001b[0;34m\u001b[0m\u001b[0m\n\u001b[0;32m--> 224\u001b[0;31m                                  (key, self))\n\u001b[0m\u001b[1;32m    225\u001b[0m \u001b[0;34m\u001b[0m\u001b[0m\n\u001b[1;32m    226\u001b[0m             \u001b[0;32mif\u001b[0m \u001b[0mdelim\u001b[0m\u001b[0;34m:\u001b[0m\u001b[0;34m\u001b[0m\u001b[0;34m\u001b[0m\u001b[0m\n",
      "\u001b[0;31mValueError\u001b[0m: Invalid parameter n_clusters for estimator Pipeline(memory=None,\n         steps=[('kmeans',\n                 MyOwnKMEANS(ProtNames=['ADP-ribosylation factor-like protein '\n                                        '11 ',\n                                        'Actin, cytoplasmic 1 ',\n                                        'Actin, cytoplasmic 1 ',\n                                        'Actin, cytoplasmic 1 ',\n                                        'Activator of 90 kDa heat shock '\n                                        'protein ATPase homolog 1 ',\n                                        'Adapter molecule crk ', 'Afadin ',\n                                        'Annexin A2 ', 'Annexin A2 ',\n                                        'Brain-specific angiogenesis inhibitor '\n                                        '1-associated protein 2-like protein '\n                                        '1 ',\n                                        'Cate...\n                                                  'YEDGYPGGSDNyGSLSR',\n                                                  'PcAyDkTALALEVGDIVk',\n                                                  'GEGTyGTVFk', 'PyAHISIPR',\n                                                  'VPLyESPR', 'VPIyANR',\n                                                  'yVTIIDAPGHR', 'VPVGyGIR',\n                                                  'yDFPPPMR', 'kDyDFPPPMR',\n                                                  'GHGYVyEYPSR',\n                                                  'WMDDYDyVHLQGk',\n                                                  'TENNYcPHyEk',\n                                                  'SHQISLDNPDyQQDFFPk',\n                                                  'DPPyTHTIQk', 'QIPEGDyLSYR',\n                                                  'VGyETILk', 'PDGyEFk',\n                                                  'VyATTVGTPYk', ...])),\n                ('plsr',\n                 PLSRegression(copy=True, max_iter=500, n_components=2,\n                               scale=True, tol=1e-06))],\n         verbose=False). Check the list of available parameters with `estimator.get_params().keys()`."
     ]
    }
   ],
   "source": [
    "import warnings\n",
    "warnings.simplefilter(\"ignore\")\n",
    "\n",
    "CVresults_max, CVresults_min, best_params = ComHyperPar(FC_VarF_FoldF_data, Y_cv, list(FC_VarF_FoldF.iloc[:,1]), list(FC_VarF_FoldF.iloc[:,0]))\n",
    "# create_download_link(CVresults_min, \"GridSearch_ClustVsComp\")"
   ]
  },
  {
   "cell_type": "code",
   "execution_count": null,
   "metadata": {},
   "outputs": [],
   "source": [
    "print(best_params)\n",
    "display(CVresults_min.iloc[:20,:])\n",
    "\n",
    "# MSE = np.abs(CVresults_min.iloc[:20, 2])"
   ]
  },
  {
   "cell_type": "code",
   "execution_count": null,
   "metadata": {},
   "outputs": [],
   "source": [
    "#range_ = np.linspace(1,MSE.shape[0],MSE.shape[0])\n",
    "\n",
    "#fig, axs = plt.subplots(1,1,figsize=(7,5))\n",
    "#plt.setp(axs, xticks=range_)\n",
    "#plt.bar(range_,MSE,width=0.3,align='center', color = \"green\")\n",
    "# plt.savefig(\"GridSearch_Cl&Comp.pdf\")\n",
    "#plt.title(\"GridSearch Cell Viability\")\n",
    "#plt.xlabel(\"Number of Components\")\n",
    "#plt.ylabel(\"MSE\")\n",
    "#plt.show()"
   ]
  },
  {
   "cell_type": "code",
   "execution_count": null,
   "metadata": {},
   "outputs": [],
   "source": [
    "raise SystemExit"
   ]
  },
  {
   "cell_type": "markdown",
   "metadata": {},
   "source": [
    "### R2Y / Q2Y"
   ]
  },
  {
   "cell_type": "markdown",
   "metadata": {},
   "source": [
    "Percentages of variance explained (R2Y) and predicted (Q2Y) across numbers of components"
   ]
  },
  {
   "cell_type": "code",
   "execution_count": null,
   "metadata": {},
   "outputs": [],
   "source": [
    "import warnings\n",
    "warnings.simplefilter(\"ignore\")\n",
    "\n",
    "maxComp = 10\n",
    "Q2Y = Q2Y_across_components(Xf_data, Y_cv, maxComp+1)\n",
    "R2Y = R2Y_across_components(Xf_data, Y_cv, maxComp+1)"
   ]
  },
  {
   "cell_type": "markdown",
   "metadata": {},
   "source": [
    "First using the entire data set"
   ]
  },
  {
   "cell_type": "code",
   "execution_count": null,
   "metadata": {},
   "outputs": [],
   "source": [
    "def truncate(f, n):\n",
    "    return math.floor(f * 10 ** n) / 10 ** n\n",
    "\n",
    "def disp_values(x,spac1,spac2,dec):\n",
    "    for l, m in enumerate(x):\n",
    "        plt.text(l+spac1,m+spac2,str(truncate(m,dec)))    #change to axs[ax].\n",
    "\n",
    "range_ = np.linspace(1,maxComp,maxComp)\n",
    "\n",
    "fig, axs = plt.subplots(1,1,figsize=(9,7))\n",
    "plt.setp(axs, xticks=range_)\n",
    "plt.bar(range_+0.15,Q2Y,width=0.3,align='center',label='Q2Y', color = \"darkred\")\n",
    "plt.bar(range_-0.15,R2Y,width=0.3,align='center',label='R2Y', color = \"black\")\n",
    "plt.title(\"R2Y/Q2Y Cell Viability\")\n",
    "plt.xlabel(\"Number of Components\")\n",
    "plt.legend(loc=4)\n",
    "disp_values(Q2Y,1.03,0.01,3)\n",
    "disp_values(R2Y,0.6,0.01,3)"
   ]
  },
  {
   "cell_type": "markdown",
   "metadata": {},
   "source": [
    "Then after k-means clustering setting the number of clusters to 5"
   ]
  },
  {
   "cell_type": "code",
   "execution_count": null,
   "metadata": {},
   "outputs": [],
   "source": [
    "kmeans = MyOwnKMEANS(5, Xf_protnames, Xf_seqs).fit(Xf_data, Y=None)\n",
    "centers = kmeans.transform(Xf_data)\n",
    "clustermembers = kmeans.ClusterMembers(Xf_data)"
   ]
  },
  {
   "cell_type": "code",
   "execution_count": null,
   "metadata": {},
   "outputs": [],
   "source": [
    "maxComp = centers.shape[1]\n",
    "Q2Y = Q2Y_across_components(centers, Y_cv, maxComp)\n",
    "R2Y = R2Y_across_components(centers, Y_cv, maxComp)"
   ]
  },
  {
   "cell_type": "code",
   "execution_count": null,
   "metadata": {},
   "outputs": [],
   "source": [
    "def truncate(f, n):\n",
    "    return math.floor(f * 10 ** n) / 10 ** n\n",
    "\n",
    "def disp_values(x,spac1,spac2,dec):\n",
    "    for l, m in enumerate(x):\n",
    "        plt.text(l+spac1,m+spac2,str(truncate(m,dec)))    #change to axs[ax].\n",
    "\n",
    "range_ = np.linspace(1,maxComp-1,maxComp-1)\n",
    "\n",
    "fig, axs = plt.subplots(1,1,figsize=(5,3))\n",
    "plt.setp(axs, xticks=range_)\n",
    "plt.bar(range_+0.15,Q2Y,width=0.3,align='center',label='Q2Y', color = \"darkblue\")\n",
    "plt.bar(range_-0.15,R2Y,width=0.3,align='center',label='R2Y', color = \"black\")\n",
    "plt.title(\"R2Y/Q2Y Cell Viability\")\n",
    "plt.xlabel(\"Number of Components\")\n",
    "plt.legend(loc=4)\n",
    "disp_values(Q2Y,1.03,0.02,3)\n",
    "disp_values(R2Y,0.74,0.01,3)\n",
    "# plt.savefig(\"R2YQ2Y_BR1_5Cl.pdf\")"
   ]
  },
  {
   "cell_type": "markdown",
   "metadata": {},
   "source": [
    "## Building chained k-means and PLSR model pipeline"
   ]
  },
  {
   "cell_type": "markdown",
   "metadata": {},
   "source": [
    "### Measured Vs Predicted"
   ]
  },
  {
   "cell_type": "markdown",
   "metadata": {},
   "source": [
    "We've learnt during cross-validation that by setting the number of components to 2 and the number of clusters to 5 the model should perform reasonably well at predicting the viability response across conditions. To corroborate that we plot measured vs predicted below. We also show that the model performs better after clustering than using the entire data set, or even the filtered data set. "
   ]
  },
  {
   "cell_type": "code",
   "execution_count": null,
   "metadata": {},
   "outputs": [],
   "source": [
    "ncl, ncomp = 6, 2\n",
    "estimators = [('kmeans', MyOwnKMEANS(ncl, Xf_protnames, Xf_seqs)), ('plsr', PLSRegression(ncomp))]\n",
    "pipe = Pipeline(estimators)"
   ]
  },
  {
   "cell_type": "code",
   "execution_count": null,
   "metadata": {},
   "outputs": [],
   "source": [
    "X_scores, Y_scores = pipe.fit_transform(Xf_data, Y_cv)\n",
    "PC1_scores, PC2_scores = X_scores[:, 0], X_scores[:, 1]\n",
    "PC1_xload, PC2_xload = pipe.named_steps.plsr.x_loadings_[:, 0], pipe.named_steps.plsr.x_loadings_[:, 1]\n",
    "PC1_yload, PC2_yload = pipe.named_steps.plsr.y_loadings_[:, 0], pipe.named_steps.plsr.y_loadings_[:, 1]"
   ]
  },
  {
   "cell_type": "code",
   "execution_count": null,
   "metadata": {},
   "outputs": [],
   "source": [
    "fig, axs = plt.subplots(1,1,figsize=(6,5))\n",
    "MeasuredVsPredicted_LOOCVplot(Xf_data,Y_cv, pipe, fig, \"none\", axs)\n",
    "plt.title(\"Correlation Measured vs Predicted - CV across pipeline\")\n",
    "plt.xlabel(\"Measured Cell Viability\")\n",
    "plt.ylabel(\"Predicted Cell Viability\")\n",
    "#textstr = '\\n'.join(['R: 0.79', 'p-value: 0.006'])\n",
    "#props = dict(boxstyle = 'square', facecolor = \"white\", alpha = 0.5)\n",
    "#plt.text(0.5, 14.7, textstr, bbox=props)\n",
    "# plt.savefig('Measured_Predict_5cl2co_pipe.pdf')\n",
    "plt.show()"
   ]
  },
  {
   "cell_type": "code",
   "execution_count": null,
   "metadata": {},
   "outputs": [],
   "source": [
    "fig, axs = plt.subplots(1,1,figsize=(6,5))\n",
    "MeasuredVsPredicted_LOOCVplot(X_data,Y_cv, PLSRegression(ncomp), fig, \"none\", axs)\n",
    "plt.title(\"Correlation Measured vs Predicted - Fixed Clustered Df\")\n",
    "plt.xlabel(\"Measured Cell Viability\")\n",
    "plt.ylabel(\"Predicted Cell Viability\")\n",
    "textstr = '\\n'.join(['R: 0.79', 'p-value: 0.006'])\n",
    "props = dict(boxstyle = 'square', facecolor = \"white\", alpha = 0.5)\n",
    "plt.text(0.1, 10.5, textstr, bbox=props)\n",
    "# plt.savefig('Measured_Predict_5cl2co_pipe.pdf')\n",
    "plt.show()"
   ]
  },
  {
   "cell_type": "markdown",
   "metadata": {},
   "source": [
    "### Scores and Loadings Plot"
   ]
  },
  {
   "cell_type": "code",
   "execution_count": null,
   "metadata": {},
   "outputs": [],
   "source": [
    "fig, axs = plt.subplots(1, 2,figsize=(12,6))\n",
    "# colors_ = cm.rainbow(np.linspace(0, 1, 5))\n",
    "colors_ = [\"blue\", \"orange\", \"green\", \"red\", \"purple\"]\n",
    "\n",
    "\n",
    "axs[0].scatter(PC1_scores,PC2_scores)\n",
    "for j, txt in enumerate(treatments):\n",
    "    axs[0].annotate(txt, (PC1_scores[j], PC2_scores[j]))\n",
    "axs[0].set_title('PLSR Model Scores')\n",
    "axs[0].set_xlabel('PC1')\n",
    "axs[0].set_ylabel('PC2')\n",
    "axs[0].axhline(y=0, color='0.25', linestyle='--')\n",
    "axs[0].axvline(x=0, color='0.25', linestyle='--')\n",
    "axs[0].set_xlim([-5, 5])\n",
    "axs[0].set_ylim([-1.75, 1.75])\n",
    "\n",
    "for i, txt in enumerate([\"1\", \"2\", \"3\", \"4\", \"5\"]):\n",
    "    axs[1].annotate(txt, (PC1_xload[i], PC2_xload[i]))\n",
    "axs[1].scatter(PC1_xload, PC2_xload, c=np.arange(ncl), cmap=colors.ListedColormap(colors_))\n",
    "axs[1].scatter(PC1_yload, PC2_yload, color='#000000', marker='D', label='Cell Viability')\n",
    "axs[1].legend(loc=4)\n",
    "axs[1].set_title('PLSR Model Loadings (Averaged Clusters)')\n",
    "axs[1].set_xlabel('PC1')\n",
    "axs[1].set_ylabel('PC2')\n",
    "axs[1].axhline(y=0, color='0.25', linestyle='--')\n",
    "axs[1].axvline(x=0, color='0.25', linestyle='--')\n",
    "axs[1].set_xlim([-0.65, 0.65])\n",
    "axs[1].set_ylim([-1.1, 1.1])\n",
    "# plt.savefig('scores_loadings.pdf')\n",
    "plt.show()"
   ]
  },
  {
   "cell_type": "code",
   "execution_count": null,
   "metadata": {},
   "outputs": [],
   "source": [
    "ClusterMembers = pipe.named_steps.kmeans.ClusterMembers(Xf_data)\n",
    "count = sum(len(v) for v in ClusterMembers.values())\n",
    "CM_df = pd.DataFrame(dict([ (k, pd.Series(v)) for k,v in ClusterMembers.items() ]))\n",
    "# create_download_link(CM_df, 'fsdf')"
   ]
  },
  {
   "cell_type": "markdown",
   "metadata": {},
   "source": [
    "### Cluster Averages across Conditions"
   ]
  },
  {
   "cell_type": "code",
   "execution_count": null,
   "metadata": {},
   "outputs": [],
   "source": [
    "Centers = pipe.named_steps.kmeans.transform(Xf_data)\n",
    "memb = pipe.named_steps.kmeans.ClusterMembers(Xf_data)\n",
    "\n",
    "\n",
    "fig = plt.figure(figsize=(6,4))\n",
    "\n",
    "colors_ = [\"blue\", \"orange\", \"green\", \"red\", \"purple\"]\n",
    "\n",
    "centersT = np.transpose(Centers)\n",
    "for i in range(centersT.shape[0]):\n",
    "    plt.plot(centersT[i,:], label = \"cluster \"+str(i+1), color = colors_[i])\n",
    "    \n",
    "plt.xticks(np.arange(centersT.shape[1]), (treatments), rotation=70)\n",
    "# plt.legend(loc=2, prop={'size':8})\n",
    "# plt.savefig(\"ClAvgAcrossCond_BR1.pdf\")\n",
    "plt.show()\n",
    "display(pd.DataFrame(centersT))\n"
   ]
  },
  {
   "cell_type": "code",
   "execution_count": null,
   "metadata": {},
   "outputs": [],
   "source": []
  }
 ],
 "metadata": {
  "kernelspec": {
   "display_name": "Python 3",
   "language": "python",
   "name": "python3"
  },
  "language_info": {
   "codemirror_mode": {
    "name": "ipython",
    "version": 3
   },
   "file_extension": ".py",
   "mimetype": "text/x-python",
   "name": "python",
   "nbconvert_exporter": "python",
   "pygments_lexer": "ipython3",
   "version": "3.7.3"
  }
 },
 "nbformat": 4,
 "nbformat_minor": 4
}
