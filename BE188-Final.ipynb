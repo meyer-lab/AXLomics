{
 "cells": [
  {
   "cell_type": "markdown",
   "metadata": {},
   "source": [
    "# Predicting cell phenotypes using signaling signatures"
   ]
  },
  {
   "cell_type": "code",
   "execution_count": 1,
   "metadata": {
    "collapsed": true
   },
   "outputs": [],
   "source": [
    "import scipy as sp, numpy as np, pandas as pd, math\n",
    "import matplotlib.pyplot as plt\n",
    "import matplotlib.colors as colors\n",
    "import matplotlib.cm as cm\n",
    "from scipy import stats\n",
    "from sklearn.cross_decomposition import PLSRegression\n",
    "from sklearn.model_selection import LeaveOneOut\n",
    "from numpy import random\n",
    "from sklearn.cluster import KMeans\n",
    "from collections import defaultdict"
   ]
  },
  {
   "cell_type": "markdown",
   "metadata": {},
   "source": [
    "## Importing Data"
   ]
  },
  {
   "cell_type": "code",
   "execution_count": 2,
   "metadata": {
    "collapsed": true
   },
   "outputs": [],
   "source": [
    "X = np.array(pd.read_csv('./MS_Initial_Data.csv', header=0))\n",
    "Y = np.array(pd.read_csv('./Ydata.csv', header=0))\n",
    "treatments_axl = np.array(pd.read_csv('./MS_Initial_Data.csv', header=None))[0,2:]\n",
    "treatments_cv = np.delete(treatments_axl,[3,7,8,9])\n",
    "\n",
    "peptide_phosphosite = X[:,0]\n",
    "protein_description = X[:,1]\n",
    "ProtNames = []\n",
    "for item in protein_description:\n",
    "    ProtName = item.split(\"OS\")\n",
    "    ProtName = ProtName[0]\n",
    "    ProtNames.append(ProtName)\n",
    "PC9 = X[:,2]\n",
    "Erl = X[:,3]\n",
    "R428 = X[:,4]\n",
    "Erl_R428 = X[:,5]\n",
    "Erl_HGF = X[:,6]\n",
    "Erl_FGF = X[:,7]\n",
    "Erl_IGF = X[:,8]\n",
    "KO_Erl = X[:,9]\n",
    "KO_R428 = X[:,10]\n",
    "KO_Erl_R428 = X[:,11]\n",
    "\n",
    "# for AXL expression\n",
    "X_axl = np.concatenate([PC9,Erl,R428,Erl_R428,Erl_HGF,Erl_FGF,Erl_IGF,KO_Erl,KO_R428,KO_Erl_R428])\n",
    "X_axl = np.reshape(X_axl,(10,300))\n",
    "Y_axl = Y[:,3]\n",
    "Y_axl = Y_axl[:10]\n",
    "\n",
    "# for cell viability\n",
    "X_cv = np.concatenate([PC9,Erl,R428,Erl_R428,Erl_HGF,Erl_FGF,Erl_IGF,KO_Erl,KO_R428,KO_Erl_R428])\n",
    "X_cv = np.reshape(X_cv,(10,300))\n",
    "Y_cv = Y[:,2]\n",
    "Y_cv = Y_cv[:10]"
   ]
  },
  {
   "cell_type": "markdown",
   "metadata": {},
   "source": [
    "## Preprocessing Data"
   ]
  },
  {
   "cell_type": "markdown",
   "metadata": {},
   "source": [
    "Z-score Y vectors for AXL Expression and Cell Viability and their corresponding X matrices by treatment."
   ]
  },
  {
   "cell_type": "code",
   "execution_count": 3,
   "metadata": {
    "collapsed": true
   },
   "outputs": [],
   "source": [
    "Y_axl_z = sp.stats.zscore(Y_axl)\n",
    "Y_cv_z = sp.stats.zscore(Y_cv)\n",
    "\n",
    "def zscore_columns(matrix):\n",
    "    matrix_z = np.zeros((matrix.shape[0],matrix.shape[1]))\n",
    "    for a in range(matrix.shape[1]):\n",
    "        column = []\n",
    "        column = matrix[:,a]\n",
    "        column_mean = np.mean(column)\n",
    "        column_std = np.std(column)\n",
    "        matrix_z[:,a] = np.asmatrix([(column-column_mean)/column_std])\n",
    "    return matrix_z\n",
    "\n",
    "X_axl_z = np.array(zscore_columns(X_axl.copy()))\n",
    "X_cv_z = np.array(zscore_columns(X_cv.copy()))"
   ]
  },
  {
   "cell_type": "markdown",
   "metadata": {},
   "source": [
    "## Determining Number of Components"
   ]
  },
  {
   "cell_type": "markdown",
   "metadata": {},
   "source": [
    "Below, R2Y and Q2Y are plotted across a number of PLSR components for both AXL Expression and Cell Viability. Note that R2Y is maximized at 8 components for AXL Expression and 4 components for Cell Viability. However, 3 components were picked for both models, as increases in R2Y become relatively insignificant past this point."
   ]
  },
  {
   "cell_type": "code",
   "execution_count": 4,
   "metadata": {
    "scrolled": false
   },
   "outputs": [
    {
     "data": {
      "image/png": "[encoded data removed]",
      "text/plain": [
       "<Figure size 1440x720 with 2 Axes>"
      ]
     },
     "metadata": {
      "needs_background": "light"
     },
     "output_type": "display_data"
    }
   ],
   "source": [
    "def R2Y_across_components(X_z,Y_z,max_comps,sublabel):\n",
    "    R2Ys = []\n",
    "    components = []\n",
    "    for b in range(1,max_comps):\n",
    "        plsr = PLSRegression(n_components = b)\n",
    "        X_scores, Y_scores = plsr.fit_transform(X_z,Y_z)\n",
    "        R2Y = plsr.score(X_z,Y_z)\n",
    "        R2Ys.append(R2Y)\n",
    "        components.append(b)\n",
    "    return R2Ys\n",
    "\n",
    "loo = LeaveOneOut()\n",
    "\n",
    "def Q2Y_across_components(X_z,Y_z,max_comps,sublabel):\n",
    "    PRESS = 0\n",
    "    SS = 0\n",
    "    Q2Ys = []\n",
    "    for b in range(1,max_comps):\n",
    "        plsr_model = PLSRegression(n_components = b)\n",
    "        for train_index, test_index in loo.split(X_z, Y_z):\n",
    "            X_train, X_test = X_z[train_index], X_z[test_index]\n",
    "            Y_train, Y_test = Y_z[train_index], Y_z[test_index]\n",
    "            X_train = zscore_columns(X_train)\n",
    "            Y_train = sp.stats.zscore(Y_train)\n",
    "            plsr_model.fit_transform(X_train,Y_train)\n",
    "            Y_predict_cv = plsr_model.predict(X_test)\n",
    "            PRESS_i = (Y_predict_cv - Y_test) ** 2\n",
    "            SS_i = (Y_test) ** 2\n",
    "            PRESS = PRESS + PRESS_i\n",
    "            SS = SS + SS_i\n",
    "        Q2Y = 1 - (PRESS/SS)\n",
    "        Q2Ys.append(Q2Y)\n",
    "    return Q2Ys\n",
    "        \n",
    "def truncate(f, n):\n",
    "    return math.floor(f * 10 ** n) / 10 ** n\n",
    "\n",
    "def disp_values(x,ax,spac1,spac2,dec):\n",
    "    for l, m in enumerate(x):\n",
    "        axs[ax].text(l+spac1,m+spac2,str(truncate(m,dec)))\n",
    "\n",
    "Q2Y_axl = np.squeeze(Q2Y_across_components(X_axl_z,Y_axl_z,9,'AXL Expression'))\n",
    "Q2Y_cv = np.squeeze(Q2Y_across_components(X_cv_z,Y_cv_z,9,'Cell Viability')) \n",
    "R2Y_axl = R2Y_across_components(X_axl_z,Y_axl_z,9,'AXL Expression')\n",
    "R2Y_cv = R2Y_across_components(X_cv_z,Y_cv_z,9,'Cell Viability') \n",
    "range_axl = np.linspace(1,8,8)\n",
    "range_cv = np.linspace(1,8,8)\n",
    "\n",
    "fig, axs = plt.subplots(1,2,figsize=(20,10))\n",
    "axs[0].bar(range_axl+0.15,Q2Y_axl,width=0.3,align='center',label='Q2Y', color = \"darkred\")\n",
    "axs[0].bar(range_axl-0.15,R2Y_axl,width=0.3,align='center',label='R2Y', color = \"black\")\n",
    "axs[0].legend(loc=4)\n",
    "axs[0].set(xlabel='Number of Components',title='AXL Expression')\n",
    "disp_values(Q2Y_axl,0,1.03,0.01,3)\n",
    "disp_values(R2Y_axl,0,0.6,0.01,3)\n",
    "axs[1].bar(range_cv+0.15,Q2Y_cv,width=0.3,align='center',label='Q2Y', color = \"darkred\")\n",
    "axs[1].bar(range_cv-0.15,R2Y_cv,width=0.3,align='center',label='R2Y', color = \"black\")\n",
    "axs[1].set(xlabel='Number of Components',title='Cell Viability')\n",
    "disp_values(Q2Y_cv,1,1,0.01,3)\n",
    "disp_values(R2Y_cv,1,0.65,0.01,3)\n",
    "axs[1].legend(loc=4)\n",
    "plt.show()"
   ]
  },
  {
   "cell_type": "markdown",
   "metadata": {},
   "source": [
    "## Running PLSR for Each Phenotype"
   ]
  },
  {
   "cell_type": "markdown",
   "metadata": {},
   "source": [
    "PLSR with three components is run for both AXL Expression and Cell Viability, and the corresponding scores and loadings data is organized."
   ]
  },
  {
   "cell_type": "code",
   "execution_count": 5,
   "metadata": {
    "collapsed": true
   },
   "outputs": [],
   "source": [
    "plsr_axl = PLSRegression(n_components = 3)\n",
    "X_scores_axl, Y_scores_axl = plsr_axl.fit_transform(X_axl_z,Y_axl_z)\n",
    "PC1_scores_axl, PC2_scores_axl = X_scores_axl[:,0], X_scores_axl[:,1]\n",
    "PC1_xload_axl, PC2_xload_axl = plsr_axl.x_loadings_[:,0], plsr_axl.x_loadings_[:,1]\n",
    "PC1_yload_axl, PC2_yload_axl = plsr_axl.y_loadings_[:,0], plsr_axl.y_loadings_[:,1]\n",
    "\n",
    "plsr_cv = PLSRegression(n_components = 3)\n",
    "X_scores_cv, Y_scores_cv = plsr_cv.fit_transform(X_cv_z,Y_cv_z)\n",
    "PC1_scores_cv, PC2_scores_cv = X_scores_cv[:,0], X_scores_cv[:,1]\n",
    "PC1_xload_cv, PC2_xload_cv = plsr_cv.x_loadings_[:,0], plsr_cv.x_loadings_[:,1]\n",
    "PC1_yload_cv, PC2_yload_cv = plsr_cv.y_loadings_[:,0], plsr_cv.y_loadings_[:,1]"
   ]
  },
  {
   "cell_type": "markdown",
   "metadata": {},
   "source": [
    "For the generated PLSR models, plots of the actual versus predicted values are generated."
   ]
  },
  {
   "cell_type": "code",
   "execution_count": 6,
   "metadata": {},
   "outputs": [
    {
     "data": {
      "image/png": "[encoded data removed]",
      "text/plain": [
       "<Figure size 1440x720 with 2 Axes>"
      ]
     },
     "metadata": {
      "needs_background": "light"
     },
     "output_type": "display_data"
    }
   ],
   "source": [
    "from numpy.polynomial.polynomial import polyfit\n",
    "\n",
    "def cross_validation_plot(X,Y,plsr_model,ax,subtitle):\n",
    "    Y_predictions = []\n",
    "    for train_index, test_index in loo.split(X, Y):\n",
    "        X_train, X_test = X[train_index], X[test_index]\n",
    "        Y_train, Y_test = Y[train_index], Y[test_index]\n",
    "        X_train = zscore_columns(X_train)\n",
    "        Y_train = sp.stats.zscore(Y_train)\n",
    "        plsr_model.fit_transform(X_train,Y_train)\n",
    "        Y_predict = plsr_model.predict(X_test)\n",
    "        Y_predictions.append(Y_predict)\n",
    "    Y_predictions = np.squeeze(Y_predictions)\n",
    "    axs[ax].scatter(Y,np.squeeze(Y_predictions))\n",
    "    axs[ax].set(title=subtitle,xlabel='Actual Y',ylabel='Predicted Y')\n",
    "\n",
    "fig, axs = plt.subplots(1,2,figsize=(20,10))\n",
    "cross_validation_plot(X_axl_z,Y_axl_z,plsr_axl,0,'LOO Cross-Validation: AXL Expression')\n",
    "axs[0].set_xlim([-2, 1.5])\n",
    "axs[0].set_ylim([-2, 1.5])\n",
    "axs[0].set_aspect('equal')\n",
    "cross_validation_plot(X_cv_z,Y_cv_z,plsr_cv,1,'LOO Cross-Validation: Cell Viability')\n",
    "# axs[1].set_xlim([-1, -0.6])\n",
    "# axs[1].set_ylim([-1, 0.1])\n",
    "plt.show()"
   ]
  },
  {
   "cell_type": "markdown",
   "metadata": {},
   "source": [
    "## K-means clustering by average"
   ]
  },
  {
   "cell_type": "markdown",
   "metadata": {},
   "source": [
    "Filter out peptides that don't change more than 2-fold, run k-means clustering, and run PLSR using the cluster averages"
   ]
  },
  {
   "cell_type": "code",
   "execution_count": 7,
   "metadata": {
    "scrolled": false
   },
   "outputs": [
    {
     "name": "stdout",
     "output_type": "stream",
     "text": [
      "(96, 10)\n"
     ]
    }
   ],
   "source": [
    "def FilteringOutPeptides(X):            \n",
    "    NewX = []\n",
    "    for i, row in enumerate(np.transpose(X)):\n",
    "        currentlist = []\n",
    "        for value in row:\n",
    "            if value >= 0.5 and value <= 2:\n",
    "                continue\n",
    "            else:\n",
    "                currentlist.append(value)\n",
    "        if len(currentlist) > 0:\n",
    "            NewX.append(row)\n",
    "    return np.squeeze(NewX)\n",
    "\n",
    "X_Fcv = FilteringOutPeptides(X_cv)\n",
    "print(X_Fcv.shape)"
   ]
  },
  {
   "cell_type": "code",
   "execution_count": 8,
   "metadata": {},
   "outputs": [
    {
     "ename": "TypeError",
     "evalue": "'<' not supported between instances of 'int' and 'NoneType'",
     "output_type": "error",
     "traceback": [
      "\u001b[0;31m---------------------------------------------------------------------------\u001b[0m",
      "\u001b[0;31mTypeError\u001b[0m                                 Traceback (most recent call last)",
      "\u001b[0;32m<ipython-input-8-9b5a8d263df2>\u001b[0m in \u001b[0;36m<module>\u001b[0;34m\u001b[0m\n\u001b[1;32m      1\u001b[0m \u001b[0mkmeans\u001b[0m \u001b[0;34m=\u001b[0m \u001b[0mKMeans\u001b[0m\u001b[0;34m(\u001b[0m\u001b[0mn_clusters\u001b[0m\u001b[0;34m=\u001b[0m\u001b[0;32mNone\u001b[0m\u001b[0;34m)\u001b[0m\u001b[0;34m\u001b[0m\u001b[0;34m\u001b[0m\u001b[0m\n\u001b[0;32m----> 2\u001b[0;31m \u001b[0mkmeans\u001b[0m\u001b[0;34m.\u001b[0m\u001b[0mfit\u001b[0m\u001b[0;34m(\u001b[0m\u001b[0mX_Fcv\u001b[0m\u001b[0;34m)\u001b[0m\u001b[0;34m\u001b[0m\u001b[0;34m\u001b[0m\u001b[0m\n\u001b[0m\u001b[1;32m      3\u001b[0m \u001b[0mclusters_F\u001b[0m \u001b[0;34m=\u001b[0m \u001b[0mkmeans\u001b[0m\u001b[0;34m.\u001b[0m\u001b[0mfit_predict\u001b[0m\u001b[0;34m(\u001b[0m\u001b[0mX_Fcv\u001b[0m\u001b[0;34m)\u001b[0m\u001b[0;34m\u001b[0m\u001b[0;34m\u001b[0m\u001b[0m\n\u001b[1;32m      4\u001b[0m \u001b[0mprint\u001b[0m\u001b[0;34m(\u001b[0m\u001b[0mclusters_F\u001b[0m\u001b[0;34m.\u001b[0m\u001b[0mshape\u001b[0m\u001b[0;34m)\u001b[0m\u001b[0;34m\u001b[0m\u001b[0;34m\u001b[0m\u001b[0m\n",
      "\u001b[0;32m/usr/local/lib/python3.7/dist-packages/sklearn/cluster/k_means_.py\u001b[0m in \u001b[0;36mfit\u001b[0;34m(self, X, y, sample_weight)\u001b[0m\n\u001b[1;32m    969\u001b[0m                 \u001b[0mtol\u001b[0m\u001b[0;34m=\u001b[0m\u001b[0mself\u001b[0m\u001b[0;34m.\u001b[0m\u001b[0mtol\u001b[0m\u001b[0;34m,\u001b[0m \u001b[0mrandom_state\u001b[0m\u001b[0;34m=\u001b[0m\u001b[0mrandom_state\u001b[0m\u001b[0;34m,\u001b[0m \u001b[0mcopy_x\u001b[0m\u001b[0;34m=\u001b[0m\u001b[0mself\u001b[0m\u001b[0;34m.\u001b[0m\u001b[0mcopy_x\u001b[0m\u001b[0;34m,\u001b[0m\u001b[0;34m\u001b[0m\u001b[0;34m\u001b[0m\u001b[0m\n\u001b[1;32m    970\u001b[0m                 \u001b[0mn_jobs\u001b[0m\u001b[0;34m=\u001b[0m\u001b[0mself\u001b[0m\u001b[0;34m.\u001b[0m\u001b[0mn_jobs\u001b[0m\u001b[0;34m,\u001b[0m \u001b[0malgorithm\u001b[0m\u001b[0;34m=\u001b[0m\u001b[0mself\u001b[0m\u001b[0;34m.\u001b[0m\u001b[0malgorithm\u001b[0m\u001b[0;34m,\u001b[0m\u001b[0;34m\u001b[0m\u001b[0;34m\u001b[0m\u001b[0m\n\u001b[0;32m--> 971\u001b[0;31m                 return_n_iter=True)\n\u001b[0m\u001b[1;32m    972\u001b[0m         \u001b[0;32mreturn\u001b[0m \u001b[0mself\u001b[0m\u001b[0;34m\u001b[0m\u001b[0;34m\u001b[0m\u001b[0m\n\u001b[1;32m    973\u001b[0m \u001b[0;34m\u001b[0m\u001b[0m\n",
      "\u001b[0;32m/usr/local/lib/python3.7/dist-packages/sklearn/cluster/k_means_.py\u001b[0m in \u001b[0;36mk_means\u001b[0;34m(X, n_clusters, sample_weight, init, precompute_distances, n_init, max_iter, verbose, tol, random_state, copy_x, n_jobs, algorithm, return_n_iter)\u001b[0m\n\u001b[1;32m    311\u001b[0m                     order=order, copy=copy_x)\n\u001b[1;32m    312\u001b[0m     \u001b[0;31m# verify that the number of samples given is larger than k\u001b[0m\u001b[0;34m\u001b[0m\u001b[0;34m\u001b[0m\u001b[0;34m\u001b[0m\u001b[0m\n\u001b[0;32m--> 313\u001b[0;31m     \u001b[0;32mif\u001b[0m \u001b[0m_num_samples\u001b[0m\u001b[0;34m(\u001b[0m\u001b[0mX\u001b[0m\u001b[0;34m)\u001b[0m \u001b[0;34m<\u001b[0m \u001b[0mn_clusters\u001b[0m\u001b[0;34m:\u001b[0m\u001b[0;34m\u001b[0m\u001b[0;34m\u001b[0m\u001b[0m\n\u001b[0m\u001b[1;32m    314\u001b[0m         raise ValueError(\"n_samples=%d should be >= n_clusters=%d\" % (\n\u001b[1;32m    315\u001b[0m             _num_samples(X), n_clusters))\n",
      "\u001b[0;31mTypeError\u001b[0m: '<' not supported between instances of 'int' and 'NoneType'"
     ]
    }
   ],
   "source": [
    "kmeans = KMeans(n_clusters=None)\n",
    "kmeans.fit(X_Fcv)\n",
    "clusters_F = kmeans.fit_predict(X_Fcv)\n",
    "print(clusters_F.shape)"
   ]
  },
  {
   "cell_type": "code",
   "execution_count": null,
   "metadata": {},
   "outputs": [],
   "source": [
    "#get averages of each cluster\n",
    "def ClusterAverages_F(X_, nClusters, nObs):\n",
    "    ClusterAvgs = []\n",
    "    DictClusterToAvgs = {}\n",
    "    ClusterAvgs_arr = np.zeros((nClusters,nObs))\n",
    "    for i in range(nClusters):\n",
    "        CurrentCluster = []\n",
    "        for idx, arr in enumerate(X_):\n",
    "            if i == arr[0]:\n",
    "                CurrentCluster.append(arr)\n",
    "        CurrentCluster_T = np.transpose(CurrentCluster)\n",
    "        CurrentAvgs = []\n",
    "        for x, arr in enumerate(CurrentCluster_T):\n",
    "            if x == 0:\n",
    "                continue\n",
    "            else:\n",
    "                avg = np.mean(arr)\n",
    "                CurrentAvgs.append(avg)\n",
    "        DictClusterToAvgs[i] = CurrentAvgs\n",
    "        ClusterAvgs_arr[i,:] = CurrentAvgs\n",
    "        AvgsArr = np.transpose(ClusterAvgs_arr)\n",
    "    return AvgsArr\n",
    "\n",
    "X_cv_FCl = np.insert(np.transpose(X_Fcv), 0, clusters_F, axis = 0)\n",
    "X_cv_FCl = np.transpose(X_cv_FCl)\n",
    "\n",
    "Cluster_Avgs_cvF = ClusterAverages_F(X_cv_FCl, 25, 10)\n",
    "X_ClusterAvgsCV_z = zscore_columns(Cluster_Avgs_cvF)"
   ]
  },
  {
   "cell_type": "code",
   "execution_count": null,
   "metadata": {
    "collapsed": true
   },
   "outputs": [],
   "source": [
    "plsr_cvF = PLSRegression(n_components = 3)\n",
    "X_scores_cv, Y_scores_cv = plsr_cv.fit_transform(X_cv_z,Y_cv_z)\n",
    "PC1_scores_cv, PC2_scores_cv = X_scores_cv[:,0], X_scores_cv[:,1]\n",
    "PC1_xload_cv, PC2_xload_cv = plsr_cv.x_loadings_[:,0], plsr_cv.x_loadings_[:,1]\n",
    "PC1_yload_cv, PC2_yload_cv = plsr_cv.y_loadings_[:,0], plsr_cv.y_loadings_[:,1]"
   ]
  },
  {
   "cell_type": "code",
   "execution_count": null,
   "metadata": {
    "collapsed": true
   },
   "outputs": [],
   "source": [
    "#run PLSR\n"
   ]
  },
  {
   "cell_type": "code",
   "execution_count": null,
   "metadata": {
    "collapsed": true
   },
   "outputs": [],
   "source": [
    "#plot"
   ]
  },
  {
   "cell_type": "markdown",
   "metadata": {},
   "source": [
    "## Clustering by Sequence Similarity"
   ]
  },
  {
   "cell_type": "markdown",
   "metadata": {},
   "source": [
    "The peptide sequences are sliced to only the three amino acids on each side of phosphorylation site. Missing amino acids within this range are assigned randomly. Then, a PAM250 matrix is used to calculate distances between the sequences. From the resultant distance matrix, k-means is used to form 25 clusters."
   ]
  },
  {
   "cell_type": "code",
   "execution_count": null,
   "metadata": {},
   "outputs": [],
   "source": [
    "amino_acids = ['A','R','N','D','B','C','E','Q','Z','G','H','I','L','K','M','F','P','S','T','W','Y','V']\n",
    "\n",
    "def surrounding_three(sequences):\n",
    "    bracket3 = []\n",
    "    for g in range(len(sequences)):\n",
    "        for h in range(len(sequences[g])):\n",
    "            if (sequences[g])[h] == 'y':\n",
    "                surround = ''\n",
    "                for i in range(-3,4):\n",
    "                    if (h+i) < 0:\n",
    "                        surround = surround + random.choice(amino_acids)\n",
    "                    elif (h+i) == h:\n",
    "                        surround = surround\n",
    "                    elif peptide_phosphosite[g][h+i] == '-' or peptide_phosphosite[g][h+i] == '0' or peptide_phosphosite[g][h+i] == '1':\n",
    "                        surround = surround + random.choice(amino_acids)\n",
    "                    else:\n",
    "                        surround = surround + (peptide_phosphosite[g][h+i])\n",
    "        bracket3.append(surround.upper())\n",
    "    return bracket3\n",
    "\n",
    "peptide_phosphosite_3 = surrounding_three(peptide_phosphosite)\n",
    "\n",
    "# for generating fasta file\n",
    "\"\"\"\n",
    "for i in range(len(peptide_phosphosite_3)):\n",
    "    print('>seq%d' % (i))\n",
    "    print(peptide_phosphosite_3[i])\n",
    "print(np.squeeze(peptide_phosphosite_3))\n",
    "\"\"\""
   ]
  },
  {
   "cell_type": "code",
   "execution_count": null,
   "metadata": {},
   "outputs": [],
   "source": [
    "D_PAM = Distance(\"protein-sequences.fa\", \"PAM250\")\n",
    "distMat = D_PAM.dist_mat()\n",
    "\n",
    "kmeans = KMeans(n_clusters=25)\n",
    "kmeans.fit(distMat)\n",
    "clusters = kmeans.fit_predict(distMat)   #list of cluster assignments across 300 kinases"
   ]
  },
  {
   "cell_type": "markdown",
   "metadata": {},
   "source": [
    "## Results: AXL Expression"
   ]
  },
  {
   "cell_type": "markdown",
   "metadata": {},
   "source": [
    "The scores and loadings plots for the three-component PLSR model are displayed, with the final loadings plot indicating cluster by color."
   ]
  },
  {
   "cell_type": "code",
   "execution_count": null,
   "metadata": {
    "scrolled": true
   },
   "outputs": [],
   "source": [
    "fig, axs = plt.subplots(1, 3,figsize=(20,10))\n",
    "axs[0].scatter(PC1_scores_axl,PC2_scores_axl)\n",
    "for j, txt in enumerate(treatments_axl):\n",
    "    axs[0].annotate(txt, (PC1_scores_axl[j], PC2_scores_axl[j]))\n",
    "axs[0].set_title('PLSR Model Scores')\n",
    "axs[0].set_xlabel('PC1')\n",
    "axs[0].set_ylabel('PC2')\n",
    "axs[0].set_xlim([-15, 15])\n",
    "axs[0].set_ylim([-15, 15])\n",
    "axs[0].set_aspect('equal')\n",
    "axs[1].scatter(PC1_xload_axl,PC2_xload_axl, label='Phosphosites')\n",
    "axs[1].scatter(PC1_yload_axl,PC2_yload_axl, color='#32CD32', marker='D', label='AXL Expression')\n",
    "axs[1].set_title('PLSR Model Loadings')\n",
    "axs[1].set_xlabel('PC1')\n",
    "axs[1].set_ylabel('PC2')\n",
    "axs[1].set_xlim([-0.15, 0.15])\n",
    "axs[1].set_ylim([-0.15, 0.15])\n",
    "axs[1].set_aspect('equal')\n",
    "axs[1].legend()\n",
    "axs[1].axhline(y=0, color='0.25', linestyle='--')\n",
    "axs[1].axvline(x=0, color='0.25', linestyle='--')\n",
    "colors_ = cm.rainbow(np.linspace(0, 1, 25))\n",
    "axs[2].scatter(PC1_xload_axl, PC2_xload_axl, c=clusters, cmap=colors.ListedColormap(colors_))\n",
    "axs[2].scatter(PC1_yload_axl, PC2_yload_axl, color='#000000', marker='D', label='AXL Expression')\n",
    "axs[2].legend()\n",
    "axs[2].set_title('PLSR Model Loadings (Clustered)')\n",
    "axs[2].set_xlabel('PC1')\n",
    "axs[2].set_ylabel('PC2')\n",
    "axs[2].set_xlim([-0.15, 0.15])\n",
    "axs[2].set_ylim([-0.15, 0.15])\n",
    "axs[2].set_aspect('equal')\n",
    "axs[2].axhline(y=0, color='0.25', linestyle='--')\n",
    "axs[2].axvline(x=0, color='0.25', linestyle='--')\n",
    "plt.show()"
   ]
  },
  {
   "cell_type": "markdown",
   "metadata": {},
   "source": [
    "## Results: Cell Viability"
   ]
  },
  {
   "cell_type": "markdown",
   "metadata": {},
   "source": [
    "Similarly, the same plots are displayed for the three-component cell viability PLSR model."
   ]
  },
  {
   "cell_type": "code",
   "execution_count": null,
   "metadata": {
    "scrolled": true
   },
   "outputs": [],
   "source": [
    "fig, axs = plt.subplots(1, 3,figsize=(20,10))\n",
    "axs[0].scatter(PC1_scores_cv,PC2_scores_cv)\n",
    "for k, txt_ in enumerate(treatments_cv):\n",
    "    axs[0].annotate(txt_, (PC1_scores_cv[k], PC2_scores_cv[k]))\n",
    "axs[0].set_title('PLSR Model Scores')\n",
    "axs[0].set_xlabel('PC1')\n",
    "axs[0].set_ylabel('PC2')\n",
    "axs[0].set_xlim([-15, 15])\n",
    "axs[0].set_ylim([-15, 15])\n",
    "axs[0].set_aspect('equal')\n",
    "axs[1].scatter(PC1_xload_cv,PC2_xload_cv, label='Phosphosites')\n",
    "axs[1].scatter(PC1_yload_cv,PC2_yload_cv, color='#32CD32', marker='D', label='Cell Viability')\n",
    "axs[1].set_title('PLSR Model Loadings')\n",
    "axs[1].set_xlabel('PC1')\n",
    "axs[1].set_ylabel('PC2')\n",
    "axs[1].set_xlim([-0.15, 0.15])\n",
    "axs[1].set_ylim([-0.15, 0.15])\n",
    "axs[1].set_aspect('equal')\n",
    "axs[1].legend()\n",
    "axs[1].axhline(y=0, color='0.25', linestyle='--')\n",
    "axs[1].axvline(x=0, color='0.25', linestyle='--')\n",
    "axs[2].scatter(PC1_xload_cv, PC2_xload_cv, c=clusters, cmap=colors.ListedColormap(colors_))\n",
    "axs[2].scatter(PC1_yload_cv, PC2_yload_cv, color='#000000', marker='D', label='Cell Viability')\n",
    "axs[2].legend()\n",
    "axs[2].set_title('PLSR Model Loadings (Clustered)')\n",
    "axs[2].set_xlabel('PC1')\n",
    "axs[2].set_ylabel('PC2')\n",
    "axs[2].set_xlim([-0.15, 0.15])\n",
    "axs[2].set_ylim([-0.15, 0.15])\n",
    "axs[2].set_aspect('equal')\n",
    "axs[2].axhline(y=0, color='0.25', linestyle='--')\n",
    "axs[2].axvline(x=0, color='0.25', linestyle='--')\n",
    "plt.show()"
   ]
  },
  {
   "cell_type": "markdown",
   "metadata": {},
   "source": [
    "##  Reimplementation of PLSR using Cluster Averages"
   ]
  },
  {
   "cell_type": "markdown",
   "metadata": {},
   "source": [
    "Since PLSR is unreliable with the amount of variables relative to observations in this dataset, reduction of variables is attempted by averaging phosphorylation measurements across each of the 25 clusters generated by the PAM 250 sequence clustering."
   ]
  },
  {
   "cell_type": "code",
   "execution_count": null,
   "metadata": {
    "collapsed": true
   },
   "outputs": [],
   "source": [
    "def ClusterAverages(X_, nObs):\n",
    "    ClusterAvgs = []\n",
    "    DictClusterToAvgs = {}\n",
    "    DictClusterToPhosphoName = {}\n",
    "    ClusterAvgs_arr = np.zeros((25,nObs))\n",
    "    for i in range(25):\n",
    "        CurrentCluster = []\n",
    "        Names = []\n",
    "        Seq = []\n",
    "        for idx, arr in enumerate(X_):\n",
    "            if i == arr[0]:\n",
    "                CurrentCluster.append(arr)\n",
    "                Names.append(ProtNames[idx])\n",
    "                Seq.append(peptide_phosphosite[idx])\n",
    "        DictClusterToPhosphoName[i] = Names\n",
    "        CurrentCluster_T = np.transpose(CurrentCluster)\n",
    "        CurrentAvgs = []\n",
    "        for x, arr in enumerate(CurrentCluster_T):\n",
    "            if x == 0:\n",
    "                continue\n",
    "            else:\n",
    "                avg = np.mean(arr)\n",
    "                CurrentAvgs.append(avg)\n",
    "        DictClusterToAvgs[i] = CurrentAvgs\n",
    "        ClusterAvgs_arr[i,:] = CurrentAvgs\n",
    "        AvgsArr = np.transpose(ClusterAvgs_arr)\n",
    "    return AvgsArr, DictClusterToPhosphoName"
   ]
  },
  {
   "cell_type": "code",
   "execution_count": null,
   "metadata": {
    "scrolled": false
   },
   "outputs": [],
   "source": [
    "X_axl_wCl = np.insert(X_axl, 0, clusters, axis = 0)\n",
    "X_axl_xClT = np.transpose(X_axl_wCl)\n",
    "\n",
    "Cluster_Avgs_Axl,x = ClusterAverages(X_axl_xClT, 10)\n",
    "X_ClusterAvgsAXL_z = zscore_columns(Cluster_Avgs_Axl)\n",
    "\n",
    "X_cv_wCl = np.insert(X_cv, 0, clusters, axis = 0)\n",
    "X_cv_xClT = np.transpose(X_cv_wCl)\n",
    "\n",
    "\n",
    "Cluster_Avgs_cv, x = ClusterAverages(X_cv_xClT, 10)\n",
    "X_ClusterAvgsCV_z = zscore_columns(Cluster_Avgs_cv)"
   ]
  },
  {
   "cell_type": "markdown",
   "metadata": {},
   "source": [
    "The names of the proteins contained in each cluster are displayed."
   ]
  },
  {
   "cell_type": "code",
   "execution_count": null,
   "metadata": {
    "scrolled": false
   },
   "outputs": [],
   "source": [
    "x, DictClusterToPhosphoName = ClusterAverages(X_axl_xClT, 10)\n",
    "\n",
    "print(\"{:<8} {:<20}\".format('Cluster','Protein Name'))\n",
    "counter = 0\n",
    "for k, v in DictClusterToPhosphoName.items():\n",
    "    for idx in range(len(v)):\n",
    "        print(\"{:<8} {:<20}\".format(k+1, v[idx]))\n",
    "        counter +=1\n",
    "assert ((counter) == 300), \"Check function\""
   ]
  },
  {
   "cell_type": "markdown",
   "metadata": {},
   "source": [
    "Below, R2Y and Q2Y are plotted across a number of PLSR components for both AXL Expression and Cell Viability using the mean of each cluster. Note that R2Y is maximized at 8 components for AXL Expression and 4 components for Cell Viability. However, 3 components were picked for both models, as increases in R2Y become relatively insignificant past this point."
   ]
  },
  {
   "cell_type": "code",
   "execution_count": null,
   "metadata": {},
   "outputs": [],
   "source": [
    "Q2Y_axlC = np.squeeze(Q2Y_across_components(X_ClusterAvgsAXL_z,Y_axl_z,9,'AXL Expression'))\n",
    "Q2Y_cvC = np.squeeze(Q2Y_across_components(X_ClusterAvgsCV_z,Y_cv_z,9,'Cell Viability')) \n",
    "R2Y_axlC = R2Y_across_components(X_ClusterAvgsAXL_z,Y_axl_z,9,'AXL Expression')\n",
    "R2Y_cvC = R2Y_across_components(X_ClusterAvgsCV_z,Y_cv_z,9,'Cell Viability') \n",
    "\n",
    "fig, axs = plt.subplots(1,2,figsize=(20,10))\n",
    "axs[0].bar(range_axl+0.15,Q2Y_axlC,width=0.3,align='center',label='Q2Y', color = \"blue\")\n",
    "axs[0].bar(range_axl-0.15,R2Y_axlC,width=0.3,align='center',label='R2Y', color = \"black\")\n",
    "axs[0].legend(loc=4)\n",
    "axs[0].set(xlabel='Number of Components',title='AXL Expression')\n",
    "disp_values(Q2Y_axlC,0,1.03,0.01,3)\n",
    "disp_values(R2Y_axlC,0,0.6,0.01,3)\n",
    "axs[1].bar(range_cv+0.15,Q2Y_cvC,width=0.3,align='center',label='Q2Y', color = \"blue\")\n",
    "axs[1].bar(range_cv-0.15,R2Y_cvC,width=0.3,align='center',label='R2Y', color = \"black\")\n",
    "axs[1].set(xlabel='Number of Components',title='Cell Viability')\n",
    "disp_values(Q2Y_cvC,1,1,0.01,3)\n",
    "disp_values(R2Y_cvC,1,0.65,0.01,3)\n",
    "axs[1].legend(loc=4)\n",
    "plt.show()"
   ]
  },
  {
   "cell_type": "markdown",
   "metadata": {},
   "source": [
    "PLSR with 3 components is re-implemented using the cluster averages as the variables."
   ]
  },
  {
   "cell_type": "code",
   "execution_count": null,
   "metadata": {
    "collapsed": true
   },
   "outputs": [],
   "source": [
    "plsr_axlC = PLSRegression(n_components = 3)\n",
    "X_scores_axlC, Y_scores_axlC = plsr_axlC.fit_transform(X_ClusterAvgsAXL_z,Y_axl_z)\n",
    "PC1_scores_axlC, PC2_scores_axlC = X_scores_axlC[:,0], X_scores_axlC[:,1]\n",
    "PC1_xload_axlC, PC2_xload_axlC = plsr_axlC.x_loadings_[:,0], plsr_axlC.x_loadings_[:,1]\n",
    "PC1_yload_axlC, PC2_yload_axlC = plsr_axlC.y_loadings_[:,0], plsr_axlC.y_loadings_[:,1]\n",
    "\n",
    "plsr_cvC = PLSRegression(n_components = 3)\n",
    "X_scores_cvC, Y_scores_cvC = plsr_cvC.fit_transform(X_ClusterAvgsCV_z, Y_cv_z)\n",
    "PC1_scores_cvC, PC2_scores_cvC = X_scores_cvC[:,0], X_scores_cvC[:,1]\n",
    "PC1_xload_cvC, PC2_xload_cvC = plsr_cvC.x_loadings_[:,0], plsr_cvC.x_loadings_[:,1]\n",
    "PC1_yload_cvC, PC2_yload_cvC = plsr_cvC.y_loadings_[:,0], plsr_cvC.y_loadings_[:,1]"
   ]
  },
  {
   "cell_type": "markdown",
   "metadata": {},
   "source": [
    "Below are the results of the actual versus predicted Y's using leave one out cross-validation."
   ]
  },
  {
   "cell_type": "code",
   "execution_count": null,
   "metadata": {
    "scrolled": true
   },
   "outputs": [],
   "source": [
    "fig, axs = plt.subplots(1,2,figsize=(12,6))\n",
    "cross_validation_plot(X_ClusterAvgsAXL_z,Y_axl_z,plsr_axl,0,'LOO Cross-Validation: AXL Expression by Cluster')\n",
    "axs[0].set_xlim([-2, 1.5])\n",
    "axs[0].set_ylim([-2, 1.5])\n",
    "cross_validation_plot(X_ClusterAvgsCV_z,Y_cv_z,plsr_cv,1,'LOO Cross-Validation: Cell Viability by Cluster')\n",
    "plt.show()"
   ]
  },
  {
   "cell_type": "markdown",
   "metadata": {},
   "source": [
    "### Results: AXL Expression"
   ]
  },
  {
   "cell_type": "code",
   "execution_count": null,
   "metadata": {},
   "outputs": [],
   "source": [
    "fig, axs = plt.subplots(1, 2,figsize=(20,8))\n",
    "colors_ = cm.rainbow(np.linspace(0, 1, 25))\n",
    "axs[0].scatter(PC1_scores_axlC,PC2_scores_axlC)\n",
    "for j, txt in enumerate(treatments_axl):\n",
    "    axs[0].annotate(txt, (PC1_scores_axlC[j], PC2_scores_axlC[j]))\n",
    "axs[0].set_title('PLSR Model Scores')\n",
    "axs[0].set_xlabel('PC1')\n",
    "axs[0].set_ylabel('PC2')\n",
    "axs[0].axhline(y=0, color='0.25', linestyle='--')\n",
    "axs[0].axvline(x=0, color='0.25', linestyle='--')\n",
    "axs[1].scatter(PC1_xload_axlC, PC2_xload_axlC, c=np.arange(25), cmap=colors.ListedColormap(colors_))\n",
    "cl = []\n",
    "for i in range(25):\n",
    "    i += 1\n",
    "    Var = str(i)\n",
    "    cl.append(Var)\n",
    "cls = np.array(cl)\n",
    "for j, txt in enumerate(cls):\n",
    "    axs[1].annotate(txt, (PC1_xload_axlC[j], PC2_xload_axlC[j]))\n",
    "axs[1].scatter(PC1_yload_axlC, PC2_yload_axlC, color='#000000', marker='D', label='AXL Expression')\n",
    "axs[1].legend(loc=4)\n",
    "axs[1].set_title('PLSR Model Loadings (Averaged Clusters)')\n",
    "axs[1].set_xlabel('PC1')\n",
    "axs[1].set_ylabel('PC2')\n",
    "axs[1].axhline(y=0, color='0.25', linestyle='--')\n",
    "axs[1].axvline(x=0, color='0.25', linestyle='--')\n",
    "plt.show()"
   ]
  },
  {
   "cell_type": "markdown",
   "metadata": {},
   "source": [
    "### Results: Cell Viability"
   ]
  },
  {
   "cell_type": "code",
   "execution_count": null,
   "metadata": {},
   "outputs": [],
   "source": [
    "fig, axs = plt.subplots(1, 2,figsize=(20,8))\n",
    "colors_ = cm.rainbow(np.linspace(0, 1, 25))\n",
    "axs[0].scatter(PC1_scores_cvC,PC2_scores_cvC)\n",
    "for j, txt in enumerate(treatments_cv):\n",
    "    axs[0].annotate(txt, (PC1_scores_cvC[j], PC2_scores_cvC[j]))\n",
    "axs[0].set_title('PLSR Model Scores', fontsize = 15)\n",
    "axs[0].set_xlabel('PC1', fontsize = 15)\n",
    "axs[0].set_ylabel('PC2', fontsize = 15)\n",
    "axs[0].axhline(y=0, color='0.25', linestyle='--')\n",
    "axs[0].axvline(x=0, color='0.25', linestyle='--')\n",
    "axs[1].scatter(PC1_xload_cvC, PC2_xload_cvC, c=np.arange(25), cmap=colors.ListedColormap(colors_))\n",
    "cl = []\n",
    "for i in range(25):\n",
    "    i += 1\n",
    "    Var = str(i)\n",
    "    cl.append(Var)\n",
    "cls = np.array(cl)\n",
    "for j, txt in enumerate(cls):\n",
    "    axs[1].annotate(txt, (PC1_xload_cvC[j], PC2_xload_cvC[j]))\n",
    "axs[1].scatter(PC1_yload_cvC, PC2_yload_cvC, color='#000000', marker='D', label='Cell Viability')\n",
    "axs[1].legend(loc=4)\n",
    "axs[1].set_title('PLSR Model Loadings (Clustered)', fontsize = 15)\n",
    "axs[1].set_xlabel('PC1', fontsize = 15)\n",
    "axs[1].set_ylabel('PC2', fontsize = 15)\n",
    "axs[1].axhline(y=0, color='0.25', linestyle='--')\n",
    "axs[1].axvline(x=0, color='0.25', linestyle='--')\n",
    "plt.show()"
   ]
  },
  {
   "cell_type": "code",
   "execution_count": null,
   "metadata": {
    "collapsed": true
   },
   "outputs": [],
   "source": []
  },
  {
   "cell_type": "code",
   "execution_count": null,
   "metadata": {
    "collapsed": true
   },
   "outputs": [],
   "source": []
  }
 ],
 "metadata": {
  "kernelspec": {
   "display_name": "Python 3",
   "language": "python",
   "name": "python3"
  },
  "language_info": {
   "codemirror_mode": {
    "name": "ipython",
    "version": 3
   },
   "file_extension": ".py",
   "mimetype": "text/x-python",
   "name": "python",
   "nbconvert_exporter": "python",
   "pygments_lexer": "ipython3",
   "version": "3.7.3"
  }
 },
 "nbformat": 4,
 "nbformat_minor": 2
}
