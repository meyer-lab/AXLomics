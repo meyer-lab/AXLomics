{
 "cells": [
  {
   "cell_type": "markdown",
   "metadata": {},
   "source": [
    "# FIGURE 2"
   ]
  },
  {
   "cell_type": "code",
   "execution_count": 1,
   "metadata": {},
   "outputs": [],
   "source": [
    "import numpy as np\n",
    "import pandas as pd\n",
    "import math\n",
    "from sklearn.cross_decomposition import PLSRegression\n",
    "from sklearn.mixture import GaussianMixture\n",
    "from sklearn.pipeline import Pipeline\n",
    "from msresist.parameter_tuning import MSclusPLSR_tuning\n",
    "from msresist.plsr import Q2Y_across_components, R2Y_across_components\n",
    "from msresist.figures.figure2 import plotR2YQ2Y, plotMeasuredVsPredicted, plotScoresLoadings, clusteraverages\n",
    "from msresist.clustering import MassSpecClustering\n",
    "from msresist.sequence_analysis import preprocess_seqs\n",
    "import matplotlib.pyplot as plt\n",
    "import matplotlib.colors as colors\n",
    "import matplotlib.cm as cm\n",
    "from msresist.pre_processing import preprocessing, MergeDfbyMean, LinearFoldChange, FoldChangeToControl\n",
    "from msresist.FileExporter import create_download_link\n",
    "import warnings\n",
    "warnings.simplefilter(\"ignore\")"
   ]
  },
  {
   "cell_type": "markdown",
   "metadata": {},
   "source": [
    "### Importing and Pre-processing Data"
   ]
  },
  {
   "cell_type": "markdown",
   "metadata": {},
   "source": [
    "### Phosphorylation measurements:"
   ]
  },
  {
   "cell_type": "code",
   "execution_count": 2,
   "metadata": {},
   "outputs": [],
   "source": [
    "# pd.set_option('display.max_colwidth', 1000)\n",
    "# pd.set_option('display.max_rows', 1000)\n",
    "\n",
    "ABC = preprocessing(motifs=True, Vfilter=True, FCfilter=True, log2T=False)\n",
    "ABC = preprocess_seqs(ABC, \"Y\")\n",
    "\n",
    "header = ABC.columns\n",
    "treatments = ABC.columns[3:13]\n",
    "\n",
    "data = ABC.iloc[:, 3:13].T\n",
    "protnames = ABC.iloc[:, 1]\n",
    "seqs = ABC.iloc[:, 0]\n",
    "prot_acc = ABC.iloc[:, 2]"
   ]
  },
  {
   "cell_type": "markdown",
   "metadata": {},
   "source": [
    "### Phenotypes"
   ]
  },
  {
   "cell_type": "markdown",
   "metadata": {},
   "source": [
    "#### Cell Viability:"
   ]
  },
  {
   "cell_type": "code",
   "execution_count": 3,
   "metadata": {},
   "outputs": [],
   "source": [
    "Y_cv1 = pd.read_csv('./msresist/data/Phenotypic_data/CV_raw3.csv').iloc[:30, :11]\n",
    "Y_cv2 = pd.read_csv('./msresist/data/Phenotypic_data/CV_raw4.csv').iloc[:29, :11]\n",
    "\n",
    "for ii in range(1, Y_cv2.columns.size):\n",
    "    Y_cv1.iloc[:, ii] /= Y_cv1.iloc[0, ii]\n",
    "    Y_cv2.iloc[:, ii] /= Y_cv2.iloc[0, ii]\n",
    "\n",
    "Y_cv = MergeDfbyMean(pd.concat([Y_cv1, Y_cv2], axis=0), Y_cv1.columns, \"Elapsed\")\n",
    "Y_cv = Y_cv.reset_index()[Y_cv1.columns]\n",
    "Y_cv = Y_cv[Y_cv[\"Elapsed\"] == 72].iloc[0, 1:]"
   ]
  },
  {
   "cell_type": "markdown",
   "metadata": {},
   "source": [
    "# Chained MS mixed clustering + PLSR analysis"
   ]
  },
  {
   "cell_type": "code",
   "execution_count": 4,
   "metadata": {},
   "outputs": [],
   "source": [
    "ncl = 2\n",
    "pYTS = \"Y\"\n",
    "GMMweight = 50\n",
    "covariance_type = \"diag\" \n",
    "max_n_iter = 20"
   ]
  },
  {
   "cell_type": "code",
   "execution_count": 5,
   "metadata": {},
   "outputs": [],
   "source": [
    "MSC = MassSpecClustering(seqs, protnames, ncl, GMMweight=GMMweight, distance_method=\"PAM250\").fit(data, Y_cv)\n",
    "centers = MSC.transform(data)"
   ]
  },
  {
   "cell_type": "code",
   "execution_count": 6,
   "metadata": {},
   "outputs": [
    {
     "data": {
      "text/html": [
       "<div>\n",
       "<style scoped>\n",
       "    .dataframe tbody tr th:only-of-type {\n",
       "        vertical-align: middle;\n",
       "    }\n",
       "\n",
       "    .dataframe tbody tr th {\n",
       "        vertical-align: top;\n",
       "    }\n",
       "\n",
       "    .dataframe thead th {\n",
       "        text-align: right;\n",
       "    }\n",
       "</style>\n",
       "<table border=\"1\" class=\"dataframe\">\n",
       "  <thead>\n",
       "    <tr style=\"text-align: right;\">\n",
       "      <th></th>\n",
       "      <th>0</th>\n",
       "      <th>1</th>\n",
       "    </tr>\n",
       "  </thead>\n",
       "  <tbody>\n",
       "    <tr>\n",
       "      <th>0</th>\n",
       "      <td>1.000000</td>\n",
       "      <td>1.000000</td>\n",
       "    </tr>\n",
       "    <tr>\n",
       "      <th>1</th>\n",
       "      <td>0.679082</td>\n",
       "      <td>1.370000</td>\n",
       "    </tr>\n",
       "    <tr>\n",
       "      <th>2</th>\n",
       "      <td>0.626642</td>\n",
       "      <td>1.162455</td>\n",
       "    </tr>\n",
       "    <tr>\n",
       "      <th>3</th>\n",
       "      <td>0.379048</td>\n",
       "      <td>1.311180</td>\n",
       "    </tr>\n",
       "    <tr>\n",
       "      <th>4</th>\n",
       "      <td>0.549632</td>\n",
       "      <td>1.224646</td>\n",
       "    </tr>\n",
       "    <tr>\n",
       "      <th>5</th>\n",
       "      <td>0.490412</td>\n",
       "      <td>1.234055</td>\n",
       "    </tr>\n",
       "    <tr>\n",
       "      <th>6</th>\n",
       "      <td>0.493800</td>\n",
       "      <td>1.677690</td>\n",
       "    </tr>\n",
       "    <tr>\n",
       "      <th>7</th>\n",
       "      <td>0.409705</td>\n",
       "      <td>1.366308</td>\n",
       "    </tr>\n",
       "    <tr>\n",
       "      <th>8</th>\n",
       "      <td>0.508285</td>\n",
       "      <td>1.932501</td>\n",
       "    </tr>\n",
       "    <tr>\n",
       "      <th>9</th>\n",
       "      <td>0.374142</td>\n",
       "      <td>1.359440</td>\n",
       "    </tr>\n",
       "  </tbody>\n",
       "</table>\n",
       "</div>"
      ],
      "text/plain": [
       "          0         1\n",
       "0  1.000000  1.000000\n",
       "1  0.679082  1.370000\n",
       "2  0.626642  1.162455\n",
       "3  0.379048  1.311180\n",
       "4  0.549632  1.224646\n",
       "5  0.490412  1.234055\n",
       "6  0.493800  1.677690\n",
       "7  0.409705  1.366308\n",
       "8  0.508285  1.932501\n",
       "9  0.374142  1.359440"
      ]
     },
     "execution_count": 6,
     "metadata": {},
     "output_type": "execute_result"
    }
   ],
   "source": [
    "MSC.transform(data)"
   ]
  },
  {
   "cell_type": "code",
   "execution_count": 7,
   "metadata": {},
   "outputs": [],
   "source": [
    "from msresist.clustering import MyOwnGMM\n",
    "\n",
    "kmeans = MyOwnGMM(ncl).fit(data, Y_cv)\n",
    "centers2 = kmeans.transform(data)"
   ]
  },
  {
   "cell_type": "code",
   "execution_count": 8,
   "metadata": {},
   "outputs": [
    {
     "data": {
      "text/html": [
       "<div>\n",
       "<style scoped>\n",
       "    .dataframe tbody tr th:only-of-type {\n",
       "        vertical-align: middle;\n",
       "    }\n",
       "\n",
       "    .dataframe tbody tr th {\n",
       "        vertical-align: top;\n",
       "    }\n",
       "\n",
       "    .dataframe thead th {\n",
       "        text-align: right;\n",
       "    }\n",
       "</style>\n",
       "<table border=\"1\" class=\"dataframe\">\n",
       "  <thead>\n",
       "    <tr style=\"text-align: right;\">\n",
       "      <th></th>\n",
       "      <th>0</th>\n",
       "      <th>1</th>\n",
       "    </tr>\n",
       "  </thead>\n",
       "  <tbody>\n",
       "    <tr>\n",
       "      <th>0</th>\n",
       "      <td>1.000000</td>\n",
       "      <td>1.000000</td>\n",
       "    </tr>\n",
       "    <tr>\n",
       "      <th>1</th>\n",
       "      <td>0.687567</td>\n",
       "      <td>1.362621</td>\n",
       "    </tr>\n",
       "    <tr>\n",
       "      <th>2</th>\n",
       "      <td>0.634274</td>\n",
       "      <td>1.153299</td>\n",
       "    </tr>\n",
       "    <tr>\n",
       "      <th>3</th>\n",
       "      <td>0.396196</td>\n",
       "      <td>1.282612</td>\n",
       "    </tr>\n",
       "    <tr>\n",
       "      <th>4</th>\n",
       "      <td>0.566462</td>\n",
       "      <td>1.189556</td>\n",
       "    </tr>\n",
       "    <tr>\n",
       "      <th>5</th>\n",
       "      <td>0.511374</td>\n",
       "      <td>1.187494</td>\n",
       "    </tr>\n",
       "    <tr>\n",
       "      <th>6</th>\n",
       "      <td>0.509167</td>\n",
       "      <td>1.662341</td>\n",
       "    </tr>\n",
       "    <tr>\n",
       "      <th>7</th>\n",
       "      <td>0.420121</td>\n",
       "      <td>1.360436</td>\n",
       "    </tr>\n",
       "    <tr>\n",
       "      <th>8</th>\n",
       "      <td>0.503713</td>\n",
       "      <td>1.989318</td>\n",
       "    </tr>\n",
       "    <tr>\n",
       "      <th>9</th>\n",
       "      <td>0.372826</td>\n",
       "      <td>1.392716</td>\n",
       "    </tr>\n",
       "  </tbody>\n",
       "</table>\n",
       "</div>"
      ],
      "text/plain": [
       "          0         1\n",
       "0  1.000000  1.000000\n",
       "1  0.687567  1.362621\n",
       "2  0.634274  1.153299\n",
       "3  0.396196  1.282612\n",
       "4  0.566462  1.189556\n",
       "5  0.511374  1.187494\n",
       "6  0.509167  1.662341\n",
       "7  0.420121  1.360436\n",
       "8  0.503713  1.989318\n",
       "9  0.372826  1.392716"
      ]
     },
     "execution_count": 8,
     "metadata": {},
     "output_type": "execute_result"
    }
   ],
   "source": [
    "centers2"
   ]
  },
  {
   "cell_type": "code",
   "execution_count": 9,
   "metadata": {},
   "outputs": [],
   "source": [
    "members = MSC.clustermembers(ABC.T)"
   ]
  },
  {
   "cell_type": "code",
   "execution_count": 10,
   "metadata": {},
   "outputs": [
    {
     "data": {
      "text/plain": [
       "<matplotlib.legend.Legend at 0x7fad4fdb6c10>"
      ]
     },
     "execution_count": 10,
     "metadata": {},
     "output_type": "execute_result"
    },
    {
     "data": {
      "image/png": "[encoded data removed]",
      "text/plain": [
       "<Figure size 504x432 with 1 Axes>"
      ]
     },
     "metadata": {
      "needs_background": "light"
     },
     "output_type": "display_data"
    }
   ],
   "source": [
    "Q2Y = Q2Y_across_components(centers, Y_cv, ncl+1)\n",
    "R2Y = R2Y_across_components(centers, Y_cv, ncl+1)\n",
    "\n",
    "range_ = np.linspace(1, ncl, ncl)\n",
    "\n",
    "fig, axs = plt.subplots(1,1, figsize=(7,6))\n",
    "plt.setp(axs, xticks=range_)\n",
    "plt.bar(range_+0.15,Q2Y,width=0.3,align='center',label='Q2Y', color = \"darkblue\")\n",
    "plt.bar(range_-0.15,R2Y,width=0.3,align='center',label='R2Y', color = \"black\")\n",
    "plt.title(\"R2Y/Q2Y Cell Viability\", fontsize=14)\n",
    "plt.ylabel(\"Variance %\", fontsize=14)\n",
    "plt.xlabel(\"Number of Components\", fontsize=14)\n",
    "plt.legend(loc=3)"
   ]
  },
  {
   "cell_type": "code",
   "execution_count": 11,
   "metadata": {},
   "outputs": [],
   "source": [
    "# CVresults_max, CVresults_min, best_params = MSclusPLSR_tuning(data, seqs, protnames, Y_cv)\n",
    "# CVresults_min.nlargest(30, \"mean_test_scores\")"
   ]
  },
  {
   "cell_type": "code",
   "execution_count": 12,
   "metadata": {},
   "outputs": [],
   "source": [
    "# ncl_GMMweight_ncomp = CVresults_min.sort_values(by=\"Ranking\")\n",
    "# create_download_link(ncl_GMMweight_ncomp, \"ncl_GMMweight_ncomp=2.csv\")"
   ]
  },
  {
   "cell_type": "markdown",
   "metadata": {},
   "source": [
    "Hyperparameter Tuning with Binomial Clustering:"
   ]
  },
  {
   "cell_type": "code",
   "execution_count": 13,
   "metadata": {},
   "outputs": [],
   "source": [
    "# pd.read_csv('./msresist/data/09252019-HyperparameterTuning_Binomial_ncl_GMMweight_ncomp.csv').iloc[:30, :11].iloc[:, 1:]"
   ]
  },
  {
   "cell_type": "markdown",
   "metadata": {},
   "source": [
    "Hyperparameter Tuning with PAM250 clustering (n_comp=2):"
   ]
  },
  {
   "cell_type": "code",
   "execution_count": 14,
   "metadata": {},
   "outputs": [],
   "source": [
    "# pd.read_csv('./msresist/data/10212019-HyperparameterTuning_PAM240_ncl_GMMweight_ncomp=2.csv').iloc[:30, :11].iloc[:, 1:]"
   ]
  },
  {
   "cell_type": "code",
   "execution_count": 15,
   "metadata": {},
   "outputs": [],
   "source": [
    "ncl, GMMweight, ncomp = 2, 100, 2"
   ]
  },
  {
   "cell_type": "code",
   "execution_count": 16,
   "metadata": {},
   "outputs": [],
   "source": [
    "mixedCl_plsr = Pipeline([('mixedCl', MassSpecClustering(seqs, protnames, ncl, GMMweight=GMMweight, distance_method=\"PAM250\")), ('plsr', PLSRegression(ncomp))])"
   ]
  },
  {
   "cell_type": "code",
   "execution_count": 17,
   "metadata": {},
   "outputs": [],
   "source": [
    "X_scores, Y_scores = mixedCl_plsr.fit_transform(data, Y_cv)\n",
    "PC1_scores, PC2_scores = X_scores[:, 0], X_scores[:, 1]\n",
    "PC1_xload, PC2_xload = mixedCl_plsr.named_steps.plsr.x_loadings_[:, 0], mixedCl_plsr.named_steps.plsr.x_loadings_[:, 1]\n",
    "PC1_yload, PC2_yload = mixedCl_plsr.named_steps.plsr.y_loadings_[:, 0], mixedCl_plsr.named_steps.plsr.y_loadings_[:, 1]"
   ]
  },
  {
   "cell_type": "code",
   "execution_count": 18,
   "metadata": {},
   "outputs": [
    {
     "data": {
      "image/png": "[encoded data removed]",
      "text/plain": [
       "<Figure size 432x360 with 1 Axes>"
      ]
     },
     "metadata": {
      "needs_background": "light"
     },
     "output_type": "display_data"
    }
   ],
   "source": [
    "fig, ax = plt.subplots(1,1,figsize=(6,5))\n",
    "plotMeasuredVsPredicted(ax, mixedCl_plsr, data, Y_cv)\n",
    "plt.title(\"Correlation Measured vs Predicted\", fontsize=14);"
   ]
  },
  {
   "cell_type": "code",
   "execution_count": 19,
   "metadata": {},
   "outputs": [
    {
     "data": {
      "image/png": "[encoded data removed]",
      "text/plain": [
       "<Figure size 864x432 with 2 Axes>"
      ]
     },
     "metadata": {
      "needs_background": "light"
     },
     "output_type": "display_data"
    }
   ],
   "source": [
    "fig, axs = plt.subplots(1, 2,figsize=(12,6))\n",
    "\n",
    "colors_ = cm.rainbow(np.linspace(0, 1, ncl))\n",
    "\n",
    "\n",
    "axs[0].scatter(PC1_scores,PC2_scores)\n",
    "for j, txt in enumerate(treatments):\n",
    "    axs[0].annotate(txt, (PC1_scores[j], PC2_scores[j]))\n",
    "axs[0].set_title('PLSR Model Scores')\n",
    "axs[0].set_xlabel('PC1')\n",
    "axs[0].set_ylabel('PC2')\n",
    "axs[0].axhline(y=0, color='0.25', linestyle='--')\n",
    "axs[0].axvline(x=0, color='0.25', linestyle='--')\n",
    "spacer = 0.2\n",
    "axs[0].set_xlim([(-1*max(PC1_scores))-spacer, max(PC1_scores)+spacer])\n",
    "axs[0].set_ylim([(-1*max(PC2_scores))-spacer, max(PC2_scores)+spacer])\n",
    "\n",
    "numbered=[]\n",
    "list(map(lambda v: numbered.append(str(v+1)), range(ncl)))\n",
    "\n",
    "for i, txt in enumerate(numbered):\n",
    "    axs[1].annotate(txt, (PC1_xload[i], PC2_xload[i]))\n",
    "axs[1].annotate(\"Cell Viability\", (PC1_yload+0.05, PC2_yload-0.05))\n",
    "axs[1].scatter(PC1_xload, PC2_xload, c=np.arange(ncl), cmap=colors.ListedColormap(colors_))\n",
    "axs[1].scatter(PC1_yload, PC2_yload, color='#000000', marker='D', label='Cell Viability')\n",
    "axs[1].set_title('PLSR Model Loadings (Averaged Clusters)')\n",
    "axs[1].set_xlabel('PC1')\n",
    "axs[1].set_ylabel('PC2')\n",
    "axs[1].axhline(y=0, color='0.25', linestyle='--')\n",
    "axs[1].axvline(x=0, color='0.25', linestyle='--')\n",
    "spacer = 1.2\n",
    "axs[1].set_xlim([(-1*max(list(PC1_xload)+list(PC1_yload)))-spacer, max(list(PC1_xload)+list(PC1_yload))+spacer])\n",
    "axs[1].set_ylim([(-1*max(list(PC2_xload)+list(PC2_yload)))-spacer, max(list(PC2_xload)+list(PC2_yload))+spacer]);"
   ]
  },
  {
   "cell_type": "code",
   "execution_count": 20,
   "metadata": {},
   "outputs": [
    {
     "data": {
      "text/html": [
       "<div>\n",
       "<style scoped>\n",
       "    .dataframe tbody tr th:only-of-type {\n",
       "        vertical-align: middle;\n",
       "    }\n",
       "\n",
       "    .dataframe tbody tr th {\n",
       "        vertical-align: top;\n",
       "    }\n",
       "\n",
       "    .dataframe thead th {\n",
       "        text-align: right;\n",
       "    }\n",
       "</style>\n",
       "<table border=\"1\" class=\"dataframe\">\n",
       "  <thead>\n",
       "    <tr style=\"text-align: right;\">\n",
       "      <th></th>\n",
       "      <th>Cluster_1</th>\n",
       "      <th>seqs_Cluster_1</th>\n",
       "      <th>ProtAcc_Cluster_1</th>\n",
       "      <th>pos_Cluster_1</th>\n",
       "      <th>Cluster_2</th>\n",
       "      <th>seqs_Cluster_2</th>\n",
       "      <th>ProtAcc_Cluster_2</th>\n",
       "      <th>pos_Cluster_2</th>\n",
       "    </tr>\n",
       "  </thead>\n",
       "  <tbody>\n",
       "    <tr>\n",
       "      <th>0</th>\n",
       "      <td>Adenylate kinase 2, mitochondrial</td>\n",
       "      <td>AAEPEyPKGIR</td>\n",
       "      <td>P54819</td>\n",
       "      <td>Y12-p</td>\n",
       "      <td>Heat shock 70 kDa protein 1A</td>\n",
       "      <td>AAAIAyGLDRT</td>\n",
       "      <td>P0DMV8</td>\n",
       "      <td>Y183-p</td>\n",
       "    </tr>\n",
       "    <tr>\n",
       "      <th>1</th>\n",
       "      <td>Envoplakin</td>\n",
       "      <td>AEDAVyELQSK</td>\n",
       "      <td>Q92817</td>\n",
       "      <td>Y1352-p</td>\n",
       "      <td>DNA replication licensing factor MCM7</td>\n",
       "      <td>AANPAyGRYNP</td>\n",
       "      <td>P33993</td>\n",
       "      <td>Y492-p</td>\n",
       "    </tr>\n",
       "    <tr>\n",
       "      <th>2</th>\n",
       "      <td>Receptor tyrosine-protein kinase erbB-2</td>\n",
       "      <td>AENPEyLGLDV</td>\n",
       "      <td>P04626</td>\n",
       "      <td>Y1248-p</td>\n",
       "      <td>Coactosin-like protein</td>\n",
       "      <td>ACRAAyNLVRD</td>\n",
       "      <td>Q14019</td>\n",
       "      <td>Y14-p</td>\n",
       "    </tr>\n",
       "    <tr>\n",
       "      <th>3</th>\n",
       "      <td>ATPase WRNIP1</td>\n",
       "      <td>AGEEHyNCISA</td>\n",
       "      <td>Q96S55</td>\n",
       "      <td>Y500-p</td>\n",
       "      <td>Pyruvate kinase PKM</td>\n",
       "      <td>AEAAIyHLQLF</td>\n",
       "      <td>P14618</td>\n",
       "      <td>Y390-p</td>\n",
       "    </tr>\n",
       "    <tr>\n",
       "      <th>4</th>\n",
       "      <td>ADP/ATP translocase 2</td>\n",
       "      <td>ANVIRyFPTQA</td>\n",
       "      <td>P05141</td>\n",
       "      <td>Y81-p</td>\n",
       "      <td>Kinesin light chain 2</td>\n",
       "      <td>AEEVEyYYRRA</td>\n",
       "      <td>Q9H0B6</td>\n",
       "      <td>Y345-p</td>\n",
       "    </tr>\n",
       "    <tr>\n",
       "      <th>...</th>\n",
       "      <td>...</td>\n",
       "      <td>...</td>\n",
       "      <td>...</td>\n",
       "      <td>...</td>\n",
       "      <td>...</td>\n",
       "      <td>...</td>\n",
       "      <td>...</td>\n",
       "      <td>...</td>\n",
       "    </tr>\n",
       "    <tr>\n",
       "      <th>215</th>\n",
       "      <td>NaN</td>\n",
       "      <td>NaN</td>\n",
       "      <td>NaN</td>\n",
       "      <td>NaN</td>\n",
       "      <td>Paxillin</td>\n",
       "      <td>YCEKDyHNLFS</td>\n",
       "      <td>P49023</td>\n",
       "      <td>Y409-p</td>\n",
       "    </tr>\n",
       "    <tr>\n",
       "      <th>216</th>\n",
       "      <td>NaN</td>\n",
       "      <td>NaN</td>\n",
       "      <td>NaN</td>\n",
       "      <td>NaN</td>\n",
       "      <td>Golgin subfamily A member 4</td>\n",
       "      <td>YEKNVyATTVG</td>\n",
       "      <td>Q13439</td>\n",
       "      <td>Y2148-p</td>\n",
       "    </tr>\n",
       "    <tr>\n",
       "      <th>217</th>\n",
       "      <td>NaN</td>\n",
       "      <td>NaN</td>\n",
       "      <td>NaN</td>\n",
       "      <td>NaN</td>\n",
       "      <td>Tyrosine-protein kinase receptor UFO</td>\n",
       "      <td>YNGDYyRQGRI</td>\n",
       "      <td>P30530</td>\n",
       "      <td>Y703-p</td>\n",
       "    </tr>\n",
       "    <tr>\n",
       "      <th>218</th>\n",
       "      <td>NaN</td>\n",
       "      <td>NaN</td>\n",
       "      <td>NaN</td>\n",
       "      <td>NaN</td>\n",
       "      <td>Glucose-6-phosphate 1-dehydrogenase</td>\n",
       "      <td>YRIDHyLGKEM</td>\n",
       "      <td>P11413</td>\n",
       "      <td>Y202-p</td>\n",
       "    </tr>\n",
       "    <tr>\n",
       "      <th>219</th>\n",
       "      <td>NaN</td>\n",
       "      <td>NaN</td>\n",
       "      <td>NaN</td>\n",
       "      <td>NaN</td>\n",
       "      <td>Alpha-actinin-1</td>\n",
       "      <td>YVSSFyHAFSG</td>\n",
       "      <td>P12814</td>\n",
       "      <td>Y246-p</td>\n",
       "    </tr>\n",
       "  </tbody>\n",
       "</table>\n",
       "<p>220 rows × 8 columns</p>\n",
       "</div>"
      ],
      "text/plain": [
       "                                   Cluster_1 seqs_Cluster_1 ProtAcc_Cluster_1  \\\n",
       "0          Adenylate kinase 2, mitochondrial    AAEPEyPKGIR            P54819   \n",
       "1                                 Envoplakin    AEDAVyELQSK            Q92817   \n",
       "2    Receptor tyrosine-protein kinase erbB-2    AENPEyLGLDV            P04626   \n",
       "3                              ATPase WRNIP1    AGEEHyNCISA            Q96S55   \n",
       "4                      ADP/ATP translocase 2    ANVIRyFPTQA            P05141   \n",
       "..                                       ...            ...               ...   \n",
       "215                                      NaN            NaN               NaN   \n",
       "216                                      NaN            NaN               NaN   \n",
       "217                                      NaN            NaN               NaN   \n",
       "218                                      NaN            NaN               NaN   \n",
       "219                                      NaN            NaN               NaN   \n",
       "\n",
       "    pos_Cluster_1                              Cluster_2 seqs_Cluster_2  \\\n",
       "0           Y12-p           Heat shock 70 kDa protein 1A    AAAIAyGLDRT   \n",
       "1         Y1352-p  DNA replication licensing factor MCM7    AANPAyGRYNP   \n",
       "2         Y1248-p                 Coactosin-like protein    ACRAAyNLVRD   \n",
       "3          Y500-p                    Pyruvate kinase PKM    AEAAIyHLQLF   \n",
       "4           Y81-p                  Kinesin light chain 2    AEEVEyYYRRA   \n",
       "..            ...                                    ...            ...   \n",
       "215           NaN                               Paxillin    YCEKDyHNLFS   \n",
       "216           NaN            Golgin subfamily A member 4    YEKNVyATTVG   \n",
       "217           NaN   Tyrosine-protein kinase receptor UFO    YNGDYyRQGRI   \n",
       "218           NaN    Glucose-6-phosphate 1-dehydrogenase    YRIDHyLGKEM   \n",
       "219           NaN                        Alpha-actinin-1    YVSSFyHAFSG   \n",
       "\n",
       "    ProtAcc_Cluster_2 pos_Cluster_2  \n",
       "0              P0DMV8        Y183-p  \n",
       "1              P33993        Y492-p  \n",
       "2              Q14019         Y14-p  \n",
       "3              P14618        Y390-p  \n",
       "4              Q9H0B6        Y345-p  \n",
       "..                ...           ...  \n",
       "215            P49023        Y409-p  \n",
       "216            Q13439       Y2148-p  \n",
       "217            P30530        Y703-p  \n",
       "218            P11413        Y202-p  \n",
       "219            P12814        Y246-p  \n",
       "\n",
       "[220 rows x 8 columns]"
      ]
     },
     "execution_count": 20,
     "metadata": {},
     "output_type": "execute_result"
    }
   ],
   "source": [
    "clustermembers = mixedCl_plsr.named_steps.mixedCl.clustermembers(ABC.T)\n",
    "clustermembers"
   ]
  },
  {
   "cell_type": "code",
   "execution_count": 21,
   "metadata": {},
   "outputs": [
    {
     "data": {
      "text/html": [
       "<a download=\"DataClustering\" href=\"data:text/csv;base64,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\" target=\"_blank\">Download CSV file</a>"
      ],
      "text/plain": [
       "<IPython.core.display.HTML object>"
      ]
     },
     "execution_count": 21,
     "metadata": {},
     "output_type": "execute_result"
    }
   ],
   "source": [
    "create_download_link(clustermembers, \"DataClustering\")"
   ]
  },
  {
   "cell_type": "code",
   "execution_count": 22,
   "metadata": {},
   "outputs": [
    {
     "data": {
      "image/png": "[encoded data removed]",
      "text/plain": [
       "<Figure size 504x360 with 1 Axes>"
      ]
     },
     "metadata": {
      "needs_background": "light"
     },
     "output_type": "display_data"
    }
   ],
   "source": [
    "fig = plt.figure(figsize=(7,5))\n",
    "\n",
    "centers = mixedCl_plsr.named_steps.mixedCl.transform(data).T\n",
    "\n",
    "for i in range(centers.shape[0]):\n",
    "    plt.plot(centers.iloc[i,:], label = \"cluster \"+str(i+1), color = colors_[i])\n",
    "    \n",
    "plt.legend()\n",
    "plt.xticks(np.arange(centers.shape[1]), (treatments), rotation=70);"
   ]
  },
  {
   "cell_type": "code",
   "execution_count": null,
   "metadata": {},
   "outputs": [],
   "source": []
  }
 ],
 "metadata": {
  "kernelspec": {
   "display_name": "Python 3",
   "language": "python",
   "name": "python3"
  },
  "language_info": {
   "codemirror_mode": {
    "name": "ipython",
    "version": 3
   },
   "file_extension": ".py",
   "mimetype": "text/x-python",
   "name": "python",
   "nbconvert_exporter": "python",
   "pygments_lexer": "ipython3",
   "version": "3.7.5rc1"
  }
 },
 "nbformat": 4,
 "nbformat_minor": 4
}
