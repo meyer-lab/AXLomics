{
 "cells": [
  {
   "cell_type": "markdown",
   "metadata": {},
   "source": [
    "# FIGURE 2"
   ]
  },
  {
   "cell_type": "code",
   "execution_count": 1,
   "metadata": {},
   "outputs": [],
   "source": [
    "import numpy as np\n",
    "import pandas as pd\n",
    "import math\n",
    "from sklearn.cross_decomposition import PLSRegression\n",
    "from sklearn.mixture import GaussianMixture\n",
    "from sklearn.pipeline import Pipeline\n",
    "from msresist.parameter_tuning import MSclusPLSR_tuning\n",
    "from msresist.plsr import Q2Y_across_components, R2Y_across_components\n",
    "from msresist.figures.figure2 import plotR2YQ2Y, plotMixedClusteringPLSR_GridSearch, plotMeasuredVsPredicted, plotScoresLoadings, plotclusteraverages\n",
    "from msresist.clustering import MassSpecClustering\n",
    "from msresist.sequence_analysis import preprocess_seqs, FormatName, pYmotifs\n",
    "import matplotlib.pyplot as plt\n",
    "from msresist.pre_processing import preprocessing, MergeDfbyMean, LinearFoldChange, FoldChangeToControl, MapOverlappingPeptides, BuildMatrix, TripsMeanAndStd, CorrCoefFilter\n",
    "from msresist.FileExporter import create_download_link\n",
    "import warnings\n",
    "warnings.simplefilter(\"ignore\")"
   ]
  },
  {
   "cell_type": "code",
   "execution_count": 2,
   "metadata": {},
   "outputs": [],
   "source": [
    "# pd.set_option('display.max_colwidth', 1000)\n",
    "# pd.set_option('display.max_rows', 1000)\n",
    "# pd.set_option('display.max_columns', 1000)"
   ]
  },
  {
   "cell_type": "markdown",
   "metadata": {},
   "source": [
    "### Importing and Pre-processing Data"
   ]
  },
  {
   "cell_type": "markdown",
   "metadata": {},
   "source": [
    "### Phosphorylation measurements:"
   ]
  },
  {
   "cell_type": "code",
   "execution_count": 3,
   "metadata": {},
   "outputs": [],
   "source": [
    "ABC = preprocessing(AXLwt=True, motifs=True, Vfilter=True, FCfilter=True, log2T=True)\n",
    "ABC = preprocess_seqs(ABC, \"Y\").sort_values(by=\"Protein\")\n",
    "\n",
    "header = ABC.columns\n",
    "treatments = ABC.columns[6:]\n",
    "\n",
    "data = ABC.iloc[:, 6:].T\n",
    "info = ABC.iloc[:, :6]"
   ]
  },
  {
   "cell_type": "code",
   "execution_count": 4,
   "metadata": {},
   "outputs": [
    {
     "data": {
      "text/html": [
       "<div>\n",
       "<style scoped>\n",
       "    .dataframe tbody tr th:only-of-type {\n",
       "        vertical-align: middle;\n",
       "    }\n",
       "\n",
       "    .dataframe tbody tr th {\n",
       "        vertical-align: top;\n",
       "    }\n",
       "\n",
       "    .dataframe thead th {\n",
       "        text-align: right;\n",
       "    }\n",
       "</style>\n",
       "<table border=\"1\" class=\"dataframe\">\n",
       "  <thead>\n",
       "    <tr style=\"text-align: right;\">\n",
       "      <th></th>\n",
       "      <th>Protein</th>\n",
       "      <th>Sequence</th>\n",
       "      <th>UniprotAcc</th>\n",
       "      <th>Position</th>\n",
       "      <th>r2_Std</th>\n",
       "      <th>BioReps</th>\n",
       "      <th>PC9</th>\n",
       "      <th>Erl</th>\n",
       "      <th>R428</th>\n",
       "      <th>Erl/R428</th>\n",
       "      <th>Erl+HGF</th>\n",
       "      <th>Erl+FGF</th>\n",
       "      <th>Erl+IGF</th>\n",
       "      <th>KO Erl</th>\n",
       "      <th>KO R428</th>\n",
       "      <th>KO Erl/R428</th>\n",
       "    </tr>\n",
       "  </thead>\n",
       "  <tbody>\n",
       "    <tr>\n",
       "      <th>0</th>\n",
       "      <td>1-phosphatidylinositol 4,5-bisphosphate phosph...</td>\n",
       "      <td>RNPGFyVEANP</td>\n",
       "      <td>P19174</td>\n",
       "      <td>Y783-p</td>\n",
       "      <td>NA</td>\n",
       "      <td>1</td>\n",
       "      <td>0.891610</td>\n",
       "      <td>-0.132290</td>\n",
       "      <td>0.508638</td>\n",
       "      <td>-0.431225</td>\n",
       "      <td>-0.008149</td>\n",
       "      <td>0.338497</td>\n",
       "      <td>-0.481326</td>\n",
       "      <td>-0.713501</td>\n",
       "      <td>0.547278</td>\n",
       "      <td>-0.519532</td>\n",
       "    </tr>\n",
       "    <tr>\n",
       "      <th>3</th>\n",
       "      <td>14-3-3 protein epsilon  ; YWHAE</td>\n",
       "      <td>GDYHRyLAEFA</td>\n",
       "      <td>P62258</td>\n",
       "      <td>Y131-p</td>\n",
       "      <td>NA</td>\n",
       "      <td>1</td>\n",
       "      <td>0.413272</td>\n",
       "      <td>0.620284</td>\n",
       "      <td>0.352508</td>\n",
       "      <td>-0.291815</td>\n",
       "      <td>0.122734</td>\n",
       "      <td>0.216532</td>\n",
       "      <td>0.167650</td>\n",
       "      <td>-0.586405</td>\n",
       "      <td>-0.395571</td>\n",
       "      <td>-0.619189</td>\n",
       "    </tr>\n",
       "    <tr>\n",
       "      <th>4</th>\n",
       "      <td>14-3-3 protein zeta/delta  ; YWHAZ</td>\n",
       "      <td>LLSVAyKNVVG</td>\n",
       "      <td>P63104</td>\n",
       "      <td>Y48-p</td>\n",
       "      <td>NA</td>\n",
       "      <td>1</td>\n",
       "      <td>2.028584</td>\n",
       "      <td>1.620221</td>\n",
       "      <td>1.301309</td>\n",
       "      <td>-0.568873</td>\n",
       "      <td>-0.712916</td>\n",
       "      <td>-0.731959</td>\n",
       "      <td>-0.791261</td>\n",
       "      <td>-0.762381</td>\n",
       "      <td>-0.574292</td>\n",
       "      <td>-0.808433</td>\n",
       "    </tr>\n",
       "    <tr>\n",
       "      <th>15</th>\n",
       "      <td>60S ribosomal protein L22-like 1  ; RPL22L1</td>\n",
       "      <td>TYELRyFQISQ</td>\n",
       "      <td>Q6P5R6</td>\n",
       "      <td>Y108-p</td>\n",
       "      <td>NA</td>\n",
       "      <td>1</td>\n",
       "      <td>-0.050440</td>\n",
       "      <td>-0.157775</td>\n",
       "      <td>-0.042431</td>\n",
       "      <td>0.073614</td>\n",
       "      <td>-0.466527</td>\n",
       "      <td>-0.151340</td>\n",
       "      <td>0.006562</td>\n",
       "      <td>-0.384522</td>\n",
       "      <td>1.342117</td>\n",
       "      <td>-0.169258</td>\n",
       "    </tr>\n",
       "    <tr>\n",
       "      <th>16</th>\n",
       "      <td>ADP-ribosylation factor-like protein 11  ; ARL11</td>\n",
       "      <td>KtTLLyKLKGH</td>\n",
       "      <td>Q969Q4</td>\n",
       "      <td>Y30-p</td>\n",
       "      <td>0.94</td>\n",
       "      <td>2</td>\n",
       "      <td>0.524947</td>\n",
       "      <td>0.122358</td>\n",
       "      <td>0.153717</td>\n",
       "      <td>-0.546423</td>\n",
       "      <td>0.213311</td>\n",
       "      <td>-0.225130</td>\n",
       "      <td>-0.111816</td>\n",
       "      <td>-0.105150</td>\n",
       "      <td>0.030002</td>\n",
       "      <td>-0.055816</td>\n",
       "    </tr>\n",
       "    <tr>\n",
       "      <th>...</th>\n",
       "      <td>...</td>\n",
       "      <td>...</td>\n",
       "      <td>...</td>\n",
       "      <td>...</td>\n",
       "      <td>...</td>\n",
       "      <td>...</td>\n",
       "      <td>...</td>\n",
       "      <td>...</td>\n",
       "      <td>...</td>\n",
       "      <td>...</td>\n",
       "      <td>...</td>\n",
       "      <td>...</td>\n",
       "      <td>...</td>\n",
       "      <td>...</td>\n",
       "      <td>...</td>\n",
       "      <td>...</td>\n",
       "    </tr>\n",
       "    <tr>\n",
       "      <th>788</th>\n",
       "      <td>Zinc finger CCCH-type antiviral protein 1  ; Z...</td>\n",
       "      <td>LLSSDyRIING</td>\n",
       "      <td>Q7Z2W4</td>\n",
       "      <td>Y410-p</td>\n",
       "      <td>NA</td>\n",
       "      <td>1</td>\n",
       "      <td>2.169358</td>\n",
       "      <td>1.570918</td>\n",
       "      <td>0.620437</td>\n",
       "      <td>-1.374179</td>\n",
       "      <td>0.289226</td>\n",
       "      <td>-0.012489</td>\n",
       "      <td>0.232086</td>\n",
       "      <td>-0.981527</td>\n",
       "      <td>-1.024902</td>\n",
       "      <td>-1.488927</td>\n",
       "    </tr>\n",
       "    <tr>\n",
       "      <th>791</th>\n",
       "      <td>Zinc finger protein 185  ; ZNF185</td>\n",
       "      <td>LFVKEyVNASE</td>\n",
       "      <td>O15231</td>\n",
       "      <td>Y581-p</td>\n",
       "      <td>0.96</td>\n",
       "      <td>2</td>\n",
       "      <td>2.694753</td>\n",
       "      <td>0.852521</td>\n",
       "      <td>0.959014</td>\n",
       "      <td>-1.434426</td>\n",
       "      <td>0.582779</td>\n",
       "      <td>-0.266371</td>\n",
       "      <td>-0.040972</td>\n",
       "      <td>-1.194264</td>\n",
       "      <td>-0.760311</td>\n",
       "      <td>-1.392723</td>\n",
       "    </tr>\n",
       "    <tr>\n",
       "      <th>792</th>\n",
       "      <td>Zinc finger protein 185  ; ZNF185</td>\n",
       "      <td>PVSARySNVSS</td>\n",
       "      <td>O15231</td>\n",
       "      <td>Y597-p</td>\n",
       "      <td>NA</td>\n",
       "      <td>1</td>\n",
       "      <td>0.577963</td>\n",
       "      <td>0.026361</td>\n",
       "      <td>0.046690</td>\n",
       "      <td>0.203022</td>\n",
       "      <td>0.399508</td>\n",
       "      <td>0.017095</td>\n",
       "      <td>-0.176009</td>\n",
       "      <td>-0.181494</td>\n",
       "      <td>-0.215097</td>\n",
       "      <td>-0.698038</td>\n",
       "    </tr>\n",
       "    <tr>\n",
       "      <th>790</th>\n",
       "      <td>Zinc finger protein 185  ; ZNF185</td>\n",
       "      <td>GALADyEGKDV</td>\n",
       "      <td>O15231</td>\n",
       "      <td>Y408-p</td>\n",
       "      <td>NA</td>\n",
       "      <td>1</td>\n",
       "      <td>1.316789</td>\n",
       "      <td>0.388504</td>\n",
       "      <td>0.263724</td>\n",
       "      <td>-1.455803</td>\n",
       "      <td>0.597152</td>\n",
       "      <td>0.022433</td>\n",
       "      <td>0.432893</td>\n",
       "      <td>-0.449084</td>\n",
       "      <td>-0.012254</td>\n",
       "      <td>-1.104353</td>\n",
       "    </tr>\n",
       "    <tr>\n",
       "      <th>794</th>\n",
       "      <td>p53 apoptosis effector related to PMP-22  ; PERP</td>\n",
       "      <td>NAKPRyFYTSA</td>\n",
       "      <td>Q96FX8</td>\n",
       "      <td>Y188-p</td>\n",
       "      <td>NA</td>\n",
       "      <td>1</td>\n",
       "      <td>1.305788</td>\n",
       "      <td>-0.140178</td>\n",
       "      <td>0.560394</td>\n",
       "      <td>-0.341179</td>\n",
       "      <td>-0.250761</td>\n",
       "      <td>-0.073179</td>\n",
       "      <td>-0.065153</td>\n",
       "      <td>-0.676516</td>\n",
       "      <td>0.236585</td>\n",
       "      <td>-0.555803</td>\n",
       "    </tr>\n",
       "  </tbody>\n",
       "</table>\n",
       "<p>351 rows × 16 columns</p>\n",
       "</div>"
      ],
      "text/plain": [
       "                                               Protein     Sequence  \\\n",
       "0    1-phosphatidylinositol 4,5-bisphosphate phosph...  RNPGFyVEANP   \n",
       "3                      14-3-3 protein epsilon  ; YWHAE  GDYHRyLAEFA   \n",
       "4                   14-3-3 protein zeta/delta  ; YWHAZ  LLSVAyKNVVG   \n",
       "15         60S ribosomal protein L22-like 1  ; RPL22L1  TYELRyFQISQ   \n",
       "16    ADP-ribosylation factor-like protein 11  ; ARL11  KtTLLyKLKGH   \n",
       "..                                                 ...          ...   \n",
       "788  Zinc finger CCCH-type antiviral protein 1  ; Z...  LLSSDyRIING   \n",
       "791                  Zinc finger protein 185  ; ZNF185  LFVKEyVNASE   \n",
       "792                  Zinc finger protein 185  ; ZNF185  PVSARySNVSS   \n",
       "790                  Zinc finger protein 185  ; ZNF185  GALADyEGKDV   \n",
       "794   p53 apoptosis effector related to PMP-22  ; PERP  NAKPRyFYTSA   \n",
       "\n",
       "    UniprotAcc Position r2_Std BioReps       PC9       Erl      R428  \\\n",
       "0       P19174   Y783-p     NA       1  0.891610 -0.132290  0.508638   \n",
       "3       P62258   Y131-p     NA       1  0.413272  0.620284  0.352508   \n",
       "4       P63104    Y48-p     NA       1  2.028584  1.620221  1.301309   \n",
       "15      Q6P5R6   Y108-p     NA       1 -0.050440 -0.157775 -0.042431   \n",
       "16      Q969Q4    Y30-p   0.94       2  0.524947  0.122358  0.153717   \n",
       "..         ...      ...    ...     ...       ...       ...       ...   \n",
       "788     Q7Z2W4   Y410-p     NA       1  2.169358  1.570918  0.620437   \n",
       "791     O15231   Y581-p   0.96       2  2.694753  0.852521  0.959014   \n",
       "792     O15231   Y597-p     NA       1  0.577963  0.026361  0.046690   \n",
       "790     O15231   Y408-p     NA       1  1.316789  0.388504  0.263724   \n",
       "794     Q96FX8   Y188-p     NA       1  1.305788 -0.140178  0.560394   \n",
       "\n",
       "     Erl/R428   Erl+HGF   Erl+FGF   Erl+IGF    KO Erl   KO R428  KO Erl/R428  \n",
       "0   -0.431225 -0.008149  0.338497 -0.481326 -0.713501  0.547278    -0.519532  \n",
       "3   -0.291815  0.122734  0.216532  0.167650 -0.586405 -0.395571    -0.619189  \n",
       "4   -0.568873 -0.712916 -0.731959 -0.791261 -0.762381 -0.574292    -0.808433  \n",
       "15   0.073614 -0.466527 -0.151340  0.006562 -0.384522  1.342117    -0.169258  \n",
       "16  -0.546423  0.213311 -0.225130 -0.111816 -0.105150  0.030002    -0.055816  \n",
       "..        ...       ...       ...       ...       ...       ...          ...  \n",
       "788 -1.374179  0.289226 -0.012489  0.232086 -0.981527 -1.024902    -1.488927  \n",
       "791 -1.434426  0.582779 -0.266371 -0.040972 -1.194264 -0.760311    -1.392723  \n",
       "792  0.203022  0.399508  0.017095 -0.176009 -0.181494 -0.215097    -0.698038  \n",
       "790 -1.455803  0.597152  0.022433  0.432893 -0.449084 -0.012254    -1.104353  \n",
       "794 -0.341179 -0.250761 -0.073179 -0.065153 -0.676516  0.236585    -0.555803  \n",
       "\n",
       "[351 rows x 16 columns]"
      ]
     },
     "execution_count": 4,
     "metadata": {},
     "output_type": "execute_result"
    }
   ],
   "source": [
    "ABC"
   ]
  },
  {
   "cell_type": "markdown",
   "metadata": {},
   "source": [
    "### Phenotypes"
   ]
  },
  {
   "cell_type": "markdown",
   "metadata": {},
   "source": [
    "#### Cell Viability:"
   ]
  },
  {
   "cell_type": "code",
   "execution_count": 5,
   "metadata": {},
   "outputs": [],
   "source": [
    "Y_cv1 = pd.read_csv('./msresist/data/Phenotypic_data/CV_raw3.csv').iloc[:30, :11]\n",
    "Y_cv2 = pd.read_csv('./msresist/data/Phenotypic_data/CV_raw4.csv').iloc[:29, :11]\n",
    "\n",
    "for ii in range(1, Y_cv2.columns.size):\n",
    "    Y_cv1.iloc[:, ii] /= Y_cv1.iloc[0, ii]\n",
    "    Y_cv2.iloc[:, ii] /= Y_cv2.iloc[0, ii]\n",
    "\n",
    "Y_cv = MergeDfbyMean(pd.concat([Y_cv1, Y_cv2], axis=0), Y_cv1.columns, \"Elapsed\")\n",
    "Y_cv = Y_cv.reset_index()[Y_cv1.columns]\n",
    "Y_cv = Y_cv[Y_cv[\"Elapsed\"] == 72].iloc[0, 1:]"
   ]
  },
  {
   "cell_type": "markdown",
   "metadata": {},
   "source": [
    "# Chained MS mixed clustering + PLSR analysis"
   ]
  },
  {
   "cell_type": "code",
   "execution_count": 6,
   "metadata": {},
   "outputs": [
    {
     "data": {
      "image/png": "[encoded data removed]",
      "text/plain": [
       "<Figure size 504x432 with 1 Axes>"
      ]
     },
     "metadata": {
      "needs_background": "light"
     },
     "output_type": "display_data"
    }
   ],
   "source": [
    "ncl = 2\n",
    "GMMweight = 0\n",
    "\n",
    "MSC = MassSpecClustering(info, ncl, GMMweight=GMMweight, distance_method=\"Binomial\").fit(data, Y_cv)\n",
    "centers = MSC.transform(data)\n",
    "\n",
    "fig, ax = plt.subplots(1, 1, figsize=(7,6))\n",
    "plotR2YQ2Y(ax, ncl, centers, Y_cv)"
   ]
  },
  {
   "cell_type": "code",
   "execution_count": 7,
   "metadata": {},
   "outputs": [],
   "source": [
    "# fig, ax = plt.subplots(1, 1, figsize=(8,6))\n",
    "# plotMixedClusteringPLSR_GridSearch(ax, data, info, Y_cv)"
   ]
  },
  {
   "cell_type": "code",
   "execution_count": 8,
   "metadata": {},
   "outputs": [],
   "source": [
    "ncomp = 2\n",
    "\n",
    "mixedCl_plsr = Pipeline([('mixedCl', MassSpecClustering(info, ncl, GMMweight=GMMweight, distance_method=\"Binomial\")), ('plsr', PLSRegression(ncomp))])\n",
    "fit = mixedCl_plsr.fit(data, Y_cv)"
   ]
  },
  {
   "cell_type": "code",
   "execution_count": 9,
   "metadata": {},
   "outputs": [
    {
     "data": {
      "image/png": "[encoded data removed]",
      "text/plain": [
       "<Figure size 432x360 with 1 Axes>"
      ]
     },
     "metadata": {
      "needs_background": "light"
     },
     "output_type": "display_data"
    }
   ],
   "source": [
    "fig, ax = plt.subplots(1,1,figsize=(6,5))\n",
    "plotMeasuredVsPredicted(ax, mixedCl_plsr, data, Y_cv)"
   ]
  },
  {
   "cell_type": "code",
   "execution_count": 10,
   "metadata": {},
   "outputs": [
    {
     "ename": "NameError",
     "evalue": "name 'cm' is not defined",
     "output_type": "error",
     "traceback": [
      "\u001b[0;31m---------------------------------------------------------------------------\u001b[0m",
      "\u001b[0;31mNameError\u001b[0m                                 Traceback (most recent call last)",
      "\u001b[0;32m<ipython-input-10-41387ff83117>\u001b[0m in \u001b[0;36m<module>\u001b[0;34m\u001b[0m\n\u001b[1;32m      1\u001b[0m \u001b[0mfig\u001b[0m\u001b[0;34m,\u001b[0m \u001b[0max\u001b[0m \u001b[0;34m=\u001b[0m \u001b[0mplt\u001b[0m\u001b[0;34m.\u001b[0m\u001b[0msubplots\u001b[0m\u001b[0;34m(\u001b[0m\u001b[0;36m1\u001b[0m\u001b[0;34m,\u001b[0m \u001b[0;36m2\u001b[0m\u001b[0;34m,\u001b[0m \u001b[0mfigsize\u001b[0m\u001b[0;34m=\u001b[0m\u001b[0;34m(\u001b[0m\u001b[0;36m12\u001b[0m\u001b[0;34m,\u001b[0m\u001b[0;36m6\u001b[0m\u001b[0;34m)\u001b[0m\u001b[0;34m)\u001b[0m\u001b[0;34m\u001b[0m\u001b[0;34m\u001b[0m\u001b[0m\n\u001b[0;32m----> 2\u001b[0;31m \u001b[0mcolors_\u001b[0m \u001b[0;34m=\u001b[0m \u001b[0mcm\u001b[0m\u001b[0;34m.\u001b[0m\u001b[0mrainbow\u001b[0m\u001b[0;34m(\u001b[0m\u001b[0mnp\u001b[0m\u001b[0;34m.\u001b[0m\u001b[0mlinspace\u001b[0m\u001b[0;34m(\u001b[0m\u001b[0;36m0\u001b[0m\u001b[0;34m,\u001b[0m \u001b[0;36m1\u001b[0m\u001b[0;34m,\u001b[0m \u001b[0mncl\u001b[0m\u001b[0;34m)\u001b[0m\u001b[0;34m)\u001b[0m\u001b[0;34m\u001b[0m\u001b[0;34m\u001b[0m\u001b[0m\n\u001b[0m\u001b[1;32m      3\u001b[0m \u001b[0;34m\u001b[0m\u001b[0m\n\u001b[1;32m      4\u001b[0m \u001b[0mplotScoresLoadings\u001b[0m\u001b[0;34m(\u001b[0m\u001b[0max\u001b[0m\u001b[0;34m,\u001b[0m \u001b[0mfit\u001b[0m\u001b[0;34m,\u001b[0m \u001b[0mcenters\u001b[0m\u001b[0;34m,\u001b[0m \u001b[0mY_cv\u001b[0m\u001b[0;34m,\u001b[0m \u001b[0mncl\u001b[0m\u001b[0;34m,\u001b[0m \u001b[0mcolors_\u001b[0m\u001b[0;34m,\u001b[0m \u001b[0mtreatments\u001b[0m\u001b[0;34m)\u001b[0m\u001b[0;34m\u001b[0m\u001b[0;34m\u001b[0m\u001b[0m\n",
      "\u001b[0;31mNameError\u001b[0m: name 'cm' is not defined"
     ]
    },
    {
     "data": {
      "image/png": "[encoded data removed]",
      "text/plain": [
       "<Figure size 864x432 with 2 Axes>"
      ]
     },
     "metadata": {
      "needs_background": "light"
     },
     "output_type": "display_data"
    }
   ],
   "source": [
    "fig, ax = plt.subplots(1, 2, figsize=(12,6))\n",
    "colors_ = cm.rainbow(np.linspace(0, 1, ncl))\n",
    "\n",
    "plotScoresLoadings(ax, fit, centers, Y_cv, ncl, colors_, treatments)"
   ]
  },
  {
   "cell_type": "code",
   "execution_count": null,
   "metadata": {},
   "outputs": [],
   "source": [
    "clustermembers = mixedCl_plsr.named_steps.mixedCl.clustermembers(ABC.T)\n",
    "clustermembers.iloc[:10, :]"
   ]
  },
  {
   "cell_type": "code",
   "execution_count": null,
   "metadata": {},
   "outputs": [],
   "source": [
    "create_download_link(clustermembers, \"DataClustering\")"
   ]
  },
  {
   "cell_type": "code",
   "execution_count": null,
   "metadata": {},
   "outputs": [],
   "source": [
    "fig, ax = plt.subplots(1, 1, figsize=(8, 5))\n",
    "\n",
    "plotclusteraverages(ax, ABC, mixedCl_plsr, colors_)"
   ]
  }
 ],
 "metadata": {
  "kernelspec": {
   "display_name": "Python 3",
   "language": "python",
   "name": "python3"
  },
  "language_info": {
   "codemirror_mode": {
    "name": "ipython",
    "version": 3
   },
   "file_extension": ".py",
   "mimetype": "text/x-python",
   "name": "python",
   "nbconvert_exporter": "python",
   "pygments_lexer": "ipython3",
   "version": "3.7.5"
  }
 },
 "nbformat": 4,
 "nbformat_minor": 4
}
