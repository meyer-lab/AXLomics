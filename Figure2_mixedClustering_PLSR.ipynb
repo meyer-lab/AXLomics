{
 "cells": [
  {
   "cell_type": "markdown",
   "metadata": {},
   "source": [
    "# FIGURE 2"
   ]
  },
  {
   "cell_type": "code",
   "execution_count": 1,
   "metadata": {},
   "outputs": [],
   "source": [
    "import numpy as np\n",
    "import pandas as pd\n",
    "import math\n",
    "from sklearn.cross_decomposition import PLSRegression\n",
    "from sklearn.mixture import GaussianMixture\n",
    "from sklearn.pipeline import Pipeline\n",
    "from msresist.parameter_tuning import MSclusPLSR_tuning\n",
    "from msresist.plsr import Q2Y_across_components, R2Y_across_components\n",
    "from msresist.figures.figure2 import plotR2YQ2Y, plotKmeansPLSR_GridSearch, plotMeasuredVsPredicted, plotScoresLoadings, plotclusteraverages\n",
    "from msresist.clustering import MassSpecClustering\n",
    "from msresist.sequence_analysis import preprocess_seqs\n",
    "import matplotlib.pyplot as plt\n",
    "import matplotlib.colors as colors\n",
    "import matplotlib.cm as cm\n",
    "from msresist.pre_processing import preprocessing, MergeDfbyMean, LinearFoldChange, FoldChangeToControl\n",
    "from msresist.FileExporter import create_download_link\n",
    "import warnings\n",
    "warnings.simplefilter(\"ignore\")"
   ]
  },
  {
   "cell_type": "markdown",
   "metadata": {},
   "source": [
    "### Importing and Pre-processing Data"
   ]
  },
  {
   "cell_type": "markdown",
   "metadata": {},
   "source": [
    "### Phosphorylation measurements:"
   ]
  },
  {
   "cell_type": "code",
   "execution_count": 2,
   "metadata": {},
   "outputs": [],
   "source": [
    "# pd.set_option('display.max_colwidth', 1000)\n",
    "# pd.set_option('display.max_rows', 1000)\n",
    "\n",
    "ABC = preprocessing(motifs=True, Vfilter=True, FCfilter=True, log2T=True)\n",
    "ABC = preprocess_seqs(ABC, \"Y\")\n",
    "\n",
    "header = ABC.columns\n",
    "treatments = ABC.columns[6:]\n",
    "\n",
    "data = ABC.iloc[:, 6:].T\n",
    "protnames = ABC.iloc[:, 0]\n",
    "seqs = ABC.iloc[:, 1]"
   ]
  },
  {
   "cell_type": "code",
   "execution_count": 3,
   "metadata": {},
   "outputs": [
    {
     "data": {
      "text/html": [
       "<div>\n",
       "<style scoped>\n",
       "    .dataframe tbody tr th:only-of-type {\n",
       "        vertical-align: middle;\n",
       "    }\n",
       "\n",
       "    .dataframe tbody tr th {\n",
       "        vertical-align: top;\n",
       "    }\n",
       "\n",
       "    .dataframe thead th {\n",
       "        text-align: right;\n",
       "    }\n",
       "</style>\n",
       "<table border=\"1\" class=\"dataframe\">\n",
       "  <thead>\n",
       "    <tr style=\"text-align: right;\">\n",
       "      <th></th>\n",
       "      <th>Protein</th>\n",
       "      <th>Sequence</th>\n",
       "      <th>UniprotAcc</th>\n",
       "      <th>Position</th>\n",
       "      <th>r2_Std</th>\n",
       "      <th>BioReps</th>\n",
       "      <th>PC9</th>\n",
       "      <th>Erl</th>\n",
       "      <th>R428</th>\n",
       "      <th>Erl/R428</th>\n",
       "      <th>Erl+HGF</th>\n",
       "      <th>Erl+FGF</th>\n",
       "      <th>Erl+IGF</th>\n",
       "      <th>KO Erl</th>\n",
       "      <th>KO R428</th>\n",
       "      <th>KO Erl/R428</th>\n",
       "    </tr>\n",
       "  </thead>\n",
       "  <tbody>\n",
       "    <tr>\n",
       "      <th>0</th>\n",
       "      <td>1-phosphatidylinositol 4,5-bisphosphate phosph...</td>\n",
       "      <td>RNPGFyVEANP</td>\n",
       "      <td>P19174</td>\n",
       "      <td>Y783-p</td>\n",
       "      <td>NA</td>\n",
       "      <td>1</td>\n",
       "      <td>0.891610</td>\n",
       "      <td>-0.132290</td>\n",
       "      <td>0.508638</td>\n",
       "      <td>-0.431225</td>\n",
       "      <td>-0.008149</td>\n",
       "      <td>0.338497</td>\n",
       "      <td>-0.481326</td>\n",
       "      <td>-0.713501</td>\n",
       "      <td>0.547278</td>\n",
       "      <td>-0.519532</td>\n",
       "    </tr>\n",
       "    <tr>\n",
       "      <th>3</th>\n",
       "      <td>14-3-3 protein epsilon</td>\n",
       "      <td>GDYHRyLAEFA</td>\n",
       "      <td>P62258</td>\n",
       "      <td>Y131-p</td>\n",
       "      <td>NA</td>\n",
       "      <td>1</td>\n",
       "      <td>0.413272</td>\n",
       "      <td>0.620284</td>\n",
       "      <td>0.352508</td>\n",
       "      <td>-0.291815</td>\n",
       "      <td>0.122734</td>\n",
       "      <td>0.216532</td>\n",
       "      <td>0.167650</td>\n",
       "      <td>-0.586405</td>\n",
       "      <td>-0.395571</td>\n",
       "      <td>-0.619189</td>\n",
       "    </tr>\n",
       "    <tr>\n",
       "      <th>4</th>\n",
       "      <td>14-3-3 protein zeta/delta</td>\n",
       "      <td>LLSVAyKNVVG</td>\n",
       "      <td>P63104</td>\n",
       "      <td>Y48-p</td>\n",
       "      <td>NA</td>\n",
       "      <td>1</td>\n",
       "      <td>2.028584</td>\n",
       "      <td>1.620221</td>\n",
       "      <td>1.301309</td>\n",
       "      <td>-0.568873</td>\n",
       "      <td>-0.712916</td>\n",
       "      <td>-0.731959</td>\n",
       "      <td>-0.791261</td>\n",
       "      <td>-0.762381</td>\n",
       "      <td>-0.574292</td>\n",
       "      <td>-0.808433</td>\n",
       "    </tr>\n",
       "    <tr>\n",
       "      <th>15</th>\n",
       "      <td>60S ribosomal protein L22-like 1</td>\n",
       "      <td>TYELRyFQISQ</td>\n",
       "      <td>Q6P5R6</td>\n",
       "      <td>Y108-p</td>\n",
       "      <td>NA</td>\n",
       "      <td>1</td>\n",
       "      <td>-0.050440</td>\n",
       "      <td>-0.157775</td>\n",
       "      <td>-0.042431</td>\n",
       "      <td>0.073614</td>\n",
       "      <td>-0.466527</td>\n",
       "      <td>-0.151340</td>\n",
       "      <td>0.006562</td>\n",
       "      <td>-0.384522</td>\n",
       "      <td>1.342117</td>\n",
       "      <td>-0.169258</td>\n",
       "    </tr>\n",
       "    <tr>\n",
       "      <th>16</th>\n",
       "      <td>ADP-ribosylation factor-like protein 11</td>\n",
       "      <td>KtTLLyKLKGH</td>\n",
       "      <td>Q969Q4</td>\n",
       "      <td>Y30-p</td>\n",
       "      <td>0.94</td>\n",
       "      <td>2</td>\n",
       "      <td>0.524947</td>\n",
       "      <td>0.122358</td>\n",
       "      <td>0.153717</td>\n",
       "      <td>-0.546423</td>\n",
       "      <td>0.213311</td>\n",
       "      <td>-0.225130</td>\n",
       "      <td>-0.111816</td>\n",
       "      <td>-0.105150</td>\n",
       "      <td>0.030002</td>\n",
       "      <td>-0.055816</td>\n",
       "    </tr>\n",
       "    <tr>\n",
       "      <th>...</th>\n",
       "      <td>...</td>\n",
       "      <td>...</td>\n",
       "      <td>...</td>\n",
       "      <td>...</td>\n",
       "      <td>...</td>\n",
       "      <td>...</td>\n",
       "      <td>...</td>\n",
       "      <td>...</td>\n",
       "      <td>...</td>\n",
       "      <td>...</td>\n",
       "      <td>...</td>\n",
       "      <td>...</td>\n",
       "      <td>...</td>\n",
       "      <td>...</td>\n",
       "      <td>...</td>\n",
       "      <td>...</td>\n",
       "    </tr>\n",
       "    <tr>\n",
       "      <th>779</th>\n",
       "      <td>Zinc finger CCCH-type antiviral protein 1</td>\n",
       "      <td>LLSSDyRIING</td>\n",
       "      <td>Q7Z2W4</td>\n",
       "      <td>Y410-p</td>\n",
       "      <td>NA</td>\n",
       "      <td>1</td>\n",
       "      <td>2.169358</td>\n",
       "      <td>1.570918</td>\n",
       "      <td>0.620437</td>\n",
       "      <td>-1.374179</td>\n",
       "      <td>0.289226</td>\n",
       "      <td>-0.012489</td>\n",
       "      <td>0.232086</td>\n",
       "      <td>-0.981527</td>\n",
       "      <td>-1.024902</td>\n",
       "      <td>-1.488927</td>\n",
       "    </tr>\n",
       "    <tr>\n",
       "      <th>781</th>\n",
       "      <td>Zinc finger protein 185</td>\n",
       "      <td>GALADyEGKDV</td>\n",
       "      <td>O15231</td>\n",
       "      <td>Y408-p</td>\n",
       "      <td>NA</td>\n",
       "      <td>1</td>\n",
       "      <td>1.316789</td>\n",
       "      <td>0.388504</td>\n",
       "      <td>0.263724</td>\n",
       "      <td>-1.455803</td>\n",
       "      <td>0.597152</td>\n",
       "      <td>0.022433</td>\n",
       "      <td>0.432893</td>\n",
       "      <td>-0.449084</td>\n",
       "      <td>-0.012254</td>\n",
       "      <td>-1.104353</td>\n",
       "    </tr>\n",
       "    <tr>\n",
       "      <th>782</th>\n",
       "      <td>Zinc finger protein 185</td>\n",
       "      <td>LFVKEyVNASE</td>\n",
       "      <td>O15231</td>\n",
       "      <td>Y581-p</td>\n",
       "      <td>0.96</td>\n",
       "      <td>2</td>\n",
       "      <td>2.694753</td>\n",
       "      <td>0.852521</td>\n",
       "      <td>0.959014</td>\n",
       "      <td>-1.434426</td>\n",
       "      <td>0.582779</td>\n",
       "      <td>-0.266371</td>\n",
       "      <td>-0.040972</td>\n",
       "      <td>-1.194264</td>\n",
       "      <td>-0.760311</td>\n",
       "      <td>-1.392723</td>\n",
       "    </tr>\n",
       "    <tr>\n",
       "      <th>783</th>\n",
       "      <td>Zinc finger protein 185</td>\n",
       "      <td>PVSARySNVSS</td>\n",
       "      <td>O15231</td>\n",
       "      <td>Y597-p</td>\n",
       "      <td>NA</td>\n",
       "      <td>1</td>\n",
       "      <td>0.577963</td>\n",
       "      <td>0.026361</td>\n",
       "      <td>0.046690</td>\n",
       "      <td>0.203022</td>\n",
       "      <td>0.399508</td>\n",
       "      <td>0.017095</td>\n",
       "      <td>-0.176009</td>\n",
       "      <td>-0.181494</td>\n",
       "      <td>-0.215097</td>\n",
       "      <td>-0.698038</td>\n",
       "    </tr>\n",
       "    <tr>\n",
       "      <th>785</th>\n",
       "      <td>p53 apoptosis effector related to PMP-22</td>\n",
       "      <td>NAKPRyFYTSA</td>\n",
       "      <td>Q96FX8</td>\n",
       "      <td>Y188-p</td>\n",
       "      <td>NA</td>\n",
       "      <td>1</td>\n",
       "      <td>1.305788</td>\n",
       "      <td>-0.140178</td>\n",
       "      <td>0.560394</td>\n",
       "      <td>-0.341179</td>\n",
       "      <td>-0.250761</td>\n",
       "      <td>-0.073179</td>\n",
       "      <td>-0.065153</td>\n",
       "      <td>-0.676516</td>\n",
       "      <td>0.236585</td>\n",
       "      <td>-0.555803</td>\n",
       "    </tr>\n",
       "  </tbody>\n",
       "</table>\n",
       "<p>349 rows × 16 columns</p>\n",
       "</div>"
      ],
      "text/plain": [
       "                                               Protein     Sequence  \\\n",
       "0    1-phosphatidylinositol 4,5-bisphosphate phosph...  RNPGFyVEANP   \n",
       "3                               14-3-3 protein epsilon  GDYHRyLAEFA   \n",
       "4                            14-3-3 protein zeta/delta  LLSVAyKNVVG   \n",
       "15                    60S ribosomal protein L22-like 1  TYELRyFQISQ   \n",
       "16             ADP-ribosylation factor-like protein 11  KtTLLyKLKGH   \n",
       "..                                                 ...          ...   \n",
       "779          Zinc finger CCCH-type antiviral protein 1  LLSSDyRIING   \n",
       "781                            Zinc finger protein 185  GALADyEGKDV   \n",
       "782                            Zinc finger protein 185  LFVKEyVNASE   \n",
       "783                            Zinc finger protein 185  PVSARySNVSS   \n",
       "785           p53 apoptosis effector related to PMP-22  NAKPRyFYTSA   \n",
       "\n",
       "    UniprotAcc Position r2_Std BioReps       PC9       Erl      R428  \\\n",
       "0       P19174   Y783-p     NA       1  0.891610 -0.132290  0.508638   \n",
       "3       P62258   Y131-p     NA       1  0.413272  0.620284  0.352508   \n",
       "4       P63104    Y48-p     NA       1  2.028584  1.620221  1.301309   \n",
       "15      Q6P5R6   Y108-p     NA       1 -0.050440 -0.157775 -0.042431   \n",
       "16      Q969Q4    Y30-p   0.94       2  0.524947  0.122358  0.153717   \n",
       "..         ...      ...    ...     ...       ...       ...       ...   \n",
       "779     Q7Z2W4   Y410-p     NA       1  2.169358  1.570918  0.620437   \n",
       "781     O15231   Y408-p     NA       1  1.316789  0.388504  0.263724   \n",
       "782     O15231   Y581-p   0.96       2  2.694753  0.852521  0.959014   \n",
       "783     O15231   Y597-p     NA       1  0.577963  0.026361  0.046690   \n",
       "785     Q96FX8   Y188-p     NA       1  1.305788 -0.140178  0.560394   \n",
       "\n",
       "     Erl/R428   Erl+HGF   Erl+FGF   Erl+IGF    KO Erl   KO R428  KO Erl/R428  \n",
       "0   -0.431225 -0.008149  0.338497 -0.481326 -0.713501  0.547278    -0.519532  \n",
       "3   -0.291815  0.122734  0.216532  0.167650 -0.586405 -0.395571    -0.619189  \n",
       "4   -0.568873 -0.712916 -0.731959 -0.791261 -0.762381 -0.574292    -0.808433  \n",
       "15   0.073614 -0.466527 -0.151340  0.006562 -0.384522  1.342117    -0.169258  \n",
       "16  -0.546423  0.213311 -0.225130 -0.111816 -0.105150  0.030002    -0.055816  \n",
       "..        ...       ...       ...       ...       ...       ...          ...  \n",
       "779 -1.374179  0.289226 -0.012489  0.232086 -0.981527 -1.024902    -1.488927  \n",
       "781 -1.455803  0.597152  0.022433  0.432893 -0.449084 -0.012254    -1.104353  \n",
       "782 -1.434426  0.582779 -0.266371 -0.040972 -1.194264 -0.760311    -1.392723  \n",
       "783  0.203022  0.399508  0.017095 -0.176009 -0.181494 -0.215097    -0.698038  \n",
       "785 -0.341179 -0.250761 -0.073179 -0.065153 -0.676516  0.236585    -0.555803  \n",
       "\n",
       "[349 rows x 16 columns]"
      ]
     },
     "execution_count": 3,
     "metadata": {},
     "output_type": "execute_result"
    }
   ],
   "source": [
    "ABC"
   ]
  },
  {
   "cell_type": "markdown",
   "metadata": {},
   "source": [
    "### Phenotypes"
   ]
  },
  {
   "cell_type": "markdown",
   "metadata": {},
   "source": [
    "#### Cell Viability:"
   ]
  },
  {
   "cell_type": "code",
   "execution_count": 4,
   "metadata": {},
   "outputs": [],
   "source": [
    "Y_cv1 = pd.read_csv('./msresist/data/Phenotypic_data/CV_raw3.csv').iloc[:30, :11]\n",
    "Y_cv2 = pd.read_csv('./msresist/data/Phenotypic_data/CV_raw4.csv').iloc[:29, :11]\n",
    "\n",
    "for ii in range(1, Y_cv2.columns.size):\n",
    "    Y_cv1.iloc[:, ii] /= Y_cv1.iloc[0, ii]\n",
    "    Y_cv2.iloc[:, ii] /= Y_cv2.iloc[0, ii]\n",
    "\n",
    "Y_cv = MergeDfbyMean(pd.concat([Y_cv1, Y_cv2], axis=0), Y_cv1.columns, \"Elapsed\")\n",
    "Y_cv = Y_cv.reset_index()[Y_cv1.columns]\n",
    "Y_cv = Y_cv[Y_cv[\"Elapsed\"] == 72].iloc[0, 1:]"
   ]
  },
  {
   "cell_type": "markdown",
   "metadata": {},
   "source": [
    "# Chained MS mixed clustering + PLSR analysis"
   ]
  },
  {
   "cell_type": "code",
   "execution_count": 5,
   "metadata": {},
   "outputs": [],
   "source": [
    "ncl = 2\n",
    "pYTS = \"Y\"\n",
    "GMMweight = 2.5\n",
    "covariance_type = \"diag\" \n",
    "max_n_iter = 20\n",
    "info = ABC.iloc[:, :6]"
   ]
  },
  {
   "cell_type": "code",
   "execution_count": 6,
   "metadata": {},
   "outputs": [],
   "source": [
    "MSC = MassSpecClustering(info, ncl, GMMweight=GMMweight, distance_method=\"PAM250\").fit(data, Y_cv)\n",
    "centers = MSC.transform(data)"
   ]
  },
  {
   "cell_type": "code",
   "execution_count": 7,
   "metadata": {},
   "outputs": [
    {
     "data": {
      "image/png": "[encoded data removed]",
      "text/plain": [
       "<Figure size 504x432 with 1 Axes>"
      ]
     },
     "metadata": {
      "needs_background": "light"
     },
     "output_type": "display_data"
    }
   ],
   "source": [
    "fig, ax = plt.subplots(1, 1, figsize=(7,6))\n",
    "plotR2YQ2Y(ax, ncl, centers, Y_cv)"
   ]
  },
  {
   "cell_type": "code",
   "execution_count": 8,
   "metadata": {},
   "outputs": [
    {
     "data": {
      "image/png": "[encoded data removed]",
      "text/plain": [
       "<Figure size 504x432 with 1 Axes>"
      ]
     },
     "metadata": {
      "needs_background": "light"
     },
     "output_type": "display_data"
    }
   ],
   "source": [
    "Q2Y = Q2Y_across_components(centers, Y_cv, ncl+1)\n",
    "R2Y = R2Y_across_components(centers, Y_cv, ncl+1)\n",
    "\n",
    "range_ = np.linspace(1, ncl, ncl)\n",
    "\n",
    "fig, axs = plt.subplots(1,1, figsize=(7,6))\n",
    "plt.setp(axs, xticks=range_)\n",
    "plt.bar(range_+0.15,Q2Y,width=0.3,align='center',label='Q2Y', color = \"darkblue\")\n",
    "plt.bar(range_-0.15,R2Y,width=0.3,align='center',label='R2Y', color = \"black\")\n",
    "plt.title(\"R2Y/Q2Y Cell Viability\", fontsize=14)\n",
    "plt.ylabel(\"Variance %\", fontsize=14)\n",
    "plt.xlabel(\"Number of Components\", fontsize=14)\n",
    "plt.legend(loc=3);"
   ]
  },
  {
   "cell_type": "code",
   "execution_count": 9,
   "metadata": {},
   "outputs": [],
   "source": [
    "# CVresults_max, CVresults_min, best_params = MSclusPLSR_tuning(data, seqs, protnames, Y_cv)\n",
    "# CVresults_min.nlargest(30, \"mean_test_scores\")"
   ]
  },
  {
   "cell_type": "code",
   "execution_count": 10,
   "metadata": {},
   "outputs": [],
   "source": [
    "# ncl_GMMweight_ncomp = CVresults_min.sort_values(by=\"Ranking\")\n",
    "# create_download_link(ncl_GMMweight_ncomp, \"ncl_GMMweight_ncomp=2.csv\")"
   ]
  },
  {
   "cell_type": "markdown",
   "metadata": {},
   "source": [
    "Hyperparameter Tuning with Binomial Clustering:"
   ]
  },
  {
   "cell_type": "code",
   "execution_count": 11,
   "metadata": {},
   "outputs": [],
   "source": [
    "# pd.read_csv('./msresist/data/09252019-HyperparameterTuning_Binomial_ncl_GMMweight_ncomp.csv').iloc[:30, :11].iloc[:, 1:]"
   ]
  },
  {
   "cell_type": "markdown",
   "metadata": {},
   "source": [
    "Hyperparameter Tuning with PAM250 clustering (n_comp=2):"
   ]
  },
  {
   "cell_type": "code",
   "execution_count": 12,
   "metadata": {},
   "outputs": [],
   "source": [
    "# pd.read_csv('./msresist/data/10212019-HyperparameterTuning_PAM240_ncl_GMMweight_ncomp=2.csv').iloc[:30, :11].iloc[:, 1:]"
   ]
  },
  {
   "cell_type": "code",
   "execution_count": 13,
   "metadata": {},
   "outputs": [],
   "source": [
    "ncl, GMMweight, ncomp = 2, 2.5, 2"
   ]
  },
  {
   "cell_type": "code",
   "execution_count": 14,
   "metadata": {},
   "outputs": [],
   "source": [
    "mixedCl_plsr = Pipeline([('mixedCl', MassSpecClustering(info, ncl, GMMweight=GMMweight, distance_method=\"PAM250\")), ('plsr', PLSRegression(ncomp))])"
   ]
  },
  {
   "cell_type": "code",
   "execution_count": 15,
   "metadata": {},
   "outputs": [],
   "source": [
    "X_scores, Y_scores = mixedCl_plsr.fit_transform(data, Y_cv)\n",
    "PC1_scores, PC2_scores = X_scores[:, 0], X_scores[:, 1]\n",
    "PC1_xload, PC2_xload = mixedCl_plsr.named_steps.plsr.x_loadings_[:, 0], mixedCl_plsr.named_steps.plsr.x_loadings_[:, 1]\n",
    "PC1_yload, PC2_yload = mixedCl_plsr.named_steps.plsr.y_loadings_[:, 0], mixedCl_plsr.named_steps.plsr.y_loadings_[:, 1]"
   ]
  },
  {
   "cell_type": "code",
   "execution_count": 16,
   "metadata": {},
   "outputs": [
    {
     "data": {
      "image/png": "[encoded data removed]",
      "text/plain": [
       "<Figure size 432x360 with 1 Axes>"
      ]
     },
     "metadata": {
      "needs_background": "light"
     },
     "output_type": "display_data"
    }
   ],
   "source": [
    "fig, ax = plt.subplots(1,1,figsize=(6,5))\n",
    "plotMeasuredVsPredicted(ax, mixedCl_plsr, data, Y_cv)\n",
    "plt.title(\"Correlation Measured vs Predicted\", fontsize=14);"
   ]
  },
  {
   "cell_type": "code",
   "execution_count": 17,
   "metadata": {},
   "outputs": [
    {
     "data": {
      "image/png": "[encoded data removed]",
      "text/plain": [
       "<Figure size 864x432 with 2 Axes>"
      ]
     },
     "metadata": {
      "needs_background": "light"
     },
     "output_type": "display_data"
    }
   ],
   "source": [
    "fig, axs = plt.subplots(1, 2,figsize=(12,6))\n",
    "\n",
    "colors_ = cm.rainbow(np.linspace(0, 1, ncl))\n",
    "\n",
    "\n",
    "axs[0].scatter(PC1_scores,PC2_scores)\n",
    "for j, txt in enumerate(treatments):\n",
    "    axs[0].annotate(txt, (PC1_scores[j], PC2_scores[j]))\n",
    "axs[0].set_title('PLSR Model Scores')\n",
    "axs[0].set_xlabel('PC1')\n",
    "axs[0].set_ylabel('PC2')\n",
    "axs[0].axhline(y=0, color='0.25', linestyle='--')\n",
    "axs[0].axvline(x=0, color='0.25', linestyle='--')\n",
    "spacer = 0.2\n",
    "axs[0].set_xlim([(-1*max(PC1_scores))-spacer, max(PC1_scores)+spacer])\n",
    "axs[0].set_ylim([(-1*max(PC2_scores))-spacer, max(PC2_scores)+spacer])\n",
    "\n",
    "numbered=[]\n",
    "list(map(lambda v: numbered.append(str(v+1)), range(ncl)))\n",
    "\n",
    "for i, txt in enumerate(numbered):\n",
    "    axs[1].annotate(txt, (PC1_xload[i], PC2_xload[i]))\n",
    "axs[1].annotate(\"Cell Viability\", (PC1_yload+0.05, PC2_yload-0.05))\n",
    "axs[1].scatter(PC1_xload, PC2_xload, c=np.arange(ncl), cmap=colors.ListedColormap(colors_))\n",
    "axs[1].scatter(PC1_yload, PC2_yload, color='#000000', marker='D', label='Cell Viability')\n",
    "axs[1].set_title('PLSR Model Loadings (Averaged Clusters)')\n",
    "axs[1].set_xlabel('PC1')\n",
    "axs[1].set_ylabel('PC2')\n",
    "axs[1].axhline(y=0, color='0.25', linestyle='--')\n",
    "axs[1].axvline(x=0, color='0.25', linestyle='--')\n",
    "axs[1].set_xlim([(-1*max(list(PC1_xload)+list(PC1_yload)))-spacer, max(list(PC1_xload)+list(PC1_yload))+spacer])\n",
    "axs[1].set_ylim([(-1*max(list(PC2_xload)+list(PC2_yload)))-spacer, max(list(PC2_xload)+list(PC2_yload))+spacer]);"
   ]
  },
  {
   "cell_type": "code",
   "execution_count": 18,
   "metadata": {},
   "outputs": [
    {
     "data": {
      "text/html": [
       "<div>\n",
       "<style scoped>\n",
       "    .dataframe tbody tr th:only-of-type {\n",
       "        vertical-align: middle;\n",
       "    }\n",
       "\n",
       "    .dataframe tbody tr th {\n",
       "        vertical-align: top;\n",
       "    }\n",
       "\n",
       "    .dataframe thead th {\n",
       "        text-align: right;\n",
       "    }\n",
       "</style>\n",
       "<table border=\"1\" class=\"dataframe\">\n",
       "  <thead>\n",
       "    <tr style=\"text-align: right;\">\n",
       "      <th></th>\n",
       "      <th>Cluster_1</th>\n",
       "      <th>seqs_Cluster_1</th>\n",
       "      <th>UniprotAcc_Cluster_1</th>\n",
       "      <th>pos_Cluster_1</th>\n",
       "      <th>r2/Std_Cluster_1</th>\n",
       "      <th>BioReps_Cluster_1</th>\n",
       "      <th>Cluster_2</th>\n",
       "      <th>seqs_Cluster_2</th>\n",
       "      <th>UniprotAcc_Cluster_2</th>\n",
       "      <th>pos_Cluster_2</th>\n",
       "      <th>r2/Std_Cluster_2</th>\n",
       "      <th>BioReps_Cluster_2</th>\n",
       "    </tr>\n",
       "  </thead>\n",
       "  <tbody>\n",
       "    <tr>\n",
       "      <th>0</th>\n",
       "      <td>14-3-3 protein zeta/delta</td>\n",
       "      <td>LLSVAyKNVVG</td>\n",
       "      <td>P63104</td>\n",
       "      <td>Y48-p</td>\n",
       "      <td>NA</td>\n",
       "      <td>1</td>\n",
       "      <td>1-phosphatidylinositol 4,5-bisphosphate phosph...</td>\n",
       "      <td>RNPGFyVEANP</td>\n",
       "      <td>P19174</td>\n",
       "      <td>Y783-p</td>\n",
       "      <td>NA</td>\n",
       "      <td>1</td>\n",
       "    </tr>\n",
       "    <tr>\n",
       "      <th>1</th>\n",
       "      <td>Actin filament-associated protein 1-like 2</td>\n",
       "      <td>DEEYIyMNKVT</td>\n",
       "      <td>Q8N4X5</td>\n",
       "      <td>Y56-p</td>\n",
       "      <td>NA</td>\n",
       "      <td>1</td>\n",
       "      <td>14-3-3 protein epsilon</td>\n",
       "      <td>GDYHRyLAEFA</td>\n",
       "      <td>P62258</td>\n",
       "      <td>Y131-p</td>\n",
       "      <td>NA</td>\n",
       "      <td>1</td>\n",
       "    </tr>\n",
       "    <tr>\n",
       "      <th>2</th>\n",
       "      <td>Actin-related protein 3</td>\n",
       "      <td>EPEDHyFLLTE</td>\n",
       "      <td>P61158</td>\n",
       "      <td>Y109-p</td>\n",
       "      <td>NA</td>\n",
       "      <td>1</td>\n",
       "      <td>60S ribosomal protein L22-like 1</td>\n",
       "      <td>TYELRyFQISQ</td>\n",
       "      <td>Q6P5R6</td>\n",
       "      <td>Y108-p</td>\n",
       "      <td>NA</td>\n",
       "      <td>1</td>\n",
       "    </tr>\n",
       "    <tr>\n",
       "      <th>3</th>\n",
       "      <td>Adapter molecule crk</td>\n",
       "      <td>QEEAEyVRALF</td>\n",
       "      <td>P46108</td>\n",
       "      <td>Y136-p</td>\n",
       "      <td>0.85</td>\n",
       "      <td>2</td>\n",
       "      <td>ADP-ribosylation factor-like protein 11</td>\n",
       "      <td>KtTLLyKLKGH</td>\n",
       "      <td>Q969Q4</td>\n",
       "      <td>Y30-p</td>\n",
       "      <td>0.94</td>\n",
       "      <td>2</td>\n",
       "    </tr>\n",
       "    <tr>\n",
       "      <th>4</th>\n",
       "      <td>Afadin</td>\n",
       "      <td>TYTREyFTFPA</td>\n",
       "      <td>P55196</td>\n",
       "      <td>Y1230-p</td>\n",
       "      <td>0.63</td>\n",
       "      <td>2</td>\n",
       "      <td>ADP/ATP translocase 2</td>\n",
       "      <td>ANVIRyFPTQA</td>\n",
       "      <td>P05141</td>\n",
       "      <td>Y81-p</td>\n",
       "      <td>NA</td>\n",
       "      <td>1</td>\n",
       "    </tr>\n",
       "    <tr>\n",
       "      <th>...</th>\n",
       "      <td>...</td>\n",
       "      <td>...</td>\n",
       "      <td>...</td>\n",
       "      <td>...</td>\n",
       "      <td>...</td>\n",
       "      <td>...</td>\n",
       "      <td>...</td>\n",
       "      <td>...</td>\n",
       "      <td>...</td>\n",
       "      <td>...</td>\n",
       "      <td>...</td>\n",
       "      <td>...</td>\n",
       "    </tr>\n",
       "    <tr>\n",
       "      <th>261</th>\n",
       "      <td>NaN</td>\n",
       "      <td>NaN</td>\n",
       "      <td>NaN</td>\n",
       "      <td>NaN</td>\n",
       "      <td>NaN</td>\n",
       "      <td>NaN</td>\n",
       "      <td>Tyrosine-protein phosphatase non-receptor type 11</td>\n",
       "      <td>QNTGDyYDLYG</td>\n",
       "      <td>Q06124</td>\n",
       "      <td>Y62-p</td>\n",
       "      <td>0.4</td>\n",
       "      <td>3</td>\n",
       "    </tr>\n",
       "    <tr>\n",
       "      <th>262</th>\n",
       "      <td>NaN</td>\n",
       "      <td>NaN</td>\n",
       "      <td>NaN</td>\n",
       "      <td>NaN</td>\n",
       "      <td>NaN</td>\n",
       "      <td>NaN</td>\n",
       "      <td>Vasodilator-stimulated phosphoprotein</td>\n",
       "      <td>SRVQIyHNPTA</td>\n",
       "      <td>P50552</td>\n",
       "      <td>Y39-p</td>\n",
       "      <td>0.72</td>\n",
       "      <td>2</td>\n",
       "    </tr>\n",
       "    <tr>\n",
       "      <th>263</th>\n",
       "      <td>NaN</td>\n",
       "      <td>NaN</td>\n",
       "      <td>NaN</td>\n",
       "      <td>NaN</td>\n",
       "      <td>NaN</td>\n",
       "      <td>NaN</td>\n",
       "      <td>Zinc finger protein 185</td>\n",
       "      <td>GALADyEGKDV</td>\n",
       "      <td>O15231</td>\n",
       "      <td>Y408-p</td>\n",
       "      <td>NA</td>\n",
       "      <td>1</td>\n",
       "    </tr>\n",
       "    <tr>\n",
       "      <th>264</th>\n",
       "      <td>NaN</td>\n",
       "      <td>NaN</td>\n",
       "      <td>NaN</td>\n",
       "      <td>NaN</td>\n",
       "      <td>NaN</td>\n",
       "      <td>NaN</td>\n",
       "      <td>Zinc finger protein 185</td>\n",
       "      <td>PVSARySNVSS</td>\n",
       "      <td>O15231</td>\n",
       "      <td>Y597-p</td>\n",
       "      <td>NA</td>\n",
       "      <td>1</td>\n",
       "    </tr>\n",
       "    <tr>\n",
       "      <th>265</th>\n",
       "      <td>NaN</td>\n",
       "      <td>NaN</td>\n",
       "      <td>NaN</td>\n",
       "      <td>NaN</td>\n",
       "      <td>NaN</td>\n",
       "      <td>NaN</td>\n",
       "      <td>p53 apoptosis effector related to PMP-22</td>\n",
       "      <td>NAKPRyFYTSA</td>\n",
       "      <td>Q96FX8</td>\n",
       "      <td>Y188-p</td>\n",
       "      <td>NA</td>\n",
       "      <td>1</td>\n",
       "    </tr>\n",
       "  </tbody>\n",
       "</table>\n",
       "<p>266 rows × 12 columns</p>\n",
       "</div>"
      ],
      "text/plain": [
       "                                      Cluster_1 seqs_Cluster_1  \\\n",
       "0                     14-3-3 protein zeta/delta    LLSVAyKNVVG   \n",
       "1    Actin filament-associated protein 1-like 2    DEEYIyMNKVT   \n",
       "2                       Actin-related protein 3    EPEDHyFLLTE   \n",
       "3                          Adapter molecule crk    QEEAEyVRALF   \n",
       "4                                        Afadin    TYTREyFTFPA   \n",
       "..                                          ...            ...   \n",
       "261                                         NaN            NaN   \n",
       "262                                         NaN            NaN   \n",
       "263                                         NaN            NaN   \n",
       "264                                         NaN            NaN   \n",
       "265                                         NaN            NaN   \n",
       "\n",
       "    UniprotAcc_Cluster_1 pos_Cluster_1 r2/Std_Cluster_1 BioReps_Cluster_1  \\\n",
       "0                 P63104         Y48-p               NA                 1   \n",
       "1                 Q8N4X5         Y56-p               NA                 1   \n",
       "2                 P61158        Y109-p               NA                 1   \n",
       "3                 P46108        Y136-p             0.85                 2   \n",
       "4                 P55196       Y1230-p             0.63                 2   \n",
       "..                   ...           ...              ...               ...   \n",
       "261                  NaN           NaN              NaN               NaN   \n",
       "262                  NaN           NaN              NaN               NaN   \n",
       "263                  NaN           NaN              NaN               NaN   \n",
       "264                  NaN           NaN              NaN               NaN   \n",
       "265                  NaN           NaN              NaN               NaN   \n",
       "\n",
       "                                             Cluster_2 seqs_Cluster_2  \\\n",
       "0    1-phosphatidylinositol 4,5-bisphosphate phosph...    RNPGFyVEANP   \n",
       "1                               14-3-3 protein epsilon    GDYHRyLAEFA   \n",
       "2                     60S ribosomal protein L22-like 1    TYELRyFQISQ   \n",
       "3              ADP-ribosylation factor-like protein 11    KtTLLyKLKGH   \n",
       "4                                ADP/ATP translocase 2    ANVIRyFPTQA   \n",
       "..                                                 ...            ...   \n",
       "261  Tyrosine-protein phosphatase non-receptor type 11    QNTGDyYDLYG   \n",
       "262              Vasodilator-stimulated phosphoprotein    SRVQIyHNPTA   \n",
       "263                            Zinc finger protein 185    GALADyEGKDV   \n",
       "264                            Zinc finger protein 185    PVSARySNVSS   \n",
       "265           p53 apoptosis effector related to PMP-22    NAKPRyFYTSA   \n",
       "\n",
       "    UniprotAcc_Cluster_2 pos_Cluster_2 r2/Std_Cluster_2 BioReps_Cluster_2  \n",
       "0                 P19174        Y783-p               NA                 1  \n",
       "1                 P62258        Y131-p               NA                 1  \n",
       "2                 Q6P5R6        Y108-p               NA                 1  \n",
       "3                 Q969Q4         Y30-p             0.94                 2  \n",
       "4                 P05141         Y81-p               NA                 1  \n",
       "..                   ...           ...              ...               ...  \n",
       "261               Q06124         Y62-p              0.4                 3  \n",
       "262               P50552         Y39-p             0.72                 2  \n",
       "263               O15231        Y408-p               NA                 1  \n",
       "264               O15231        Y597-p               NA                 1  \n",
       "265               Q96FX8        Y188-p               NA                 1  \n",
       "\n",
       "[266 rows x 12 columns]"
      ]
     },
     "execution_count": 18,
     "metadata": {},
     "output_type": "execute_result"
    }
   ],
   "source": [
    "clustermembers = mixedCl_plsr.named_steps.mixedCl.clustermembers(ABC.T)\n",
    "clustermembers"
   ]
  },
  {
   "cell_type": "code",
   "execution_count": 19,
   "metadata": {},
   "outputs": [
    {
     "data": {
      "text/html": [
       "<a download=\"DataClustering\" href=\"data:text/csv;base64,LENsdXN0ZXJfMSxzZXFzX0NsdXN0ZXJfMSxVbmlwcm90QWNjX0NsdXN0ZXJfMSxwb3NfQ2x1c3Rlcl8xLHIyL1N0ZF9DbHVzdGVyXzEsQmlvUmVwc19DbHVzdGVyXzEsQ2x1c3Rlcl8yLHNlcXNfQ2x1c3Rlcl8yLFVuaXByb3RBY2NfQ2x1c3Rlcl8yLHBvc19DbHVzdGVyXzIscjIvU3RkX0NsdXN0ZXJfMixCaW9SZXBzX0NsdXN0ZXJfMgowLDE0LTMtMyBwcm90ZWluIHpldGEvZGVsdGEsTExTVkF5S05WVkcsUDYzMTA0LFk0OC1wLE5BLDEsIjEtcGhvc3BoYXRpZHlsaW5vc2l0b2wgNCw1LWJpc3Bob3NwaGF0ZSBwaG9zcGhvZGllc3RlcmFzZSBnYW1tYS0xIixSTlBHRnlWRUFOUCxQMTkxNzQsWTc4My1wLE5BLDEKMSxBY3RpbiBmaWxhbWVudC1hc3NvY2lhdGVkIHByb3RlaW4gMS1saWtlIDIsREVFWUl5TU5LVlQsUThONFg1LFk1Ni1wLE5BLDEsMTQtMy0zIHByb3RlaW4gZXBzaWxvbixHRFlIUnlMQUVGQSxQNjIyNTgsWTEzMS1wLE5BLDEKMixBY3Rpbi1yZWxhdGVkIHByb3RlaW4gMyxFUEVESHlGTExURSxQNjExNTgsWTEwOS1wLE5BLDEsNjBTIHJpYm9zb21hbCBwcm90ZWluIEwyMi1saWtlIDEsVFlFTFJ5RlFJU1EsUTZQNVI2LFkxMDgtcCxOQSwxCjMsQWRhcHRlciBtb2xlY3VsZSBjcmssUUVFQUV5VlJBTEYsUDQ2MTA4LFkxMzYtcCwwLjg1LDIsQURQLXJpYm9zeWxhdGlvbiBmYWN0b3ItbGlrZSBwcm90ZWluIDExLEt0VExMeUtMS0dILFE5NjlRNCxZMzAtcCwwLjk0LDIKNCxBZmFkaW4sVFlUUkV5RlRGUEEsUDU1MTk2LFkxMjMwLXAsMC42MywyLEFEUC9BVFAgdHJhbnNsb2Nhc2UgMixBTlZJUnlGUFRRQSxQMDUxNDEsWTgxLXAsTkEsMQo1LEFubmV4aW4gQTgsREFFVEx5S0FNS0csUDEzOTI4LFkzMS1wLE5BLDEsQVJGIEdUUGFzZS1hY3RpdmF0aW5nIHByb3RlaW4gR0lUMSxERFFIRHlEU1ZBUyxROVkyWDcsWTM4My1wLE5BLDEKNixBcmdpbmlub3N1Y2NpbmF0ZSBzeW50aGFzZSxMS0dRVnlJTEdSRSxQMDA5NjYsWTM1OS1wLE5BLDEsQVJGIEdUUGFzZS1hY3RpdmF0aW5nIHByb3RlaW4gR0lUMSxHQURTRHlFTlRRUyxROVkyWDcsWTU5OC1wLE5BLDEKNyxCQUcgZmFtaWx5IG1vbGVjdWxhciBjaGFwZXJvbmUgcmVndWxhdG9yIDMsVEhRUFZ5SEtJUUcsTzk1ODE3LFkyNDctcCxOQSwxLEFUUGFzZSBXUk5JUDEsQUdFRUh5TkNJU0EsUTk2UzU1LFk1MDAtcCxOQSwxCjgsQmFuZCA0LjEtbGlrZSBwcm90ZWluIDIsRUdETkl5VlJIU04sTzQzNDkxLFk2MjMtcCwwLjQ2LDQsQWJsIGludGVyYWN0b3IgMixWVlBORHlWUFNQVCxROU5ZQjksWTIxMy1wLE5BLDEKOSxCYW5kIDQuMS1saWtlIHByb3RlaW4gMixLS1FLc3lUTFZWQSxPNDM0OTEsWTg4LXAsTkEsMSxBY3RpbiBmaWxhbWVudC1hc3NvY2lhdGVkIHByb3RlaW4gMS1saWtlIDIsU1BESEx5U0ZSSUwsUThONFg1LFk0MTMtcCxOQSwxCjEwLEJyYWluLXNwZWNpZmljIGFuZ2lvZ2VuZXNpcyBpbmhpYml0b3IgMS1hc3NvY2lhdGVkIHByb3RlaW4gMi1saWtlIHByb3RlaW4gMSxWVlJLRHlEVExTSyxROVVIUjQsWTI3NC1wLDAuOTgsMiwiQWN0aW4sIGN5dG9wbGFzbWljIDEiLExURVJHeVNGVFRULFA2MDcwOSxZMTk4LXAsMC4yOSwzCjExLENhdGVuaW4gZGVsdGEtMSxGSFBFUHlHTEVERCxPNjA3MTYsWTI4MC1wLE5BLDEsIkFjdGluLCBjeXRvcGxhc21pYyAxIixSRExURHlMTUtJTCxQNjA3MDksWTE4OC1wLDAuOTYsMgoxMixDYXZlb2xpbi0xLFNFS1FWeURBSFRLLFEwMzEzNSxZNDItcCxOQSwxLCJBY3RpbiwgY3l0b3BsYXNtaWMgMSIsU0xFS3N5RUxQREcsUDYwNzA5LFkyNDAtcCwwLjI0LDMKMTMsQ2VsbCBzdXJmYWNlIGdseWNvcHJvdGVpbiBNVUMxOCxEUUdFS3lJRExSSCxQNDMxMjEsWTY0MS1wLE5BLDEsQWN0aXZhdGVkIENEQzQyIGtpbmFzZSAxLFZTU1RIeVlMTFBFLFEwNzkxMixZODU5LXAsTkEsMQoxNCxDZW50cm9zb21hbCBwcm90ZWluIG9mIDg5IGtEYSxIU0RETHlBVlBIUixROTZTVDgsWTE1Ny1wLE5BLDEsQWN0aXZhdG9yIG9mIDkwIGtEYSBoZWF0IHNob2NrIHByb3RlaW4gQVRQYXNlIGhvbW9sb2cgMSxRR1dRUnlZRkVHSSxPOTU0MzMsWTMyMi1wLDAuOTMsMgoxNSxDb2FjdG9zaW4tbGlrZSBwcm90ZWluLEFDUkFBeU5MVlJELFExNDAxOSxZMTQtcCxOQSwxLCJBZGVueWxhdGUga2luYXNlIDIsIG1pdG9jaG9uZHJpYWwiLEFBRVBFeVBLR0lSLFA1NDgxOSxZMTItcCxOQSwxCjE2LEN5Y2xpbi1kZXBlbmRlbnQga2luYXNlIDE3LExHRUdUeUFUVllLLFEwMDUzNyxZMjAzLXAsTkEsMSxBbGRvLWtldG8gcmVkdWN0YXNlIGZhbWlseSAxIG1lbWJlciBCMSxBSURWR3lSSElEQyxQMTUxMjEsWTQwLXAsTkEsMQoxNyxDeWNsaW4tZGVwZW5kZW50LWxpa2Uga2luYXNlIDUsSUdFR1R5R1RWRkssUTAwNTM1LFkxNS1wLDEuMCwyLEFsZG8ta2V0byByZWR1Y3Rhc2UgZmFtaWx5IDEgbWVtYmVyIEMzLEFTSFBOeVBZU0RFLFA0MjMzMCxZMzE3LXAsTkEsMQoxOCxEZXNtb3BsYWtpbixFS3NBSXlRTEVFRSxQMTU5MjQsWTI0OS1wLE5BLDEsQWxkby1rZXRvIHJlZHVjdGFzZSBmYW1pbHkgMSBtZW1iZXIgQzMsS1BHTEt5S1BWQ04sUDQyMzMwLFkxODQtcCxOQSwxCjE5LCJEaXNjb2lkaW4sIENVQiBhbmQgTENDTCBkb21haW4tY29udGFpbmluZyBwcm90ZWluIDIiLFNBUUFReURUUEtBLFE5NlBEMixZNzMyLXAsTkEsMSxBbHBoYS1hY3RpbmluLTEsRFZBRUt5TERJUEssUDEyODE0LFkyMTUtcCxOQSwxCjIwLEVSQkIgcmVjZXB0b3IgZmVlZGJhY2sgaW5oaWJpdG9yIDEsVlNTVEh5WUxMUEUsUTlVSk0zLFkzOTQtcCxOQSwxLEFscGhhLWFjdGluaW4tMSxOS0hUTnlUTUVISSxQMTI4MTQsWTcwOC1wLE5BLDEKMjEsRWxvbmdhdGlvbiBmYWN0b3IgMS1hbHBoYSAxLEtFVlNUeUlLS0lHLFA2ODEwNCxZMTc3LXAsTkEsMSxBbHBoYS1hY3RpbmluLTEsWVZTU0Z5SEFGU0csUDEyODE0LFkyNDYtcCxOQSwxCjIyLEVwaWRlcm1hbCBncm93dGggZmFjdG9yIHJlY2VwdG9yLEFFTkFFeUxSVkFQLFAwMDUzMyxZMTE5Ny1wLDAuNDIsMyxBbHBoYS1hY3RpbmluLTQsRVZBRUt5TERJUEssTzQzNzA3LFkyMzQtcCxOQSwxCjIzLEVwaWRlcm1hbCBncm93dGggZmFjdG9yIHJlY2VwdG9yLExETlBEeVFRREZGLFAwMDUzMyxZMTE3Mi1wLDAuNzEsNCxBbm5leGluIEExLFNBVlNQeVBURk5QLFAwNDA4MyxZMzktcCxOQSwxCjI0LEVwaWRlcm1hbCBncm93dGggZmFjdG9yIHJlY2VwdG9yLFJEUFFSeUxWSVFHLFAwMDUzMyxZOTc4LXAsTkEsMSxBbm5leGluIEEyLERBUkRMeURBR1ZLLFAwNzM1NSxZMTk5LXAsTkEsMQoyNSxFcGlkZXJtYWwgZ3Jvd3RoIGZhY3RvciByZWNlcHRvcixTRkxRUnlTU0RQVCxQMDA1MzMsWTEwNjktcCwwLjMzLDMsQW5uZXhpbiBBMixHS3NMWXlZSVFRRCxQMDczNTUsWTMxNy1wLE5BLDEKMjYsRmlsYW1pbi1DLFBDRUVWeVZLSE1HLFExNDMxNSxZMjY4My1wLE5BLDEsQW5uZXhpbiBBMixHU1ZLQXlUTkZEQSxQMDczNTUsWTMwLXAsMC4yNyw2CjI3LEZpbGFtaW4tQyxUSVRJS3lHR0RFSSxRMTQzMTUsWTE2MTYtcCxOQSwxLEFubmV4aW4gQTIsVFBQU0F5R1NWS0EsUDA3MzU1LFkyNC1wLDAuMTIsMwoyOCxHUkIyLWFzc29jaWF0ZWQtYmluZGluZyBwcm90ZWluIDEsREVSVkR5VlZWRFEsUTEzNDgwLFk2NTktcCwwLjM2LDQsQW5uZXhpbiBBNSxHRFRTR3lZUVJNTCxQMDg3NTgsWTE0OC1wLE5BLDEKMjksR1JCMi1hc3NvY2lhdGVkLWJpbmRpbmcgcHJvdGVpbiAxLERLUVZFeUxETERMLFExMzQ4MCxZNjI3LXAsMC40LDMsQW5vY3RhbWluLTEsUlZORUt5U1RMUEEsUTVYWEE2LFk3LXAsTkEsMQozMCxHUkIyLWFzc29jaWF0ZWQtYmluZGluZyBwcm90ZWluIDEsU1NRREN5RElQUkEsUTEzNDgwLFk0MDYtcCwwLjU3LDUsQXJmLUdBUCBkb21haW4gYW5kIEZHIHJlcGVhdC1jb250YWluaW5nIHByb3RlaW4gMSxRVEFES3lBQUxBTixQNTI1OTQsWTMyNy1wLE5BLDEKMzEsR1JCMi1hc3NvY2lhdGVkLWJpbmRpbmcgcHJvdGVpbiAyLEZSRFNUeURMUFJTLFE5VVFDMixZMjY2LXAsTkEsMSxCYW5kIDQuMS1saWtlIHByb3RlaW4gMSxJUlBHRXlFUUZFUyxROUg0RzAsWTM0My1wLDAuMzMsMwozMixHb2xnaW4gc3ViZmFtaWx5IEEgbWVtYmVyIDQsWUVLTlZ5QVRUVkcsUTEzNDM5LFkyMTQ4LXAsMC45OCwyLEJjbC0yLWFzc29jaWF0ZWQgdHJhbnNjcmlwdGlvbiBmYWN0b3IgMSxOR1NTUnlzUFNRTixROU5ZRjgsWTI4NC1wLE5BLDEKMzMsSGVwYXRvY3l0ZSBncm93dGggZmFjdG9yIHJlY2VwdG9yLEtDVkFQeVBTTExTLFAwODU4MSxZMTM2NS1wLE5BLDEsQmV0YS9nYW1tYSBjcnlzdGFsbGluIGRvbWFpbi1jb250YWluaW5nIHByb3RlaW4gMixLR0dSR3lEUkRIVixROE4xUDcsWTE2MzctcCxOQSwxCjM0LEhlcGF0b2N5dGUgZ3Jvd3RoIGZhY3RvciByZWNlcHRvcixNWURLRXlZU1ZITixQMDg1ODEsWTEyMzQtcCwwLjk3LDIsQmlmdW5jdGlvbmFsIHB1cmluZSBiaW9zeW50aGVzaXMgcHJvdGVpbiBQVVJILFFNUExSeUdNTlBILFAzMTkzOSxZMjA4LXAsTkEsMQozNSxIZXRlcm9nZW5lb3VzIG51Y2xlYXIgcmlib251Y2xlb3Byb3RlaW4gSDMsRUlLR0Z5RFBQUlIsUDMxOTQyLFkxMDAtcCxOQSwxLEJyYWluLXNwZWNpZmljIGFuZ2lvZ2VuZXNpcyBpbmhpYml0b3IgMS1hc3NvY2lhdGVkIHByb3RlaW4gMixGS1FSUHlTVkFWUCxROVVRQjgsWTQ5MS1wLE5BLDEKMzYsSGV0ZXJvZ2VuZW91cyBudWNsZWFyIHJpYm9udWNsZW9wcm90ZWlucyBBMi9CMSxOTUdHUHlHR0dOWSxQMjI2MjYsWTMzMS1wLE5BLDEsQnJlYXN0IGNhbmNlciBhbnRpLWVzdHJvZ2VuIHJlc2lzdGFuY2UgcHJvdGVpbiAxLElMVkdNeURLS1BBLFA1Njk0NSxZNjctcCxOQSwxCjM3LEluc3VsaW4gcmVjZXB0b3IsWUVURFl5UktHR0ssUDA2MjEzLFkxMTkwLXAsMS4wLDIsQnJlYXN0IGNhbmNlciBhbnRpLWVzdHJvZ2VuIHJlc2lzdGFuY2UgcHJvdGVpbiAxLFBBUERMeURWUFBHLFA1Njk0NSxZMzcyLXAsTkEsMQozOCxJbnN1bGluLWxpa2UgZ3Jvd3RoIGZhY3RvciAxIHJlY2VwdG9yLElZRVREeVlSS0dHLFAwODA2OSxZMTE2NS1wLE5BLDEsQnJlYXN0IGNhbmNlciBhbnRpLWVzdHJvZ2VuIHJlc2lzdGFuY2UgcHJvdGVpbiAzLERQVFZFeVZLRlNLLE83NTgxNSxZMTE3LXAsMC4yMiw0CjM5LEludGVncmluIGJldGEtNCxUTFRSRHlOU0xUUixQMTYxNDQsWTE0OTItcCxOQSwxLEJyZWFzdCBjYW5jZXIgYW50aS1lc3Ryb2dlbiByZXNpc3RhbmNlIHByb3RlaW4gMyxSTFNFQXlTUlZRWSxPNzU4MTUsWTIxMi1wLE5BLDEKNDAsSnVuY3Rpb24gcGxha29nbG9iaW4sR1RRUVB5VERHVlIsUDE0OTIzLFk1NTAtcCxOQSwxLENhbHBvbmluLTMsS0dNU1Z5R0xHUlEsUTE1NDE3LFkyNjEtcCxOQSwxCjQxLCJLZXJhdGluLCB0eXBlIElJIGN5dG9za2VsZXRhbCA2QSIsRFZEQUF5TU5LVkUsUDAyNTM4LFkyNzgtcCwwLjk4LDIsQ2FsdW1lbmluLFFLUldJeUVEVkVSLE80Mzg1MixZMTA2LXAsTkEsMQo0MixLaW4gb2YgSVJSRS1saWtlIHByb3RlaW4gMSxTSFNTR3lBUUxOVCxROTZKODQsWTY0Ny1wLE5BLDEsQ2F0ZW5pbiBiZXRhLTEsQVZSTEh5R0xQVlYsUDM1MjIyLFk0ODktcCwwLjgzLDIKNDMsS2luZXNpbi1saWtlIHByb3RlaW4gS0lGMjBBLExLUnNWeUlFU1JJLE85NTIzNSxZMjQ2LXAsTkEsMSxDYXRlbmluIGRlbHRhLTEsR0dTRE55R1NMU1IsTzYwNzE2LFkyMjgtcCwwLjYzLDIKNDQsTGV0aGFsKDIpIGdpYW50IGxhcnZhZSBwcm90ZWluIGhvbW9sb2cgMSxHQ0ZEUHlTRERQUixRMTUzMzQsWTUwOS1wLE5BLDEsQ2F0ZW5pbiBkZWx0YS0xLEdHU0ROeUdzTFNSLE82MDcxNixZMjI4LXAsMC42LDIKNDUsTWF0cmluLTMsVFJFUFB5UlZQUkQsUDQzMjQzLFkxNzEtcCxOQSwxLENhdGVuaW4gZGVsdGEtMSxRU1NIU3lERFNUTCxPNjA3MTYsWTg2NS1wLE5BLDEKNDYsTWl0b2dlbi1hY3RpdmF0ZWQgcHJvdGVpbiBraW5hc2UgMSxHRkxURXlWQVRSVyxQMjg0ODIsWTE4Ny1wLDAuNDQsMyxDYXRlbmluIGRlbHRhLTEsUklFRVJ5UlBTTUUsTzYwNzE2LFkyNDEtcCxOQSwxCjQ3LE1pdG9nZW4tYWN0aXZhdGVkIHByb3RlaW4ga2luYXNlIDEsR0ZMdEV5VkFUUlcsUDI4NDgyLFkxODctcCwwLjY1LDMsQ2F0ZW5pbiBkZWx0YS0xLFNMRE5OeVNUUE5FLE82MDcxNixZOTA0LXAsTkEsMQo0OCxNaXRvZ2VuLWFjdGl2YXRlZCBwcm90ZWluIGtpbmFzZSAzLEdGTFRFeVZBVFJXLFAyNzM2MSxZMjA0LXAsMC4zOCwzLENhdGVuaW4gZGVsdGEtMSxTUlFEVnlHUFFQUSxPNjA3MTYsWTI1Ny1wLE5BLDEKNDksTmV1cmFsIFdpc2tvdHQtQWxkcmljaCBzeW5kcm9tZSBwcm90ZWluLFRTS1ZJeURGSUVLLE8wMDQwMSxZMjU2LXAsMC42MiwyLENhdGVuaW4gZGVsdGEtMSxTVlNOTnlJUVRMRyxPNjA3MTYsWTE3NC1wLE5BLDEKNTAsTmV1cm9ibGFzdCBkaWZmZXJlbnRpYXRpb24tYXNzb2NpYXRlZCBwcm90ZWluIEFITkFLLEtNS0dEeURWVFZQLFEwOTY2NixZMTQ2OS1wLDAuODksMixDbGF0aHJpbiBoZWF2eSBjaGFpbiAxLE5MRFJBeUVGQUVSLFEwMDYxMCxZMTA5Ni1wLE5BLDEKNTEsTmV1cm9ibGFzdCBkaWZmZXJlbnRpYXRpb24tYXNzb2NpYXRlZCBwcm90ZWluIEFITkFLLEtWS0dFeURNVFZQLFEwOTY2NixZOTY0LXAsTkEsMSxDbGF1ZGluLTMsQVRLVlZ5U0FQUlMsTzE1NTUxLFkxOTgtcCxOQSwxCjUyLE5ldXJvYmxhc3QgZGlmZmVyZW50aWF0aW9uLWFzc29jaWF0ZWQgcHJvdGVpbiBBSE5BSyxLVktHRXlEVlRWUCxRMDk2NjYsWTcxNS1wLDAuOTgsMixDb2ZpbGluLTEsTFFBTkN5RUVWS0QsUDIzNTI4LFkxNDAtcCwwLjMsMwo1MyxOZXVyb2JsYXN0IGRpZmZlcmVudGlhdGlvbi1hc3NvY2lhdGVkIHByb3RlaW4gQUhOQUssTlZLR0V5RFZUTVAsUTA5NjY2LFk4MzYtcCxOQSwxLENvZmlsaW4tMSxUVkREUHlBVEZWSyxQMjM1MjgsWTY4LXAsTkEsMQo1NCxOaWJhbi1saWtlIHByb3RlaW4gMSxNRE5BVnlURkVUTCxROTZUQTEsWTQ0Ni1wLE5BLDEsQ3JrLWxpa2UgcHJvdGVpbixSVlBDQXlES1RBTCxQNDYxMDksWTI1MS1wLDAuMjMsMwo1NSxOdWNsZW9waG9zbWluLEFLRklOeVZLTkNGLFAwNjc0OCxZMjcxLXAsTkEsMSxDeWNsaW4tZGVwZW5kZW50IGtpbmFzZSAxLElHRUdUeUdWVllLLFAwNjQ5MyxZMTUtcCwwLjk4LDMKNTYsT0NJQSBkb21haW4tY29udGFpbmluZyBwcm90ZWluIDEsUktOSVR5RUVMUk4sUTlOWDQwLFkxOTktcCwwLjk5LDIsQ3ljbGluLWRlcGVuZGVudCBraW5hc2UgMSxJR0VHdHlHVlZZSyxQMDY0OTMsWTE1LXAsMC40MywzCjU3LFBEWiBhbmQgTElNIGRvbWFpbiBwcm90ZWluIDQsTEdTRVZ5Uk1MUkUsUDUwNDc5LFkxOTEtcCxOQSwxLEN5c3RlaW5lIGFuZCBnbHljaW5lLXJpY2ggcHJvdGVpbiAxLENRS3RWeUZBRUVWLFAyMTI5MSxZMTgtcCxOQSwxCjU4LFBEWiBhbmQgTElNIGRvbWFpbiBwcm90ZWluIDUsSElWRVJ5VEVGeUgsUTk2SEM0LFkyNDctcCxOQSwxLEN5c3RlaW5lLXJpY2ggcHJvdGVpbiAxLENOS0VWeUZBRVJWLFA1MDIzOCxZMTItcCwwLjU5LDMKNTksUGFsbGFkaW4sUFNBU1J5QUFMU0QsUThXWDkzLFkxMzQ4LXAsTkEsMSxDeXN0ZWluZS1yaWNoIHRhaWwgcHJvdGVpbiAxLFFQR05QeVNTU1FSLEE4TVEwMyxZOTEtcCxOQSwxCjYwLFBob3NwaGF0aWR5bGlub3NpdG9sIDMta2luYXNlIHJlZ3VsYXRvcnkgc3VidW5pdCBhbHBoYSxLVFJEUXlMTVdMVCxQMjc5ODYsWTU4MC1wLDAuMiwzLEROQSBkYW1hZ2UtYmluZGluZyBwcm90ZWluIDEsUnRWUEx5RVNQUkssUTE2NTMxLFk3MTgtcCwwLjY1LDIKNjEsUGhvc3BoYXRpZHlsaW5vc2l0b2wgMy1raW5hc2UgcmVndWxhdG9yeSBzdWJ1bml0IGFscGhhLEt0UkRReUxNV0xULFAyNzk4NixZNTgwLXAsTkEsMSxETkEgZGFtYWdlLXJlZ3VsYXRlZCBhdXRvcGhhZ3kgbW9kdWxhdG9yIHByb3RlaW4gMixIR0xUTHlEVEFQQyxRNlVYNjUsWTI0Ny1wLE5BLDEKNjIsUmFzIGFuZCBSYWIgaW50ZXJhY3RvciAxLEFRRFBMeURWUE5BLFExMzY3MSxZMzYtcCxOQSwxLEROQSByZXBsaWNhdGlvbiBsaWNlbnNpbmcgZmFjdG9yIE1DTTcsQUFOUEF5R1JZTlAsUDMzOTkzLFk0OTItcCxOQSwxCjYzLFJlY2VwdG9yIHR5cm9zaW5lLXByb3RlaW4ga2luYXNlIGVyYkItMixBRU5QRXlMR0xEVixQMDQ2MjYsWTEyNDgtcCxOQSwxLERlc21vcGxha2luLEdQRExSeUVWVFNHLFAxNTkyNCxZMjgtcCwwLjg5LDIKNjQsUmVjZXB0b3IgdHlyb3NpbmUtcHJvdGVpbiBraW5hc2UgZXJiQi0zLEZETlBEeVdIU1JMLFAyMTg2MCxZMTMyOC1wLDAuMzcsMyxEZXNtb3BsYWtpbixLR0dHR3lUQ1FTRyxQMTU5MjQsWTE3Mi1wLDAuMjUsMwo2NSxTSEMtdHJhbnNmb3JtaW5nIHByb3RlaW4gMSxGRERQU3lWTlZRTixQMjkzNTMsWTQyNy1wLDAuMzcsMyxEZXNtb3BsYWtpbixRTlNER3lDUVRHVCxQMTU5MjQsWTU2LXAsMC40NCw2CjY2LFNvZGl1bS1jb3VwbGVkIG5ldXRyYWwgYW1pbm8gYWNpZCB0cmFuc3BvcnRlciAyLE5TREZOeVNZUFRLLFE5NlFEOCxZMjgtcCxOQSwxLCJEaXNjb2lkaW4sIENVQiBhbmQgTENDTCBkb21haW4tY29udGFpbmluZyBwcm90ZWluIDIiLFBMVkdUeU5UTExTLFE5NlBEMixZNzE1LXAsTkEsMQo2NyxTcmMgc3Vic3RyYXRlIGNvcnRhY3RpbixBU1FLRHlTU0dGRyxRMTQyNDcsWTE1NC1wLE5BLDEsRGlzaW50ZWdyaW4gYW5kIG1ldGFsbG9wcm90ZWluYXNlIGRvbWFpbi1jb250YWluaW5nIHByb3RlaW4gOSxSRVZQSXlBTlJGQSxRMTM0NDMsWTc2OS1wLDAuOTQsMgo2OCxTdGFwaHlsb2NvY2NhbCBudWNsZWFzZSBkb21haW4tY29udGFpbmluZyBwcm90ZWluIDEsUFFHUkV5R01JWUwsUTdLWkY0LFkxMDktcCxOQSwxLERpc2tzIGxhcmdlIGhvbW9sb2cgMSxWREdSRHlIRlZUUyxRMTI5NTksWTc2MC1wLDAuNzYsMgo2OSxUZW5zaW4tMSxWQVlHR3lTVFBFRCxROUhCTDAsWTEzMjYtcCxOQSwxLERpc2tzIGxhcmdlIGhvbW9sb2cgMyxWREdRRHlIRlZWUyxROTI3OTYsWTY3My1wLE5BLDEKNzAsVGh5cm9pZCByZWNlcHRvci1pbnRlcmFjdGluZyBwcm90ZWluIDYsUERSUUF5RVBQUFAsUTE1NjU0LFkxMjMtcCxOQSwxLERyZWJyaW4tbGlrZSBwcm90ZWluLFBWR1NWeVFLVE5BLFE5VUpVNixZMTYyLXAsTkEsMQo3MSxUcmFuc21lbWJyYW5lIHByb3RlaW4gMjMwLFNURERHeUlETFFGLFE5NkE1NyxZMjktcCxOQSwxLCJEeW5laW4gbGlnaHQgY2hhaW4gMSwgY3l0b3BsYXNtaWMiLFJORkdTeVZUSEVULFA2MzE2NyxZNjUtcCxOQSwxCjcyLFR1YnVsaW4tZm9sZGluZyBjb2ZhY3RvciBCLEFSTEdFeUVEVlNSLFE5OTQyNixZOTgtcCxOQSwxLEVsb25nYXRpb24gZmFjdG9yIDEtZGVsdGEsTFZQVkd5R0lSS0wsUDI5NjkyLFkyMzgtcCwwLjgxLDIKNzMsVHdpbmZpbGluLTIsVEFFRkx5REVWSFAsUTZJQlMwLFkzMDktcCxOQSwxLEVuaGFuY2VyIG9mIGZpbGFtZW50YXRpb24gMSxFUkRHVnlEVlBMSCxRMTQ1MTEsWTM0NS1wLDAuMjcsNgo3NCxUeXJvc2luZS1wcm90ZWluIGtpbmFzZSBTWUssVlNGTlB5RVBFTEEsUDQzNDA1LFkzMjMtcCxOQSwxLEVuaGFuY2VyIG9mIGZpbGFtZW50YXRpb24gMSxFWVBTUnlRS0RWWSxRMTQ1MTEsWTE3Mi1wLE5BLDEKNzUsVHlyb3NpbmUtcHJvdGVpbiBraW5hc2UgWWVzLFRUS0dBeVNMU0lSLFAwNzk0NyxZMTk0LXAsMC45MywyLEVuaGFuY2VyIG9mIGZpbGFtZW50YXRpb24gMSxMUkVLRHlERlBQUCxRMTQ1MTEsWTI0MS1wLDAuMTMsNAo3NixUeXJvc2luZS1wcm90ZWluIGtpbmFzZSByZWNlcHRvciBVRk8sSFBBR1J5VkxDUFMsUDMwNTMwLFk4NjYtcCwwLjI5LDMsRW5oYW5jZXIgb2YgZmlsYW1lbnRhdGlvbiAxLE1ERFlEeVZITFFHLFExNDUxMSxZNjMxLXAsMC4zNCwzCjc3LFR5cm9zaW5lLXByb3RlaW4ga2luYXNlIHJlY2VwdG9yIFVGTyxJWU5HRHlZUlFHUixQMzA1MzAsWTcwMi1wLDAuNTksMyxFbmhhbmNlciBvZiBmaWxhbWVudGF0aW9uIDEsUlBFR1Z5RElQUFQsUTE0NTExLFkyNjEtcCxOQSwxCjc4LFR5cm9zaW5lLXByb3RlaW4ga2luYXNlIHJlY2VwdG9yIFVGTyxLS0VUUnlHRVZGRSxQMzA1MzAsWTQ4MS1wLDAuOTksMixFbmhhbmNlciBvZiBmaWxhbWVudGF0aW9uIDEsU1dNRER5RFlWSEwsUTE0NTExLFk2MjktcCwwLjg3LDIKNzksVHlyb3NpbmUtcHJvdGVpbiBraW5hc2UgcmVjZXB0b3IgVUZPLFlOR0RZeVJRR1JJLFAzMDUzMCxZNzAzLXAsTkEsMSxFbmhhbmNlciBvZiBydWRpbWVudGFyeSBob21vbG9nLElLRUtJeVZMTFJSLFA4NDA5MCxZOTItcCxOQSwxCjgwLFZpZ2lsaW4sSU5STUR5VkVJTkksUTAwMzQxLFk0MzctcCxOQSwxLEVudm9wbGFraW4sQUVEQVZ5RUxRU0ssUTkyODE3LFkxMzUyLXAsTkEsMQo4MSxaaW5jIGZpbmdlciBDQ0NILXR5cGUgYW50aXZpcmFsIHByb3RlaW4gMSxMTFNTRHlSSUlORyxRN1oyVzQsWTQxMC1wLE5BLDEsRXBocmluIHR5cGUtQSByZWNlcHRvciAyLFFLUklBeVNMTEdMLFAyOTMxNyxZOTYwLXAsTkEsMQo4MixaaW5jIGZpbmdlciBwcm90ZWluIDE4NSxMRlZLRXlWTkFTRSxPMTUyMzEsWTU4MS1wLDAuOTYsMixFcGhyaW4gdHlwZS1CIHJlY2VwdG9yIDMsRUtMUVF5SUFQR00sUDU0NzUzLFk2MDAtcCxOQSwxCjgzLCwsLCwsLEVwaHJpbiB0eXBlLUIgcmVjZXB0b3IgNCxES0hHUXlMSUdIRyxQNTQ3NjAsWTU4MS1wLE5BLDEKODQsLCwsLCwsRXBocmluIHR5cGUtQiByZWNlcHRvciA2LEdMR1ZLeXlJRFBTLE8xNTE5NyxZNjQ0LXAsTkEsMQo4NSwsLCwsLCxFcGhyaW4tQjEsTllDUEh5RUtWU0csUDk4MTcyLFkzMTctcCwwLjY4LDIKODYsLCwsLCwsRXBpZGVybWFsIGdyb3d0aCBmYWN0b3IgcmVjZXB0b3Iga2luYXNlIHN1YnN0cmF0ZSA4LEhQQURHeUFGU1NOLFExMjkyOSxZNDkxLXAsTkEsMQo4NywsLCwsLCxFcGlkZXJtYWwgZ3Jvd3RoIGZhY3RvciByZWNlcHRvciBraW5hc2Ugc3Vic3RyYXRlIDgsUkFEUFB5VEhUSVEsUTEyOTI5LFk2MDItcCwwLjk3LDIKODgsLCwsLCwsRXBpZGVybWFsIGdyb3d0aCBmYWN0b3IgcmVjZXB0b3Iga2luYXNlIHN1YnN0cmF0ZSA4LFNTVlNFeUhQQURHLFExMjkyOSxZNDg1LXAsTkEsMQo4OSwsLCwsLCxFcmJpbixHRFlMU3lSRUZIUyxROTZSVDEsWTExMDctcCxOQSwxCjkwLCwsLCwsLEVyYmluLEdHTEtJeURJTFNELFE5NlJUMSxZODg0LXAsTkEsMQo5MSwsLCwsLCxFcmJpbixJUEVHRHlMU1lSRSxROTZSVDEsWTExMDQtcCwwLjI5LDUKOTIsLCwsLCwsRXJiaW4sU0FUTEx5RFFQTFEsUTk2UlQxLFk5MjAtcCxOQSwxCjkzLCwsLCwsLEV1a2FyeW90aWMgdHJhbnNsYXRpb24gaW5pdGlhdGlvbiBmYWN0b3IgNEIsRFNGRER5UFBSUkcsUDIzNTg4LFkyMTEtcCxOQSwxCjk0LCwsLCwsLEZhdHR5IGFjaWQgc3ludGhhc2UsTVBGUkd5QVZMR0csUDQ5MzI3LFk0NzAtcCxOQSwxCjk1LCwsLCwsLEZsb3RpbGxpbi0xLExLS0FBeURJRVZOLE83NTk1NSxZMjIzLXAsTkEsMQo5NiwsLCwsLCxGb3VyIGFuZCBhIGhhbGYgTElNIGRvbWFpbnMgcHJvdGVpbiAyLExHR1RLeUlTRkVFLFExNDE5MixZMjM2LXAsTkEsMQo5NywsLCwsLCxGcnVjdG9zZS1iaXNwaG9zcGhhdGUgYWxkb2xhc2UgQSxMS1JDUXlWVEVLVixQMDQwNzUsWTIwNC1wLE5BLDEKOTgsLCwsLCwsRy1wcm90ZWluIGNvdXBsZWQgcmVjZXB0b3IgZmFtaWx5IEMgZ3JvdXAgNSBtZW1iZXIgQyxUUkdWR3lFVElMSyxROU5RODQsWTMyNC1wLDAuOTksMgo5OSwsLCwsLCxHUkIyLWFzc29jaWF0ZWQtYmluZGluZyBwcm90ZWluIDEsUVFRTUl5RFNQUFMsUTEzNDgwLFkyNDItcCxOQSwxCjEwMCwsLCwsLCxHYWxlY3Rpbi0xLEtMUERHeUVGS0ZQLFAwOTM4MixZMTA1LXAsMC44LDIKMTAxLCwsLCwsLEdlbmVyYWwgdHJhbnNjcmlwdGlvbiBmYWN0b3IgM0MgcG9seXBlcHRpZGUgMyxMS0FMR3lNRVJBQSxROVk1UTksWTQ3MS1wLE5BLDEKMTAyLCwsLCwsLEdsdWNvc2UtNi1waG9zcGhhdGUgMS1kZWh5ZHJvZ2VuYXNlLFFZRUdUeUtXVk5QLFAxMTQxMyxZNTA3LXAsTkEsMQoxMDMsLCwsLCwsR2x1Y29zZS02LXBob3NwaGF0ZSAxLWRlaHlkcm9nZW5hc2UsWVJJREh5TEdLRU0sUDExNDEzLFkyMDItcCxOQSwxCjEwNCwsLCwsLCxHbHV0YW1hdGUtcmljaCBwcm90ZWluIDMsUktFUkV5VklQS1IsUTVSSFA5LFk0MzctcCxOQSwxCjEwNSwsLCwsLCxHbHljb3NhbWlub2dseWNhbiB4eWxvc3lsa2luYXNlLFZFR0VQeUFHWURSLE83NTA2MyxZMTM4LXAsMC4zNywzCjEwNiwsLCwsLCxIZWF0IHNob2NrIDcwIGtEYSBwcm90ZWluIDFBLEFBQUlBeUdMRFJULFAwRE1WOCxZMTgzLXAsTkEsMQoxMDcsLCwsLCwsSGVhdCBzaG9jayBjb2duYXRlIDcxIGtEYSBwcm90ZWluLFFURlRUeVNETlFQLFAxMTE0MixZNDMxLXAsTkEsMQoxMDgsLCwsLCwsSGVhdCBzaG9jayBwcm90ZWluIEhTUCA5MC1hbHBoYSxFWUdFRnlLU0xUTixQMDc5MDAsWTMxMy1wLE5BLDEKMTA5LCwsLCwsLEhlYXQgc2hvY2sgcHJvdGVpbiBIU1AgOTAtYWxwaGEsSVRORUV5R0VGWUssUDA3OTAwLFkzMDktcCxOQSwxCjExMCwsLCwsLCxIZWF0IHNob2NrIHByb3RlaW4gSFNQIDkwLWFscGhhLEtJS0VLeUlEUUVFLFAwNzkwMCxZMjg0LXAsMC44MSwyCjExMSwsLCwsLCxIZWF0IHNob2NrIHByb3RlaW4gSFNQIDkwLWFscGhhLExES0lSeUVTTFRELFAwNzkwMCxZNjEtcCwwLjk5LDIKMTEyLCwsLCwsLEhlYXQgc2hvY2sgcHJvdGVpbiBIU1AgOTAtYWxwaGEsTlFLSEl5WUlUR0UsUDA3OTAwLFk0OTItcCwwLjk1LDIKMTEzLCwsLCwsLEhlYXQgc2hvY2sgcHJvdGVpbiBIU1AgOTAtYWxwaGEsU0VMTFJ5WXRTQVMsUDA3OTAwLFk0NjUtcCxOQSwxCjExNCwsLCwsLCxIZWF0IHNob2NrIHByb3RlaW4gSFNQIDkwLWFscGhhLFNFTExSeXlUU0FTLFAwNzkwMCxZNDY1LXAsTkEsMQoxMTUsLCwsLCwsSGVwYXRvY3l0ZSBncm93dGggZmFjdG9yIHJlY2VwdG9yLE5FU1ZEeVJBVEZQLFAwODU4MSxZMTAwMy1wLDAuMzgsNAoxMTYsLCwsLCwsSGVwYXRvY3l0ZSBncm93dGggZmFjdG9yLXJlZ3VsYXRlZCB0eXJvc2luZSBraW5hc2Ugc3Vic3RyYXRlLFJRS3NUeVRTWVBLLE8xNDk2NCxZMjg2LXAsTkEsMQoxMTcsLCwsLCwsSGV0ZXJvZ2VuZW91cyBudWNsZWFyIHJpYm9udWNsZW9wcm90ZWluIEYsR1RBUlJ5SUdJVkssUDUyNTk3LFkyMTktcCxOQSwxCjExOCwsLCwsLCxIZXRlcm9nZW5lb3VzIG51Y2xlYXIgcmlib251Y2xlb3Byb3RlaW4gSCxSSUdIUnlJRUlGSyxQMzE5NDMsWTE4MC1wLE5BLDEKMTE5LCwsLCwsLEhpc3RvbmUgSDJCIHR5cGUgMS1LLEVTWVNWeVZZS1ZMLE82MDgxNCxZNDEtcCxOQSwxCjEyMCwsLCwsLCxIb21lb2RvbWFpbi1pbnRlcmFjdGluZyBwcm90ZWluIGtpbmFzZSAxLEFWQ1NUeUxRU1JZLFE4NlowMixZMzUyLXAsTkEsMQoxMjEsLCwsLCwsSG9tZW9kb21haW4taW50ZXJhY3RpbmcgcHJvdGVpbiBraW5hc2UgMixBVkNTVHlMUVNSWSxROUgyWDYsWTM2MS1wLE5BLDEKMTIyLCwsLCwsLEluYUQtbGlrZSBwcm90ZWluLEVETFBMeVFIUUFULFE4TkkzNSxZMTAxNy1wLE5BLDEKMTIzLCwsLCwsLEluYWN0aXZlIHR5cm9zaW5lLXByb3RlaW4ga2luYXNlIFBFQUsxLFNUU1NQeUhBR05MLFE5SDc5MixZODgwLXAsTkEsMQoxMjQsLCwsLCwsSW5zdWxpbiByZWNlcHRvciBzdWJzdHJhdGUgMixHRFNEUXlWTE1TUyxROVk0SDIsWTgyMy1wLE5BLDEKMTI1LCwsLCwsLEludGVncmluIGJldGEtNCxUTFBSRHlTVExUUyxQMTYxNDQsWTE1MTAtcCwwLjU3LDMKMTI2LCwsLCwsLEludGVncmluIGJldGEtNCxUU0FBQXlHVEhMUyxQMTYxNDQsWTE0NjktcCxOQSwxCjEyNywsLCwsLCxKdW5jdGlvbiBwbGFrb2dsb2JpbixTVlJMTnlHSVBBSSxQMTQ5MjMsWTQ4MC1wLE5BLDEKMTI4LCwsLCwsLCJLZXJhdGluLCB0eXBlIEkgY3l0b3NrZWxldGFsIDE4IixESVJBUXlERUxBUixQMDU3ODMsWTI1Ni1wLDAuMzQsMwoxMjksLCwsLCwsIktlcmF0aW4sIHR5cGUgSSBjeXRvc2tlbGV0YWwgMTgiLERSTEFTeUxEUlZSLFAwNTc4MyxZOTQtcCwwLjIsMwoxMzAsLCwsLCwsIktlcmF0aW4sIHR5cGUgSSBjeXRvc2tlbGV0YWwgMTgiLFJRQVFFeUVBTExOLFAwNTc4MyxZMzYzLXAsTkEsMQoxMzEsLCwsLCwsIktlcmF0aW4sIHR5cGUgSSBjeXRvc2tlbGV0YWwgMTgiLFRGU1ROeVJTTEdTLFAwNTc4MyxZMTMtcCwwLjIxLDMKMTMyLCwsLCwsLCJLZXJhdGluLCB0eXBlIEkgY3l0b3NrZWxldGFsIDE5IixEUkxBU3lMREtWUixQMDg3MjcsWTk0LXAsMC4yMywzCjEzMywsLCwsLCwiS2VyYXRpbiwgdHlwZSBJIGN5dG9za2VsZXRhbCAxOSIsR1FFREh5Tk5MU0EsUDA4NzI3LFkzOTEtcCwwLjI1LDMKMTM0LCwsLCwsLCJLZXJhdGluLCB0eXBlIElJIGN5dG9za2VsZXRhbCA3IixBVlJzQXlHR1BWRyxQMDg3MjksWTU1LXAsMC45MywyCjEzNSwsLCwsLCwiS2VyYXRpbiwgdHlwZSBJSSBjeXRvc2tlbGV0YWwgOCIsRkxSUUx5RUVFSVIsUDA1Nzg3LFkyMjgtcCwwLjYsMgoxMzYsLCwsLCwsIktlcmF0aW4sIHR5cGUgSUkgY3l0b3NrZWxldGFsIDgiLEZTU1JzeVRTR1BHLFAwNTc4NyxZMjUtcCxOQSwxCjEzNywsLCwsLCxLaW4gb2YgSVJSRS1saWtlIHByb3RlaW4gMSxEUFROR3lZTlZSQSxROTZKODQsWTYwNS1wLE5BLDEKMTM4LCwsLCwsLEtpbiBvZiBJUlJFLWxpa2UgcHJvdGVpbiAxLFNRSFNEeUdRUkZRLFE5Nko4NCxZNzQ1LXAsTkEsMQoxMzksLCwsLCwsS2luZXNpbiBsaWdodCBjaGFpbiAyLEFFRVZFeVlZUlJBLFE5SDBCNixZMzQ1LXAsTkEsMQoxNDAsLCwsLCwsTElNIGFuZCBTSDMgZG9tYWluIHByb3RlaW4gMSxJU05JS3lIRUVGRSxRMTQ4NDcsWTEyMi1wLE5BLDEKMTQxLCwsLCwsLExpcG9seXNpcy1zdGltdWxhdGVkIGxpcG9wcm90ZWluIHJlY2VwdG9yLEdHUUdTeVZQTExSLFE4NlgyOSxZMzcyLXAsTkEsMQoxNDIsLCwsLCwsTGlwb2x5c2lzLXN0aW11bGF0ZWQgbGlwb3Byb3RlaW4gcmVjZXB0b3IsU01SVkx5WU1FS0UsUTg2WDI5LFk0MDYtcCwwLjk4LDIKMTQzLCwsLCwsLExpcG9seXNpcy1zdGltdWxhdGVkIGxpcG9wcm90ZWluIHJlY2VwdG9yLFlBUFNUeUFITFNQLFE4NlgyOSxZMzI4LXAsTkEsMQoxNDQsLCwsLCwsTGlwb21hLXByZWZlcnJlZCBwYXJ0bmVyLFBOUUdSeVlFR1lZLFE5MzA1MixZMjk2LXAsMC44NywyCjE0NSwsLCwsLCxNSUNBTC1saWtlIHByb3RlaW4gMSxRQURWRXlFTFJDTCxROE4zRjgsWTc2MC1wLE5BLDEKMTQ2LCwsLCwsLE1pdG9nZW4tYWN0aXZhdGVkIHByb3RlaW4ga2luYXNlIDEwLEZNTVRQeVZWVFJZLFA1Mzc3OSxZMjIzLXAsMC43LDIKMTQ3LCwsLCwsLE1pdG9nZW4tYWN0aXZhdGVkIHByb3RlaW4ga2luYXNlIDEwLEZNTXRQeVZWVFJZLFA1Mzc3OSxZMjIzLXAsTkEsMQoxNDgsLCwsLCwsTWl0b2dlbi1hY3RpdmF0ZWQgcHJvdGVpbiBraW5hc2UgMTQsREVNVEd5VkFUUlcsUTE2NTM5LFkxODItcCwwLjQsMwoxNDksLCwsLCwsTWl0b2dlbi1hY3RpdmF0ZWQgcHJvdGVpbiBraW5hc2UgMyxHRkx0RXlWQVRSVyxQMjczNjEsWTIwNC1wLDAuNjcsMwoxNTAsLCwsLCwsTWl0b2dlbi1hY3RpdmF0ZWQgcHJvdGVpbiBraW5hc2UgOCxGTU1UUHlWVlRSWSxQNDU5ODMsWTE4NS1wLE5BLDEKMTUxLCwsLCwsLE1pdG9nZW4tYWN0aXZhdGVkIHByb3RlaW4ga2luYXNlIDgsRk1NdFB5VlZUUlksUDQ1OTgzLFkxODUtcCxOQSwxCjE1MiwsLCwsLCxNaXRvZ2VuLWFjdGl2YXRlZCBwcm90ZWluIGtpbmFzZSA5LEZNTXRQeVZWVFJZLFA0NTk4NCxZMTg1LXAsMC4zMSwzCjE1MywsLCwsLCxNeW9zaW4gbGlnaHQgcG9seXBlcHRpZGUgNixHVFlFRHlWRUdMUixQNjA2NjAsWTg5LXAsTkEsMQoxNTQsLCwsLCwsTXlvc2luLTksTERTTkx5UklHUVMsUDM1NTc5LFk3NTQtcCxOQSwxCjE1NSwsLCwsLCxOU0ZMMSBjb2ZhY3RvciBwNDcsRUVFU0F5VkFHRUssUTlVTloyLFkxNjctcCwwLjE2LDMKMTU2LCwsLCwsLCJPbGlnb3JpYm9udWNsZWFzZSwgbWl0b2Nob25kcmlhbCIsV1lQRUV5RUZBUEssUTlZM0I4LFkxODQtcCwwLjE2LDQKMTU3LCwsLCwsLFBEWiBhbmQgTElNIGRvbWFpbiBwcm90ZWluIDEsVFBQRUd5RVZWVFYsTzAwMTUxLFkzMjEtcCxOQSwxCjE1OCwsLCwsLCxQRFogYW5kIExJTSBkb21haW4gcHJvdGVpbiA0LEtQUEVHeURWVkFWLFA1MDQ3OSxZMzE2LXAsTkEsMQoxNTksLCwsLCwsUERaIGFuZCBMSU0gZG9tYWluIHByb3RlaW4gNCxMS1FSR3lGRkxERSxQNTA0NzksWTI5My1wLE5BLDEKMTYwLCwsLCwsLFBhbGxhZGluLElTRUlFeVJMRVJTLFE4V1g5MyxZOTc0LXAsTkEsMQoxNjEsLCwsLCwsUGFsbWl0b3lsdHJhbnNmZXJhc2UgWkRISEM1LEdQVEFQeUxHUlNNLFE5QzBCNSxZNjMwLXAsTkEsMQoxNjIsLCwsLCwsUGFsbWl0b3lsdHJhbnNmZXJhc2UgWkRISEM1LFBzUFZSeUROTFNSLFE5QzBCNSxZNTMzLXAsTkEsMQoxNjMsLCwsLCwsUGFsbWl0b3lsdHJhbnNmZXJhc2UgWkRISEM3LFBHRVZJeUtDUEtDLFE5TlhGOCxZMTMwLXAsTkEsMQoxNjQsLCwsLCwsUGFydGl0aW9uaW5nIGRlZmVjdGl2ZSAzIGhvbW9sb2csQVJFUkR5QUVJUUQsUThURVcwLFkxMDgwLXAsMC4yNywzCjE2NSwsLCwsLCxQYXhpbGxpbixTU1NQVnlHU1NBSyxQNDkwMjMsWTg4LXAsMC45NiwyCjE2NiwsLCwsLCxQYXhpbGxpbixTU3NQVnlHU1NBSyxQNDkwMjMsWTg4LXAsTkEsMQoxNjcsLCwsLCwsUGF4aWxsaW4sU3NTUFZ5R1NTQUssUDQ5MDIzLFk4OC1wLE5BLDEKMTY4LCwsLCwsLFBheGlsbGluLFlDRUtEeUhOTEZTLFA0OTAyMyxZNDA5LXAsTkEsMQoxNjksLCwsLCwsUGVwdGlkeWwtcHJvbHlsIGNpcy10cmFucyBpc29tZXJhc2UgRktCUDQsVFJHRUd5QUtQTkUsUTAyNzkwLFkxNjEtcCxOQSwxCjE3MCwsLCwsLCwiUGVwdGlkeWwtdFJOQSBoeWRyb2xhc2UgSUNUMSwgbWl0b2Nob25kcmlhbCIsU0xES0x5UEVTUUcsUTE0MTk3LFk0OS1wLDAuODUsMgoxNzEsLCwsLCwsUGVyaWxpcGluLTMsQVNBU0V5QUhSR0wsTzYwNjY0LFk5NS1wLE5BLDEKMTcyLCwsLCwsLFBlcm94aXJlZG94aW4tMSxUSUFRRHlHVkxLQSxRMDY4MzAsWTExNi1wLE5BLDEKMTczLCwsLCwsLFBob3NwaGF0aWR5bGlub3NpdG9sIDMta2luYXNlIHJlZ3VsYXRvcnkgc3VidW5pdCBhbHBoYSxFWURSTHlFRVlUUixQMjc5ODYsWTQ2Ny1wLDAuMjEsNAoxNzQsLCwsLCwsUGhvc3BoYXRpZHlsaW5vc2l0b2wgMy1raW5hc2UgcmVndWxhdG9yeSBzdWJ1bml0IGFscGhhLEtLTEhFeU5UUUZRLFAyNzk4NixZNDUyLXAsTkEsMQoxNzUsLCwsLCwsUGhvc3BoYXRpZHlsaW5vc2l0b2wgMy1raW5hc2UgcmVndWxhdG9yeSBzdWJ1bml0IGJldGEsREtzUkV5RFFMWUUsTzAwNDU5LFk0NjAtcCwwLjksMgoxNzYsLCwsLCwsUGhvc3BoYXRpZHlsaW5vc2l0b2wgMy1raW5hc2UgcmVndWxhdG9yeSBzdWJ1bml0IGJldGEsRVRFRFF5QUxNRUQsTzAwNDU5LFk2MDUtcCxOQSwxCjE3NywsLCwsLCxQaG9zcGhhdGlkeWxpbm9zaXRvbCB0cmFuc2ZlciBwcm90ZWluIGFscGhhIGlzb2Zvcm0sSFZFQVZ5SURJQUQsUTAwMTY5LFkxNDAtcCxOQSwxCjE3OCwsLCwsLCxQaG9zcGhvZ2x5Y2VyYXRlIGtpbmFzZSAxLEtLRUxOeUZBS0FMLFAwMDU1OCxZMTk2LXAsMC43OCwyCjE3OSwsLCwsLCxQaG9zcGhvbHlzaW5lIHBob3NwaG9oaXN0aWRpbmUgaW5vcmdhbmljIHB5cm9waG9zcGhhdGUgcGhvc3BoYXRhc2UsTEdLR1J5WUtFVFMsUTlIMDA4LFkxNTgtcCwwLjk4LDIKMTgwLCwsLCwsLFBob3NwaG9wcm90ZWluIGFzc29jaWF0ZWQgd2l0aCBnbHljb3NwaGluZ29saXBpZC1lbnJpY2hlZCBtaWNyb2RvbWFpbnMgMSxBRUZBRXlBU1ZEUixROU5XUTgsWTIyNy1wLDAuMjEsMwoxODEsLCwsLCwsUGhvc3Bob3Byb3RlaW4gYXNzb2NpYXRlZCB3aXRoIGdseWNvc3BoaW5nb2xpcGlkLWVucmljaGVkIG1pY3JvZG9tYWlucyAxLEVJU0FNeVNTVk5LLFE5TldROCxZMzE3LXAsTkEsMQoxODIsLCwsLCwsUGhvc3Bob3Byb3RlaW4gYXNzb2NpYXRlZCB3aXRoIGdseWNvc3BoaW5nb2xpcGlkLWVucmljaGVkIG1pY3JvZG9tYWlucyAxLEdNRUdQeUVWTEtELFE5TldROCxZMTYzLXAsMC44MywyCjE4MywsLCwsLCxQaG9zcGhvcHJvdGVpbiBhc3NvY2lhdGVkIHdpdGggZ2x5Y29zcGhpbmdvbGlwaWQtZW5yaWNoZWQgbWljcm9kb21haW5zIDEsUEtFTkR5RVNJU0QsUTlOV1E4LFk0MTctcCwwLjMyLDMKMTg0LCwsLCwsLFBob3NwaG9wcm90ZWluIGFzc29jaWF0ZWQgd2l0aCBnbHljb3NwaGluZ29saXBpZC1lbnJpY2hlZCBtaWNyb2RvbWFpbnMgMSxTQ05ETHlBVFZLRCxROU5XUTgsWTM1OS1wLDAuODYsMgoxODUsLCwsLCwsUGhvc3Bob3Byb3RlaW4gYXNzb2NpYXRlZCB3aXRoIGdseWNvc3BoaW5nb2xpcGlkLWVucmljaGVkIG1pY3JvZG9tYWlucyAxLFZQRVNUeVRTSVFHLFE5TldROCxZMzQxLXAsMC4zLDMKMTg2LCwsLCwsLFBsYWtvcGhpbGluLTMsR1NSQUR5RFRMU0wsUTlZNDQ2LFkxNzYtcCwwLjQzLDMKMTg3LCwsLCwsLFBsYWtvcGhpbGluLTMsR1NSQUR5RFRMc0wsUTlZNDQ2LFkxNzYtcCxOQSwxCjE4OCwsLCwsLCxQbGFrb3BoaWxpbi0zLFRTUkdReUhUTFFBLFE5WTQ0NixZODQtcCxOQSwxCjE4OSwsLCwsLCxQbGF0ZWxldCBlbmRvdGhlbGlhbCBhZ2dyZWdhdGlvbiByZWNlcHRvciAxLFNTRU5QeUFUSVJELFE1Vlk0MyxZOTI1LXAsTkEsMQoxOTAsLCwsLCwsUGxlY2tzdHJpbiBob21vbG9neS1saWtlIGRvbWFpbiBmYW1pbHkgQiBtZW1iZXIgMixTU0VTU3lMU0lMUCxRODZTUTAsWTU2Ny1wLE5BLDEKMTkxLCwsLCwsLFBsZWN0aW4sUUdMQVN5RFlWUlIsUTE1MTQ5LFkzNzc3LXAsTkEsMQoxOTIsLCwsLCwsUG9seWFkZW55bGF0ZS1iaW5kaW5nIHByb3RlaW4gMSxOR0tRSXlWR1JBUSxQMTE5NDAsWTI2Mi1wLE5BLDEKMTkzLCwsLCwsLFByb3RlYXNvbWUgc3VidW5pdCBhbHBoYSB0eXBlLTIsUUtzSUx5REVSU1YsUDI1Nzg3LFk1Ny1wLDAuMzUsMwoxOTQsLCwsLCwsUHJvdGVhc29tZSBzdWJ1bml0IGFscGhhLXR5cGUgOCxEUFNHVHlIQVdLQSxROFRBQTMsWTE2MS1wLE5BLDEKMTk1LCwsLCwsLFByb3RlYXNvbWUgc3VidW5pdCBiZXRhIHR5cGUtMyxLUkZHUHlZVEVQVixQNDk3MjAsWTEwMy1wLE5BLDEKMTk2LCwsLCwsLFByb3RlaW4gNC4xLERHRU5JeUlSSFNOLFAxMTE3MSxZNjYwLXAsMC44NSwyCjE5NywsLCwsLCxQcm90ZWluIEJSSUNLMSxFUlJJRXlJRUFSVixROFdVVzEsWTYzLXAsMC4xNSw2CjE5OCwsLCwsLCxQcm90ZWluIEZBTTgzQixORUhES3lOSVJTSCxRNVQwVzksWTM1MS1wLE5BLDEKMTk5LCwsLCwsLFByb3RlaW4gTUVNTzEsR1FSRlJ5U1lZREUsUTlZMzE2LFkxOTktcCxOQSwxCjIwMCwsLCwsLCxQcm90ZWluIFRGRyxQRkdRR3lUUVBHUCxROTI3MzQsWTM5Mi1wLE5BLDEKMjAxLCwsLCwsLFByb3RlaW4gdHdlZXR5IGhvbW9sb2cgMyxBSERTTHlSVkhNUCxROUMwSDIsWTQzOS1wLE5BLDEKMjAyLCwsLCwsLFByb3RlaW4tZ2x1dGFtaW5lIGdhbW1hLWdsdXRhbXlsdHJhbnNmZXJhc2UgMixBRVJETHlMRU5QRSxQMjE5ODAsWTU4My1wLE5BLDEKMjAzLCwsLCwsLFB5cmlkb3hhbCBwaG9zcGhhdGUgaG9tZW9zdGFzaXMgcHJvdGVpbixURkdFTnlWUUVMTCxPOTQ5MDMsWTY5LXAsTkEsMQoyMDQsLCwsLCwsUHlyaWRveGFsLWRlcGVuZGVudCBkZWNhcmJveHlsYXNlIGRvbWFpbi1jb250YWluaW5nIHByb3RlaW4gMSxTVEVQSXlWWUtBUSxRNlA5OTYsWTY3Ny1wLE5BLDEKMjA1LCwsLCwsLFB5cnV2YXRlIGtpbmFzZSBQS00sQUVBQUl5SExRTEYsUDE0NjE4LFkzOTAtcCxOQSwxCjIwNiwsLCwsLCxSTkEgcG9seW1lcmFzZS1hc3NvY2lhdGVkIHByb3RlaW4gTEVPMSxLS0hLS3lWSXNERSxROFdWQzAsWTY1NS1wLE5BLDEKMjA3LCwsLCwsLFJOQS1iaW5kaW5nIHByb3RlaW4gMTJCLEVOUlRSeUFGVk1GLFE4SVhUNSxZMzI2LXAsTkEsMQoyMDgsLCwsLCwsUmFndWxhdG9yIGNvbXBsZXggcHJvdGVpbiBMQU1UT1IxLEdBRVBOeUhTTFBTLFE2SUFBOCxZNDAtcCwwLjk1LDIKMjA5LCwsLCwsLFJhcyBHVFBhc2UtYWN0aXZhdGluZyBwcm90ZWluLWJpbmRpbmcgcHJvdGVpbiAxLE5ESUZSeVFERVZGLFExMzI4MyxZMTMzLXAsTkEsMQoyMTAsLCwsLCwsUmFzLXJlbGF0ZWQgcHJvdGVpbiBSYWItMUIsVFlURVN5SVNUSUcsUTlIMFU0LFkzNy1wLE5BLDEKMjExLCwsLCwsLFJhcy1yZWxhdGVkIHByb3RlaW4gUmFiLTM1LFRGU0dTeUlUVElHLFExNTI4NixZMzctcCxOQSwxCjIxMiwsLCwsLCxSZWNlcHRvciB0eXJvc2luZS1wcm90ZWluIGtpbmFzZSBlcmJCLTMsQVBIVkh5QVJMS1QsUDIxODYwLFkxMzA3LXAsMC42NCwyCjIxMywsLCwsLCxSZWNlcHRvciB0eXJvc2luZS1wcm90ZWluIGtpbmFzZSBlcmJCLTMsQVNFUUd5RUVNUkEsUDIxODYwLFkxMjg5LXAsTkEsMQoyMTQsLCwsLCwsUmVjZXB0b3ItaW50ZXJhY3Rpbmcgc2VyaW5lL3RocmVvbmluZS1wcm90ZWluIGtpbmFzZSAxLFFERUFOeUhMWUdTLFExMzU0NixZMzg0LXAsTkEsMQoyMTUsLCwsLCwsUmV0aW5vaWMgYWNpZC1pbmR1Y2VkIHByb3RlaW4gMyxBV1BTUHlLRFlFVixROE5GSjUsWTM0Ny1wLE5BLDEKMjE2LCwsLCwsLFJldGlub2ljIGFjaWQtaW5kdWNlZCBwcm90ZWluIDMsVEdEVEx5QVBZU1QsUThORko1LFkzMTctcCxOQSwxCjIxNywsLCwsLCxSaG8gR0RQLWRpc3NvY2lhdGlvbiBpbmhpYml0b3IgMSxWU0dNS3lJUUhUWSxQNTI1NjUsWTEyOC1wLE5BLDEKMjE4LCwsLCwsLFJobyBHRFAtZGlzc29jaWF0aW9uIGluaGliaXRvciAyLFZTR0xLeVZRSFRZLFA1MjU2NixZMTI1LXAsTkEsMQoyMTksLCwsLCwsUm91bmRhYm91dCBob21vbG9nIDEsR0xUU1R5QUdJUkssUTlZNk43LFk5MzItcCxOQSwxCjIyMCwsLCwsLCxTSDIgZG9tYWluLWNvbnRhaW5pbmcgYWRhcHRlciBwcm90ZWluIEIsUlBBREV5RFFQV0UsUTE1NDY0LFkzMzYtcCwwLjYyLDIKMjIxLCwsLCwsLFNlY3JldG9yeSBjYXJyaWVyLWFzc29jaWF0ZWQgbWVtYnJhbmUgcHJvdGVpbiAzLEtOWUdTeVNUUUFTLE8xNDgyOCxZODYtcCxOQSwxCjIyMiwsLCwsLCxTZXB0aW4tMixQRVRQR3lWR0ZBTixRMTUwMTksWTE3LXAsTkEsMQoyMjMsLCwsLCwsU2VyaW5lIGluY29ycG9yYXRvciA1LEFMUUdSeUFBUEVMLFE4NlZFOSxZMzQ1LXAsMC4xMiwzCjIyNCwsLCwsLCxTZXJpbmUvYXJnaW5pbmUtcmljaCBzcGxpY2luZyBmYWN0b3IgMSxFR0VUQXlJUlZLVixRMDc5NTUsWTE4OS1wLE5BLDEKMjI1LCwsLCwsLFNlcmluZS90aHJlb25pbmUtcHJvdGVpbiBraW5hc2UgSUNLLFBQWVREeVZTVFJXLFE5VVBaOSxZMTU5LXAsTkEsMQoyMjYsLCwsLCwsIlNpbmdsZS1zdHJhbmRlZCBETkEtYmluZGluZyBwcm90ZWluLCBtaXRvY2hvbmRyaWFsIixMUkRWQXlRWVZLSyxRMDQ4MzcsWTk5LXAsTkEsMQoyMjcsLCwsLCwsU29kaXVtL3BvdGFzc2l1bS10cmFuc3BvcnRpbmcgQVRQYXNlIHN1YnVuaXQgYWxwaGEtMSxFTEhSS3lHVERMUyxQMDUwMjMsWTU1LXAsTkEsMQoyMjgsLCwsLCwsU29kaXVtL3BvdGFzc2l1bS10cmFuc3BvcnRpbmcgQVRQYXNlIHN1YnVuaXQgYWxwaGEtMSxSR0lWVnlUR0RSVCxQMDUwMjMsWTI2MC1wLDAuMTUsMwoyMjksLCwsLCwsU29sdXRlIGNhcnJpZXIgZmFtaWx5IDEyIG1lbWJlciA0LFBSUkdEeUROTEVHLFE5VVA5NSxZMTctcCxOQSwxCjIzMCwsLCwsLCwiU3BlY3RyaW4gYmV0YSBjaGFpbiwgbm9uLWVyeXRocm9jeXRpYyAxIixBU0dJUHlIU0VWUCxRMDEwODIsWTIyNDktcCxOQSwxCjIzMSwsLCwsLCwiU3BlY3RyaW4gYmV0YSBjaGFpbiwgbm9uLWVyeXRocm9jeXRpYyAxIixFVkFMRHlLS0tLSCxRMDEwODIsWTIyNjgtcCxOQSwxCjIzMiwsLCwsLCwiU3BlY3RyaW4gYmV0YSBjaGFpbiwgbm9uLWVyeXRocm9jeXRpYyAxIixMR1FFUHlMU1NSRSxRMDEwODIsWTIwMzktcCxOQSwxCjIzMywsLCwsLCxTcmMgc3Vic3RyYXRlIGNvcnRhY3RpbixBVkdGRXlRR0tURSxRMTQyNDcsWTE0MS1wLE5BLDEKMjM0LCwsLCwsLFNyYyBzdWJzdHJhdGUgY29ydGFjdGluLFFWU1NBeVFLVFZQLFExNDI0NyxZMzM0LXAsMC4zNSw0CjIzNSwsLCwsLCxTeW50YXhpbi00LExTU0FEeVZFUkdRLFExMjg0NixZMjUxLXAsMC45MiwyCjIzNiwsLCwsLCxTeW50ZW5pbi0xLEhER05MeVBSTFlQLE8wMDU2MCxZNDYtcCxOQSwxCjIzNywsLCwsLCxTeW50ZW5pbi0xLExZUFJMeVBFTFNRLE8wMDU2MCxZNTAtcCxOQSwxCjIzOCwsLCwsLCxTeW50ZW5pbi0xLFBFTFNReU1HTFNMLE8wMDU2MCxZNTYtcCxOQSwxCjIzOSwsLCwsLCxUT00xLWxpa2UgcHJvdGVpbiAyLFJLdFZUeUVEUFFBLFE2WlZNNyxZNDA0LXAsMC42NCwyCjI0MCwsLCwsLCxUUklPIGFuZCBGLWFjdGluLWJpbmRpbmcgcHJvdGVpbixSUUFMRHlWRUxTUCxROUgyRDYsWTE5NDUtcCxOQSwxCjI0MSwsLCwsLCxUYWxpbi0xLENLRUFBeUhQRVZBLFE5WTQ5MCxZMjIyNC1wLE5BLDEKMjQyLCwsLCwsLFRhcmdldCBvZiBNeWIgcHJvdGVpbiAxLFJLRVZLeUVBUFFBLE82MDc4NCxZMzg2LXAsTkEsMQoyNDMsLCwsLCwsVGVuc2luLTEsR1NMUE55QVRJTkcsUTlIQkwwLFkxNDA0LXAsMC45NywyCjI0NCwsLCwsLCxUZW5zaW4tMyxMc0xHUXlETkRBRyxRNjhDWjIsWTc4MC1wLE5BLDEKMjQ1LCwsLCwsLFRldHJhc3BhbmluLTMsU1JEUEF5RUxMSVQsTzYwNjM3LFkyNDMtcCxOQSwxCjI0NiwsLCwsLCxUaWdodCBqdW5jdGlvbiBwcm90ZWluIFpPLTEsUEFQTFN5RFNSUFIsUTA3MTU3LFkxMTQwLXAsTkEsMQoyNDcsLCwsLCwsVGlnaHQganVuY3Rpb24gcHJvdGVpbiBaTy0yLEtIUERJeUFWUElLLFE5VURZMixZMTExOC1wLDAuMTUsNAoyNDgsLCwsLCwsVHJhbnNnZWxpbi0yLEFHTVRHeUdNUFJRLFAzNzgwMixZMTkyLXAsMC44MiwyCjI0OSwsLCwsLCxUcmFuc2dlbGluLTIsTlJHUEF5R0xTUkUsUDM3ODAyLFk4LXAsMC45NSwyCjI1MCwsLCwsLCxUcmFuc21lbWJyYW5lIHByb3RlaW4gMTA2QixTS0VEQXlER1ZUUyxROU5VTTQsWTE4LXAsTkEsMQoyNTEsLCwsLCwsVHVidWxpbiBhbHBoYS0xQiBjaGFpbixJRVJQVHlUTkxOUixQNjgzNjMsWTIyNC1wLE5BLDEKMjUyLCwsLCwsLFR1YnVsaW4gYWxwaGEtMUIgY2hhaW4sS1ZHSU55UVBQVFYsUDY4MzYzLFkzNTctcCxOQSwxCjI1MywsLCwsLCxUdWJ1bGluIGJldGEtMyBjaGFpbixTS05TU3lGVkVXSSxRMTM1MDksWTM0MC1wLE5BLDEKMjU0LCwsLCwsLFR5cm9zaW5lLXByb3RlaW4ga2luYXNlIEFCTDEsU0RHS0x5VlNTRVMsUDAwNTE5LFkxODUtcCxOQSwxCjI1NSwsLCwsLCxUeXJvc2luZS1wcm90ZWluIGtpbmFzZSBGUkssRUtRTEx5U0VOS1QsUDQyNjg1LFkxMzItcCxOQSwxCjI1NiwsLCwsLCxUeXJvc2luZS1wcm90ZWluIGtpbmFzZSBKQUszLExJU1NEeUVMTFNELFA1MjMzMyxZNzg1LXAsTkEsMQoyNTcsLCwsLCwsVHlyb3NpbmUtcHJvdGVpbiBraW5hc2UgWWVzLEROR0dZeUlUVFJBLFAwNzk0NyxZMjIzLXAsTkEsMQoyNTgsLCwsLCwsVHlyb3NpbmUtcHJvdGVpbiBraW5hc2UgWWVzLEtMVlBMeUFWVlNFLFAwNzk0NyxZMzM2LXAsTkEsMQoyNTksLCwsLCwsVHlyb3NpbmUtcHJvdGVpbiBraW5hc2UgcmVjZXB0b3IgVUZPLEVOU0VJeURZTFJRLFAzMDUzMCxZNzU5LXAsTkEsMQoyNjAsLCwsLCwsVHlyb3NpbmUtcHJvdGVpbiBwaG9zcGhhdGFzZSBub24tcmVjZXB0b3IgdHlwZSAxMSxEU0FSVnlFTlZHTCxRMDYxMjQsWTU4NC1wLDAuNDQsMwoyNjEsLCwsLCwsVHlyb3NpbmUtcHJvdGVpbiBwaG9zcGhhdGFzZSBub24tcmVjZXB0b3IgdHlwZSAxMSxRTlRHRHlZRExZRyxRMDYxMjQsWTYyLXAsMC40LDMKMjYyLCwsLCwsLFZhc29kaWxhdG9yLXN0aW11bGF0ZWQgcGhvc3Bob3Byb3RlaW4sU1JWUUl5SE5QVEEsUDUwNTUyLFkzOS1wLDAuNzIsMgoyNjMsLCwsLCwsWmluYyBmaW5nZXIgcHJvdGVpbiAxODUsR0FMQUR5RUdLRFYsTzE1MjMxLFk0MDgtcCxOQSwxCjI2NCwsLCwsLCxaaW5jIGZpbmdlciBwcm90ZWluIDE4NSxQVlNBUnlTTlZTUyxPMTUyMzEsWTU5Ny1wLE5BLDEKMjY1LCwsLCwsLHA1MyBhcG9wdG9zaXMgZWZmZWN0b3IgcmVsYXRlZCB0byBQTVAtMjIsTkFLUFJ5RllUU0EsUTk2Rlg4LFkxODgtcCxOQSwxCg==\" target=\"_blank\">Download CSV file</a>"
      ],
      "text/plain": [
       "<IPython.core.display.HTML object>"
      ]
     },
     "execution_count": 19,
     "metadata": {},
     "output_type": "execute_result"
    }
   ],
   "source": [
    "create_download_link(clustermembers, \"DataClustering\")"
   ]
  },
  {
   "cell_type": "code",
   "execution_count": 20,
   "metadata": {},
   "outputs": [
    {
     "data": {
      "image/png": "[encoded data removed]",
      "text/plain": [
       "<Figure size 504x360 with 1 Axes>"
      ]
     },
     "metadata": {
      "needs_background": "light"
     },
     "output_type": "display_data"
    }
   ],
   "source": [
    "fig = plt.figure(figsize=(7,5))\n",
    "\n",
    "centers = mixedCl_plsr.named_steps.mixedCl.transform(data).T\n",
    "\n",
    "for i in range(centers.shape[0]):\n",
    "    plt.plot(centers.iloc[i,:], label = \"cluster \"+str(i+1), color = colors_[i])\n",
    "    \n",
    "plt.legend()\n",
    "plt.xticks(np.arange(centers.shape[1]), (treatments), rotation=70);"
   ]
  },
  {
   "cell_type": "code",
   "execution_count": null,
   "metadata": {},
   "outputs": [],
   "source": []
  }
 ],
 "metadata": {
  "kernelspec": {
   "display_name": "Python 3",
   "language": "python",
   "name": "python3"
  },
  "language_info": {
   "codemirror_mode": {
    "name": "ipython",
    "version": 3
   },
   "file_extension": ".py",
   "mimetype": "text/x-python",
   "name": "python",
   "nbconvert_exporter": "python",
   "pygments_lexer": "ipython3",
   "version": "3.7.5rc1"
  }
 },
 "nbformat": 4,
 "nbformat_minor": 4
}
