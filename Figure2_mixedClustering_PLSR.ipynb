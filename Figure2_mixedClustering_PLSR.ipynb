{
 "cells": [
  {
   "cell_type": "markdown",
   "metadata": {},
   "source": [
    "# FIGURE 2"
   ]
  },
  {
   "cell_type": "code",
   "execution_count": 1,
   "metadata": {},
   "outputs": [],
   "source": [
    "import numpy as np\n",
    "import pandas as pd\n",
    "import math\n",
    "from sklearn.cross_decomposition import PLSRegression\n",
    "from sklearn.mixture import GaussianMixture\n",
    "from sklearn.pipeline import Pipeline\n",
    "from msresist.parameter_tuning import MSclusPLSR_tuning\n",
    "from msresist.plsr import Q2Y_across_components, R2Y_across_components\n",
    "from msresist.figures.figure2 import plotR2YQ2Y, plotMixedClusteringPLSR_GridSearch, plotMeasuredVsPredicted, plotScoresLoadings, plotclusteraverages\n",
    "from msresist.clustering import MassSpecClustering\n",
    "from msresist.sequence_analysis import preprocess_seqs, FormatName, pYmotifs\n",
    "import matplotlib.pyplot as plt\n",
    "import matplotlib.colors as colors\n",
    "import matplotlib.cm as cm\n",
    "from msresist.pre_processing import preprocessing, MergeDfbyMean, LinearFoldChange, FoldChangeToControl, MapOverlappingPeptides, BuildMatrix, TripsMeanAndStd, CorrCoefFilter\n",
    "from msresist.FileExporter import create_download_link\n",
    "import warnings\n",
    "warnings.simplefilter(\"ignore\")"
   ]
  },
  {
   "cell_type": "markdown",
   "metadata": {},
   "source": [
    "### Importing and Pre-processing Data"
   ]
  },
  {
   "cell_type": "markdown",
   "metadata": {},
   "source": [
    "### Phosphorylation measurements:"
   ]
  },
  {
   "cell_type": "code",
   "execution_count": 2,
   "metadata": {},
   "outputs": [],
   "source": [
    "# pd.set_option('display.max_colwidth', 1000)\n",
    "# pd.set_option('display.max_rows', 1000)\n",
    "\n",
    "ABC = preprocessing(motifs=True, Vfilter=True, FCfilter=True, log2T=True)\n",
    "ABC = preprocess_seqs(ABC, \"Y\").sort_values(by=\"Protein\")\n",
    "\n",
    "data = ABC.iloc[:, 6:].T\n",
    "info = ABC.iloc[:, :6]"
   ]
  },
  {
   "cell_type": "markdown",
   "metadata": {},
   "source": [
    "### Phenotypes"
   ]
  },
  {
   "cell_type": "markdown",
   "metadata": {},
   "source": [
    "#### Cell Viability:"
   ]
  },
  {
   "cell_type": "code",
   "execution_count": 4,
   "metadata": {},
   "outputs": [],
   "source": [
    "Y_cv1 = pd.read_csv('./msresist/data/Phenotypic_data/CV_raw3.csv').iloc[:30, :11]\n",
    "Y_cv2 = pd.read_csv('./msresist/data/Phenotypic_data/CV_raw4.csv').iloc[:29, :11]\n",
    "\n",
    "for ii in range(1, Y_cv2.columns.size):\n",
    "    Y_cv1.iloc[:, ii] /= Y_cv1.iloc[0, ii]\n",
    "    Y_cv2.iloc[:, ii] /= Y_cv2.iloc[0, ii]\n",
    "\n",
    "Y_cv = MergeDfbyMean(pd.concat([Y_cv1, Y_cv2], axis=0), Y_cv1.columns, \"Elapsed\")\n",
    "Y_cv = Y_cv.reset_index()[Y_cv1.columns]\n",
    "Y_cv = Y_cv[Y_cv[\"Elapsed\"] == 72].iloc[0, 1:]"
   ]
  },
  {
   "cell_type": "markdown",
   "metadata": {},
   "source": [
    "# Chained MS mixed clustering + PLSR analysis"
   ]
  },
  {
   "cell_type": "code",
   "execution_count": 5,
   "metadata": {},
   "outputs": [],
   "source": [
    "ncl = 2\n",
    "GMMweight = 0\n",
    "distance_method=\"PAM250\""
   ]
  },
  {
   "cell_type": "code",
   "execution_count": 6,
   "metadata": {},
   "outputs": [
    {
     "data": {
      "image/png": "[encoded data removed]",
      "text/plain": [
       "<Figure size 504x432 with 1 Axes>"
      ]
     },
     "metadata": {
      "needs_background": "light"
     },
     "output_type": "display_data"
    }
   ],
   "source": [
    "MSC = MassSpecClustering(info, ncl, GMMweight=GMMweight, distance_method=distance_method).fit(data, Y_cv)\n",
    "centers = MSC.transform(data)\n",
    "\n",
    "fig, ax = plt.subplots(1, 1, figsize=(7,6))\n",
    "plotR2YQ2Y(ax, ncl, centers, Y_cv)"
   ]
  },
  {
   "cell_type": "code",
   "execution_count": 7,
   "metadata": {},
   "outputs": [],
   "source": [
    "ABC_c = ABC.assign(Cluster=[lab+1 for lab in list(MSC.labels_)]).sort_values(by=\"Sequence\")"
   ]
  },
  {
   "cell_type": "code",
   "execution_count": 8,
   "metadata": {},
   "outputs": [
    {
     "data": {
      "text/html": [
       "<div>\n",
       "<style scoped>\n",
       "    .dataframe tbody tr th:only-of-type {\n",
       "        vertical-align: middle;\n",
       "    }\n",
       "\n",
       "    .dataframe tbody tr th {\n",
       "        vertical-align: top;\n",
       "    }\n",
       "\n",
       "    .dataframe thead th {\n",
       "        text-align: right;\n",
       "    }\n",
       "</style>\n",
       "<table border=\"1\" class=\"dataframe\">\n",
       "  <thead>\n",
       "    <tr style=\"text-align: right;\">\n",
       "      <th></th>\n",
       "      <th>Protein</th>\n",
       "      <th>Sequence</th>\n",
       "      <th>UniprotAcc</th>\n",
       "      <th>Position</th>\n",
       "      <th>r2_Std</th>\n",
       "      <th>BioReps</th>\n",
       "      <th>PC9</th>\n",
       "      <th>Erl</th>\n",
       "      <th>R428</th>\n",
       "      <th>Erl/R428</th>\n",
       "      <th>Erl+HGF</th>\n",
       "      <th>Erl+FGF</th>\n",
       "      <th>Erl+IGF</th>\n",
       "      <th>KO Erl</th>\n",
       "      <th>KO R428</th>\n",
       "      <th>KO Erl/R428</th>\n",
       "      <th>Cluster</th>\n",
       "    </tr>\n",
       "  </thead>\n",
       "  <tbody>\n",
       "    <tr>\n",
       "      <th>460</th>\n",
       "      <td>Mitogen-activated protein kinase 14</td>\n",
       "      <td>DEMTGyVATRW</td>\n",
       "      <td>Q16539</td>\n",
       "      <td>Y182-p</td>\n",
       "      <td>0.4</td>\n",
       "      <td>3</td>\n",
       "      <td>-0.589488</td>\n",
       "      <td>-0.206807</td>\n",
       "      <td>-0.419097</td>\n",
       "      <td>-0.367793</td>\n",
       "      <td>0.027512</td>\n",
       "      <td>-0.079849</td>\n",
       "      <td>-0.054700</td>\n",
       "      <td>0.220920</td>\n",
       "      <td>1.069131</td>\n",
       "      <td>0.400168</td>\n",
       "      <td>2</td>\n",
       "    </tr>\n",
       "    <tr>\n",
       "      <th>464</th>\n",
       "      <td>Mitogen-activated protein kinase 8</td>\n",
       "      <td>FMMTPyVVTRY</td>\n",
       "      <td>P45983</td>\n",
       "      <td>Y185-p</td>\n",
       "      <td>NA</td>\n",
       "      <td>1</td>\n",
       "      <td>-0.215385</td>\n",
       "      <td>-0.078581</td>\n",
       "      <td>-0.417066</td>\n",
       "      <td>-0.148345</td>\n",
       "      <td>-0.140252</td>\n",
       "      <td>-0.578793</td>\n",
       "      <td>-0.153005</td>\n",
       "      <td>-0.033241</td>\n",
       "      <td>0.982739</td>\n",
       "      <td>0.781929</td>\n",
       "      <td>2</td>\n",
       "    </tr>\n",
       "    <tr>\n",
       "      <th>454</th>\n",
       "      <td>Mitogen-activated protein kinase 10</td>\n",
       "      <td>FMMTPyVVTRY</td>\n",
       "      <td>P53779</td>\n",
       "      <td>Y223-p</td>\n",
       "      <td>0.7</td>\n",
       "      <td>2</td>\n",
       "      <td>-0.417625</td>\n",
       "      <td>-0.128913</td>\n",
       "      <td>-0.409535</td>\n",
       "      <td>-0.153588</td>\n",
       "      <td>0.082209</td>\n",
       "      <td>0.081920</td>\n",
       "      <td>-0.133219</td>\n",
       "      <td>0.342055</td>\n",
       "      <td>0.660108</td>\n",
       "      <td>0.076588</td>\n",
       "      <td>2</td>\n",
       "    </tr>\n",
       "    <tr>\n",
       "      <th>455</th>\n",
       "      <td>Mitogen-activated protein kinase 10</td>\n",
       "      <td>FMMtPyVVTRY</td>\n",
       "      <td>P53779</td>\n",
       "      <td>Y223-p</td>\n",
       "      <td>NA</td>\n",
       "      <td>1</td>\n",
       "      <td>-0.162438</td>\n",
       "      <td>0.203243</td>\n",
       "      <td>-1.019852</td>\n",
       "      <td>-0.603903</td>\n",
       "      <td>-0.152182</td>\n",
       "      <td>0.085813</td>\n",
       "      <td>0.006449</td>\n",
       "      <td>0.229614</td>\n",
       "      <td>1.150716</td>\n",
       "      <td>0.262540</td>\n",
       "      <td>2</td>\n",
       "    </tr>\n",
       "    <tr>\n",
       "      <th>468</th>\n",
       "      <td>Mitogen-activated protein kinase 9</td>\n",
       "      <td>FMMtPyVVTRY</td>\n",
       "      <td>P45984</td>\n",
       "      <td>Y185-p</td>\n",
       "      <td>0.31</td>\n",
       "      <td>3</td>\n",
       "      <td>-0.432164</td>\n",
       "      <td>-0.216767</td>\n",
       "      <td>-0.126941</td>\n",
       "      <td>-0.109546</td>\n",
       "      <td>0.057724</td>\n",
       "      <td>-0.106785</td>\n",
       "      <td>-0.099386</td>\n",
       "      <td>0.219413</td>\n",
       "      <td>0.744633</td>\n",
       "      <td>0.069819</td>\n",
       "      <td>2</td>\n",
       "    </tr>\n",
       "    <tr>\n",
       "      <th>465</th>\n",
       "      <td>Mitogen-activated protein kinase 8</td>\n",
       "      <td>FMMtPyVVTRY</td>\n",
       "      <td>P45983</td>\n",
       "      <td>Y185-p</td>\n",
       "      <td>NA</td>\n",
       "      <td>1</td>\n",
       "      <td>-0.339598</td>\n",
       "      <td>-0.529067</td>\n",
       "      <td>-0.462768</td>\n",
       "      <td>-0.393586</td>\n",
       "      <td>0.052149</td>\n",
       "      <td>-0.347747</td>\n",
       "      <td>0.053848</td>\n",
       "      <td>-0.010144</td>\n",
       "      <td>1.070224</td>\n",
       "      <td>0.906689</td>\n",
       "      <td>2</td>\n",
       "    </tr>\n",
       "    <tr>\n",
       "      <th>461</th>\n",
       "      <td>Mitogen-activated protein kinase 3</td>\n",
       "      <td>GFLTEyVATRW</td>\n",
       "      <td>P27361</td>\n",
       "      <td>Y204-p</td>\n",
       "      <td>0.38</td>\n",
       "      <td>3</td>\n",
       "      <td>3.012300</td>\n",
       "      <td>-0.900712</td>\n",
       "      <td>-0.120212</td>\n",
       "      <td>-0.798254</td>\n",
       "      <td>1.104433</td>\n",
       "      <td>0.694372</td>\n",
       "      <td>-0.650488</td>\n",
       "      <td>-1.008078</td>\n",
       "      <td>-0.355149</td>\n",
       "      <td>-0.978213</td>\n",
       "      <td>2</td>\n",
       "    </tr>\n",
       "    <tr>\n",
       "      <th>452</th>\n",
       "      <td>Mitogen-activated protein kinase 1</td>\n",
       "      <td>GFLTEyVATRW</td>\n",
       "      <td>P28482</td>\n",
       "      <td>Y187-p</td>\n",
       "      <td>0.44</td>\n",
       "      <td>3</td>\n",
       "      <td>3.226947</td>\n",
       "      <td>-1.033155</td>\n",
       "      <td>0.137184</td>\n",
       "      <td>-0.893939</td>\n",
       "      <td>1.347495</td>\n",
       "      <td>0.788650</td>\n",
       "      <td>-0.614984</td>\n",
       "      <td>-1.181102</td>\n",
       "      <td>-0.583727</td>\n",
       "      <td>-1.193370</td>\n",
       "      <td>2</td>\n",
       "    </tr>\n",
       "    <tr>\n",
       "      <th>453</th>\n",
       "      <td>Mitogen-activated protein kinase 1</td>\n",
       "      <td>GFLtEyVATRW</td>\n",
       "      <td>P28482</td>\n",
       "      <td>Y187-p</td>\n",
       "      <td>0.65</td>\n",
       "      <td>3</td>\n",
       "      <td>2.536781</td>\n",
       "      <td>-0.511707</td>\n",
       "      <td>-0.243727</td>\n",
       "      <td>-0.302518</td>\n",
       "      <td>0.719232</td>\n",
       "      <td>-0.548508</td>\n",
       "      <td>-0.453016</td>\n",
       "      <td>-0.471604</td>\n",
       "      <td>-0.274320</td>\n",
       "      <td>-0.450614</td>\n",
       "      <td>2</td>\n",
       "    </tr>\n",
       "    <tr>\n",
       "      <th>462</th>\n",
       "      <td>Mitogen-activated protein kinase 3</td>\n",
       "      <td>GFLtEyVATRW</td>\n",
       "      <td>P27361</td>\n",
       "      <td>Y204-p</td>\n",
       "      <td>0.67</td>\n",
       "      <td>3</td>\n",
       "      <td>1.212961</td>\n",
       "      <td>-0.257165</td>\n",
       "      <td>-0.095279</td>\n",
       "      <td>-0.113938</td>\n",
       "      <td>0.288827</td>\n",
       "      <td>-0.596804</td>\n",
       "      <td>-0.091697</td>\n",
       "      <td>-0.013589</td>\n",
       "      <td>-0.135719</td>\n",
       "      <td>-0.197598</td>\n",
       "      <td>2</td>\n",
       "    </tr>\n",
       "  </tbody>\n",
       "</table>\n",
       "</div>"
      ],
      "text/plain": [
       "                                 Protein     Sequence UniprotAcc Position  \\\n",
       "460  Mitogen-activated protein kinase 14  DEMTGyVATRW     Q16539   Y182-p   \n",
       "464   Mitogen-activated protein kinase 8  FMMTPyVVTRY     P45983   Y185-p   \n",
       "454  Mitogen-activated protein kinase 10  FMMTPyVVTRY     P53779   Y223-p   \n",
       "455  Mitogen-activated protein kinase 10  FMMtPyVVTRY     P53779   Y223-p   \n",
       "468   Mitogen-activated protein kinase 9  FMMtPyVVTRY     P45984   Y185-p   \n",
       "465   Mitogen-activated protein kinase 8  FMMtPyVVTRY     P45983   Y185-p   \n",
       "461   Mitogen-activated protein kinase 3  GFLTEyVATRW     P27361   Y204-p   \n",
       "452   Mitogen-activated protein kinase 1  GFLTEyVATRW     P28482   Y187-p   \n",
       "453   Mitogen-activated protein kinase 1  GFLtEyVATRW     P28482   Y187-p   \n",
       "462   Mitogen-activated protein kinase 3  GFLtEyVATRW     P27361   Y204-p   \n",
       "\n",
       "    r2_Std BioReps       PC9       Erl      R428  Erl/R428   Erl+HGF  \\\n",
       "460    0.4       3 -0.589488 -0.206807 -0.419097 -0.367793  0.027512   \n",
       "464     NA       1 -0.215385 -0.078581 -0.417066 -0.148345 -0.140252   \n",
       "454    0.7       2 -0.417625 -0.128913 -0.409535 -0.153588  0.082209   \n",
       "455     NA       1 -0.162438  0.203243 -1.019852 -0.603903 -0.152182   \n",
       "468   0.31       3 -0.432164 -0.216767 -0.126941 -0.109546  0.057724   \n",
       "465     NA       1 -0.339598 -0.529067 -0.462768 -0.393586  0.052149   \n",
       "461   0.38       3  3.012300 -0.900712 -0.120212 -0.798254  1.104433   \n",
       "452   0.44       3  3.226947 -1.033155  0.137184 -0.893939  1.347495   \n",
       "453   0.65       3  2.536781 -0.511707 -0.243727 -0.302518  0.719232   \n",
       "462   0.67       3  1.212961 -0.257165 -0.095279 -0.113938  0.288827   \n",
       "\n",
       "      Erl+FGF   Erl+IGF    KO Erl   KO R428  KO Erl/R428  Cluster  \n",
       "460 -0.079849 -0.054700  0.220920  1.069131     0.400168        2  \n",
       "464 -0.578793 -0.153005 -0.033241  0.982739     0.781929        2  \n",
       "454  0.081920 -0.133219  0.342055  0.660108     0.076588        2  \n",
       "455  0.085813  0.006449  0.229614  1.150716     0.262540        2  \n",
       "468 -0.106785 -0.099386  0.219413  0.744633     0.069819        2  \n",
       "465 -0.347747  0.053848 -0.010144  1.070224     0.906689        2  \n",
       "461  0.694372 -0.650488 -1.008078 -0.355149    -0.978213        2  \n",
       "452  0.788650 -0.614984 -1.181102 -0.583727    -1.193370        2  \n",
       "453 -0.548508 -0.453016 -0.471604 -0.274320    -0.450614        2  \n",
       "462 -0.596804 -0.091697 -0.013589 -0.135719    -0.197598        2  "
      ]
     },
     "execution_count": 8,
     "metadata": {},
     "output_type": "execute_result"
    }
   ],
   "source": [
    "ABC_c[ABC_c[\"Protein\"].str.contains(\"Mitogen\")]"
   ]
  },
  {
   "cell_type": "code",
   "execution_count": 9,
   "metadata": {},
   "outputs": [],
   "source": [
    "# fig, ax = plt.subplots(1, 1, figsize=(8,6))\n",
    "# plotMixedClusteringPLSR_GridSearch(ax, data, info, Y_cv)"
   ]
  },
  {
   "cell_type": "code",
   "execution_count": 10,
   "metadata": {},
   "outputs": [],
   "source": [
    "ncomp = 2\n",
    "\n",
    "mixedCl_plsr = Pipeline([('mixedCl', MassSpecClustering(info, ncl, GMMweight=GMMweight, distance_method=distance_method)), ('plsr', PLSRegression(ncomp))])"
   ]
  },
  {
   "cell_type": "code",
   "execution_count": 11,
   "metadata": {},
   "outputs": [
    {
     "data": {
      "image/png": "[encoded data removed]",
      "text/plain": [
       "<Figure size 432x360 with 1 Axes>"
      ]
     },
     "metadata": {
      "needs_background": "light"
     },
     "output_type": "display_data"
    }
   ],
   "source": [
    "fig, ax = plt.subplots(1,1,figsize=(6,5))\n",
    "plotMeasuredVsPredicted(ax, mixedCl_plsr, data, Y_cv)"
   ]
  },
  {
   "cell_type": "code",
   "execution_count": 12,
   "metadata": {},
   "outputs": [
    {
     "data": {
      "image/png": "[encoded data removed]",
      "text/plain": [
       "<Figure size 864x432 with 2 Axes>"
      ]
     },
     "metadata": {
      "needs_background": "light"
     },
     "output_type": "display_data"
    }
   ],
   "source": [
    "fig, ax = plt.subplots(1, 2, figsize=(12,6))\n",
    "colors_ = cm.rainbow(np.linspace(0, 1, ncl))\n",
    "\n",
    "plotScoresLoadings(ax, mixedCl_plsr, data, Y_cv, ncl, colors_)"
   ]
  },
  {
   "cell_type": "code",
   "execution_count": 13,
   "metadata": {},
   "outputs": [
    {
     "data": {
      "text/html": [
       "<div>\n",
       "<style scoped>\n",
       "    .dataframe tbody tr th:only-of-type {\n",
       "        vertical-align: middle;\n",
       "    }\n",
       "\n",
       "    .dataframe tbody tr th {\n",
       "        vertical-align: top;\n",
       "    }\n",
       "\n",
       "    .dataframe thead th {\n",
       "        text-align: right;\n",
       "    }\n",
       "</style>\n",
       "<table border=\"1\" class=\"dataframe\">\n",
       "  <thead>\n",
       "    <tr style=\"text-align: right;\">\n",
       "      <th></th>\n",
       "      <th>Cluster_1</th>\n",
       "      <th>seqs_Cluster_1</th>\n",
       "      <th>Condition_Cluster_1</th>\n",
       "      <th>pos_Cluster_1</th>\n",
       "      <th>Cluster_2</th>\n",
       "      <th>seqs_Cluster_2</th>\n",
       "      <th>Condition_Cluster_2</th>\n",
       "      <th>pos_Cluster_2</th>\n",
       "    </tr>\n",
       "  </thead>\n",
       "  <tbody>\n",
       "    <tr>\n",
       "      <th>0</th>\n",
       "      <td>1-phosphatidylinositol 4,5-bisphosphate phosph...</td>\n",
       "      <td>RNPGFyVEANP</td>\n",
       "      <td>P19174</td>\n",
       "      <td>Y783-p</td>\n",
       "      <td>14-3-3 protein epsilon</td>\n",
       "      <td>GDYHRyLAEFA</td>\n",
       "      <td>P62258</td>\n",
       "      <td>Y131-p</td>\n",
       "    </tr>\n",
       "    <tr>\n",
       "      <th>1</th>\n",
       "      <td>14-3-3 protein zeta/delta</td>\n",
       "      <td>LLSVAyKNVVG</td>\n",
       "      <td>P63104</td>\n",
       "      <td>Y48-p</td>\n",
       "      <td>60S ribosomal protein L22-like 1</td>\n",
       "      <td>TYELRyFQISQ</td>\n",
       "      <td>Q6P5R6</td>\n",
       "      <td>Y108-p</td>\n",
       "    </tr>\n",
       "    <tr>\n",
       "      <th>2</th>\n",
       "      <td>ADP-ribosylation factor-like protein 11</td>\n",
       "      <td>KtTLLyKLKGH</td>\n",
       "      <td>Q969Q4</td>\n",
       "      <td>Y30-p</td>\n",
       "      <td>ADP/ATP translocase 2</td>\n",
       "      <td>ANVIRyFPTQA</td>\n",
       "      <td>P05141</td>\n",
       "      <td>Y81-p</td>\n",
       "    </tr>\n",
       "    <tr>\n",
       "      <th>3</th>\n",
       "      <td>ARF GTPase-activating protein GIT1</td>\n",
       "      <td>DDQHDyDSVAS</td>\n",
       "      <td>Q9Y2X7</td>\n",
       "      <td>Y383-p</td>\n",
       "      <td>Actin, cytoplasmic 1</td>\n",
       "      <td>RDLTDyLMKIL</td>\n",
       "      <td>P60709</td>\n",
       "      <td>Y188-p</td>\n",
       "    </tr>\n",
       "    <tr>\n",
       "      <th>4</th>\n",
       "      <td>ARF GTPase-activating protein GIT1</td>\n",
       "      <td>GADSDyENTQS</td>\n",
       "      <td>Q9Y2X7</td>\n",
       "      <td>Y598-p</td>\n",
       "      <td>Activated CDC42 kinase 1</td>\n",
       "      <td>VSSTHyYLLPE</td>\n",
       "      <td>Q07912</td>\n",
       "      <td>Y859-p</td>\n",
       "    </tr>\n",
       "    <tr>\n",
       "      <th>...</th>\n",
       "      <td>...</td>\n",
       "      <td>...</td>\n",
       "      <td>...</td>\n",
       "      <td>...</td>\n",
       "      <td>...</td>\n",
       "      <td>...</td>\n",
       "      <td>...</td>\n",
       "      <td>...</td>\n",
       "    </tr>\n",
       "    <tr>\n",
       "      <th>256</th>\n",
       "      <td>Tyrosine-protein phosphatase non-receptor type 11</td>\n",
       "      <td>DSARVyENVGL</td>\n",
       "      <td>Q06124</td>\n",
       "      <td>Y584-p</td>\n",
       "      <td>NaN</td>\n",
       "      <td>NaN</td>\n",
       "      <td>NaN</td>\n",
       "      <td>NaN</td>\n",
       "    </tr>\n",
       "    <tr>\n",
       "      <th>257</th>\n",
       "      <td>Tyrosine-protein phosphatase non-receptor type 11</td>\n",
       "      <td>QNTGDyYDLYG</td>\n",
       "      <td>Q06124</td>\n",
       "      <td>Y62-p</td>\n",
       "      <td>NaN</td>\n",
       "      <td>NaN</td>\n",
       "      <td>NaN</td>\n",
       "      <td>NaN</td>\n",
       "    </tr>\n",
       "    <tr>\n",
       "      <th>258</th>\n",
       "      <td>Vasodilator-stimulated phosphoprotein</td>\n",
       "      <td>SRVQIyHNPTA</td>\n",
       "      <td>P50552</td>\n",
       "      <td>Y39-p</td>\n",
       "      <td>NaN</td>\n",
       "      <td>NaN</td>\n",
       "      <td>NaN</td>\n",
       "      <td>NaN</td>\n",
       "    </tr>\n",
       "    <tr>\n",
       "      <th>259</th>\n",
       "      <td>Zinc finger CCCH-type antiviral protein 1</td>\n",
       "      <td>LLSSDyRIING</td>\n",
       "      <td>Q7Z2W4</td>\n",
       "      <td>Y410-p</td>\n",
       "      <td>NaN</td>\n",
       "      <td>NaN</td>\n",
       "      <td>NaN</td>\n",
       "      <td>NaN</td>\n",
       "    </tr>\n",
       "    <tr>\n",
       "      <th>260</th>\n",
       "      <td>Zinc finger protein 185</td>\n",
       "      <td>PVSARySNVSS</td>\n",
       "      <td>O15231</td>\n",
       "      <td>Y597-p</td>\n",
       "      <td>NaN</td>\n",
       "      <td>NaN</td>\n",
       "      <td>NaN</td>\n",
       "      <td>NaN</td>\n",
       "    </tr>\n",
       "  </tbody>\n",
       "</table>\n",
       "<p>261 rows × 8 columns</p>\n",
       "</div>"
      ],
      "text/plain": [
       "                                             Cluster_1 seqs_Cluster_1  \\\n",
       "0    1-phosphatidylinositol 4,5-bisphosphate phosph...    RNPGFyVEANP   \n",
       "1                            14-3-3 protein zeta/delta    LLSVAyKNVVG   \n",
       "2              ADP-ribosylation factor-like protein 11    KtTLLyKLKGH   \n",
       "3                   ARF GTPase-activating protein GIT1    DDQHDyDSVAS   \n",
       "4                   ARF GTPase-activating protein GIT1    GADSDyENTQS   \n",
       "..                                                 ...            ...   \n",
       "256  Tyrosine-protein phosphatase non-receptor type 11    DSARVyENVGL   \n",
       "257  Tyrosine-protein phosphatase non-receptor type 11    QNTGDyYDLYG   \n",
       "258              Vasodilator-stimulated phosphoprotein    SRVQIyHNPTA   \n",
       "259          Zinc finger CCCH-type antiviral protein 1    LLSSDyRIING   \n",
       "260                            Zinc finger protein 185    PVSARySNVSS   \n",
       "\n",
       "    Condition_Cluster_1 pos_Cluster_1                         Cluster_2  \\\n",
       "0                P19174        Y783-p            14-3-3 protein epsilon   \n",
       "1                P63104         Y48-p  60S ribosomal protein L22-like 1   \n",
       "2                Q969Q4         Y30-p             ADP/ATP translocase 2   \n",
       "3                Q9Y2X7        Y383-p              Actin, cytoplasmic 1   \n",
       "4                Q9Y2X7        Y598-p          Activated CDC42 kinase 1   \n",
       "..                  ...           ...                               ...   \n",
       "256              Q06124        Y584-p                               NaN   \n",
       "257              Q06124         Y62-p                               NaN   \n",
       "258              P50552         Y39-p                               NaN   \n",
       "259              Q7Z2W4        Y410-p                               NaN   \n",
       "260              O15231        Y597-p                               NaN   \n",
       "\n",
       "    seqs_Cluster_2 Condition_Cluster_2 pos_Cluster_2  \n",
       "0      GDYHRyLAEFA              P62258        Y131-p  \n",
       "1      TYELRyFQISQ              Q6P5R6        Y108-p  \n",
       "2      ANVIRyFPTQA              P05141         Y81-p  \n",
       "3      RDLTDyLMKIL              P60709        Y188-p  \n",
       "4      VSSTHyYLLPE              Q07912        Y859-p  \n",
       "..             ...                 ...           ...  \n",
       "256            NaN                 NaN           NaN  \n",
       "257            NaN                 NaN           NaN  \n",
       "258            NaN                 NaN           NaN  \n",
       "259            NaN                 NaN           NaN  \n",
       "260            NaN                 NaN           NaN  \n",
       "\n",
       "[261 rows x 8 columns]"
      ]
     },
     "execution_count": 13,
     "metadata": {},
     "output_type": "execute_result"
    }
   ],
   "source": [
    "clustermembers = mixedCl_plsr.named_steps.mixedCl.clustermembers(ABC.T)\n",
    "clustermembers"
   ]
  },
  {
   "cell_type": "code",
   "execution_count": 14,
   "metadata": {},
   "outputs": [
    {
     "data": {
      "text/html": [
       "<a download=\"DataClustering\" href=\"data:text/csv;base64,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\" target=\"_blank\">Download CSV file</a>"
      ],
      "text/plain": [
       "<IPython.core.display.HTML object>"
      ]
     },
     "execution_count": 14,
     "metadata": {},
     "output_type": "execute_result"
    }
   ],
   "source": [
    "create_download_link(clustermembers, \"DataClustering\")"
   ]
  },
  {
   "cell_type": "code",
   "execution_count": 15,
   "metadata": {},
   "outputs": [
    {
     "data": {
      "image/png": "[encoded data removed]",
      "text/plain": [
       "<Figure size 576x360 with 1 Axes>"
      ]
     },
     "metadata": {
      "needs_background": "light"
     },
     "output_type": "display_data"
    }
   ],
   "source": [
    "fig, ax = plt.subplots(1, 1, figsize=(8, 5))\n",
    "\n",
    "plotclusteraverages(ax, ABC, mixedCl_plsr, colors_)"
   ]
  },
  {
   "cell_type": "code",
   "execution_count": null,
   "metadata": {},
   "outputs": [],
   "source": []
  }
 ],
 "metadata": {
  "kernelspec": {
   "display_name": "Python 3",
   "language": "python",
   "name": "python3"
  },
  "language_info": {
   "codemirror_mode": {
    "name": "ipython",
    "version": 3
   },
   "file_extension": ".py",
   "mimetype": "text/x-python",
   "name": "python",
   "nbconvert_exporter": "python",
   "pygments_lexer": "ipython3",
   "version": "3.7.5"
  }
 },
 "nbformat": 4,
 "nbformat_minor": 4
}
