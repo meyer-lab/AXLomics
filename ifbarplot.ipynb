{
 "cells": [
  {
   "cell_type": "code",
   "execution_count": 1,
   "metadata": {},
   "outputs": [],
   "source": [
    "import matplotlib\n",
    "import matplotlib.pyplot as plt\n",
    "import seaborn as sns\n",
    "import pandas as pd\n",
    "import statannot\n",
    "\n",
    "\n",
    "matplotlib.rcParams['font.sans-serif'] = \"Arial\"\n",
    "sns.set(style=\"whitegrid\", font_scale=1, color_codes=True, palette=\"colorblind\", rc={\"grid.linestyle\": \"dotted\", \"axes.linewidth\": 0.6})"
   ]
  },
  {
   "cell_type": "code",
   "execution_count": 2,
   "metadata": {},
   "outputs": [
    {
     "data": {
      "text/html": [
       "<div>\n",
       "<style scoped>\n",
       "    .dataframe tbody tr th:only-of-type {\n",
       "        vertical-align: middle;\n",
       "    }\n",
       "\n",
       "    .dataframe tbody tr th {\n",
       "        vertical-align: top;\n",
       "    }\n",
       "\n",
       "    .dataframe thead th {\n",
       "        text-align: right;\n",
       "    }\n",
       "</style>\n",
       "<table border=\"1\" class=\"dataframe\">\n",
       "  <thead>\n",
       "    <tr style=\"text-align: right;\">\n",
       "      <th></th>\n",
       "      <th>Condition</th>\n",
       "      <th>Cell Line</th>\n",
       "      <th>Treatment</th>\n",
       "      <th>ImageNumber</th>\n",
       "      <th>ObjectNumber</th>\n",
       "      <th>log(N/C intensity ratio)</th>\n",
       "    </tr>\n",
       "  </thead>\n",
       "  <tbody>\n",
       "    <tr>\n",
       "      <th>0</th>\n",
       "      <td>WT-UT</td>\n",
       "      <td>WT</td>\n",
       "      <td>UT</td>\n",
       "      <td>1</td>\n",
       "      <td>1</td>\n",
       "      <td>0.476768</td>\n",
       "    </tr>\n",
       "    <tr>\n",
       "      <th>1</th>\n",
       "      <td>WT-UT</td>\n",
       "      <td>WT</td>\n",
       "      <td>UT</td>\n",
       "      <td>1</td>\n",
       "      <td>2</td>\n",
       "      <td>0.114580</td>\n",
       "    </tr>\n",
       "    <tr>\n",
       "      <th>2</th>\n",
       "      <td>WT-UT</td>\n",
       "      <td>WT</td>\n",
       "      <td>UT</td>\n",
       "      <td>1</td>\n",
       "      <td>3</td>\n",
       "      <td>0.011402</td>\n",
       "    </tr>\n",
       "    <tr>\n",
       "      <th>3</th>\n",
       "      <td>WT-UT</td>\n",
       "      <td>WT</td>\n",
       "      <td>UT</td>\n",
       "      <td>1</td>\n",
       "      <td>4</td>\n",
       "      <td>0.095866</td>\n",
       "    </tr>\n",
       "    <tr>\n",
       "      <th>4</th>\n",
       "      <td>WT-UT</td>\n",
       "      <td>WT</td>\n",
       "      <td>UT</td>\n",
       "      <td>1</td>\n",
       "      <td>5</td>\n",
       "      <td>0.122141</td>\n",
       "    </tr>\n",
       "  </tbody>\n",
       "</table>\n",
       "</div>"
      ],
      "text/plain": [
       "  Condition Cell Line Treatment  ImageNumber  ObjectNumber  \\\n",
       "0     WT-UT        WT        UT            1             1   \n",
       "1     WT-UT        WT        UT            1             2   \n",
       "2     WT-UT        WT        UT            1             3   \n",
       "3     WT-UT        WT        UT            1             4   \n",
       "4     WT-UT        WT        UT            1             5   \n",
       "\n",
       "   log(N/C intensity ratio)  \n",
       "0                  0.476768  \n",
       "1                  0.114580  \n",
       "2                  0.011402  \n",
       "3                  0.095866  \n",
       "4                  0.122141  "
      ]
     },
     "execution_count": 2,
     "metadata": {},
     "output_type": "execute_result"
    }
   ],
   "source": [
    "imf = pd.read_csv(\"/home/marcc/AXLomics/msresist/data/Validations/IF/IF_YAP_TranslocationRatio_combined.csv\").drop(\"Unnamed: 5\", axis=1)\n",
    "imf.insert(0, \"Condition\", [c + \"-\" + t for c, t in list(zip(list(imf[\"Cell Line\"]), list(imf[\"Treatment\"])))])\n",
    "imf = imf.rename(columns={\"Math_logNucbyCyto\":\"log(N/C intensity ratio)\"})\n",
    "imf.head()"
   ]
  },
  {
   "cell_type": "code",
   "execution_count": 19,
   "metadata": {},
   "outputs": [
    {
     "name": "stdout",
     "output_type": "stream",
     "text": [
      "p-value annotation legend:\n",
      "ns: 5.00e-02 < p <= 1.00e+00\n",
      "*: 1.00e-02 < p <= 5.00e-02\n",
      "**: 1.00e-03 < p <= 1.00e-02\n",
      "***: 1.00e-04 < p <= 1.00e-03\n",
      "****: p <= 1.00e-04\n",
      "\n",
      "UT_WT v.s. UT_AXL KO: t-test independent samples with Bonferroni correction, P_val=1.648e-214 stat=3.656e+01\n",
      "E_WT v.s. EA_WT: t-test independent samples with Bonferroni correction, P_val=3.145e-11 stat=-6.955e+00\n",
      "E_AXL KO v.s. EA_AXL KO: t-test independent samples with Bonferroni correction, P_val=7.703e-05 stat=-4.285e+00\n"
     ]
    },
    {
     "data": {
      "text/plain": [
       "(<AxesSubplot: xlabel='Treatment', ylabel='log(N/C intensity ratio)'>,\n",
       " [<statannot.StatResult.StatResult at 0x7ff516e2b3d0>,\n",
       "  <statannot.StatResult.StatResult at 0x7ff516e5bdc0>,\n",
       "  <statannot.StatResult.StatResult at 0x7ff516e5be80>])"
      ]
     },
     "execution_count": 19,
     "metadata": {},
     "output_type": "execute_result"
    },
    {
     "data": {
      "image/png": "[encoded data removed]",
      "text/plain": [
       "<Figure size 500x300 with 1 Axes>"
      ]
     },
     "metadata": {},
     "output_type": "display_data"
    }
   ],
   "source": [
    "# sns.stripplot(imf, x=\"Condition\", y=\"log( Nuclear / Cytosolic intensity ratio)\", order=[\"WT-UT\", \"AXL KO-UT\", \"WT-E\", \"WT-EA\"], marker=\"o\", edgecolor='#373737')\n",
    "# imf_ut = imf.set_index(\"Condition\").loc[[\"WT-UT\", \"AXL KO-UT\"]].reset_index()\n",
    "# wt = imf.set_index(\"Condition\").loc[[\"WT-UT\", \"WT-E\", \"WT-EA\", \"AXL KO-E\"]].reset_index()\n",
    "\n",
    "_, ax = plt.subplots(1, 1, figsize=(5, 3))\n",
    "sns.barplot(imf, x=\"Treatment\", hue=\"Cell Line\", y=\"log(N/C intensity ratio)\", orient=\"vertical\", order=[\"UT\", \"E\", \"EA\"], ax=ax)\n",
    "\n",
    "box_pairs = [\n",
    "    ((\"UT\", \"WT\"), (\"UT\", \"AXL KO\")),\n",
    "    ((\"E\", \"WT\"), (\"EA\", \"WT\")),\n",
    "    ((\"E\", \"AXL KO\"), (\"EA\", \"AXL KO\"))\n",
    "    ]\n",
    "statannot.add_stat_annotation(ax=ax, data=imf, y=\"Treatment\", hue=\"Cell Line\", x=\"log(N/C intensity ratio)\", box_pairs=box_pairs, test=\"t-test_ind\", text_format=\"star\", loc=\"outside\")\n",
    "# plt.tight_layout();\n",
    "# plt.savefig(\"if.svg\")"
   ]
  },
  {
   "cell_type": "code",
   "execution_count": null,
   "metadata": {},
   "outputs": [],
   "source": []
  }
 ],
 "metadata": {
  "kernelspec": {
   "display_name": "Python 3.10.7 64-bit",
   "language": "python",
   "name": "python3"
  },
  "language_info": {
   "codemirror_mode": {
    "name": "ipython",
    "version": 3
   },
   "file_extension": ".py",
   "mimetype": "text/x-python",
   "name": "python",
   "nbconvert_exporter": "python",
   "pygments_lexer": "ipython3",
   "version": "3.10.7"
  },
  "orig_nbformat": 4,
  "vscode": {
   "interpreter": {
    "hash": "e7370f93d1d0cde622a1f8e1c04877d8463912d04d973331ad4851f04de6915a"
   }
  }
 },
 "nbformat": 4,
 "nbformat_minor": 2
}
